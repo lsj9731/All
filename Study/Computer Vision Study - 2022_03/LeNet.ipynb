{
  "nbformat": 4,
  "nbformat_minor": 0,
  "metadata": {
    "colab": {
      "name": "LeNet",
      "provenance": [],
      "collapsed_sections": []
    },
    "kernelspec": {
      "name": "python3",
      "display_name": "Python 3"
    },
    "language_info": {
      "name": "python"
    }
  },
  "cells": [
    {
      "cell_type": "code",
      "execution_count": 1,
      "metadata": {
        "id": "vePYHWk1ovUT"
      },
      "outputs": [],
      "source": [
        "import tensorflow as tf\n",
        "import numpy as np\n",
        "import pandas as pd"
      ]
    },
    {
      "cell_type": "code",
      "source": [
        "model = tf.keras.Sequential([\n",
        "  tf.keras.layers.Conv2D(6, 5, padding = 'same', activation = 'tanh', input_shape = (28, 28, 1)),\n",
        "  tf.keras.layers.AveragePooling2D(pool_size = (2, 2), strides = 2),\n",
        "  tf.keras.layers.Conv2D(16, 5, padding = 'valid', activation = 'tanh'),\n",
        "  tf.keras.layers.AveragePooling2D(pool_size = (2, 2), strides = 2),\n",
        "  tf.keras.layers.Conv2D(120, 5, padding = 'valid', activation = 'tanh'),\n",
        "  tf.keras.layers.Flatten(),\n",
        "  tf.keras.layers.Dense(84, activation = 'tanh'),\n",
        "  tf.keras.layers.Dense(10)\n",
        "])"
      ],
      "metadata": {
        "id": "mJpm9ObLo3VH"
      },
      "execution_count": 4,
      "outputs": []
    },
    {
      "cell_type": "code",
      "source": [
        "model.summary()"
      ],
      "metadata": {
        "colab": {
          "base_uri": "https://localhost:8080/"
        },
        "id": "h6lR7kvFo6Zo",
        "outputId": "8cb05bb2-c257-4f86-c222-66bf022cb845"
      },
      "execution_count": 5,
      "outputs": [
        {
          "output_type": "stream",
          "name": "stdout",
          "text": [
            "Model: \"sequential\"\n",
            "_________________________________________________________________\n",
            " Layer (type)                Output Shape              Param #   \n",
            "=================================================================\n",
            " conv2d (Conv2D)             (None, 28, 28, 6)         156       \n",
            "                                                                 \n",
            " average_pooling2d (AverageP  (None, 14, 14, 6)        0         \n",
            " ooling2D)                                                       \n",
            "                                                                 \n",
            " conv2d_1 (Conv2D)           (None, 10, 10, 16)        2416      \n",
            "                                                                 \n",
            " average_pooling2d_1 (Averag  (None, 5, 5, 16)         0         \n",
            " ePooling2D)                                                     \n",
            "                                                                 \n",
            " conv2d_2 (Conv2D)           (None, 1, 1, 120)         48120     \n",
            "                                                                 \n",
            " flatten (Flatten)           (None, 120)               0         \n",
            "                                                                 \n",
            " dense (Dense)               (None, 84)                10164     \n",
            "                                                                 \n",
            " dense_1 (Dense)             (None, 10)                850       \n",
            "                                                                 \n",
            "=================================================================\n",
            "Total params: 61,706\n",
            "Trainable params: 61,706\n",
            "Non-trainable params: 0\n",
            "_________________________________________________________________\n"
          ]
        }
      ]
    },
    {
      "cell_type": "code",
      "source": [
        "sample = tf.constant(list(range(10*28*28)), dtype = tf.float32, shape = (10, 28, 28, 1))\n",
        "sample.shape"
      ],
      "metadata": {
        "colab": {
          "base_uri": "https://localhost:8080/"
        },
        "id": "eudE2y7nqZ8F",
        "outputId": "a6ef1c82-6731-4c60-c2e5-cd9bf2ea13f1"
      },
      "execution_count": 18,
      "outputs": [
        {
          "output_type": "execute_result",
          "data": {
            "text/plain": [
              "TensorShape([10, 28, 28, 1])"
            ]
          },
          "metadata": {},
          "execution_count": 18
        }
      ]
    },
    {
      "cell_type": "code",
      "source": [
        "sample_label = tf.constant(list(range(10)), dtype=tf.int8)\n",
        "sample_label"
      ],
      "metadata": {
        "colab": {
          "base_uri": "https://localhost:8080/"
        },
        "id": "zyxSXFO2qqJ4",
        "outputId": "cb623ef7-11cb-4bc6-a12b-71c1b4782a70"
      },
      "execution_count": 19,
      "outputs": [
        {
          "output_type": "execute_result",
          "data": {
            "text/plain": [
              "<tf.Tensor: shape=(10,), dtype=int8, numpy=array([0, 1, 2, 3, 4, 5, 6, 7, 8, 9], dtype=int8)>"
            ]
          },
          "metadata": {},
          "execution_count": 19
        }
      ]
    },
    {
      "cell_type": "code",
      "source": [
        "def lr_function(epoch):\n",
        "  if epoch <= 2:\n",
        "    lr = 0.0005\n",
        "  elif epoch > 2 and epoch <= 5:\n",
        "    lr = 0.0002\n",
        "  elif epoch > 5 and epoch <= 9:\n",
        "    lr = 0.00005\n",
        "  else:\n",
        "    lr = 0.00001\n",
        "  return lr"
      ],
      "metadata": {
        "id": "Mf9X72_OrK6Q"
      },
      "execution_count": 24,
      "outputs": []
    },
    {
      "cell_type": "code",
      "source": [
        "lr_scheduler = tf.keras.callbacks.LearningRateScheduler(lr_function)\n",
        "\n",
        "model.compile(optimizer = tf.keras.optimizers.SGD(learning_rate = 0.0005), loss = tf.keras.losses.SparseCategoricalCrossentropy(from_logits = True), metrics = ['accuracy'])\n",
        "\n",
        "model.fit(sample, sample_label, epochs = 20, verbose = 1, callbacks = [lr_scheduler])"
      ],
      "metadata": {
        "colab": {
          "base_uri": "https://localhost:8080/"
        },
        "id": "5p5nMzBVp07F",
        "outputId": "be0e568f-e285-4520-eeb0-d12d7ad58ea3"
      },
      "execution_count": 25,
      "outputs": [
        {
          "output_type": "stream",
          "name": "stdout",
          "text": [
            "Epoch 1/20\n",
            "1/1 [==============================] - 0s 415ms/step - loss: 2.3964 - accuracy: 0.1000 - lr: 5.0000e-04\n",
            "Epoch 2/20\n",
            "1/1 [==============================] - 0s 15ms/step - loss: 2.3937 - accuracy: 0.1000 - lr: 5.0000e-04\n",
            "Epoch 3/20\n",
            "1/1 [==============================] - 0s 17ms/step - loss: 2.3911 - accuracy: 0.1000 - lr: 5.0000e-04\n",
            "Epoch 4/20\n",
            "1/1 [==============================] - 0s 18ms/step - loss: 2.3887 - accuracy: 0.1000 - lr: 2.0000e-04\n",
            "Epoch 5/20\n",
            "1/1 [==============================] - 0s 15ms/step - loss: 2.3877 - accuracy: 0.1000 - lr: 2.0000e-04\n",
            "Epoch 6/20\n",
            "1/1 [==============================] - 0s 15ms/step - loss: 2.3871 - accuracy: 0.1000 - lr: 2.0000e-04\n",
            "Epoch 7/20\n",
            "1/1 [==============================] - 0s 15ms/step - loss: 2.3862 - accuracy: 0.1000 - lr: 5.0000e-05\n",
            "Epoch 8/20\n",
            "1/1 [==============================] - 0s 14ms/step - loss: 2.3855 - accuracy: 0.1000 - lr: 5.0000e-05\n",
            "Epoch 9/20\n",
            "1/1 [==============================] - 0s 14ms/step - loss: 2.3852 - accuracy: 0.1000 - lr: 5.0000e-05\n",
            "Epoch 10/20\n",
            "1/1 [==============================] - 0s 20ms/step - loss: 2.3850 - accuracy: 0.1000 - lr: 5.0000e-05\n",
            "Epoch 11/20\n",
            "1/1 [==============================] - 0s 17ms/step - loss: 2.3847 - accuracy: 0.1000 - lr: 1.0000e-05\n",
            "Epoch 12/20\n",
            "1/1 [==============================] - 0s 17ms/step - loss: 2.3847 - accuracy: 0.1000 - lr: 1.0000e-05\n",
            "Epoch 13/20\n",
            "1/1 [==============================] - 0s 21ms/step - loss: 2.3846 - accuracy: 0.1000 - lr: 1.0000e-05\n",
            "Epoch 14/20\n",
            "1/1 [==============================] - 0s 18ms/step - loss: 2.3846 - accuracy: 0.1000 - lr: 1.0000e-05\n",
            "Epoch 15/20\n",
            "1/1 [==============================] - 0s 20ms/step - loss: 2.3845 - accuracy: 0.1000 - lr: 1.0000e-05\n",
            "Epoch 16/20\n",
            "1/1 [==============================] - 0s 17ms/step - loss: 2.3845 - accuracy: 0.1000 - lr: 1.0000e-05\n",
            "Epoch 17/20\n",
            "1/1 [==============================] - 0s 20ms/step - loss: 2.3844 - accuracy: 0.1000 - lr: 1.0000e-05\n",
            "Epoch 18/20\n",
            "1/1 [==============================] - 0s 19ms/step - loss: 2.3844 - accuracy: 0.1000 - lr: 1.0000e-05\n",
            "Epoch 19/20\n",
            "1/1 [==============================] - 0s 14ms/step - loss: 2.3844 - accuracy: 0.1000 - lr: 1.0000e-05\n",
            "Epoch 20/20\n",
            "1/1 [==============================] - 0s 16ms/step - loss: 2.3843 - accuracy: 0.1000 - lr: 1.0000e-05\n"
          ]
        },
        {
          "output_type": "execute_result",
          "data": {
            "text/plain": [
              "<keras.callbacks.History at 0x7f7dbddda750>"
            ]
          },
          "metadata": {},
          "execution_count": 25
        }
      ]
    }
  ]
}