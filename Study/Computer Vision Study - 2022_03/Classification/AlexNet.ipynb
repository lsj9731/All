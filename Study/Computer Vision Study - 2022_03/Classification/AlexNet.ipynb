{
  "nbformat": 4,
  "nbformat_minor": 0,
  "metadata": {
    "colab": {
      "name": "AlexNet",
      "provenance": [],
      "collapsed_sections": []
    },
    "kernelspec": {
      "name": "python3",
      "display_name": "Python 3"
    },
    "language_info": {
      "name": "python"
    }
  },
  "cells": [
    {
      "cell_type": "code",
      "execution_count": 1,
      "metadata": {
        "id": "ah0tY316sdCB"
      },
      "outputs": [],
      "source": [
        "import tensorflow as tf\n",
        "import numpy as np\n",
        "import pandas as pd"
      ]
    },
    {
      "cell_type": "code",
      "source": [
        "sample = tf.constant(list(range(1000*224*224*3)), dtype = tf.float32, shape = (1000, 224, 224, 3))\n",
        "sample.shape"
      ],
      "metadata": {
        "colab": {
          "base_uri": "https://localhost:8080/"
        },
        "id": "9QKvYWaouNR9",
        "outputId": "a6cbf334-86bf-4808-fbe5-b17bb3fb8bfe"
      },
      "execution_count": 22,
      "outputs": [
        {
          "output_type": "execute_result",
          "data": {
            "text/plain": [
              "TensorShape([1000, 224, 224, 3])"
            ]
          },
          "metadata": {},
          "execution_count": 22
        }
      ]
    },
    {
      "cell_type": "code",
      "source": [
        "sample_label = tf.constant(list(range(1000)), dtype=tf.int64)"
      ],
      "metadata": {
        "id": "DySZ7hhMuNlZ"
      },
      "execution_count": 23,
      "outputs": []
    },
    {
      "cell_type": "code",
      "source": [
        "model = tf.keras.Sequential([\n",
        "  tf.keras.layers.Conv2D(96, 11, strides=4, padding = 'same', activation = 'relu', input_shape = (224, 224, 3), kernel_regularizer=tf.keras.regularizers.l2(0.0005)),\n",
        "  tf.keras.layers.MaxPooling2D(pool_size = (3, 3), strides = 2),\n",
        "  tf.keras.layers.BatchNormalization(),\n",
        "  tf.keras.layers.Conv2D(256, 5, padding = 'same', activation = 'relu', kernel_regularizer=tf.keras.regularizers.l2(0.0005)),\n",
        "  tf.keras.layers.MaxPooling2D(pool_size = (3, 3), strides = 2),\n",
        "  tf.keras.layers.BatchNormalization(),\n",
        "  tf.keras.layers.Conv2D(384, 3, padding = 'same', activation = 'relu', kernel_regularizer=tf.keras.regularizers.l2(0.0005)),\n",
        "  tf.keras.layers.BatchNormalization(),\n",
        "  tf.keras.layers.Conv2D(384, 3, padding = 'same', activation = 'relu', kernel_regularizer=tf.keras.regularizers.l2(0.0005)),\n",
        "  tf.keras.layers.BatchNormalization(),\n",
        "  tf.keras.layers.Conv2D(256, 3, padding = 'same', activation = 'relu', kernel_regularizer=tf.keras.regularizers.l2(0.0005)),\n",
        "  tf.keras.layers.BatchNormalization(),\n",
        "  tf.keras.layers.MaxPooling2D(pool_size = (3, 3), strides = 2),\n",
        "  tf.keras.layers.Flatten(),\n",
        "  tf.keras.layers.Dense(4096, activation = 'relu'),\n",
        "  tf.keras.layers.Dropout(0.5),\n",
        "  tf.keras.layers.Dense(4096, activation = 'relu'),\n",
        "  tf.keras.layers.Dropout(0.5),\n",
        "  tf.keras.layers.Dense(1000)\n",
        "])"
      ],
      "metadata": {
        "id": "yPqSdu0PsgoW"
      },
      "execution_count": 11,
      "outputs": []
    },
    {
      "cell_type": "code",
      "source": [
        "model.summary()"
      ],
      "metadata": {
        "colab": {
          "base_uri": "https://localhost:8080/"
        },
        "id": "-Ciz0bz7vWRZ",
        "outputId": "dfd5b6cf-7c44-4f77-95c1-56da31729491"
      },
      "execution_count": 12,
      "outputs": [
        {
          "output_type": "stream",
          "name": "stdout",
          "text": [
            "Model: \"sequential_1\"\n",
            "_________________________________________________________________\n",
            " Layer (type)                Output Shape              Param #   \n",
            "=================================================================\n",
            " conv2d_5 (Conv2D)           (None, 56, 56, 96)        34944     \n",
            "                                                                 \n",
            " max_pooling2d_3 (MaxPooling  (None, 27, 27, 96)       0         \n",
            " 2D)                                                             \n",
            "                                                                 \n",
            " batch_normalization (BatchN  (None, 27, 27, 96)       384       \n",
            " ormalization)                                                   \n",
            "                                                                 \n",
            " conv2d_6 (Conv2D)           (None, 27, 27, 256)       614656    \n",
            "                                                                 \n",
            " max_pooling2d_4 (MaxPooling  (None, 13, 13, 256)      0         \n",
            " 2D)                                                             \n",
            "                                                                 \n",
            " batch_normalization_1 (Batc  (None, 13, 13, 256)      1024      \n",
            " hNormalization)                                                 \n",
            "                                                                 \n",
            " conv2d_7 (Conv2D)           (None, 13, 13, 384)       885120    \n",
            "                                                                 \n",
            " batch_normalization_2 (Batc  (None, 13, 13, 384)      1536      \n",
            " hNormalization)                                                 \n",
            "                                                                 \n",
            " conv2d_8 (Conv2D)           (None, 13, 13, 384)       1327488   \n",
            "                                                                 \n",
            " batch_normalization_3 (Batc  (None, 13, 13, 384)      1536      \n",
            " hNormalization)                                                 \n",
            "                                                                 \n",
            " conv2d_9 (Conv2D)           (None, 13, 13, 256)       884992    \n",
            "                                                                 \n",
            " batch_normalization_4 (Batc  (None, 13, 13, 256)      1024      \n",
            " hNormalization)                                                 \n",
            "                                                                 \n",
            " max_pooling2d_5 (MaxPooling  (None, 6, 6, 256)        0         \n",
            " 2D)                                                             \n",
            "                                                                 \n",
            " flatten_1 (Flatten)         (None, 9216)              0         \n",
            "                                                                 \n",
            " dense_3 (Dense)             (None, 4096)              37752832  \n",
            "                                                                 \n",
            " dropout (Dropout)           (None, 4096)              0         \n",
            "                                                                 \n",
            " dense_4 (Dense)             (None, 4096)              16781312  \n",
            "                                                                 \n",
            " dropout_1 (Dropout)         (None, 4096)              0         \n",
            "                                                                 \n",
            " dense_5 (Dense)             (None, 1000)              4097000   \n",
            "                                                                 \n",
            "=================================================================\n",
            "Total params: 62,383,848\n",
            "Trainable params: 62,381,096\n",
            "Non-trainable params: 2,752\n",
            "_________________________________________________________________\n"
          ]
        }
      ]
    },
    {
      "cell_type": "code",
      "source": [
        "# 실제로는 train loss가 아닌 val loss지만 편의를 위해 train으로 지정했습니다.\n",
        "reduce_lr = tf.keras.callbacks.ReduceLROnPlateau(monitor='train_loss', factor = np.sqrt(0.1))\n",
        "\n",
        "model.compile(optimizer = tf.keras.optimizers.SGD(learning_rate=0.01, momentum=0.9), loss = tf.keras.losses.SparseCategoricalCrossentropy(from_logits = True), metrics = ['accuracy'])\n",
        "model.fit(sample, sample_label, epochs = 1, verbose = 1, callbacks = [reduce_lr])"
      ],
      "metadata": {
        "colab": {
          "base_uri": "https://localhost:8080/"
        },
        "id": "lnu__lc_vX6P",
        "outputId": "e5056d3b-7c6d-4f1d-d59b-11507ce4864d"
      },
      "execution_count": 26,
      "outputs": [
        {
          "output_type": "stream",
          "name": "stdout",
          "text": [
            "32/32 [==============================] - ETA: 0s - loss: 10.5532 - accuracy: 0.0000e+00WARNING:tensorflow:Learning rate reduction is conditioned on metric `train_loss` which is not available. Available metrics are: loss,accuracy,lr\n",
            "32/32 [==============================] - 140s 4s/step - loss: 10.5532 - accuracy: 0.0000e+00 - lr: 0.0100\n"
          ]
        },
        {
          "output_type": "execute_result",
          "data": {
            "text/plain": [
              "<keras.callbacks.History at 0x7fa968ff2390>"
            ]
          },
          "metadata": {},
          "execution_count": 26
        }
      ]
    }
  ]
}