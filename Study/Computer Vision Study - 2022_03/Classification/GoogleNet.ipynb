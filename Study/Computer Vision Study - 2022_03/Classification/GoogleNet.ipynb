{
  "nbformat": 4,
  "nbformat_minor": 0,
  "metadata": {
    "colab": {
      "name": "GoogleNet",
      "provenance": [],
      "collapsed_sections": []
    },
    "kernelspec": {
      "name": "python3",
      "display_name": "Python 3"
    },
    "language_info": {
      "name": "python"
    },
    "accelerator": "GPU"
  },
  "cells": [
    {
      "cell_type": "code",
      "execution_count": 12,
      "metadata": {
        "id": "P2UNU8li13Xg"
      },
      "outputs": [],
      "source": [
        "import tensorflow as tf\n",
        "import pandas as pd\n",
        "import numpy as np\n",
        "from tensorflow import keras"
      ]
    },
    {
      "cell_type": "code",
      "source": [
        "sample = tf.constant(list(range(1000*224*224*3)), dtype=tf.float32, shape=(1000, 224, 224, 3))\n",
        "sample_label = tf.constant(list(range(1000)), dtype=tf.int64)"
      ],
      "metadata": {
        "id": "-TxxiWHoEL2d"
      },
      "execution_count": 13,
      "outputs": []
    },
    {
      "cell_type": "markdown",
      "source": [
        "define inception module !"
      ],
      "metadata": {
        "id": "wjTQwKhOCbhx"
      }
    },
    {
      "cell_type": "code",
      "source": [
        "def inception_module(x, fileters_1x1, filters_3x3_reduce, filters_3x3, filters_5x5_reduce, filters_5x5, filters_pool):\n",
        "  conv_1x1 = keras.layers.Conv2D(fileters_1x1, 1, padding = 'same', activation = 'relu', )(x)\n",
        "\n",
        "  pre_conv_3x3 = keras.layers.Conv2D(filters_3x3_reduce, 1, padding = 'same', activation = 'relu', )(x)\n",
        "  conv_3x3 = keras.layers.Conv2D(filters_3x3, 3, padding = 'same', activation = 'relu', )(pre_conv_3x3)\n",
        "\n",
        "  pre_conv_5x5 = keras.layers.Conv2D(filters_5x5_reduce, 1, padding = 'same', activation = 'relu', )(x)\n",
        "  conv_5x5 = keras.layers.Conv2D(filters_5x5, 5, padding = 'same', activation = 'relu', )(pre_conv_5x5)\n",
        "\n",
        "  pre_pool = keras.layers.MaxPooling2D(pool_size = (3, 3), strides = 1, padding = 'same')(x)\n",
        "  pooling = keras.layers.Conv2D(filters_pool, 1, padding = 'same', activation = 'relu', )(pre_pool)\n",
        "\n",
        "  output = keras.layers.concatenate([conv_1x1, conv_3x3, conv_5x5, pooling], axis = 3)\n",
        "\n",
        "  return output"
      ],
      "metadata": {
        "id": "50DoiDTRAiP7"
      },
      "execution_count": 17,
      "outputs": []
    },
    {
      "cell_type": "code",
      "source": [
        "input_layer = keras.layers.Input(shape = (224, 224, 3))\n",
        "x = keras.layers.Conv2D(64, 7, strides = 2, padding='same', activation='relu')(input_layer)\n",
        "x = keras.layers.MaxPooling2D(pool_size=(3, 3), strides = 2, padding='same')(x)\n",
        "x = keras.layers.BatchNormalization()(x)\n",
        "\n",
        "x = keras.layers.Conv2D(64, 1, strides = 1, padding='same', activation='relu')(x)\n",
        "x = keras.layers.Conv2D(192, 3, strides = 1, padding='same', activation='relu')(x)\n",
        "x = keras.layers.BatchNormalization()(x)\n",
        "x = keras.layers.MaxPooling2D(pool_size=(3, 3), strides = 2, padding='same')(x)\n",
        "\n",
        "x = inception_module(x, 64, 96, 128, 16, 32, 32)\n",
        "x = inception_module(x, 128, 128, 192, 32, 96, 64)\n",
        "x = keras.layers.MaxPooling2D(pool_size=(3, 3), strides = 2, padding='same')(x)\n",
        "\n",
        "x = inception_module(x, 192, 96, 208, 16, 48, 64)\n",
        "x = inception_module(x, 160, 112, 224, 24, 64, 64)\n",
        "x = inception_module(x, 128, 128, 256, 24, 64, 64)\n",
        "x = inception_module(x, 112, 144, 288, 32, 64, 64)\n",
        "x = inception_module(x, 256, 160, 320, 32, 128, 128)\n",
        "x = keras.layers.MaxPooling2D(pool_size=(3, 3), strides = 2, padding='same')(x)\n",
        "\n",
        "x = inception_module(x, 256, 160, 320, 32, 128, 128)\n",
        "x = inception_module(x, 384, 192, 384, 48, 128, 128)\n",
        "\n",
        "x = keras.layers.AveragePooling2D(pool_size = (7, 7), strides = 1, padding = 'valid')(x)\n",
        "x = keras.layers.Dropout(0.4)(x)\n",
        "output = keras.layers.Dense(1000)(x)"
      ],
      "metadata": {
        "id": "J7lbsNlkD7_G"
      },
      "execution_count": 18,
      "outputs": []
    },
    {
      "cell_type": "code",
      "source": [
        "model = keras.models.Model(input_layer, output, name='googlenet')"
      ],
      "metadata": {
        "id": "UAF77QZiGICM"
      },
      "execution_count": 19,
      "outputs": []
    },
    {
      "cell_type": "code",
      "source": [
        "model.summary()"
      ],
      "metadata": {
        "colab": {
          "base_uri": "https://localhost:8080/"
        },
        "id": "_VLJPUwRIJtM",
        "outputId": "7c650af9-0550-4b5a-d285-6ff462d81199"
      },
      "execution_count": 20,
      "outputs": [
        {
          "output_type": "stream",
          "name": "stdout",
          "text": [
            "Model: \"googlenet\"\n",
            "__________________________________________________________________________________________________\n",
            " Layer (type)                   Output Shape         Param #     Connected to                     \n",
            "==================================================================================================\n",
            " input_9 (InputLayer)           [(None, 224, 224, 3  0           []                               \n",
            "                                )]                                                                \n",
            "                                                                                                  \n",
            " conv2d_72 (Conv2D)             (None, 112, 112, 64  9472        ['input_9[0][0]']                \n",
            "                                )                                                                 \n",
            "                                                                                                  \n",
            " max_pooling2d_24 (MaxPooling2D  (None, 56, 56, 64)  0           ['conv2d_72[0][0]']              \n",
            " )                                                                                                \n",
            "                                                                                                  \n",
            " batch_normalization_16 (BatchN  (None, 56, 56, 64)  256         ['max_pooling2d_24[0][0]']       \n",
            " ormalization)                                                                                    \n",
            "                                                                                                  \n",
            " conv2d_73 (Conv2D)             (None, 56, 56, 64)   4160        ['batch_normalization_16[0][0]'] \n",
            "                                                                                                  \n",
            " conv2d_74 (Conv2D)             (None, 56, 56, 192)  110784      ['conv2d_73[0][0]']              \n",
            "                                                                                                  \n",
            " batch_normalization_17 (BatchN  (None, 56, 56, 192)  768        ['conv2d_74[0][0]']              \n",
            " ormalization)                                                                                    \n",
            "                                                                                                  \n",
            " max_pooling2d_25 (MaxPooling2D  (None, 28, 28, 192)  0          ['batch_normalization_17[0][0]'] \n",
            " )                                                                                                \n",
            "                                                                                                  \n",
            " conv2d_76 (Conv2D)             (None, 28, 28, 96)   18528       ['max_pooling2d_25[0][0]']       \n",
            "                                                                                                  \n",
            " conv2d_78 (Conv2D)             (None, 28, 28, 16)   3088        ['max_pooling2d_25[0][0]']       \n",
            "                                                                                                  \n",
            " max_pooling2d_26 (MaxPooling2D  (None, 28, 28, 192)  0          ['max_pooling2d_25[0][0]']       \n",
            " )                                                                                                \n",
            "                                                                                                  \n",
            " conv2d_75 (Conv2D)             (None, 28, 28, 64)   12352       ['max_pooling2d_25[0][0]']       \n",
            "                                                                                                  \n",
            " conv2d_77 (Conv2D)             (None, 28, 28, 128)  110720      ['conv2d_76[0][0]']              \n",
            "                                                                                                  \n",
            " conv2d_79 (Conv2D)             (None, 28, 28, 32)   12832       ['conv2d_78[0][0]']              \n",
            "                                                                                                  \n",
            " conv2d_80 (Conv2D)             (None, 28, 28, 32)   6176        ['max_pooling2d_26[0][0]']       \n",
            "                                                                                                  \n",
            " concatenate (Concatenate)      (None, 28, 28, 256)  0           ['conv2d_75[0][0]',              \n",
            "                                                                  'conv2d_77[0][0]',              \n",
            "                                                                  'conv2d_79[0][0]',              \n",
            "                                                                  'conv2d_80[0][0]']              \n",
            "                                                                                                  \n",
            " conv2d_82 (Conv2D)             (None, 28, 28, 128)  32896       ['concatenate[0][0]']            \n",
            "                                                                                                  \n",
            " conv2d_84 (Conv2D)             (None, 28, 28, 32)   8224        ['concatenate[0][0]']            \n",
            "                                                                                                  \n",
            " max_pooling2d_27 (MaxPooling2D  (None, 28, 28, 256)  0          ['concatenate[0][0]']            \n",
            " )                                                                                                \n",
            "                                                                                                  \n",
            " conv2d_81 (Conv2D)             (None, 28, 28, 128)  32896       ['concatenate[0][0]']            \n",
            "                                                                                                  \n",
            " conv2d_83 (Conv2D)             (None, 28, 28, 192)  221376      ['conv2d_82[0][0]']              \n",
            "                                                                                                  \n",
            " conv2d_85 (Conv2D)             (None, 28, 28, 96)   76896       ['conv2d_84[0][0]']              \n",
            "                                                                                                  \n",
            " conv2d_86 (Conv2D)             (None, 28, 28, 64)   16448       ['max_pooling2d_27[0][0]']       \n",
            "                                                                                                  \n",
            " concatenate_1 (Concatenate)    (None, 28, 28, 480)  0           ['conv2d_81[0][0]',              \n",
            "                                                                  'conv2d_83[0][0]',              \n",
            "                                                                  'conv2d_85[0][0]',              \n",
            "                                                                  'conv2d_86[0][0]']              \n",
            "                                                                                                  \n",
            " max_pooling2d_28 (MaxPooling2D  (None, 14, 14, 480)  0          ['concatenate_1[0][0]']          \n",
            " )                                                                                                \n",
            "                                                                                                  \n",
            " conv2d_88 (Conv2D)             (None, 14, 14, 96)   46176       ['max_pooling2d_28[0][0]']       \n",
            "                                                                                                  \n",
            " conv2d_90 (Conv2D)             (None, 14, 14, 16)   7696        ['max_pooling2d_28[0][0]']       \n",
            "                                                                                                  \n",
            " max_pooling2d_29 (MaxPooling2D  (None, 14, 14, 480)  0          ['max_pooling2d_28[0][0]']       \n",
            " )                                                                                                \n",
            "                                                                                                  \n",
            " conv2d_87 (Conv2D)             (None, 14, 14, 192)  92352       ['max_pooling2d_28[0][0]']       \n",
            "                                                                                                  \n",
            " conv2d_89 (Conv2D)             (None, 14, 14, 208)  179920      ['conv2d_88[0][0]']              \n",
            "                                                                                                  \n",
            " conv2d_91 (Conv2D)             (None, 14, 14, 48)   19248       ['conv2d_90[0][0]']              \n",
            "                                                                                                  \n",
            " conv2d_92 (Conv2D)             (None, 14, 14, 64)   30784       ['max_pooling2d_29[0][0]']       \n",
            "                                                                                                  \n",
            " concatenate_2 (Concatenate)    (None, 14, 14, 512)  0           ['conv2d_87[0][0]',              \n",
            "                                                                  'conv2d_89[0][0]',              \n",
            "                                                                  'conv2d_91[0][0]',              \n",
            "                                                                  'conv2d_92[0][0]']              \n",
            "                                                                                                  \n",
            " conv2d_94 (Conv2D)             (None, 14, 14, 112)  57456       ['concatenate_2[0][0]']          \n",
            "                                                                                                  \n",
            " conv2d_96 (Conv2D)             (None, 14, 14, 24)   12312       ['concatenate_2[0][0]']          \n",
            "                                                                                                  \n",
            " max_pooling2d_30 (MaxPooling2D  (None, 14, 14, 512)  0          ['concatenate_2[0][0]']          \n",
            " )                                                                                                \n",
            "                                                                                                  \n",
            " conv2d_93 (Conv2D)             (None, 14, 14, 160)  82080       ['concatenate_2[0][0]']          \n",
            "                                                                                                  \n",
            " conv2d_95 (Conv2D)             (None, 14, 14, 224)  226016      ['conv2d_94[0][0]']              \n",
            "                                                                                                  \n",
            " conv2d_97 (Conv2D)             (None, 14, 14, 64)   38464       ['conv2d_96[0][0]']              \n",
            "                                                                                                  \n",
            " conv2d_98 (Conv2D)             (None, 14, 14, 64)   32832       ['max_pooling2d_30[0][0]']       \n",
            "                                                                                                  \n",
            " concatenate_3 (Concatenate)    (None, 14, 14, 512)  0           ['conv2d_93[0][0]',              \n",
            "                                                                  'conv2d_95[0][0]',              \n",
            "                                                                  'conv2d_97[0][0]',              \n",
            "                                                                  'conv2d_98[0][0]']              \n",
            "                                                                                                  \n",
            " conv2d_100 (Conv2D)            (None, 14, 14, 128)  65664       ['concatenate_3[0][0]']          \n",
            "                                                                                                  \n",
            " conv2d_102 (Conv2D)            (None, 14, 14, 24)   12312       ['concatenate_3[0][0]']          \n",
            "                                                                                                  \n",
            " max_pooling2d_31 (MaxPooling2D  (None, 14, 14, 512)  0          ['concatenate_3[0][0]']          \n",
            " )                                                                                                \n",
            "                                                                                                  \n",
            " conv2d_99 (Conv2D)             (None, 14, 14, 128)  65664       ['concatenate_3[0][0]']          \n",
            "                                                                                                  \n",
            " conv2d_101 (Conv2D)            (None, 14, 14, 256)  295168      ['conv2d_100[0][0]']             \n",
            "                                                                                                  \n",
            " conv2d_103 (Conv2D)            (None, 14, 14, 64)   38464       ['conv2d_102[0][0]']             \n",
            "                                                                                                  \n",
            " conv2d_104 (Conv2D)            (None, 14, 14, 64)   32832       ['max_pooling2d_31[0][0]']       \n",
            "                                                                                                  \n",
            " concatenate_4 (Concatenate)    (None, 14, 14, 512)  0           ['conv2d_99[0][0]',              \n",
            "                                                                  'conv2d_101[0][0]',             \n",
            "                                                                  'conv2d_103[0][0]',             \n",
            "                                                                  'conv2d_104[0][0]']             \n",
            "                                                                                                  \n",
            " conv2d_106 (Conv2D)            (None, 14, 14, 144)  73872       ['concatenate_4[0][0]']          \n",
            "                                                                                                  \n",
            " conv2d_108 (Conv2D)            (None, 14, 14, 32)   16416       ['concatenate_4[0][0]']          \n",
            "                                                                                                  \n",
            " max_pooling2d_32 (MaxPooling2D  (None, 14, 14, 512)  0          ['concatenate_4[0][0]']          \n",
            " )                                                                                                \n",
            "                                                                                                  \n",
            " conv2d_105 (Conv2D)            (None, 14, 14, 112)  57456       ['concatenate_4[0][0]']          \n",
            "                                                                                                  \n",
            " conv2d_107 (Conv2D)            (None, 14, 14, 288)  373536      ['conv2d_106[0][0]']             \n",
            "                                                                                                  \n",
            " conv2d_109 (Conv2D)            (None, 14, 14, 64)   51264       ['conv2d_108[0][0]']             \n",
            "                                                                                                  \n",
            " conv2d_110 (Conv2D)            (None, 14, 14, 64)   32832       ['max_pooling2d_32[0][0]']       \n",
            "                                                                                                  \n",
            " concatenate_5 (Concatenate)    (None, 14, 14, 528)  0           ['conv2d_105[0][0]',             \n",
            "                                                                  'conv2d_107[0][0]',             \n",
            "                                                                  'conv2d_109[0][0]',             \n",
            "                                                                  'conv2d_110[0][0]']             \n",
            "                                                                                                  \n",
            " conv2d_112 (Conv2D)            (None, 14, 14, 160)  84640       ['concatenate_5[0][0]']          \n",
            "                                                                                                  \n",
            " conv2d_114 (Conv2D)            (None, 14, 14, 32)   16928       ['concatenate_5[0][0]']          \n",
            "                                                                                                  \n",
            " max_pooling2d_33 (MaxPooling2D  (None, 14, 14, 528)  0          ['concatenate_5[0][0]']          \n",
            " )                                                                                                \n",
            "                                                                                                  \n",
            " conv2d_111 (Conv2D)            (None, 14, 14, 256)  135424      ['concatenate_5[0][0]']          \n",
            "                                                                                                  \n",
            " conv2d_113 (Conv2D)            (None, 14, 14, 320)  461120      ['conv2d_112[0][0]']             \n",
            "                                                                                                  \n",
            " conv2d_115 (Conv2D)            (None, 14, 14, 128)  102528      ['conv2d_114[0][0]']             \n",
            "                                                                                                  \n",
            " conv2d_116 (Conv2D)            (None, 14, 14, 128)  67712       ['max_pooling2d_33[0][0]']       \n",
            "                                                                                                  \n",
            " concatenate_6 (Concatenate)    (None, 14, 14, 832)  0           ['conv2d_111[0][0]',             \n",
            "                                                                  'conv2d_113[0][0]',             \n",
            "                                                                  'conv2d_115[0][0]',             \n",
            "                                                                  'conv2d_116[0][0]']             \n",
            "                                                                                                  \n",
            " max_pooling2d_34 (MaxPooling2D  (None, 7, 7, 832)   0           ['concatenate_6[0][0]']          \n",
            " )                                                                                                \n",
            "                                                                                                  \n",
            " conv2d_118 (Conv2D)            (None, 7, 7, 160)    133280      ['max_pooling2d_34[0][0]']       \n",
            "                                                                                                  \n",
            " conv2d_120 (Conv2D)            (None, 7, 7, 32)     26656       ['max_pooling2d_34[0][0]']       \n",
            "                                                                                                  \n",
            " max_pooling2d_35 (MaxPooling2D  (None, 7, 7, 832)   0           ['max_pooling2d_34[0][0]']       \n",
            " )                                                                                                \n",
            "                                                                                                  \n",
            " conv2d_117 (Conv2D)            (None, 7, 7, 256)    213248      ['max_pooling2d_34[0][0]']       \n",
            "                                                                                                  \n",
            " conv2d_119 (Conv2D)            (None, 7, 7, 320)    461120      ['conv2d_118[0][0]']             \n",
            "                                                                                                  \n",
            " conv2d_121 (Conv2D)            (None, 7, 7, 128)    102528      ['conv2d_120[0][0]']             \n",
            "                                                                                                  \n",
            " conv2d_122 (Conv2D)            (None, 7, 7, 128)    106624      ['max_pooling2d_35[0][0]']       \n",
            "                                                                                                  \n",
            " concatenate_7 (Concatenate)    (None, 7, 7, 832)    0           ['conv2d_117[0][0]',             \n",
            "                                                                  'conv2d_119[0][0]',             \n",
            "                                                                  'conv2d_121[0][0]',             \n",
            "                                                                  'conv2d_122[0][0]']             \n",
            "                                                                                                  \n",
            " conv2d_124 (Conv2D)            (None, 7, 7, 192)    159936      ['concatenate_7[0][0]']          \n",
            "                                                                                                  \n",
            " conv2d_126 (Conv2D)            (None, 7, 7, 48)     39984       ['concatenate_7[0][0]']          \n",
            "                                                                                                  \n",
            " max_pooling2d_36 (MaxPooling2D  (None, 7, 7, 832)   0           ['concatenate_7[0][0]']          \n",
            " )                                                                                                \n",
            "                                                                                                  \n",
            " conv2d_123 (Conv2D)            (None, 7, 7, 384)    319872      ['concatenate_7[0][0]']          \n",
            "                                                                                                  \n",
            " conv2d_125 (Conv2D)            (None, 7, 7, 384)    663936      ['conv2d_124[0][0]']             \n",
            "                                                                                                  \n",
            " conv2d_127 (Conv2D)            (None, 7, 7, 128)    153728      ['conv2d_126[0][0]']             \n",
            "                                                                                                  \n",
            " conv2d_128 (Conv2D)            (None, 7, 7, 128)    106624      ['max_pooling2d_36[0][0]']       \n",
            "                                                                                                  \n",
            " concatenate_8 (Concatenate)    (None, 7, 7, 1024)   0           ['conv2d_123[0][0]',             \n",
            "                                                                  'conv2d_125[0][0]',             \n",
            "                                                                  'conv2d_127[0][0]',             \n",
            "                                                                  'conv2d_128[0][0]']             \n",
            "                                                                                                  \n",
            " average_pooling2d (AveragePool  (None, 1, 1, 1024)  0           ['concatenate_8[0][0]']          \n",
            " ing2D)                                                                                           \n",
            "                                                                                                  \n",
            " dropout (Dropout)              (None, 1, 1, 1024)   0           ['average_pooling2d[0][0]']      \n",
            "                                                                                                  \n",
            " dense (Dense)                  (None, 1, 1, 1000)   1025000     ['dropout[0][0]']                \n",
            "                                                                                                  \n",
            "==================================================================================================\n",
            "Total params: 6,999,576\n",
            "Trainable params: 6,999,064\n",
            "Non-trainable params: 512\n",
            "__________________________________________________________________________________________________\n"
          ]
        }
      ]
    },
    {
      "cell_type": "code",
      "source": [
        "import math\n",
        "\n",
        "epochs = 1\n",
        "initial_lrate = 0.01\n",
        "\n",
        "def decay(epoch, steps=100):\n",
        "    initial_lrate = 0.01\n",
        "    drop = 0.96\n",
        "    epochs_drop = 8\n",
        "    lrate = initial_lrate * math.pow(drop, math.floor((1+epoch)/epochs_drop))\n",
        "    return lrate\n",
        "\n",
        "sgd = keras.optimizers.SGD(lr=initial_lrate, momentum=0.9, nesterov=False)\n",
        "\n",
        "lr_sc = keras.callbacks.LearningRateScheduler(decay, verbose=1)\n",
        "\n",
        "model.compile(loss=keras.losses.SparseCategoricalCrossentropy(from_logits = True), optimizer=sgd, metrics=['accuracy'])\n",
        "\n",
        "model.fit(sample, sample_label, epochs=epochs, callbacks=[lr_sc])"
      ],
      "metadata": {
        "colab": {
          "base_uri": "https://localhost:8080/"
        },
        "id": "j0J3NG_KIKzp",
        "outputId": "00208156-95de-4847-8913-bb734f4979c4"
      },
      "execution_count": 22,
      "outputs": [
        {
          "output_type": "stream",
          "name": "stdout",
          "text": [
            "\n",
            "Epoch 1: LearningRateScheduler setting learning rate to 0.01.\n"
          ]
        },
        {
          "output_type": "stream",
          "name": "stderr",
          "text": [
            "/usr/local/lib/python3.7/dist-packages/keras/optimizer_v2/gradient_descent.py:102: UserWarning: The `lr` argument is deprecated, use `learning_rate` instead.\n",
            "  super(SGD, self).__init__(name, **kwargs)\n"
          ]
        },
        {
          "output_type": "stream",
          "name": "stdout",
          "text": [
            "32/32 [==============================] - 8s 170ms/step - loss: 6.9306 - accuracy: 5.3446e-04 - lr: 0.0100\n"
          ]
        },
        {
          "output_type": "execute_result",
          "data": {
            "text/plain": [
              "<keras.callbacks.History at 0x7fd40626d0d0>"
            ]
          },
          "metadata": {},
          "execution_count": 22
        }
      ]
    }
  ]
}