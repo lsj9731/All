{
  "nbformat": 4,
  "nbformat_minor": 0,
  "metadata": {
    "colab": {
      "name": "VGG",
      "provenance": [],
      "collapsed_sections": []
    },
    "kernelspec": {
      "name": "python3",
      "display_name": "Python 3"
    },
    "language_info": {
      "name": "python"
    },
    "accelerator": "GPU"
  },
  "cells": [
    {
      "cell_type": "code",
      "execution_count": 1,
      "metadata": {
        "id": "8_uUF2NY7NRU"
      },
      "outputs": [],
      "source": [
        "import tensorflow as tf\n",
        "import numpy as np"
      ]
    },
    {
      "cell_type": "code",
      "source": [
        "sample = tf.constant(list(range(1000*224*224*3)), dtype = tf.float32, shape = (1000, 224, 224, 3))\n",
        "sample.shape"
      ],
      "metadata": {
        "colab": {
          "base_uri": "https://localhost:8080/"
        },
        "id": "lvyYIXG67i18",
        "outputId": "c2177fb5-9c4a-433a-ed96-f6d882bfe233"
      },
      "execution_count": 2,
      "outputs": [
        {
          "output_type": "execute_result",
          "data": {
            "text/plain": [
              "TensorShape([1000, 224, 224, 3])"
            ]
          },
          "metadata": {},
          "execution_count": 2
        }
      ]
    },
    {
      "cell_type": "code",
      "source": [
        "sample_label = tf.constant(list(range(1000)), dtype=tf.int64)"
      ],
      "metadata": {
        "id": "iBysxxtO7i4Z"
      },
      "execution_count": 3,
      "outputs": []
    },
    {
      "cell_type": "code",
      "source": [
        "model = tf.keras.Sequential([\n",
        "  tf.keras.layers.Conv2D(64, 3, padding = 'same', activation = 'relu', input_shape = (224, 224, 3)),\n",
        "  tf.keras.layers.Conv2D(64, 3, padding = 'same', activation = 'relu'),\n",
        "  tf.keras.layers.MaxPooling2D(pool_size = (2, 2), strides = 2),\n",
        "  tf.keras.layers.Conv2D(128, 3, padding = 'same', activation = 'relu'),\n",
        "  tf.keras.layers.Conv2D(128, 3, padding = 'same', activation = 'relu'),\n",
        "  tf.keras.layers.MaxPooling2D(pool_size = (2, 2), strides = 2),\n",
        "  tf.keras.layers.Conv2D(256, 3, padding = 'same', activation = 'relu'),\n",
        "  tf.keras.layers.Conv2D(256, 3, padding = 'same', activation = 'relu'),\n",
        "  tf.keras.layers.Conv2D(256, 3, padding = 'same', activation = 'relu'),\n",
        "  tf.keras.layers.MaxPooling2D(pool_size = (2, 2), strides = 2),\n",
        "  tf.keras.layers.Conv2D(512, 3, padding = 'same', activation = 'relu'),\n",
        "  tf.keras.layers.Conv2D(512, 3, padding = 'same', activation = 'relu'),\n",
        "  tf.keras.layers.Conv2D(512, 3, padding = 'same', activation = 'relu'),\n",
        "  tf.keras.layers.MaxPooling2D(pool_size = (2, 2), strides = 2),\n",
        "  tf.keras.layers.Conv2D(512, 3, padding = 'same', activation = 'relu'),\n",
        "  tf.keras.layers.Conv2D(512, 3, padding = 'same', activation = 'relu'),\n",
        "  tf.keras.layers.Conv2D(512, 3, padding = 'same', activation = 'relu'),\n",
        "  tf.keras.layers.MaxPooling2D(pool_size = (2, 2), strides = 2),\n",
        "  tf.keras.layers.Flatten(),\n",
        "  tf.keras.layers.Dense(4096, activation = 'relu'),\n",
        "  tf.keras.layers.Dropout(0.5),\n",
        "  tf.keras.layers.Dense(4096, activation = 'relu'),\n",
        "  tf.keras.layers.Dropout(0.5),\n",
        "  tf.keras.layers.Dense(1000)\n",
        "])"
      ],
      "metadata": {
        "id": "afgey-p17Q-c"
      },
      "execution_count": 4,
      "outputs": []
    },
    {
      "cell_type": "code",
      "source": [
        "model.summary()"
      ],
      "metadata": {
        "colab": {
          "base_uri": "https://localhost:8080/"
        },
        "id": "knX2TgVM8Nkn",
        "outputId": "93406dd1-57eb-43c0-fd8c-491dd11fa1df"
      },
      "execution_count": 5,
      "outputs": [
        {
          "output_type": "stream",
          "name": "stdout",
          "text": [
            "Model: \"sequential\"\n",
            "_________________________________________________________________\n",
            " Layer (type)                Output Shape              Param #   \n",
            "=================================================================\n",
            " conv2d (Conv2D)             (None, 224, 224, 64)      1792      \n",
            "                                                                 \n",
            " conv2d_1 (Conv2D)           (None, 224, 224, 64)      36928     \n",
            "                                                                 \n",
            " max_pooling2d (MaxPooling2D  (None, 112, 112, 64)     0         \n",
            " )                                                               \n",
            "                                                                 \n",
            " conv2d_2 (Conv2D)           (None, 112, 112, 128)     73856     \n",
            "                                                                 \n",
            " conv2d_3 (Conv2D)           (None, 112, 112, 128)     147584    \n",
            "                                                                 \n",
            " max_pooling2d_1 (MaxPooling  (None, 56, 56, 128)      0         \n",
            " 2D)                                                             \n",
            "                                                                 \n",
            " conv2d_4 (Conv2D)           (None, 56, 56, 256)       295168    \n",
            "                                                                 \n",
            " conv2d_5 (Conv2D)           (None, 56, 56, 256)       590080    \n",
            "                                                                 \n",
            " conv2d_6 (Conv2D)           (None, 56, 56, 256)       590080    \n",
            "                                                                 \n",
            " max_pooling2d_2 (MaxPooling  (None, 28, 28, 256)      0         \n",
            " 2D)                                                             \n",
            "                                                                 \n",
            " conv2d_7 (Conv2D)           (None, 28, 28, 512)       1180160   \n",
            "                                                                 \n",
            " conv2d_8 (Conv2D)           (None, 28, 28, 512)       2359808   \n",
            "                                                                 \n",
            " conv2d_9 (Conv2D)           (None, 28, 28, 512)       2359808   \n",
            "                                                                 \n",
            " max_pooling2d_3 (MaxPooling  (None, 14, 14, 512)      0         \n",
            " 2D)                                                             \n",
            "                                                                 \n",
            " conv2d_10 (Conv2D)          (None, 14, 14, 512)       2359808   \n",
            "                                                                 \n",
            " conv2d_11 (Conv2D)          (None, 14, 14, 512)       2359808   \n",
            "                                                                 \n",
            " conv2d_12 (Conv2D)          (None, 14, 14, 512)       2359808   \n",
            "                                                                 \n",
            " max_pooling2d_4 (MaxPooling  (None, 7, 7, 512)        0         \n",
            " 2D)                                                             \n",
            "                                                                 \n",
            " flatten (Flatten)           (None, 25088)             0         \n",
            "                                                                 \n",
            " dense (Dense)               (None, 4096)              102764544 \n",
            "                                                                 \n",
            " dropout (Dropout)           (None, 4096)              0         \n",
            "                                                                 \n",
            " dense_1 (Dense)             (None, 4096)              16781312  \n",
            "                                                                 \n",
            " dropout_1 (Dropout)         (None, 4096)              0         \n",
            "                                                                 \n",
            " dense_2 (Dense)             (None, 1000)              4097000   \n",
            "                                                                 \n",
            "=================================================================\n",
            "Total params: 138,357,544\n",
            "Trainable params: 138,357,544\n",
            "Non-trainable params: 0\n",
            "_________________________________________________________________\n"
          ]
        }
      ]
    },
    {
      "cell_type": "code",
      "source": [
        "# 실제로는 train loss가 아닌 val loss지만 편의를 위해 train으로 지정했습니다.\n",
        "reduce_lr = tf.keras.callbacks.ReduceLROnPlateau(monitor='train_loss', factor = np.sqrt(0.1))\n",
        "\n",
        "model.compile(optimizer = tf.keras.optimizers.SGD(learning_rate=0.01, momentum=0.9), loss = tf.keras.losses.SparseCategoricalCrossentropy(from_logits = True), metrics = ['accuracy'])\n",
        "model.fit(sample, sample_label, epochs = 1, verbose = 1, callbacks = [reduce_lr])"
      ],
      "metadata": {
        "colab": {
          "base_uri": "https://localhost:8080/"
        },
        "id": "Py61MZ3a8O9y",
        "outputId": "a8d5fb1f-6c57-427e-cdf0-4f317c80b1ca"
      },
      "execution_count": 6,
      "outputs": [
        {
          "output_type": "stream",
          "name": "stdout",
          "text": [
            "32/32 [==============================] - ETA: 0s - loss: nan - accuracy: 0.0010WARNING:tensorflow:Learning rate reduction is conditioned on metric `train_loss` which is not available. Available metrics are: loss,accuracy,lr\n",
            "32/32 [==============================] - 30s 451ms/step - loss: nan - accuracy: 0.0010 - lr: 0.0100\n"
          ]
        },
        {
          "output_type": "execute_result",
          "data": {
            "text/plain": [
              "<keras.callbacks.History at 0x7f2436a43110>"
            ]
          },
          "metadata": {},
          "execution_count": 6
        }
      ]
    }
  ]
}