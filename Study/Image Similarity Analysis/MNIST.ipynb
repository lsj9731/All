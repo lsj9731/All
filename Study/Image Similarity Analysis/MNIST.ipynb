{
 "cells": [
  {
   "cell_type": "code",
   "execution_count": 28,
   "id": "6fdf17be",
   "metadata": {},
   "outputs": [],
   "source": [
    "import tensorflow as tf\n",
    "import numpy as np\n",
    "import pandas as pd\n",
    "import matplotlib.pyplot as plt\n",
    "from tqdm import tqdm\n",
    "import time"
   ]
  },
  {
   "cell_type": "code",
   "execution_count": 193,
   "id": "13fdee0f",
   "metadata": {},
   "outputs": [],
   "source": [
    "(X_train, y_train), (X_test, y_test) = tf.keras.datasets.mnist.load_data()"
   ]
  },
  {
   "cell_type": "code",
   "execution_count": 30,
   "id": "5dcdbaf9",
   "metadata": {},
   "outputs": [
    {
     "data": {
      "text/plain": [
       "((60000, 28, 28), (60000,))"
      ]
     },
     "execution_count": 30,
     "metadata": {},
     "output_type": "execute_result"
    }
   ],
   "source": [
    "X_train.shape, y_train.shape"
   ]
  },
  {
   "attachments": {
    "image.png": {
     "image/png": "[encoded data removed]"
    }
   },
   "cell_type": "markdown",
   "id": "ec09b690",
   "metadata": {},
   "source": [
    "# Cosine Smilarity\n",
    "\n",
    "![image.png](attachment:image.png)"
   ]
  },
  {
   "cell_type": "code",
   "execution_count": 31,
   "id": "4213eeb0",
   "metadata": {},
   "outputs": [],
   "source": [
    "def cos_sim(x, y):\n",
    "    # x, y의 내적의 곱을 x, y의 거리를 곱한 값으로 나누어준다.\n",
    "    cs = np.dot(x, y) / (np.linalg.norm(x) * np.linalg.norm(y))\n",
    "    return cs"
   ]
  },
  {
   "cell_type": "markdown",
   "id": "e59d0fde",
   "metadata": {},
   "source": [
    "# scaling"
   ]
  },
  {
   "cell_type": "code",
   "execution_count": 32,
   "id": "5bc2eb34",
   "metadata": {},
   "outputs": [],
   "source": [
    "X_train = X_train / 255."
   ]
  },
  {
   "cell_type": "code",
   "execution_count": 46,
   "id": "701298ae",
   "metadata": {},
   "outputs": [],
   "source": [
    "X_train = tf.expand_dims(X_train, axis=-1)"
   ]
  },
  {
   "cell_type": "markdown",
   "id": "456deaff",
   "metadata": {},
   "source": [
    "# get embedding"
   ]
  },
  {
   "cell_type": "code",
   "execution_count": 86,
   "id": "0b4dd702",
   "metadata": {},
   "outputs": [],
   "source": [
    "m_input = tf.keras.layers.Input((28, 28, 1))\n",
    "x = tf.keras.layers.Conv2D(16, 3, 1, padding='same', activation='relu')(m_input)\n",
    "x = tf.keras.layers.MaxPooling2D((2, 2), 2)(x)\n",
    "x = tf.keras.layers.Conv2D(16, 3, 1, padding='same', activation='relu')(x)\n",
    "x = tf.keras.layers.MaxPooling2D((2, 2), 2)(x)\n",
    "x = tf.keras.layers.Conv2D(32, 3, 1, padding='same', activation='relu')(x)\n",
    "x = tf.keras.layers.MaxPooling2D((2, 2), 2)(x)\n",
    "x = tf.keras.layers.Flatten()(x)\n",
    "embedding = tf.keras.layers.Dense(128, activation='relu', name='embedding')(x)\n",
    "x = tf.keras.layers.Dense(10)(embedding)\n",
    "\n",
    "model = tf.keras.Model(inputs=m_input, outputs=x)"
   ]
  },
  {
   "cell_type": "code",
   "execution_count": 87,
   "id": "010bcb1f",
   "metadata": {
    "scrolled": true
   },
   "outputs": [
    {
     "name": "stdout",
     "output_type": "stream",
     "text": [
      "Model: \"functional_6\"\n",
      "_________________________________________________________________\n",
      "Layer (type)                 Output Shape              Param #   \n",
      "=================================================================\n",
      "input_8 (InputLayer)         [(None, 28, 28, 1)]       0         \n",
      "_________________________________________________________________\n",
      "conv2d_33 (Conv2D)           (None, 28, 28, 16)        160       \n",
      "_________________________________________________________________\n",
      "max_pooling2d_33 (MaxPooling (None, 14, 14, 16)        0         \n",
      "_________________________________________________________________\n",
      "conv2d_34 (Conv2D)           (None, 14, 14, 16)        2320      \n",
      "_________________________________________________________________\n",
      "max_pooling2d_34 (MaxPooling (None, 7, 7, 16)          0         \n",
      "_________________________________________________________________\n",
      "conv2d_35 (Conv2D)           (None, 7, 7, 32)          4640      \n",
      "_________________________________________________________________\n",
      "max_pooling2d_35 (MaxPooling (None, 3, 3, 32)          0         \n",
      "_________________________________________________________________\n",
      "flatten_8 (Flatten)          (None, 288)               0         \n",
      "_________________________________________________________________\n",
      "embedding (Dense)            (None, 128)               36992     \n",
      "_________________________________________________________________\n",
      "dense_14 (Dense)             (None, 10)                1290      \n",
      "=================================================================\n",
      "Total params: 45,402\n",
      "Trainable params: 45,402\n",
      "Non-trainable params: 0\n",
      "_________________________________________________________________\n"
     ]
    }
   ],
   "source": [
    "model.summary()"
   ]
  },
  {
   "cell_type": "code",
   "execution_count": 88,
   "id": "35b7479c",
   "metadata": {},
   "outputs": [],
   "source": [
    "model.compile(optimizer=tf.keras.optimizers.Adam(), \n",
    "              loss=tf.keras.losses.SparseCategoricalCrossentropy(True), \n",
    "              metrics=['accuracy'])"
   ]
  },
  {
   "cell_type": "code",
   "execution_count": 89,
   "id": "da6018c6",
   "metadata": {},
   "outputs": [
    {
     "name": "stdout",
     "output_type": "stream",
     "text": [
      "Epoch 1/10\n",
      "938/938 [==============================] - 19s 21ms/step - loss: 0.2293 - accuracy: 0.9340\n",
      "Epoch 2/10\n",
      "938/938 [==============================] - 19s 21ms/step - loss: 0.0608 - accuracy: 0.9816\n",
      "Epoch 3/10\n",
      "938/938 [==============================] - 19s 21ms/step - loss: 0.0459 - accuracy: 0.9855\n",
      "Epoch 4/10\n",
      "938/938 [==============================] - 14s 15ms/step - loss: 0.0351 - accuracy: 0.9893\n",
      "Epoch 5/10\n",
      "938/938 [==============================] - 19s 20ms/step - loss: 0.0305 - accuracy: 0.9902\n",
      "Epoch 6/10\n",
      "938/938 [==============================] - 19s 20ms/step - loss: 0.0250 - accuracy: 0.9919\n",
      "Epoch 7/10\n",
      "938/938 [==============================] - 19s 20ms/step - loss: 0.0216 - accuracy: 0.9931\n",
      "Epoch 8/10\n",
      "938/938 [==============================] - 14s 15ms/step - loss: 0.0184 - accuracy: 0.9938\n",
      "Epoch 9/10\n",
      "938/938 [==============================] - 19s 20ms/step - loss: 0.0166 - accuracy: 0.9944\n",
      "Epoch 10/10\n",
      "938/938 [==============================] - 19s 20ms/step - loss: 0.0146 - accuracy: 0.9950\n"
     ]
    },
    {
     "data": {
      "text/plain": [
       "<tensorflow.python.keras.callbacks.History at 0x17305c1b7f0>"
      ]
     },
     "execution_count": 89,
     "metadata": {},
     "output_type": "execute_result"
    }
   ],
   "source": [
    "model.fit(X_train, y_train, epochs=10, batch_size=64)"
   ]
  },
  {
   "cell_type": "code",
   "execution_count": 99,
   "id": "4a72bd08",
   "metadata": {},
   "outputs": [],
   "source": [
    "X_test = tf.expand_dims((X_test / 255.), axis=-1)"
   ]
  },
  {
   "cell_type": "code",
   "execution_count": 92,
   "id": "b5f7f497",
   "metadata": {},
   "outputs": [
    {
     "data": {
      "text/plain": [
       "[<tensorflow.python.keras.engine.input_layer.InputLayer at 0x173055c4898>,\n",
       " <tensorflow.python.keras.layers.convolutional.Conv2D at 0x173055c4518>,\n",
       " <tensorflow.python.keras.layers.pooling.MaxPooling2D at 0x173055c4c18>,\n",
       " <tensorflow.python.keras.layers.convolutional.Conv2D at 0x17305bea160>,\n",
       " <tensorflow.python.keras.layers.pooling.MaxPooling2D at 0x17305beae48>,\n",
       " <tensorflow.python.keras.layers.convolutional.Conv2D at 0x17305beac50>,\n",
       " <tensorflow.python.keras.layers.pooling.MaxPooling2D at 0x17305befcc0>,\n",
       " <tensorflow.python.keras.layers.core.Flatten at 0x17305befc50>,\n",
       " <tensorflow.python.keras.layers.core.Dense at 0x17305befb38>,\n",
       " <tensorflow.python.keras.layers.core.Dense at 0x17305bf6b70>]"
      ]
     },
     "execution_count": 92,
     "metadata": {},
     "output_type": "execute_result"
    }
   ],
   "source": [
    "model.layers"
   ]
  },
  {
   "cell_type": "code",
   "execution_count": 93,
   "id": "69b3add2",
   "metadata": {},
   "outputs": [],
   "source": [
    "embedding_model = tf.keras.Model(inputs=m_input, outputs=embedding)"
   ]
  },
  {
   "cell_type": "code",
   "execution_count": 100,
   "id": "83951158",
   "metadata": {},
   "outputs": [
    {
     "data": {
      "text/plain": [
       "TensorShape([10000, 28, 28, 1])"
      ]
     },
     "execution_count": 100,
     "metadata": {},
     "output_type": "execute_result"
    }
   ],
   "source": [
    "X_test.shape"
   ]
  },
  {
   "cell_type": "code",
   "execution_count": 101,
   "id": "9c11b580",
   "metadata": {},
   "outputs": [],
   "source": [
    "preds = embedding_model(X_test)"
   ]
  },
  {
   "cell_type": "code",
   "execution_count": 102,
   "id": "55d8dcf4",
   "metadata": {},
   "outputs": [
    {
     "data": {
      "text/plain": [
       "TensorShape([10000, 128])"
      ]
     },
     "execution_count": 102,
     "metadata": {},
     "output_type": "execute_result"
    }
   ],
   "source": [
    "preds.shape"
   ]
  },
  {
   "cell_type": "markdown",
   "id": "0b48b4c4",
   "metadata": {},
   "source": [
    "# Visualization"
   ]
  },
  {
   "cell_type": "code",
   "execution_count": 104,
   "id": "1de572c0",
   "metadata": {},
   "outputs": [
    {
     "data": {
      "text/plain": [
       "(10000,)"
      ]
     },
     "execution_count": 104,
     "metadata": {},
     "output_type": "execute_result"
    }
   ],
   "source": [
    "y_test.shape"
   ]
  },
  {
   "cell_type": "code",
   "execution_count": 105,
   "id": "64cbe130",
   "metadata": {},
   "outputs": [
    {
     "data": {
      "text/plain": [
       "7"
      ]
     },
     "execution_count": 105,
     "metadata": {},
     "output_type": "execute_result"
    }
   ],
   "source": [
    "y_test[0]"
   ]
  },
  {
   "cell_type": "code",
   "execution_count": 121,
   "id": "aec4f8e6",
   "metadata": {},
   "outputs": [
    {
     "data": {
      "text/plain": [
       "<matplotlib.image.AxesImage at 0x173131734e0>"
      ]
     },
     "execution_count": 121,
     "metadata": {},
     "output_type": "execute_result"
    },
    {
     "data": {
      "image/png": "[encoded data removed]",
      "text/plain": [
       "<Figure size 432x288 with 1 Axes>"
      ]
     },
     "metadata": {
      "needs_background": "light"
     },
     "output_type": "display_data"
    }
   ],
   "source": [
    "plt.imshow(X_test[17])"
   ]
  },
  {
   "cell_type": "code",
   "execution_count": 122,
   "id": "b2ee40cc",
   "metadata": {},
   "outputs": [],
   "source": [
    "target = np.squeeze(preds[0])\n",
    "\n",
    "sim_list = []\n",
    "\n",
    "for proba in preds:\n",
    "    # 7의 class를 갖는 vector와 비교\n",
    "    prob = np.squeeze(proba)\n",
    "    cs = cos_sim(target, prob)\n",
    "    sim_list.append(cs)"
   ]
  },
  {
   "cell_type": "code",
   "execution_count": 123,
   "id": "bad6f62b",
   "metadata": {},
   "outputs": [
    {
     "data": {
      "text/plain": [
       "(0.9801122, 7)"
      ]
     },
     "execution_count": 123,
     "metadata": {},
     "output_type": "execute_result"
    }
   ],
   "source": [
    "sim_list[17], y_test[17]"
   ]
  },
  {
   "cell_type": "markdown",
   "id": "38746a50",
   "metadata": {},
   "source": [
    "# index matching\n",
    "\n",
    "1. 입력받은 이미지와 모든 예측치 간의 유사도를 비교.\n",
    "2. 가장 유사도가 높은 이미지 임베딩 10개를 시각화"
   ]
  },
  {
   "cell_type": "code",
   "execution_count": 128,
   "id": "781193e5",
   "metadata": {},
   "outputs": [
    {
     "name": "stdout",
     "output_type": "stream",
     "text": [
      "class number :  6\n"
     ]
    },
    {
     "data": {
      "text/plain": [
       "(<matplotlib.image.AxesImage at 0x17313290128>, None)"
      ]
     },
     "execution_count": 128,
     "metadata": {},
     "output_type": "execute_result"
    },
    {
     "data": {
      "image/png": "[encoded data removed]",
      "text/plain": [
       "<Figure size 432x288 with 1 Axes>"
      ]
     },
     "metadata": {
      "needs_background": "light"
     },
     "output_type": "display_data"
    }
   ],
   "source": [
    "plt.imshow(X_train[449]), print('class number : ', y_train[449])"
   ]
  },
  {
   "cell_type": "code",
   "execution_count": 132,
   "id": "29d7c365",
   "metadata": {},
   "outputs": [
    {
     "data": {
      "text/plain": [
       "TensorShape([128])"
      ]
     },
     "execution_count": 132,
     "metadata": {},
     "output_type": "execute_result"
    }
   ],
   "source": [
    "pred_input_image = tf.squeeze(embedding_model.predict(tf.reshape(X_train[449], (1, X_train.shape[1], X_train.shape[1], 1))))\n",
    "pred_input_image.shape"
   ]
  },
  {
   "cell_type": "code",
   "execution_count": 136,
   "id": "ead9b2af",
   "metadata": {},
   "outputs": [
    {
     "data": {
      "text/plain": [
       "TensorShape([10000, 128])"
      ]
     },
     "execution_count": 136,
     "metadata": {},
     "output_type": "execute_result"
    }
   ],
   "source": [
    "# 가장 높은 확률을 갖는 10가지 임베딩 값을 출력\n",
    "preds = embedding_model(tf.expand_dims(X_test, axis=-1))\n",
    "\n",
    "preds.shape"
   ]
  },
  {
   "cell_type": "code",
   "execution_count": 226,
   "id": "3047ca54",
   "metadata": {},
   "outputs": [],
   "source": [
    "(X_train, y_train), (X_test, y_test) = tf.keras.datasets.mnist.load_data()"
   ]
  },
  {
   "cell_type": "code",
   "execution_count": 227,
   "id": "f03415c5",
   "metadata": {},
   "outputs": [],
   "source": [
    "target = np.squeeze(preds[0])\n",
    "\n",
    "sim_list = []\n",
    "\n",
    "for proba in preds:\n",
    "    # 7의 class를 갖는 vector와 비교\n",
    "    prob = np.squeeze(proba)\n",
    "    cs = cos_sim(target, prob)\n",
    "    sim_list.append(cs)\n",
    "    \n",
    "sim_list = np.array(sim_list)"
   ]
  },
  {
   "cell_type": "markdown",
   "id": "72f4ffa9",
   "metadata": {},
   "source": [
    "# final predictions"
   ]
  },
  {
   "cell_type": "code",
   "execution_count": 223,
   "id": "0295b02b",
   "metadata": {},
   "outputs": [
    {
     "name": "stdout",
     "output_type": "stream",
     "text": [
      "493\n",
      "(9999, 28, 28)\n",
      "1782\n",
      "(9999, 28, 28)\n",
      "4797\n",
      "(9999, 28, 28)\n",
      "7140\n",
      "(9999, 28, 28)\n",
      "3159\n",
      "(9999, 28, 28)\n",
      "3396\n",
      "(9999, 28, 28)\n",
      "4044\n",
      "(9999, 28, 28)\n",
      "3076\n",
      "(9999, 28, 28)\n",
      "9279\n",
      "(9999, 28, 28)\n",
      "2871\n",
      "(9999, 28, 28)\n"
     ]
    }
   ],
   "source": [
    "pred_images, max_preds, preds_labels = [], [], []\n",
    "\n",
    "imgs, sim_list, y_test = X_test[1:], sim_list[1:], y_test[1:]\n",
    "\n",
    "for _ in range(10):\n",
    "    max_index = np.argmax(sim_list)\n",
    "    print(max_index)\n",
    "    \n",
    "    max_preds.append(sim_list[max_index])\n",
    "    preds_labels.append(y_test[max_index])\n",
    "    pred_images.append(imgs[max_index])\n",
    "    \n",
    "    sim_list = np.delete(sim_list, max_index)\n",
    "    y_test = np.delete(y_test, max_index)\n",
    "    \n",
    "    print(imgs.shape)"
   ]
  },
  {
   "cell_type": "code",
   "execution_count": 225,
   "id": "677c7681",
   "metadata": {},
   "outputs": [
    {
     "data": {
      "text/plain": [
       "(7839215,)"
      ]
     },
     "execution_count": 225,
     "metadata": {},
     "output_type": "execute_result"
    }
   ],
   "source": [
    "np.delete(imgs, 1).shape"
   ]
  },
  {
   "cell_type": "code",
   "execution_count": 214,
   "id": "20ed31a4",
   "metadata": {},
   "outputs": [
    {
     "data": {
      "text/plain": [
       "([0.9907199,\n",
       "  0.98993796,\n",
       "  0.98692626,\n",
       "  0.98330426,\n",
       "  0.9832255,\n",
       "  0.9816248,\n",
       "  0.98157644,\n",
       "  0.98144394,\n",
       "  0.9810535,\n",
       "  0.9808251],\n",
       " [7, 7, 7, 7, 7, 7, 7, 7, 7, 7])"
      ]
     },
     "execution_count": 214,
     "metadata": {},
     "output_type": "execute_result"
    }
   ],
   "source": [
    "max_preds, preds_labels"
   ]
  }
 ],
 "metadata": {
  "kernelspec": {
   "display_name": "py36",
   "language": "python",
   "name": "py36"
  },
  "language_info": {
   "codemirror_mode": {
    "name": "ipython",
    "version": 3
   },
   "file_extension": ".py",
   "mimetype": "text/x-python",
   "name": "python",
   "nbconvert_exporter": "python",
   "pygments_lexer": "ipython3",
   "version": "3.6.13"
  }
 },
 "nbformat": 4,
 "nbformat_minor": 5
}
