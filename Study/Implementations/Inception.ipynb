{
 "cells": [
  {
   "cell_type": "code",
   "execution_count": 5,
   "id": "86f987eb",
   "metadata": {},
   "outputs": [],
   "source": [
    "import tensorflow as tf\n",
    "import pandas as pd\n",
    "import numpy as np\n",
    "from tensorflow.keras import layers"
   ]
  },
  {
   "cell_type": "code",
   "execution_count": 97,
   "id": "14a61be1",
   "metadata": {},
   "outputs": [],
   "source": [
    "class Inception_Module(tf.keras.layers.Layer):\n",
    "    def __init__(self, filters):\n",
    "        super(Inception_Module, self).__init__()\n",
    "        self.conv_1x1 = layers.Conv2D(filters[0], 1, 1, padding = 'same', activation = 'relu')\n",
    "        \n",
    "        self.conv_3x3_reduce = layers.Conv2D(filters[1], 3, 1, padding = 'same', activation = 'relu')\n",
    "        self.conv_3x3 = layers.Conv2D(filters[2], 3, 1, padding = 'same', activation = 'relu')\n",
    "        \n",
    "        self.conv_5x5_reduce = layers.Conv2D(filters[3], 5, 1, padding = 'same', activation = 'relu')\n",
    "        self.conv_5x5 = layers.Conv2D(filters[4], 5, 1, padding = 'same', activation = 'relu')\n",
    "        \n",
    "        self.pooling = layers.MaxPooling2D(pool_size=(3, 3), strides = (1, 1), padding = 'same')\n",
    "        self.pool_1x1 = layers.Conv2D(filters[5], 1, 1, padding = 'same', activation = 'relu')\n",
    "        \n",
    "    def call(self, inputs):\n",
    "        out1 = self.conv_1x1(inputs)\n",
    "        out2 = self.conv_3x3_reduce(inputs)\n",
    "        out3 = self.conv_5x5_reduce(inputs)\n",
    "        out4 = self.pooling(inputs)\n",
    "        \n",
    "        out_2_2 = self.conv_3x3(out2)\n",
    "        out_3_2 = self.conv_5x5(out3)\n",
    "        out_4_2 = self.pool_1x1(out4)\n",
    "        \n",
    "        output = tf.concat([out1, out_2_2, out_3_2, out_4_2], axis = -1)\n",
    "        \n",
    "        return output"
   ]
  },
  {
   "cell_type": "code",
   "execution_count": 235,
   "id": "af0717be",
   "metadata": {},
   "outputs": [],
   "source": [
    "class Inception(tf.keras.Model):\n",
    "    def __init__(self):\n",
    "        super(Inception, self).__init__()\n",
    "        self.input_layer = layers.Conv2D(64, 7, 2, activation = 'relu', padding = 'same', input_shape = (224, 224, 3))\n",
    "        self.pool1 = layers.MaxPooling2D(pool_size = (3, 3), strides = (2, 2), padding = 'same')\n",
    "        self.bn1 = layers.BatchNormalization()\n",
    "        \n",
    "        self.conv1 = layers.Conv2D(192, 3, 1, padding = 'same', activation = 'relu')\n",
    "        self.pool2 = layers.MaxPooling2D(pool_size = (3, 3), strides = (2, 2), padding = 'same')\n",
    "        self.bn2 = layers.BatchNormalization()\n",
    "        \n",
    "        self.inception_3a = Inception_Module([64, 96, 128, 16, 32, 32])\n",
    "        self.inception_3b = Inception_Module([128, 128, 192, 32, 96, 64])\n",
    "        \n",
    "        self.pool3 = layers.MaxPooling2D(pool_size = (3, 3), strides = (2, 2), padding = 'same')\n",
    "        \n",
    "        self.inception_4a = Inception_Module([192, 96, 208, 16, 48, 64]) # output 1\n",
    "        self.out_avg_1 = layers.AveragePooling2D((5, 5), strides = 3)\n",
    "        self.out_1x1_1 = layers.Conv2D(128, 1, 1, activation='relu')\n",
    "        self.out_fc1_1 = layers.Dense(1024, activation = 'relu')\n",
    "        self.dropout_1 = layers.Dropout(0.7)\n",
    "        self.out_fc2_1 = layers.Dense(10)\n",
    "        \n",
    "        self.inception_4b = Inception_Module([160, 112, 224, 24, 64, 64])\n",
    "        self.inception_4c = Inception_Module([128, 128, 256, 24, 64, 64]) \n",
    "        self.inception_4d = Inception_Module([112, 144, 288, 32, 64, 64]) # output 2\n",
    "        self.out_avg_2 = layers.AveragePooling2D((5, 5), strides = 3)\n",
    "        self.out_1x1_2 = layers.Conv2D(128, 1, 1, activation='relu')\n",
    "        self.out_fc1_2 = layers.Dense(1024, activation = 'relu')\n",
    "        self.dropout_2 = layers.Dropout(0.7)\n",
    "        self.out_fc2_2 = layers.Dense(10)\n",
    "        \n",
    "        self.flatten = layers.Flatten()\n",
    "        \n",
    "        \n",
    "        self.inception_4e = Inception_Module([256, 160, 320, 32, 128, 128])\n",
    "        \n",
    "        self.pool4 = layers.MaxPooling2D(pool_size = (3, 3), strides = (2, 2), padding = 'same')\n",
    "        \n",
    "        self.inception_5a = Inception_Module([256, 160, 320, 32, 128, 128])\n",
    "        self.inception_5b = Inception_Module([384, 192, 384, 48, 128, 128])\n",
    "        \n",
    "        self.avg_pool = layers.AveragePooling2D((7, 7), strides = 1)\n",
    "        self.dropout = layers.Dropout(0.7)\n",
    "        self.fc = layers.Dense(10)\n",
    "        \n",
    "    def call(self, inputs):\n",
    "        out = self.input_layer(inputs)\n",
    "        \n",
    "        out = self.pool1(out)\n",
    "        out = self.bn1(out)\n",
    "        \n",
    "        out = self.conv1(out)\n",
    "        out = self.pool2(out)\n",
    "        out = self.bn2(out)\n",
    "        \n",
    "        out = self.inception_3a(out)\n",
    "        out = self.inception_3b(out)\n",
    "        \n",
    "        out = self.pool3(out)\n",
    "        \n",
    "        out = self.inception_4a(out) # Auxiliary output 1\n",
    "        output1 = self.out_avg_1(out)\n",
    "        output1 = self.out_1x1_1(output1)\n",
    "        output1 = self.flatten(output1)\n",
    "        output1 = self.out_fc1_1(output1)\n",
    "        output1 = self.dropout_1(output1)\n",
    "        output1 = self.out_fc2_1(output1)\n",
    "        \n",
    "        out = self.inception_4b(out)\n",
    "        out = self.inception_4c(out)\n",
    "        \n",
    "        out = self.inception_4d(out) # Auxiliary output 2\n",
    "        output2 = self.out_avg_2(out)\n",
    "        output2 = self.out_1x1_2(output2)\n",
    "        output2 = self.flatten(output2)\n",
    "        output2 = self.out_fc1_2(output2)\n",
    "        output2 = self.dropout_2(output2)\n",
    "        output2 = self.out_fc2_2(output2)\n",
    "        \n",
    "        out = self.inception_4e(out)\n",
    "        \n",
    "        out = self.pool4(out)\n",
    "        \n",
    "        out = self.inception_5a(out)\n",
    "        out = self.inception_5b(out)\n",
    "        \n",
    "        out = self.avg_pool(out)\n",
    "        out = self.dropout(out)\n",
    "        output3 = self.fc(out)\n",
    "        \n",
    "        return [output1, output2, tf.reshape(output3, (-1, 10))]"
   ]
  },
  {
   "cell_type": "code",
   "execution_count": 236,
   "id": "e9d9be7e",
   "metadata": {},
   "outputs": [],
   "source": [
    "model = Inception()"
   ]
  },
  {
   "cell_type": "code",
   "execution_count": 237,
   "id": "9db8b01a",
   "metadata": {},
   "outputs": [],
   "source": [
    "sample = tf.constant([10*224*224*3], dtype=tf.float32, shape = (10, 224, 224, 3))\n",
    "sample_label = tf.cast(list(range(10)), dtype=tf.float32)"
   ]
  },
  {
   "cell_type": "code",
   "execution_count": 238,
   "id": "501ee952",
   "metadata": {},
   "outputs": [],
   "source": [
    "Inception_loss = tf.keras.losses.SparseCategoricalCrossentropy(from_logits = True)\n",
    "\n",
    "model.compile(optimizer = tf.keras.optimizers.SGD(learning_rate=0.001, momentum=0.9, nesterov=False),\n",
    "                 loss = [Inception_loss, Inception_loss, Inception_loss], loss_weights = [1, 0.3, 0.3],\n",
    "                 metrics = ['acc'])"
   ]
  },
  {
   "cell_type": "code",
   "execution_count": 239,
   "id": "d60c848e",
   "metadata": {},
   "outputs": [
    {
     "name": "stdout",
     "output_type": "stream",
     "text": [
      "Epoch 1/3\n",
      "3/3 [==============================] - 0s 28ms/step - loss: 3.7222 - output_1_loss: 2.3511 - output_2_loss: 2.3767 - output_3_loss: 2.1939 - output_1_acc: 0.2000 - output_2_acc: 0.2000 - output_3_acc: 0.3000\n",
      "Epoch 2/3\n",
      "3/3 [==============================] - 0s 28ms/step - loss: 3.8189 - output_1_loss: 2.2808 - output_2_loss: 2.5030 - output_3_loss: 2.6241 - output_1_acc: 0.1000 - output_2_acc: 0.1000 - output_3_acc: 0.0000e+00\n",
      "Epoch 3/3\n",
      "3/3 [==============================] - 0s 28ms/step - loss: 3.8032 - output_1_loss: 2.3778 - output_2_loss: 2.2350 - output_3_loss: 2.5163 - output_1_acc: 0.2000 - output_2_acc: 0.1000 - output_3_acc: 0.0000e+00\n"
     ]
    },
    {
     "data": {
      "text/plain": [
       "<tensorflow.python.keras.callbacks.History at 0x1967b7212e8>"
      ]
     },
     "execution_count": 239,
     "metadata": {},
     "output_type": "execute_result"
    }
   ],
   "source": [
    "model.fit(sample, [sample_label, sample_label, sample_label], epochs = 3, batch_size = 4, verbose = 1)"
   ]
  }
 ],
 "metadata": {
  "kernelspec": {
   "display_name": "py36",
   "language": "python",
   "name": "py36"
  },
  "language_info": {
   "codemirror_mode": {
    "name": "ipython",
    "version": 3
   },
   "file_extension": ".py",
   "mimetype": "text/x-python",
   "name": "python",
   "nbconvert_exporter": "python",
   "pygments_lexer": "ipython3",
   "version": "3.6.13"
  }
 },
 "nbformat": 4,
 "nbformat_minor": 5
}
