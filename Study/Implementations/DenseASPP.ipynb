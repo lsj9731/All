{
 "cells": [
  {
   "cell_type": "code",
   "execution_count": 32,
   "metadata": {},
   "outputs": [],
   "source": [
    "import tensorflow as tf\n",
    "from tensorflow.keras.datasets import cifar10\n",
    "import numpy as np\n",
    "\n",
    "(X_train, y_train), (X_test, y_test) = cifar10.load_data()\n",
    "\n",
    "backend = tf.keras.backend\n",
    "models = tf.keras.models\n",
    "layers = tf.keras.layers"
   ]
  },
  {
   "cell_type": "code",
   "execution_count": 26,
   "metadata": {},
   "outputs": [],
   "source": [
    "X_train = X_train.astype('float32') / 255.0"
   ]
  },
  {
   "cell_type": "markdown",
   "metadata": {},
   "source": [
    "# Make Dilated Block"
   ]
  },
  {
   "cell_type": "code",
   "execution_count": 11,
   "metadata": {},
   "outputs": [],
   "source": [
    "class Dilated_block(tf.keras.Model):\n",
    "    def __init__(self, filters, kernel_size = 3, rate = 1):\n",
    "        super(Dilated_block, self).__init__()\n",
    "        \n",
    "        self.bn1 = layers.BatchNormalization()\n",
    "        self.relu = layers.Activation('relu')\n",
    "        self.conv1 = layers.Conv2D(filters, kernel_size, padding = 'same', dilation_rate = rate)\n",
    "        \n",
    "    def call(self, inputs):\n",
    "        \n",
    "        x = self.bn1(inputs)\n",
    "        x = self.relu(x)\n",
    "        x = self.conv1(x)\n",
    "        \n",
    "        return x"
   ]
  },
  {
   "cell_type": "markdown",
   "metadata": {},
   "source": [
    "# Make DenseASPP"
   ]
  },
  {
   "cell_type": "code",
   "execution_count": 20,
   "metadata": {},
   "outputs": [],
   "source": [
    "class DenseASPP(tf.keras.Model):\n",
    "    def __init__(self, num_classes):\n",
    "        super(DenseASPP, self).__init__()\n",
    "        \n",
    "        self.dilation1 = Dilated_block(256, 1)\n",
    "        self.dilation2 = Dilated_block(64, 3, rate = 3)\n",
    "        self.dilation3 = Dilated_block(64, 3, rate = 6)\n",
    "        self.dilation4 = Dilated_block(64, 3, rate = 12)\n",
    "        self.dilation5 = Dilated_block(64, 3, rate = 18)\n",
    "        self.dilation6 = Dilated_block(64, 3, rate = 24)\n",
    "        \n",
    "        self.conv1 = layers.Conv2D(num_classes, 1, strides = 1)\n",
    "        self.upsam1 = layers.UpSampling2D(size=(8, 8), interpolation='bilinear')\n",
    "        \n",
    "    def call(self, inputs):\n",
    "        \n",
    "        # inputs\n",
    "        inpts = inputs\n",
    "        \n",
    "        # rate = 3\n",
    "        a1 = self.dilation1(inpts)\n",
    "        a1 = self.dilation2(a1)\n",
    "        \n",
    "        # rate = 6\n",
    "        a2 = backend.concatenate([inpts, a1])\n",
    "        a2 = self.dilation1(a2)\n",
    "        a2 = self.dilation3(a2)\n",
    "        \n",
    "        # rate = 12\n",
    "        a3 = backend.concatenate([inpts, a1, a2])\n",
    "        a3 = self.dilation1(a3)\n",
    "        a3 = self.dilation4(a3)\n",
    "         \n",
    "        # rate = 18\n",
    "        a4 = backend.concatenate([inpts, a1, a2, a3])\n",
    "        a4 = self.dilation1(a4)\n",
    "        a4 = self.dilation5(a4)   \n",
    "        \n",
    "        # rate = 24\n",
    "        a5 = backend.concatenate([inpts, a1, a2, a3, a4])\n",
    "        a5 = self.dilation1(a5)\n",
    "        a5 = self.dilation6(a5)\n",
    "        \n",
    "        # Conv\n",
    "        x = backend.concatenate([inpts, a1, a2, a3, a4, a5])\n",
    "        x = self.conv1(x)\n",
    "        x = self.upsam1(x)\n",
    "        \n",
    "        return x"
   ]
  }
 ],
 "metadata": {
  "kernelspec": {
   "display_name": "Python 3",
   "language": "python",
   "name": "python3"
  },
  "language_info": {
   "codemirror_mode": {
    "name": "ipython",
    "version": 3
   },
   "file_extension": ".py",
   "mimetype": "text/x-python",
   "name": "python",
   "nbconvert_exporter": "python",
   "pygments_lexer": "ipython3",
   "version": "3.6.13"
  }
 },
 "nbformat": 4,
 "nbformat_minor": 4
}
