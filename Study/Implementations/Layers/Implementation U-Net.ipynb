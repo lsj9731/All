{
 "cells": [
  {
   "cell_type": "code",
   "execution_count": 22,
   "id": "7d213de4",
   "metadata": {},
   "outputs": [],
   "source": [
    "import tensorflow as tf\n",
    "import numpy as np\n",
    "import pandas as pd\n",
    "import os\n",
    "from tqdm import tqdm"
   ]
  },
  {
   "cell_type": "code",
   "execution_count": 23,
   "id": "799018c2",
   "metadata": {},
   "outputs": [
    {
     "data": {
      "text/plain": [
       "TensorShape([1, 572, 572, 3])"
      ]
     },
     "execution_count": 23,
     "metadata": {},
     "output_type": "execute_result"
    }
   ],
   "source": [
    "input_image = tf.ones((1, 572, 572, 3), dtype=tf.float32)\n",
    "\n",
    "input_image.shape"
   ]
  },
  {
   "cell_type": "markdown",
   "id": "6c1d21bb",
   "metadata": {},
   "source": [
    "# Contracting Module"
   ]
  },
  {
   "cell_type": "code",
   "execution_count": 41,
   "id": "a4efee27",
   "metadata": {},
   "outputs": [],
   "source": [
    "class C_Module(tf.keras.layers.Layer):\n",
    "    def __init__(self, filters):\n",
    "        super(C_Module, self).__init__()\n",
    "        self.conv1 = tf.keras.layers.Conv2D(filters, kernel_size=3, padding='valid')\n",
    "        self.conv2 = tf.keras.layers.Conv2D(filters, kernel_size=3, padding='valid')\n",
    "        self.act = tf.keras.layers.Activation('relu')\n",
    "        self.bn1 = tf.keras.layers.BatchNormalization()\n",
    "        self.bn2 = tf.keras.layers.BatchNormalization()\n",
    "        \n",
    "    def call(self, inputs):\n",
    "        x = self.conv1(inputs)\n",
    "        x = self.bn1(x)\n",
    "        x = self.act(x)\n",
    "        \n",
    "        x = self.conv2(x)\n",
    "        x = self.bn2(x)\n",
    "        x = self.act(x)\n",
    "        \n",
    "        return x"
   ]
  },
  {
   "cell_type": "markdown",
   "id": "c851982b",
   "metadata": {},
   "source": [
    "# Convolution Module"
   ]
  },
  {
   "cell_type": "code",
   "execution_count": 42,
   "id": "ef9bc1d5",
   "metadata": {},
   "outputs": [],
   "source": [
    "class conv(tf.keras.layers.Layer):\n",
    "    def __init__(self, filters):\n",
    "        super(conv, self).__init__()\n",
    "        self.conv1 = tf.keras.layers.Conv2D(filters, kernel_size=3, padding='valid')\n",
    "        self.act = tf.keras.layers.Activation('relu')\n",
    "        self.bn1 = tf.keras.layers.BatchNormalization()\n",
    "        \n",
    "    def call(self, inputs):\n",
    "        x = self.conv1(inputs)\n",
    "        x = self.bn1(x)\n",
    "        x = self.act(x)\n",
    "        \n",
    "        return x"
   ]
  },
  {
   "cell_type": "markdown",
   "id": "59dfe7c0",
   "metadata": {},
   "source": [
    "# U-Net"
   ]
  },
  {
   "cell_type": "code",
   "execution_count": 96,
   "id": "7b24ae84",
   "metadata": {},
   "outputs": [],
   "source": [
    "class UNet(tf.keras.layers.Layer):\n",
    "    def __init__(self):\n",
    "        super(UNet, self).__init__()\n",
    "        # Contracting Layer\n",
    "        self.cont1 = C_Module(64)\n",
    "        self.cont2 = C_Module(128)\n",
    "        self.cont3 = C_Module(256)\n",
    "        self.cont4 = C_Module(512)\n",
    "        self.pool = tf.keras.layers.MaxPooling2D(pool_size=(2, 2), strides=2)\n",
    "        \n",
    "        # Bottleneck Layer\n",
    "        self.bottle1 = conv(1024)\n",
    "        self.bottle2 = conv(1024)\n",
    "        self.dropout = tf.keras.layers.Dropout(0.5)\n",
    "        \n",
    "        # Expanding Layer\n",
    "        self.transpose1 = tf.keras.layers.Conv2DTranspose(512, 2, 2, padding='same')\n",
    "        self.tp_conv1 = C_Module(512)\n",
    "        self.transpose2 = tf.keras.layers.Conv2DTranspose(256, 2, 2, padding='same')\n",
    "        self.tp_conv2 = C_Module(256)\n",
    "        self.transpose3 = tf.keras.layers.Conv2DTranspose(128, 2, 2, padding='same')\n",
    "        self.tp_conv3 = C_Module(128)\n",
    "        self.transpose4 = tf.keras.layers.Conv2DTranspose(128, 2, 2, padding='same')\n",
    "        self.tp_conv4 = C_Module(64)\n",
    "        \n",
    "        # Output\n",
    "        self.out_conv = tf.keras.layers.Conv2D(2, 1, 1, padding='same')\n",
    "        self.act = tf.keras.layers.Activation('tanh')\n",
    "        \n",
    "        \n",
    "    def call(self, inputs):\n",
    "        out1 = self.cont1(inputs)\n",
    "        out1_p = self.pool(out1)\n",
    "        out2 = self.cont2(out1_p)\n",
    "        out2_p = self.pool(out2)\n",
    "        out3 = self.cont3(out2_p)\n",
    "        out3_p = self.pool(out3)\n",
    "        out4 = self.cont4(out3_p)\n",
    "        out4_p = self.pool(out4)\n",
    "        \n",
    "        x = self.bottle1(out4_p)\n",
    "        x = self.bottle2(x)\n",
    "        x = self.dropout(x)\n",
    "        \n",
    "        # crop image 28 x 28\n",
    "        tp1 = self.transpose1(x)\n",
    "        diff = int((out4.shape[1] - tp1.shape[1]) / 2)\n",
    "        diff_pool = out4[:, diff:-diff, diff:-diff, :]\n",
    "        tp1 = tf.concat([tp1, diff_pool], axis = -1)\n",
    "        tp1 = self.tp_conv1(tp1)\n",
    "        \n",
    "        # crop image 52 x 52\n",
    "        tp2 = self.transpose2(tp1)\n",
    "        diff = int((out3.shape[1] - tp2.shape[1]) / 2)\n",
    "        diff_pool = out3[:, diff:-diff, diff:-diff, :]\n",
    "        tp2 = tf.concat([tp2, diff_pool], axis = -1)\n",
    "        tp2 = self.tp_conv2(tp2)\n",
    "        \n",
    "        # crop image 100 x 100\n",
    "        tp3 = self.transpose3(tp2)\n",
    "        diff = int((out2.shape[1] - tp3.shape[1]) / 2)\n",
    "        diff_pool = out2[:, diff:-diff, diff:-diff, :]\n",
    "        tp3 = tf.concat([tp3, diff_pool], axis = -1)\n",
    "        tp3 = self.tp_conv3(tp3)\n",
    "        \n",
    "        # crop image 196 x 196\n",
    "        tp4 = self.transpose4(tp3)\n",
    "        diff = int((out1.shape[1] - tp4.shape[1]) / 2)\n",
    "        diff_pool = out1[:, diff:-diff, diff:-diff, :]\n",
    "        tp4 = tf.concat([tp4, diff_pool], axis = -1)\n",
    "        tp4 = self.tp_conv4(tp4)\n",
    "        \n",
    "        # Output\n",
    "        out = self.act(self.out_conv(tp4))\n",
    "        \n",
    "        return out"
   ]
  },
  {
   "cell_type": "markdown",
   "id": "877afe01",
   "metadata": {},
   "source": [
    "# Model test"
   ]
  },
  {
   "cell_type": "code",
   "execution_count": 97,
   "id": "56493755",
   "metadata": {},
   "outputs": [],
   "source": [
    "layer = UNet()"
   ]
  },
  {
   "cell_type": "code",
   "execution_count": 98,
   "id": "46be3063",
   "metadata": {},
   "outputs": [
    {
     "data": {
      "text/plain": [
       "TensorShape([1, 388, 388, 2])"
      ]
     },
     "execution_count": 98,
     "metadata": {},
     "output_type": "execute_result"
    }
   ],
   "source": [
    "layer(input_image).shape"
   ]
  }
 ],
 "metadata": {
  "kernelspec": {
   "display_name": "py36",
   "language": "python",
   "name": "py36"
  },
  "language_info": {
   "codemirror_mode": {
    "name": "ipython",
    "version": 3
   },
   "file_extension": ".py",
   "mimetype": "text/x-python",
   "name": "python",
   "nbconvert_exporter": "python",
   "pygments_lexer": "ipython3",
   "version": "3.6.13"
  }
 },
 "nbformat": 4,
 "nbformat_minor": 5
}
