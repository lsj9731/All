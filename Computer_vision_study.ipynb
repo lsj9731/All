{
  "nbformat": 4,
  "nbformat_minor": 0,
  "metadata": {
    "colab": {
      "name": "Computer vision study",
      "provenance": [],
      "collapsed_sections": []
    },
    "kernelspec": {
      "name": "python3",
      "display_name": "Python 3"
    },
    "language_info": {
      "name": "python"
    }
  },
  "cells": [
    {
      "cell_type": "code",
      "execution_count": null,
      "metadata": {
        "id": "Sl83_a9X22ps"
      },
      "outputs": [],
      "source": [
        "import numpy as np"
      ]
    },
    {
      "cell_type": "code",
      "source": [
        "a = np.array(range(10*9)).reshape(10, 9)\n",
        "b = np.array(range(9)).reshape(9, 1)\n",
        "\n",
        "np.dot(a, b).shape"
      ],
      "metadata": {
        "colab": {
          "base_uri": "https://localhost:8080/"
        },
        "id": "S4QI_DozmrE3",
        "outputId": "2288204e-af22-4dd5-ead2-30991322143f"
      },
      "execution_count": null,
      "outputs": [
        {
          "output_type": "execute_result",
          "data": {
            "text/plain": [
              "(10, 1)"
            ]
          },
          "metadata": {},
          "execution_count": 2
        }
      ]
    },
    {
      "cell_type": "code",
      "source": [
        "a = [102, 10, 230, -23, 9, 3, 2, 1]\n",
        "\n",
        "for i in a:\n",
        "  print('sig : ', 1 / (1+np.exp(-i)))"
      ],
      "metadata": {
        "id": "h_SlNIGRmzx8",
        "colab": {
          "base_uri": "https://localhost:8080/"
        },
        "outputId": "585e3fb2-3ea7-49d7-ea66-245ab93a6214"
      },
      "execution_count": null,
      "outputs": [
        {
          "output_type": "stream",
          "name": "stdout",
          "text": [
            "sig :  1.0\n",
            "sig :  0.9999546021312976\n",
            "sig :  1.0\n",
            "sig :  1.0261879630648827e-10\n",
            "sig :  0.9998766054240137\n",
            "sig :  0.9525741268224334\n",
            "sig :  0.8807970779778823\n",
            "sig :  0.7310585786300049\n"
          ]
        }
      ]
    },
    {
      "cell_type": "code",
      "source": [
        "exp_list = np.linspace(-1, 1, 100)\n",
        "\n",
        "exp_list"
      ],
      "metadata": {
        "colab": {
          "base_uri": "https://localhost:8080/"
        },
        "id": "0sXgB2LU9vh9",
        "outputId": "bfacb5ba-842a-4618-b241-1832ab9e58fc"
      },
      "execution_count": null,
      "outputs": [
        {
          "output_type": "execute_result",
          "data": {
            "text/plain": [
              "array([-1.        , -0.97979798, -0.95959596, -0.93939394, -0.91919192,\n",
              "       -0.8989899 , -0.87878788, -0.85858586, -0.83838384, -0.81818182,\n",
              "       -0.7979798 , -0.77777778, -0.75757576, -0.73737374, -0.71717172,\n",
              "       -0.6969697 , -0.67676768, -0.65656566, -0.63636364, -0.61616162,\n",
              "       -0.5959596 , -0.57575758, -0.55555556, -0.53535354, -0.51515152,\n",
              "       -0.49494949, -0.47474747, -0.45454545, -0.43434343, -0.41414141,\n",
              "       -0.39393939, -0.37373737, -0.35353535, -0.33333333, -0.31313131,\n",
              "       -0.29292929, -0.27272727, -0.25252525, -0.23232323, -0.21212121,\n",
              "       -0.19191919, -0.17171717, -0.15151515, -0.13131313, -0.11111111,\n",
              "       -0.09090909, -0.07070707, -0.05050505, -0.03030303, -0.01010101,\n",
              "        0.01010101,  0.03030303,  0.05050505,  0.07070707,  0.09090909,\n",
              "        0.11111111,  0.13131313,  0.15151515,  0.17171717,  0.19191919,\n",
              "        0.21212121,  0.23232323,  0.25252525,  0.27272727,  0.29292929,\n",
              "        0.31313131,  0.33333333,  0.35353535,  0.37373737,  0.39393939,\n",
              "        0.41414141,  0.43434343,  0.45454545,  0.47474747,  0.49494949,\n",
              "        0.51515152,  0.53535354,  0.55555556,  0.57575758,  0.5959596 ,\n",
              "        0.61616162,  0.63636364,  0.65656566,  0.67676768,  0.6969697 ,\n",
              "        0.71717172,  0.73737374,  0.75757576,  0.77777778,  0.7979798 ,\n",
              "        0.81818182,  0.83838384,  0.85858586,  0.87878788,  0.8989899 ,\n",
              "        0.91919192,  0.93939394,  0.95959596,  0.97979798,  1.        ])"
            ]
          },
          "metadata": {},
          "execution_count": 8
        }
      ]
    },
    {
      "cell_type": "code",
      "source": [
        "for i in exp_list:\n",
        "  print('sig : ', 1 / (1+np.exp(-i)))"
      ],
      "metadata": {
        "id": "PnG8TAuV-Sgd"
      },
      "execution_count": null,
      "outputs": []
    },
    {
      "cell_type": "code",
      "source": [
        "soft_list = [1.2, 0.9, 0.4]\n",
        "\n",
        "max_v = np.max(soft_list)\n",
        "soft_list = soft_list - max_v\n",
        "print(soft_list)\n",
        "print(np.exp(soft_list) / np.sum(np.exp(soft_list)))"
      ],
      "metadata": {
        "colab": {
          "base_uri": "https://localhost:8080/"
        },
        "id": "wPpgJqZ9-VbR",
        "outputId": "1608fb67-60f5-4512-c7d8-996d96a33e19"
      },
      "execution_count": null,
      "outputs": [
        {
          "output_type": "stream",
          "name": "stdout",
          "text": [
            "[ 0.  -0.3 -0.8]\n",
            "[0.45659032 0.33825043 0.20515925]\n"
          ]
        }
      ]
    },
    {
      "cell_type": "code",
      "source": [
        "import numpy as np\n",
        "\n",
        "a = [-2, -1, 0, 1, 2]\n",
        "\n",
        "np.sinh(a) / np.cosh(a)"
      ],
      "metadata": {
        "id": "9iiPKTpVBBQ2",
        "colab": {
          "base_uri": "https://localhost:8080/"
        },
        "outputId": "5efb16e5-ecfe-4f8b-fbb8-0492a28dce53"
      },
      "execution_count": null,
      "outputs": [
        {
          "output_type": "execute_result",
          "data": {
            "text/plain": [
              "array([-0.96402758, -0.76159416,  0.        ,  0.76159416,  0.96402758])"
            ]
          },
          "metadata": {},
          "execution_count": 2
        }
      ]
    },
    {
      "cell_type": "code",
      "source": [
        "import numpy as np"
      ],
      "metadata": {
        "id": "V8YS43nj5s90"
      },
      "execution_count": null,
      "outputs": []
    },
    {
      "cell_type": "code",
      "source": [
        "def get_fx(x):\n",
        "  return print(x ** 2 - (2 * x) - 3)\n",
        "\n",
        "def fx_gd(x):\n",
        "  return print(2*x - 2)"
      ],
      "metadata": {
        "id": "Zp7Q66FdWQj0"
      },
      "execution_count": null,
      "outputs": []
    },
    {
      "cell_type": "code",
      "source": [
        "d_list = list(range(5))"
      ],
      "metadata": {
        "id": "aFSsFZ3lWt_w"
      },
      "execution_count": null,
      "outputs": []
    },
    {
      "cell_type": "code",
      "source": [
        "for i in d_list:\n",
        "  get_fx(i)\n",
        "  fx_gd(i)\n",
        "  print()"
      ],
      "metadata": {
        "colab": {
          "base_uri": "https://localhost:8080/"
        },
        "id": "nf1NK4OhWw_f",
        "outputId": "5cc54f9d-5448-404a-ad80-4c1ff97006b1"
      },
      "execution_count": null,
      "outputs": [
        {
          "output_type": "stream",
          "name": "stdout",
          "text": [
            "-3\n",
            "-2\n",
            "\n",
            "-4\n",
            "0\n",
            "\n",
            "-3\n",
            "2\n",
            "\n",
            "0\n",
            "4\n",
            "\n",
            "5\n",
            "6\n",
            "\n"
          ]
        }
      ]
    },
    {
      "cell_type": "code",
      "source": [
        "from tensorflow import keras"
      ],
      "metadata": {
        "id": "xvU5lEpwW1b8"
      },
      "execution_count": null,
      "outputs": []
    },
    {
      "cell_type": "code",
      "source": [
        "model = keras.models.Sequential()\n",
        "model.add(keras.layers.Flatten(input_shape = (28, 28)))"
      ],
      "metadata": {
        "id": "116corSbffVp"
      },
      "execution_count": null,
      "outputs": []
    },
    {
      "cell_type": "code",
      "source": [
        "model.add(keras.layers.Dense(512, activation = 'relu'))\n",
        "model.add(keras.layers.Dense(512, activation = 'relu'))"
      ],
      "metadata": {
        "id": "OCdpxR4tfqYk"
      },
      "execution_count": null,
      "outputs": []
    },
    {
      "cell_type": "code",
      "source": [
        "model.add(keras.layers.Dense(10, activation = 'softmax'))"
      ],
      "metadata": {
        "id": "waz0SQSQfxN3"
      },
      "execution_count": null,
      "outputs": []
    },
    {
      "cell_type": "code",
      "source": [
        "model.summary()"
      ],
      "metadata": {
        "colab": {
          "base_uri": "https://localhost:8080/"
        },
        "id": "Fp7Enep_gKyn",
        "outputId": "7f47eba5-2a17-4344-cacc-4eb21b43eaa9"
      },
      "execution_count": null,
      "outputs": [
        {
          "output_type": "stream",
          "name": "stdout",
          "text": [
            "Model: \"sequential\"\n",
            "_________________________________________________________________\n",
            " Layer (type)                Output Shape              Param #   \n",
            "=================================================================\n",
            " flatten (Flatten)           (None, 784)               0         \n",
            "                                                                 \n",
            " dense (Dense)               (None, 512)               401920    \n",
            "                                                                 \n",
            " dense_1 (Dense)             (None, 512)               262656    \n",
            "                                                                 \n",
            " dense_2 (Dense)             (None, 10)                5130      \n",
            "                                                                 \n",
            "=================================================================\n",
            "Total params: 669,706\n",
            "Trainable params: 669,706\n",
            "Non-trainable params: 0\n",
            "_________________________________________________________________\n"
          ]
        }
      ]
    },
    {
      "cell_type": "code",
      "source": [
        "784*512*512*10"
      ],
      "metadata": {
        "colab": {
          "base_uri": "https://localhost:8080/"
        },
        "id": "TGp_u-ILgL4P",
        "outputId": "e1472b72-35cb-49ff-ed63-8d4a8f60baee"
      },
      "execution_count": null,
      "outputs": [
        {
          "output_type": "execute_result",
          "data": {
            "text/plain": [
              "2055208960"
            ]
          },
          "metadata": {},
          "execution_count": 6
        }
      ]
    },
    {
      "cell_type": "code",
      "source": [
        "784*512 + 512"
      ],
      "metadata": {
        "colab": {
          "base_uri": "https://localhost:8080/"
        },
        "id": "kVu3PUJegVmp",
        "outputId": "2bf362a3-c803-4c36-d60f-e37d7ba0f6a3"
      },
      "execution_count": null,
      "outputs": [
        {
          "output_type": "execute_result",
          "data": {
            "text/plain": [
              "401920"
            ]
          },
          "metadata": {},
          "execution_count": 7
        }
      ]
    },
    {
      "cell_type": "code",
      "source": [
        "512*512+512"
      ],
      "metadata": {
        "colab": {
          "base_uri": "https://localhost:8080/"
        },
        "id": "-IiMY64bgj4n",
        "outputId": "d36bc836-9ce0-42b1-899b-681784ca5422"
      },
      "execution_count": null,
      "outputs": [
        {
          "output_type": "execute_result",
          "data": {
            "text/plain": [
              "262656"
            ]
          },
          "metadata": {},
          "execution_count": 11
        }
      ]
    },
    {
      "cell_type": "code",
      "source": [
        "512*10+10"
      ],
      "metadata": {
        "colab": {
          "base_uri": "https://localhost:8080/"
        },
        "id": "JLxKtMvfglIL",
        "outputId": "5825cd7d-56ae-4d0a-9378-51c10e9a253d"
      },
      "execution_count": null,
      "outputs": [
        {
          "output_type": "execute_result",
          "data": {
            "text/plain": [
              "5130"
            ]
          },
          "metadata": {},
          "execution_count": 12
        }
      ]
    },
    {
      "cell_type": "code",
      "source": [
        "(X_train, y_train), (X_test, y_test) = keras.datasets.mnist.load_data()"
      ],
      "metadata": {
        "colab": {
          "base_uri": "https://localhost:8080/"
        },
        "id": "9f6db0PTgotm",
        "outputId": "62f17579-8da2-45ac-d845-56e03cc6fb0e"
      },
      "execution_count": null,
      "outputs": [
        {
          "output_type": "stream",
          "name": "stdout",
          "text": [
            "Downloading data from https://storage.googleapis.com/tensorflow/tf-keras-datasets/mnist.npz\n",
            "11493376/11490434 [==============================] - 0s 0us/step\n",
            "11501568/11490434 [==============================] - 0s 0us/step\n"
          ]
        }
      ]
    },
    {
      "cell_type": "code",
      "source": [
        "model.compile(optimizer = 'adam', loss = keras.losses.SparseCategoricalCrossentropy(from_logits = False), metrics = ['accuracy'])"
      ],
      "metadata": {
        "id": "K4iQYzY9hIHc"
      },
      "execution_count": null,
      "outputs": []
    },
    {
      "cell_type": "code",
      "source": [
        "model.fit(X_train, y_train, validation_data=(X_test, y_test), batch_size = 128, epochs = 20)"
      ],
      "metadata": {
        "colab": {
          "base_uri": "https://localhost:8080/"
        },
        "id": "j-fEPNvbhW0C",
        "outputId": "86702ac2-742f-4456-cee0-9cd40d7cef83"
      },
      "execution_count": null,
      "outputs": [
        {
          "output_type": "stream",
          "name": "stdout",
          "text": [
            "Epoch 1/20\n",
            "469/469 [==============================] - 8s 15ms/step - loss: 2.4148 - accuracy: 0.9034 - val_loss: 0.4361 - val_accuracy: 0.9458\n",
            "Epoch 2/20\n",
            "469/469 [==============================] - 7s 15ms/step - loss: 0.3077 - accuracy: 0.9531 - val_loss: 0.3256 - val_accuracy: 0.9528\n",
            "Epoch 3/20\n",
            "469/469 [==============================] - 7s 15ms/step - loss: 0.1881 - accuracy: 0.9658 - val_loss: 0.2872 - val_accuracy: 0.9578\n",
            "Epoch 4/20\n",
            "469/469 [==============================] - 7s 15ms/step - loss: 0.1416 - accuracy: 0.9728 - val_loss: 0.2759 - val_accuracy: 0.9606\n",
            "Epoch 5/20\n",
            "469/469 [==============================] - 7s 16ms/step - loss: 0.1352 - accuracy: 0.9742 - val_loss: 0.2857 - val_accuracy: 0.9578\n",
            "Epoch 6/20\n",
            "469/469 [==============================] - 7s 15ms/step - loss: 0.1050 - accuracy: 0.9782 - val_loss: 0.2640 - val_accuracy: 0.9585\n",
            "Epoch 7/20\n",
            "469/469 [==============================] - 7s 15ms/step - loss: 0.0800 - accuracy: 0.9813 - val_loss: 0.1917 - val_accuracy: 0.9640\n",
            "Epoch 8/20\n",
            "469/469 [==============================] - 7s 15ms/step - loss: 0.0922 - accuracy: 0.9794 - val_loss: 0.2652 - val_accuracy: 0.9639\n",
            "Epoch 9/20\n",
            "469/469 [==============================] - 7s 16ms/step - loss: 0.0832 - accuracy: 0.9818 - val_loss: 0.2354 - val_accuracy: 0.9626\n",
            "Epoch 10/20\n",
            "469/469 [==============================] - 7s 15ms/step - loss: 0.0800 - accuracy: 0.9817 - val_loss: 0.2349 - val_accuracy: 0.9657\n",
            "Epoch 11/20\n",
            "469/469 [==============================] - 7s 15ms/step - loss: 0.0870 - accuracy: 0.9800 - val_loss: 0.1963 - val_accuracy: 0.9668\n",
            "Epoch 12/20\n",
            "469/469 [==============================] - 7s 15ms/step - loss: 0.0783 - accuracy: 0.9819 - val_loss: 0.1682 - val_accuracy: 0.9678\n",
            "Epoch 13/20\n",
            "469/469 [==============================] - 7s 16ms/step - loss: 0.0699 - accuracy: 0.9832 - val_loss: 0.1615 - val_accuracy: 0.9716\n",
            "Epoch 14/20\n",
            "469/469 [==============================] - 7s 16ms/step - loss: 0.0684 - accuracy: 0.9843 - val_loss: 0.2050 - val_accuracy: 0.9663\n",
            "Epoch 15/20\n",
            "469/469 [==============================] - 7s 16ms/step - loss: 0.0759 - accuracy: 0.9817 - val_loss: 0.2126 - val_accuracy: 0.9663\n",
            "Epoch 16/20\n",
            "469/469 [==============================] - 7s 16ms/step - loss: 0.0661 - accuracy: 0.9850 - val_loss: 0.1989 - val_accuracy: 0.9660\n",
            "Epoch 17/20\n",
            "469/469 [==============================] - 7s 16ms/step - loss: 0.0820 - accuracy: 0.9820 - val_loss: 0.2306 - val_accuracy: 0.9633\n",
            "Epoch 18/20\n",
            "469/469 [==============================] - 7s 16ms/step - loss: 0.0619 - accuracy: 0.9858 - val_loss: 0.2440 - val_accuracy: 0.9691\n",
            "Epoch 19/20\n",
            "469/469 [==============================] - 7s 15ms/step - loss: 0.0658 - accuracy: 0.9849 - val_loss: 0.1911 - val_accuracy: 0.9728\n",
            "Epoch 20/20\n",
            "469/469 [==============================] - 7s 16ms/step - loss: 0.0553 - accuracy: 0.9872 - val_loss: 0.2112 - val_accuracy: 0.9710\n"
          ]
        },
        {
          "output_type": "execute_result",
          "data": {
            "text/plain": [
              "<keras.callbacks.History at 0x7f3183169e90>"
            ]
          },
          "metadata": {},
          "execution_count": 16
        }
      ]
    },
    {
      "cell_type": "code",
      "source": [
        ""
      ],
      "metadata": {
        "id": "P8Yclrufhjmq"
      },
      "execution_count": null,
      "outputs": []
    }
  ]
}