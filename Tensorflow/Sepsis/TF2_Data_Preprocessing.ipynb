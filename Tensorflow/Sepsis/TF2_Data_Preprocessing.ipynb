{
 "cells": [
  {
   "cell_type": "code",
   "execution_count": 1,
   "metadata": {},
   "outputs": [],
   "source": [
    "import numpy as np\n",
    "import matplotlib.pyplot as plt\n",
    "import csv\n",
    "import pandas as pd\n",
    "import os\n",
    "import tensorflow as tf\n",
    "import sys\n",
    "import seaborn as sns\n",
    "import scipy\n",
    "from sklearn.preprocessing import OneHotEncoder\n",
    "from sklearn.preprocessing import minmax_scale\n",
    "from tensorflow import keras\n",
    "import random\n",
    "\n",
    "pd.set_option('display.max_columns', 500)\n",
    "pd.set_option('display.max_row', 100)\n",
    "\n",
    "from keras import backend as K\n",
    "K.clear_session()\n",
    "tf.compat.v1.reset_default_graph()"
   ]
  },
  {
   "cell_type": "code",
   "execution_count": 2,
   "metadata": {},
   "outputs": [
    {
     "name": "stdout",
     "output_type": "stream",
     "text": [
      "Full_Data_shape :  (1042, 11) Cal_Full_Data_Shape :  (1042, 11)\n"
     ]
    }
   ],
   "source": [
    "Full_Data = np.load('./Data/Full_Data.npy')\n",
    "Cal_Full_Data = np.load('./Data/Cal_Full_Data.npy')\n",
    "\n",
    "print('Full_Data_shape : ', Full_Data.shape, 'Cal_Full_Data_Shape : ', Cal_Full_Data.shape)"
   ]
  },
  {
   "cell_type": "code",
   "execution_count": 3,
   "metadata": {},
   "outputs": [
    {
     "name": "stdout",
     "output_type": "stream",
     "text": [
      "vital :  (1042, 9) Label :  (1042,) Gender :  (1042,)\n"
     ]
    }
   ],
   "source": [
    "Total_Data_vital = []\n",
    "Total_Data_Gender = []\n",
    "Total_Data_Label = []\n",
    "\n",
    "for i, value1 in enumerate(Full_Data):\n",
    "    Total_Data_vital.append(value1[:-2])\n",
    "    Total_Data_Gender.append(value1[-2])\n",
    "    Total_Data_Label.append(value1[-1])\n",
    "\n",
    "Total_Data_vital = np.array(Total_Data_vital)\n",
    "Total_Data_Label = np.array(Total_Data_Label)\n",
    "Total_Data_Gender = np.array(Total_Data_Gender)\n",
    "\n",
    "print('vital : ', Total_Data_vital.shape, 'Label : ', Total_Data_Label.shape, 'Gender : ', Total_Data_Gender.shape)"
   ]
  },
  {
   "cell_type": "code",
   "execution_count": 76,
   "metadata": {},
   "outputs": [],
   "source": [
    "np.save('C:/jupyter/Human_Deep/Human_Deep/Data/Total_Data_Gender_Test', Total_Data_Gender)\n",
    "np.save('C:/jupyter/Human_Deep/Human_Deep/Data/Total_Data_Label_Test', Total_Data_Label)"
   ]
  },
  {
   "cell_type": "code",
   "execution_count": 4,
   "metadata": {},
   "outputs": [
    {
     "name": "stdout",
     "output_type": "stream",
     "text": [
      "Total_Data_mean :  [ 89.17466411  97.18714012  37.00973129 120.47336852  19.03742802\n",
      "   1.54616123  12.6253071  182.86708253  62.50790787]\n",
      "Total_Data_std :  [ 18.06036506   3.21345654   1.00267786  22.69960404   5.64742355\n",
      "   1.80593855   9.75624779 101.42122895  15.52611008]\n",
      "------------------------------------------------------------\n",
      "Total_Data_mean_shape :  (9,)\n",
      "Total_Data_std_shape :  (9,)\n"
     ]
    }
   ],
   "source": [
    "Total_Data_mean = []\n",
    "Total_Data_std = []\n",
    "\n",
    "HR_Data = []\n",
    "HR_Data1 = []\n",
    "HR_Data2 = []\n",
    "\n",
    "O2sat_Data = []\n",
    "O2sat_Data1 = []\n",
    "O2sat_Data2 = []\n",
    "\n",
    "Temp_Data = []\n",
    "Temp_Data1 = []\n",
    "Temp_Data2 = []\n",
    "\n",
    "SBP_Data = []\n",
    "SBP_Data1 = []\n",
    "SBP_Data2 = []\n",
    "\n",
    "Resp_Data = []\n",
    "Resp_Data1 = []\n",
    "Resp_Data2 = []\n",
    "\n",
    "Creatinine_Data = []\n",
    "Creatinine_Data1 = []\n",
    "Creatinine_Data2 = []\n",
    "\n",
    "WBC_Data = []\n",
    "WBC_Data1 = []\n",
    "WBC_Data2 = []\n",
    "\n",
    "Platelets_Data = []\n",
    "Platelets_Data1 = []\n",
    "Platelets_Data2 = []\n",
    "\n",
    "Age_Data = []\n",
    "Age_Data1 = []\n",
    "Age_Data2 = []\n",
    "\n",
    "\n",
    "for i, value1 in enumerate(Total_Data_vital):\n",
    "        HR_Data.append(value1[0])\n",
    "        O2sat_Data.append(value1[1])\n",
    "        Temp_Data.append(value1[2])\n",
    "        SBP_Data.append(value1[3])\n",
    "        Resp_Data.append(value1[4])\n",
    "        Creatinine_Data.append(value1[5])\n",
    "        WBC_Data.append(value1[6])\n",
    "        Platelets_Data.append(value1[7])\n",
    "        Age_Data.append(value1[8])\n",
    "        \n",
    "    \n",
    "HR_Data1 = np.mean(HR_Data)\n",
    "O2sat_Data1 = np.mean(O2sat_Data)\n",
    "Temp_Data1 = np.mean(Temp_Data)\n",
    "SBP_Data1 = np.mean(SBP_Data)\n",
    "Resp_Data1 = np.mean(Resp_Data)\n",
    "Creatinine_Data1 = np.mean(Creatinine_Data)\n",
    "WBC_Data1 = np.mean(WBC_Data)\n",
    "Platelets_Data1 = np.mean(Platelets_Data)\n",
    "Age_Data1 = np.mean(Age_Data)\n",
    "\n",
    "\n",
    "\n",
    "Total_Data_mean.append(HR_Data1)\n",
    "Total_Data_mean.append(O2sat_Data1)\n",
    "Total_Data_mean.append(Temp_Data1)\n",
    "Total_Data_mean.append(SBP_Data1)\n",
    "Total_Data_mean.append(Resp_Data1)\n",
    "Total_Data_mean.append(Creatinine_Data1)\n",
    "Total_Data_mean.append(WBC_Data1)\n",
    "Total_Data_mean.append(Platelets_Data1)\n",
    "Total_Data_mean.append(Age_Data1)\n",
    "\n",
    "Total_Data_mean = np.array(Total_Data_mean)\n",
    "\n",
    "\n",
    "\n",
    "\n",
    "HR_Data2 = np.std(HR_Data)\n",
    "O2sat_Data2 = np.std(O2sat_Data)\n",
    "Temp_Data2 = np.std(Temp_Data)\n",
    "SBP_Data2 = np.std(SBP_Data)\n",
    "Resp_Data2 = np.std(Resp_Data)\n",
    "Creatinine_Data2 = np.std(Creatinine_Data)\n",
    "WBC_Data2 = np.std(WBC_Data)\n",
    "Platelets_Data2 = np.std(Platelets_Data)\n",
    "Age_Data2 = np.std(Age_Data)\n",
    "\n",
    "\n",
    "Total_Data_std.append(HR_Data2)\n",
    "Total_Data_std.append(O2sat_Data2)\n",
    "Total_Data_std.append(Temp_Data2)\n",
    "Total_Data_std.append(SBP_Data2)\n",
    "Total_Data_std.append(Resp_Data2)\n",
    "Total_Data_std.append(Creatinine_Data2)\n",
    "Total_Data_std.append(WBC_Data2)\n",
    "Total_Data_std.append(Platelets_Data2)\n",
    "Total_Data_std.append(Age_Data2)\n",
    "\n",
    "Total_Data_std = np.array(Total_Data_std)\n",
    "\n",
    "\n",
    "print('Total_Data_mean : ', Total_Data_mean)\n",
    "print('Total_Data_std : ', Total_Data_std)\n",
    "print('------------------------------------------------------------')\n",
    "print('Total_Data_mean_shape : ', Total_Data_mean.shape)\n",
    "print('Total_Data_std_shape : ', Total_Data_std.shape)"
   ]
  },
  {
   "cell_type": "code",
   "execution_count": 78,
   "metadata": {},
   "outputs": [],
   "source": [
    "np.save('C:/jupyter/Human_Deep/Human_Deep/Data/Total_Data_std_Test', Total_Data_std)\n",
    "np.save('C:/jupyter/Human_Deep/Human_Deep/Data/Total_Data_mean_Test', Total_Data_mean)"
   ]
  },
  {
   "cell_type": "code",
   "execution_count": 5,
   "metadata": {},
   "outputs": [
    {
     "name": "stdout",
     "output_type": "stream",
     "text": [
      "Total_Gender :  (1042,)\n",
      "Encodig ...\n",
      "Encodig_class\n"
     ]
    },
    {
     "data": {
      "text/plain": [
       "array([[0., 1.],\n",
       "       [1., 0.],\n",
       "       [0., 1.],\n",
       "       ...,\n",
       "       [1., 0.],\n",
       "       [1., 0.],\n",
       "       [1., 0.]])"
      ]
     },
     "execution_count": 5,
     "metadata": {},
     "output_type": "execute_result"
    }
   ],
   "source": [
    "print('Total_Gender : ', Total_Data_Gender.shape)\n",
    "print('Encodig ...')\n",
    "\n",
    "Total_Data_Gender_reshape = np.array(Total_Data_Gender).reshape(-1, 1)\n",
    "onehoten = OneHotEncoder()\n",
    "\n",
    "onehoten.fit(Total_Data_Gender_reshape)\n",
    "onehot_class = onehoten.transform(Total_Data_Gender_reshape).toarray()\n",
    "\n",
    "print('Encodig_class')\n",
    "onehot_class"
   ]
  },
  {
   "cell_type": "code",
   "execution_count": 6,
   "metadata": {},
   "outputs": [
    {
     "data": {
      "text/plain": [
       "(1042, 9)"
      ]
     },
     "execution_count": 6,
     "metadata": {},
     "output_type": "execute_result"
    }
   ],
   "source": [
    "Total_Data_vital_zscore = scipy.stats.zscore(Total_Data_vital)\n",
    "\n",
    "Total_Data_vital_zscore.shape"
   ]
  },
  {
   "cell_type": "code",
   "execution_count": 7,
   "metadata": {},
   "outputs": [],
   "source": [
    "Total_Data_add_Gender = []\n",
    "\n",
    "for i, value in enumerate(Total_Data_vital_zscore):\n",
    "    concat = []\n",
    "    value1 = value\n",
    "    value2 = onehot_class[i]\n",
    "    concat = np.concatenate((value1, value2), axis = 0)\n",
    "    Total_Data_add_Gender.append(concat)\n",
    "    \n",
    "Total_Data_add_Gender = np.array(Total_Data_add_Gender)"
   ]
  },
  {
   "cell_type": "code",
   "execution_count": 8,
   "metadata": {},
   "outputs": [
    {
     "name": "stdout",
     "output_type": "stream",
     "text": [
      "shape :  (1042, 11)\n",
      "Total_Data :  [ 1.92827419 -1.45859764  1.73562097 -1.38651619  1.94116341  1.19264233\n",
      "  7.25429432 -1.29033225  0.28224018  0.          1.        ]\n"
     ]
    }
   ],
   "source": [
    "print('shape : ', Total_Data_add_Gender.shape)\n",
    "print('Total_Data : ', Total_Data_add_Gender[0])"
   ]
  },
  {
   "cell_type": "code",
   "execution_count": 9,
   "metadata": {},
   "outputs": [
    {
     "data": {
      "text/plain": [
       "array([[<AxesSubplot:title={'center':'0'}>,\n",
       "        <AxesSubplot:title={'center':'1'}>,\n",
       "        <AxesSubplot:title={'center':'2'}>],\n",
       "       [<AxesSubplot:title={'center':'3'}>,\n",
       "        <AxesSubplot:title={'center':'4'}>,\n",
       "        <AxesSubplot:title={'center':'5'}>],\n",
       "       [<AxesSubplot:title={'center':'6'}>,\n",
       "        <AxesSubplot:title={'center':'7'}>,\n",
       "        <AxesSubplot:title={'center':'8'}>],\n",
       "       [<AxesSubplot:title={'center':'9'}>,\n",
       "        <AxesSubplot:title={'center':'10'}>, <AxesSubplot:>]],\n",
       "      dtype=object)"
      ]
     },
     "execution_count": 9,
     "metadata": {},
     "output_type": "execute_result"
    },
    {
     "data": {
      "image/png": "[encoded data removed]",
      "text/plain": [
       "<Figure size 720x576 with 12 Axes>"
      ]
     },
     "metadata": {
      "needs_background": "light"
     },
     "output_type": "display_data"
    }
   ],
   "source": [
    "Total_Data_add_Gender_pd = pd.DataFrame(Total_Data_add_Gender)\n",
    "Total_Data_add_Gender_pd.hist(bins = 50, figsize = (10, 8))"
   ]
  },
  {
   "cell_type": "code",
   "execution_count": 83,
   "metadata": {},
   "outputs": [
    {
     "name": "stdout",
     "output_type": "stream",
     "text": [
      "Cal_vital :  (1042, 9) Cal_Label :  (1042,) Cal_Gender :  (1042,)\n"
     ]
    }
   ],
   "source": [
    "Cal_Total_Data_vital = []\n",
    "Cal_Total_Data_Gender = []\n",
    "Cal_Total_Data_Label = []\n",
    "\n",
    "for i, value1 in enumerate(Cal_Full_Data):\n",
    "    Cal_Total_Data_vital.append(value1[:-2])\n",
    "    Cal_Total_Data_Gender.append(value1[-2])\n",
    "    Cal_Total_Data_Label.append(value1[-1])\n",
    "\n",
    "Cal_Total_Data_vital = np.array(Cal_Total_Data_vital)\n",
    "Cal_Total_Data_Gender = np.array(Cal_Total_Data_Gender)\n",
    "Cal_Total_Data_Label = np.array(Cal_Total_Data_Label)\n",
    "\n",
    "print('Cal_vital : ', Cal_Total_Data_vital.shape, 'Cal_Label : ', Cal_Total_Data_Gender.shape, 'Cal_Gender : ', Cal_Total_Data_Label.shape)"
   ]
  },
  {
   "cell_type": "code",
   "execution_count": 84,
   "metadata": {},
   "outputs": [],
   "source": [
    "np.save('C:/jupyter/Human_Deep/Human_Deep/Data/Cal_Total_Data_Gender_Test', Cal_Total_Data_Gender)\n",
    "np.save('C:/jupyter/Human_Deep/Human_Deep/Data/Cal_Total_Data_Label_Test', Cal_Total_Data_Label)"
   ]
  },
  {
   "cell_type": "code",
   "execution_count": 85,
   "metadata": {},
   "outputs": [
    {
     "data": {
      "text/plain": [
       "array([0., 1., 1., ..., 0., 0., 0.])"
      ]
     },
     "execution_count": 85,
     "metadata": {},
     "output_type": "execute_result"
    }
   ],
   "source": [
    "Cal_Total_Data_Gender"
   ]
  },
  {
   "cell_type": "code",
   "execution_count": 86,
   "metadata": {},
   "outputs": [
    {
     "name": "stdout",
     "output_type": "stream",
     "text": [
      "Total_Gender_Cal :  (1042,)\n",
      "Encodig ...\n",
      "Encodig_class\n"
     ]
    },
    {
     "data": {
      "text/plain": [
       "array([[1., 0.],\n",
       "       [0., 1.],\n",
       "       [0., 1.],\n",
       "       ...,\n",
       "       [1., 0.],\n",
       "       [1., 0.],\n",
       "       [1., 0.]])"
      ]
     },
     "execution_count": 86,
     "metadata": {},
     "output_type": "execute_result"
    }
   ],
   "source": [
    "print('Total_Gender_Cal : ', Cal_Total_Data_Gender.shape)\n",
    "print('Encodig ...')\n",
    "\n",
    "Cal_Total_Data_Gender_reshape = np.array(Cal_Total_Data_Gender).reshape(-1, 1)\n",
    "OneHote = OneHotEncoder()\n",
    "\n",
    "OneHote.fit(Cal_Total_Data_Gender_reshape)\n",
    "onehot_class_2 = OneHote.transform(Cal_Total_Data_Gender_reshape).toarray()\n",
    "\n",
    "print('Encodig_class')\n",
    "onehot_class_2"
   ]
  },
  {
   "cell_type": "code",
   "execution_count": 87,
   "metadata": {},
   "outputs": [
    {
     "data": {
      "text/plain": [
       "(1042, 9)"
      ]
     },
     "execution_count": 87,
     "metadata": {},
     "output_type": "execute_result"
    }
   ],
   "source": [
    "value_list = []\n",
    "\n",
    "for i, value1 in enumerate(Cal_Total_Data_vital):\n",
    "    new_data = []\n",
    "    for j, value2 in enumerate(value1):\n",
    "        if value2 == 0:\n",
    "            new_data.append(0)\n",
    "        else :\n",
    "            _temp_ = (value2 - Total_Data_mean[j]) / Total_Data_std[j]\n",
    "            new_data.append(_temp_)\n",
    "    value_list.append(new_data)\n",
    "\n",
    "value_list = np.array(value_list)\n",
    "value_list.shape"
   ]
  },
  {
   "cell_type": "code",
   "execution_count": 88,
   "metadata": {},
   "outputs": [
    {
     "name": "stdout",
     "output_type": "stream",
     "text": [
      "shape :  (1042, 11)\n",
      "Total_Data :  [ 0.765507    0.252955   -0.63193885 -1.2543553   0.70166014  0.\n",
      "  0.          0.         -0.48356657  1.          0.        ]\n"
     ]
    }
   ],
   "source": [
    "Cal_Total_Data_add_Gender = []\n",
    "\n",
    "for i, value in enumerate(value_list):\n",
    "    concat = []\n",
    "    value1 = value\n",
    "    value2 = onehot_class_2[i]\n",
    "    concat = np.concatenate((value1, value2), axis = 0)\n",
    "    Cal_Total_Data_add_Gender.append(concat)\n",
    "    \n",
    "Cal_Total_Data_add_Gender = np.array(Cal_Total_Data_add_Gender)\n",
    "\n",
    "print('shape : ', Cal_Total_Data_add_Gender.shape)\n",
    "print('Total_Data : ', Cal_Total_Data_add_Gender[0])"
   ]
  },
  {
   "cell_type": "code",
   "execution_count": 89,
   "metadata": {},
   "outputs": [],
   "source": [
    "np.save('C:/jupyter/Human_Deep/Human_Deep/Data/Full_Data_After_Pre_Test', Total_Data_add_Gender)\n",
    "np.save('C:/jupyter/Human_Deep/Human_Deep/Data/Cal_Full_Data_After_Pre_Test', Cal_Total_Data_add_Gender)"
   ]
  },
  {
   "cell_type": "code",
   "execution_count": null,
   "metadata": {},
   "outputs": [],
   "source": []
  }
 ],
 "metadata": {
  "kernelspec": {
   "display_name": "Python 3",
   "language": "python",
   "name": "python3"
  },
  "language_info": {
   "codemirror_mode": {
    "name": "ipython",
    "version": 3
   },
   "file_extension": ".py",
   "mimetype": "text/x-python",
   "name": "python",
   "nbconvert_exporter": "python",
   "pygments_lexer": "ipython3",
   "version": "3.6.12"
  }
 },
 "nbformat": 4,
 "nbformat_minor": 4
}
