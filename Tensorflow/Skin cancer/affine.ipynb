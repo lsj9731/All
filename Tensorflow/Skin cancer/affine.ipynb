{
 "cells": [
  {
   "cell_type": "code",
   "execution_count": 1,
   "metadata": {},
   "outputs": [],
   "source": [
    "import tensorflow as tf\n",
    "import numpy as np\n",
    "import pandas as pd\n",
    "from tensorflow import keras\n",
    "import matplotlib.pyplot as plt\n",
    "from tensorflow.keras.layers import MaxPooling2D, GlobalAveragePooling2D, Conv2D, Dense\n",
    "from tensorflow.keras import layers\n",
    "import keras.backend as K\n",
    "import sys\n",
    "from tensorflow.keras.preprocessing.image import ImageDataGenerator\n",
    "\n",
    "np.set_printoptions(threshold=sys.maxsize)\n",
    "gpus = tf.config.experimental.list_physical_devices('XLA_GPU')\n",
    "tf.config.experimental.set_visible_devices(gpus[0], 'XLA_GPU')"
   ]
  },
  {
   "cell_type": "code",
   "execution_count": 2,
   "metadata": {},
   "outputs": [],
   "source": [
    "import cv2"
   ]
  },
  {
   "cell_type": "code",
   "execution_count": 3,
   "metadata": {},
   "outputs": [],
   "source": [
    "array_data = np.load('array_data.npy')"
   ]
  },
  {
   "cell_type": "code",
   "execution_count": 4,
   "metadata": {},
   "outputs": [],
   "source": [
    "array1 = array_data[:5000]\n",
    "array2 = array_data[5000:]"
   ]
  },
  {
   "cell_type": "code",
   "execution_count": 5,
   "metadata": {},
   "outputs": [
    {
     "name": "stdout",
     "output_type": "stream",
     "text": [
      "(5000,) (5015,)\n"
     ]
    }
   ],
   "source": [
    "print(array1.shape, array2.shape)"
   ]
  },
  {
   "cell_type": "code",
   "execution_count": 6,
   "metadata": {},
   "outputs": [
    {
     "name": "stdout",
     "output_type": "stream",
     "text": [
      "5000 5015\n"
     ]
    }
   ],
   "source": [
    "import os\n",
    "import glob\n",
    "import cv2\n",
    "images1 = [cv2.imread(file) for file in glob.glob('C:/Users/82107/Desktop/dataverse_files/HAM10000_images_part_1/*.jpg')]\n",
    "images2 = [cv2.imread(file) for file in glob.glob('C:/Users/82107/Desktop/dataverse_files/HAM10000_images_part_2/*.jpg')]\n",
    "\n",
    "print(len(images1), len(images2))"
   ]
  },
  {
   "cell_type": "code",
   "execution_count": 7,
   "metadata": {},
   "outputs": [
    {
     "name": "stdout",
     "output_type": "stream",
     "text": [
      "5000 5015\n"
     ]
    }
   ],
   "source": [
    "data_1s = [[image, label] for image, label in zip(images1, array1)]\n",
    "data_2s = [[image, label] for image, label in zip(images2, array2)]\n",
    "\n",
    "print(len(data_1s), len(data_2s))"
   ]
  },
  {
   "cell_type": "code",
   "execution_count": 8,
   "metadata": {},
   "outputs": [],
   "source": [
    "for i in range(5000):\n",
    "    if data_1s[i][1] == 0:\n",
    "        cv2.imwrite('C:/jupyter/Skin cancer/data/1/image{0}.jpg'.format(i), data_1s[i][0])\n",
    "    elif data_1s[i][1] == 1:\n",
    "        cv2.imwrite('C:/jupyter/Skin cancer/data/2/image{0}.jpg'.format(i), data_1s[i][0])\n",
    "    elif data_1s[i][1] == 2:\n",
    "        cv2.imwrite('C:/jupyter/Skin cancer/data/3/image{0}.jpg'.format(i), data_1s[i][0])\n",
    "    elif data_1s[i][1] == 3:\n",
    "        cv2.imwrite('C:/jupyter/Skin cancer/data/4/image{0}.jpg'.format(i), data_1s[i][0])\n",
    "    elif data_1s[i][1] == 4:\n",
    "        cv2.imwrite('C:/jupyter/Skin cancer/data/5/image{0}.jpg'.format(i), data_1s[i][0])\n",
    "    elif data_1s[i][1] == 5:\n",
    "        cv2.imwrite('C:/jupyter/Skin cancer/data/6/image{0}.jpg'.format(i), data_1s[i][0])\n",
    "    elif data_1s[i][1] == 6:\n",
    "        cv2.imwrite('C:/jupyter/Skin cancer/data/7/image{0}.jpg'.format(i), data_1s[i][0])\n",
    "        \n",
    "        \n",
    "for i in range(5015):\n",
    "    if data_2s[i][1] == 0:\n",
    "        cv2.imwrite('C:/jupyter/Skin cancer/data/1/image{0}.jpg'.format(i), data_2s[i][0])\n",
    "    elif data_2s[i][1] == 1:\n",
    "        cv2.imwrite('C:/jupyter/Skin cancer/data/2/image{0}.jpg'.format(i), data_2s[i][0])\n",
    "    elif data_2s[i][1] == 2:\n",
    "        cv2.imwrite('C:/jupyter/Skin cancer/data/3/image{0}.jpg'.format(i), data_2s[i][0])\n",
    "    elif data_2s[i][1] == 3:\n",
    "        cv2.imwrite('C:/jupyter/Skin cancer/data/4/image{0}.jpg'.format(i), data_2s[i][0])\n",
    "    elif data_2s[i][1] == 4:\n",
    "        cv2.imwrite('C:/jupyter/Skin cancer/data/5/image{0}.jpg'.format(i), data_2s[i][0])\n",
    "    elif data_2s[i][1] == 5:\n",
    "        cv2.imwrite('C:/jupyter/Skin cancer/data/6/image{0}.jpg'.format(i), data_2s[i][0])\n",
    "    elif data_2s[i][1] == 6:\n",
    "        cv2.imwrite('C:/jupyter/Skin cancer/data/7/image{0}.jpg'.format(i), data_2s[i][0])"
   ]
  },
  {
   "cell_type": "markdown",
   "metadata": {},
   "source": [
    "# Affine "
   ]
  },
  {
   "cell_type": "code",
   "execution_count": 58,
   "metadata": {},
   "outputs": [],
   "source": [
    "images1 = [cv2.imread(file) for file in glob.glob('C:/jupyter/Skin cancer/data/1/*.jpg')]\n",
    "images2 = [cv2.imread(file) for file in glob.glob('C:/jupyter/Skin cancer/data/2/*.jpg')]\n",
    "images3 = [cv2.imread(file) for file in glob.glob('C:/jupyter/Skin cancer/data/3/*.jpg')]\n",
    "images4 = [cv2.imread(file) for file in glob.glob('C:/jupyter/Skin cancer/data/4/*.jpg')]\n",
    "images5 = [cv2.imread(file) for file in glob.glob('C:/jupyter/Skin cancer/data/5/*.jpg')]\n",
    "images6 = [cv2.imread(file) for file in glob.glob('C:/jupyter/Skin cancer/data/6/*.jpg')]\n",
    "images7 = [cv2.imread(file) for file in glob.glob('C:/jupyter/Skin cancer/data/7/*.jpg')]"
   ]
  },
  {
   "cell_type": "code",
   "execution_count": 10,
   "metadata": {},
   "outputs": [
    {
     "name": "stdout",
     "output_type": "stream",
     "text": [
      "image1 length :  1061\n",
      "image2 length :  4502\n",
      "image3 length :  503\n",
      "image4 length :  322\n",
      "image5 length :  1044\n",
      "image6 length :  112\n",
      "image7 length :  141\n"
     ]
    }
   ],
   "source": [
    "print('image1 length : ', len(images1))\n",
    "print('image2 length : ', len(images2))\n",
    "print('image3 length : ', len(images3))\n",
    "print('image4 length : ', len(images4))\n",
    "print('image5 length : ', len(images5))\n",
    "print('image6 length : ', len(images6))\n",
    "print('image7 length : ', len(images7))"
   ]
  },
  {
   "cell_type": "code",
   "execution_count": 44,
   "metadata": {},
   "outputs": [],
   "source": [
    "for i in range(len(images7)):\n",
    "    img = images7[i]\n",
    "    \n",
    "    a = np.random.randint(1, 4)\n",
    "    \n",
    "    if a == 1:\n",
    "        pts1 = np.float32([[200,50],[400,50],[200,150]])\n",
    "        pts2 = np.float32([[200,100],[400,50],[200, 250]])\n",
    "    elif a == 2:\n",
    "        pts1 = np.float32([[200,300],[400,300],[200,400]])\n",
    "        pts2 = np.float32([[200,200],[400,150],[200, 150]])\n",
    "    elif a == 3:\n",
    "        pts1 = np.float32([[200,300],[400,300],[200,400]])\n",
    "        pts2 = np.float32([[200,200],[400,300],[200,300]])\n",
    "\n",
    "    M = cv2.getAffineTransform(pts1, pts2)\n",
    "    dst = cv2.warpAffine(img, M, (600, 450))\n",
    "\n",
    "    cv2.imwrite('C:/jupyter/Skin cancer/data/7/affine/image{0}.jpg'.format(i), dst)"
   ]
  },
  {
   "cell_type": "code",
   "execution_count": 52,
   "metadata": {},
   "outputs": [],
   "source": [
    "images1_affine = [cv2.imread(file) for file in glob.glob('C:/jupyter/Skin cancer/data/1/affine/*.jpg')]\n",
    "images2_affine = [cv2.imread(file) for file in glob.glob('C:/jupyter/Skin cancer/data/2/affine/*.jpg')]\n",
    "images3_affine = [cv2.imread(file) for file in glob.glob('C:/jupyter/Skin cancer/data/3/affine/*.jpg')]\n",
    "images4_affine = [cv2.imread(file) for file in glob.glob('C:/jupyter/Skin cancer/data/4/affine/*.jpg')]\n",
    "images5_affine = [cv2.imread(file) for file in glob.glob('C:/jupyter/Skin cancer/data/5/affine/*.jpg')]\n",
    "images6_affine = [cv2.imread(file) for file in glob.glob('C:/jupyter/Skin cancer/data/6/affine/*.jpg')]\n",
    "images7_affine = [cv2.imread(file) for file in glob.glob('C:/jupyter/Skin cancer/data/7/affine/*.jpg')]"
   ]
  },
  {
   "cell_type": "code",
   "execution_count": 53,
   "metadata": {},
   "outputs": [
    {
     "name": "stdout",
     "output_type": "stream",
     "text": [
      "image1 length :  1061\n",
      "image2 length :  4502\n",
      "image3 length :  503\n",
      "image4 length :  322\n",
      "image5 length :  1044\n",
      "image6 length :  112\n",
      "image7 length :  141\n"
     ]
    }
   ],
   "source": [
    "print('image1 length : ', len(images1))\n",
    "print('image2 length : ', len(images2))\n",
    "print('image3 length : ', len(images3))\n",
    "print('image4 length : ', len(images4))\n",
    "print('image5 length : ', len(images5))\n",
    "print('image6 length : ', len(images6))\n",
    "print('image7 length : ', len(images7))"
   ]
  },
  {
   "cell_type": "code",
   "execution_count": 54,
   "metadata": {},
   "outputs": [],
   "source": [
    "from PIL import Image\n",
    "\n",
    "def crop_image(images):\n",
    "    image1 = Image.open(images)\n",
    "    \n",
    "    image1 = image1.resize((331, 331))\n",
    "    \n",
    "    return image1"
   ]
  },
  {
   "cell_type": "code",
   "execution_count": 55,
   "metadata": {},
   "outputs": [
    {
     "ename": "AttributeError",
     "evalue": "'numpy.ndarray' object has no attribute 'read'",
     "output_type": "error",
     "traceback": [
      "\u001b[1;31m---------------------------------------------------------------------------\u001b[0m",
      "\u001b[1;31mAttributeError\u001b[0m                            Traceback (most recent call last)",
      "\u001b[1;32mc:\\programdata\\anaconda3\\envs\\testpy36\\lib\\site-packages\\PIL\\Image.py\u001b[0m in \u001b[0;36mopen\u001b[1;34m(fp, mode, formats)\u001b[0m\n\u001b[0;32m   2907\u001b[0m     \u001b[1;32mtry\u001b[0m\u001b[1;33m:\u001b[0m\u001b[1;33m\u001b[0m\u001b[1;33m\u001b[0m\u001b[0m\n\u001b[1;32m-> 2908\u001b[1;33m         \u001b[0mfp\u001b[0m\u001b[1;33m.\u001b[0m\u001b[0mseek\u001b[0m\u001b[1;33m(\u001b[0m\u001b[1;36m0\u001b[0m\u001b[1;33m)\u001b[0m\u001b[1;33m\u001b[0m\u001b[1;33m\u001b[0m\u001b[0m\n\u001b[0m\u001b[0;32m   2909\u001b[0m     \u001b[1;32mexcept\u001b[0m \u001b[1;33m(\u001b[0m\u001b[0mAttributeError\u001b[0m\u001b[1;33m,\u001b[0m \u001b[0mio\u001b[0m\u001b[1;33m.\u001b[0m\u001b[0mUnsupportedOperation\u001b[0m\u001b[1;33m)\u001b[0m\u001b[1;33m:\u001b[0m\u001b[1;33m\u001b[0m\u001b[1;33m\u001b[0m\u001b[0m\n",
      "\u001b[1;31mAttributeError\u001b[0m: 'numpy.ndarray' object has no attribute 'seek'",
      "\nDuring handling of the above exception, another exception occurred:\n",
      "\u001b[1;31mAttributeError\u001b[0m                            Traceback (most recent call last)",
      "\u001b[1;32m<ipython-input-55-c1e092359b54>\u001b[0m in \u001b[0;36m<module>\u001b[1;34m\u001b[0m\n\u001b[0;32m      1\u001b[0m \u001b[1;32mfor\u001b[0m \u001b[0mi\u001b[0m \u001b[1;32min\u001b[0m \u001b[0mrange\u001b[0m\u001b[1;33m(\u001b[0m\u001b[0mlen\u001b[0m\u001b[1;33m(\u001b[0m\u001b[0mimages1\u001b[0m\u001b[1;33m)\u001b[0m\u001b[1;33m)\u001b[0m\u001b[1;33m:\u001b[0m\u001b[1;33m\u001b[0m\u001b[1;33m\u001b[0m\u001b[0m\n\u001b[0;32m      2\u001b[0m \u001b[1;33m\u001b[0m\u001b[0m\n\u001b[1;32m----> 3\u001b[1;33m     \u001b[0mimage\u001b[0m \u001b[1;33m=\u001b[0m \u001b[0mcrop_image\u001b[0m\u001b[1;33m(\u001b[0m\u001b[0mimages1\u001b[0m\u001b[1;33m[\u001b[0m\u001b[0mi\u001b[0m\u001b[1;33m]\u001b[0m\u001b[1;33m)\u001b[0m\u001b[1;33m\u001b[0m\u001b[1;33m\u001b[0m\u001b[0m\n\u001b[0m\u001b[0;32m      4\u001b[0m \u001b[1;33m\u001b[0m\u001b[0m\n\u001b[0;32m      5\u001b[0m     \u001b[0mcv2\u001b[0m\u001b[1;33m.\u001b[0m\u001b[0mimwrite\u001b[0m\u001b[1;33m(\u001b[0m\u001b[1;34m'C:/jupyter/Skin cancer/data/1/resize/image{0}.jpg'\u001b[0m\u001b[1;33m.\u001b[0m\u001b[0mformat\u001b[0m\u001b[1;33m(\u001b[0m\u001b[0mi\u001b[0m\u001b[1;33m)\u001b[0m\u001b[1;33m,\u001b[0m \u001b[0mimage\u001b[0m\u001b[1;33m)\u001b[0m\u001b[1;33m\u001b[0m\u001b[1;33m\u001b[0m\u001b[0m\n",
      "\u001b[1;32m<ipython-input-54-2cfb948e3e33>\u001b[0m in \u001b[0;36mcrop_image\u001b[1;34m(images)\u001b[0m\n\u001b[0;32m      2\u001b[0m \u001b[1;33m\u001b[0m\u001b[0m\n\u001b[0;32m      3\u001b[0m \u001b[1;32mdef\u001b[0m \u001b[0mcrop_image\u001b[0m\u001b[1;33m(\u001b[0m\u001b[0mimages\u001b[0m\u001b[1;33m)\u001b[0m\u001b[1;33m:\u001b[0m\u001b[1;33m\u001b[0m\u001b[1;33m\u001b[0m\u001b[0m\n\u001b[1;32m----> 4\u001b[1;33m     \u001b[0mimage1\u001b[0m \u001b[1;33m=\u001b[0m \u001b[0mImage\u001b[0m\u001b[1;33m.\u001b[0m\u001b[0mopen\u001b[0m\u001b[1;33m(\u001b[0m\u001b[0mimages\u001b[0m\u001b[1;33m)\u001b[0m\u001b[1;33m\u001b[0m\u001b[1;33m\u001b[0m\u001b[0m\n\u001b[0m\u001b[0;32m      5\u001b[0m \u001b[1;33m\u001b[0m\u001b[0m\n\u001b[0;32m      6\u001b[0m     \u001b[0mimage1\u001b[0m \u001b[1;33m=\u001b[0m \u001b[0mimage1\u001b[0m\u001b[1;33m.\u001b[0m\u001b[0mresize\u001b[0m\u001b[1;33m(\u001b[0m\u001b[1;33m(\u001b[0m\u001b[1;36m331\u001b[0m\u001b[1;33m,\u001b[0m \u001b[1;36m331\u001b[0m\u001b[1;33m)\u001b[0m\u001b[1;33m)\u001b[0m\u001b[1;33m\u001b[0m\u001b[1;33m\u001b[0m\u001b[0m\n",
      "\u001b[1;32mc:\\programdata\\anaconda3\\envs\\testpy36\\lib\\site-packages\\PIL\\Image.py\u001b[0m in \u001b[0;36mopen\u001b[1;34m(fp, mode, formats)\u001b[0m\n\u001b[0;32m   2908\u001b[0m         \u001b[0mfp\u001b[0m\u001b[1;33m.\u001b[0m\u001b[0mseek\u001b[0m\u001b[1;33m(\u001b[0m\u001b[1;36m0\u001b[0m\u001b[1;33m)\u001b[0m\u001b[1;33m\u001b[0m\u001b[1;33m\u001b[0m\u001b[0m\n\u001b[0;32m   2909\u001b[0m     \u001b[1;32mexcept\u001b[0m \u001b[1;33m(\u001b[0m\u001b[0mAttributeError\u001b[0m\u001b[1;33m,\u001b[0m \u001b[0mio\u001b[0m\u001b[1;33m.\u001b[0m\u001b[0mUnsupportedOperation\u001b[0m\u001b[1;33m)\u001b[0m\u001b[1;33m:\u001b[0m\u001b[1;33m\u001b[0m\u001b[1;33m\u001b[0m\u001b[0m\n\u001b[1;32m-> 2910\u001b[1;33m         \u001b[0mfp\u001b[0m \u001b[1;33m=\u001b[0m \u001b[0mio\u001b[0m\u001b[1;33m.\u001b[0m\u001b[0mBytesIO\u001b[0m\u001b[1;33m(\u001b[0m\u001b[0mfp\u001b[0m\u001b[1;33m.\u001b[0m\u001b[0mread\u001b[0m\u001b[1;33m(\u001b[0m\u001b[1;33m)\u001b[0m\u001b[1;33m)\u001b[0m\u001b[1;33m\u001b[0m\u001b[1;33m\u001b[0m\u001b[0m\n\u001b[0m\u001b[0;32m   2911\u001b[0m         \u001b[0mexclusive_fp\u001b[0m \u001b[1;33m=\u001b[0m \u001b[1;32mTrue\u001b[0m\u001b[1;33m\u001b[0m\u001b[1;33m\u001b[0m\u001b[0m\n\u001b[0;32m   2912\u001b[0m \u001b[1;33m\u001b[0m\u001b[0m\n",
      "\u001b[1;31mAttributeError\u001b[0m: 'numpy.ndarray' object has no attribute 'read'"
     ]
    }
   ],
   "source": [
    "for i in range(len(images1)):\n",
    "    \n",
    "    image = crop_image(images1[i])\n",
    "    \n",
    "    cv2.imwrite('C:/jupyter/Skin cancer/data/1/resize/image{0}.jpg'.format(i), image)"
   ]
  },
  {
   "cell_type": "code",
   "execution_count": null,
   "metadata": {},
   "outputs": [],
   "source": []
  }
 ],
 "metadata": {
  "kernelspec": {
   "display_name": "Python 3",
   "language": "python",
   "name": "python3"
  },
  "language_info": {
   "codemirror_mode": {
    "name": "ipython",
    "version": 3
   },
   "file_extension": ".py",
   "mimetype": "text/x-python",
   "name": "python",
   "nbconvert_exporter": "python",
   "pygments_lexer": "ipython3",
   "version": "3.6.12"
  }
 },
 "nbformat": 4,
 "nbformat_minor": 4
}
