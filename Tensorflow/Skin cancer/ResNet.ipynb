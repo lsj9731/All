{
 "cells": [
  {
   "cell_type": "code",
   "execution_count": 1,
   "metadata": {},
   "outputs": [],
   "source": [
    "import tensorflow as tf\n",
    "from tensorflow.keras.datasets import cifar100\n",
    "import numpy as np\n",
    "import pandas as pd\n",
    "from keras.utils import to_categorical\n",
    "\n",
    "backend = tf.keras.backend\n",
    "layers = tf.keras.layers"
   ]
  },
  {
   "cell_type": "code",
   "execution_count": 2,
   "metadata": {},
   "outputs": [],
   "source": [
    "(X_train, y_train), (X_test, y_test) = cifar100.load_data()\n",
    "\n",
    "X_train = X_train.astype('float32') / 255.0\n",
    "X_test = X_test.astype('float32') / 255.0\n",
    "\n",
    "\n",
    "X_train, X_valid = X_train[5000:], X_train[:5000]\n",
    "y_train, y_valid = y_train[5000:], y_train[:5000]"
   ]
  },
  {
   "cell_type": "markdown",
   "metadata": {},
   "source": [
    "# Make identity Block"
   ]
  },
  {
   "cell_type": "code",
   "execution_count": 3,
   "metadata": {},
   "outputs": [],
   "source": [
    "class Identity_Block(tf.keras.Model):\n",
    "    def __init__(self, filters, dilation = 1):\n",
    "        super(Identity_Block, self).__init__(name='')\n",
    "    \n",
    "        filters1, filters2, filters3 = filters\n",
    "        \n",
    "        \n",
    "        self.conv1 = tf.keras.layers.Conv2D(filters1, kernel_size = (1, 1), strides = (1, 1)\n",
    "                                            , padding='same')\n",
    "        self.conv2 = tf.keras.layers.Conv2D(filters2, kernel_size = (3, 3), strides = (1, 1)\n",
    "                                            , dilation_rate = 1, padding='same')\n",
    "        self.conv3 = tf.keras.layers.Conv2D(filters3, kernel_size = (1, 1), strides = (1, 1)\n",
    "                                            , padding='same')\n",
    "        \n",
    "        self.bn1 = tf.keras.layers.BatchNormalization()\n",
    "        self.bn2 = tf.keras.layers.BatchNormalization()\n",
    "        self.bn3 = tf.keras.layers.BatchNormalization()\n",
    "        \n",
    "        self.relu = tf.keras.layers.Activation('relu')\n",
    "        self.add = tf.keras.layers.Add()\n",
    "        \n",
    "    def call(self, inputs, training = False):\n",
    "        x = self.conv1(inputs)\n",
    "        x = self.bn1(x, training = training)\n",
    "        x = self.relu(x)\n",
    "        \n",
    "        x = self.conv2(x)\n",
    "        x = self.bn2(x, training=training)\n",
    "        x = self.relu(x)\n",
    "        \n",
    "        x = self.conv3(x)\n",
    "        x = self.bn3(x, training=training)\n",
    "        \n",
    "        x = self.add([x, inputs])\n",
    "        x = self.relu(x)\n",
    "        \n",
    "        return x"
   ]
  },
  {
   "cell_type": "markdown",
   "metadata": {},
   "source": [
    "# Make Convolution Block"
   ]
  },
  {
   "cell_type": "code",
   "execution_count": 4,
   "metadata": {},
   "outputs": [],
   "source": [
    "class Conv_Block(tf.keras.Model):\n",
    "    def __init__(self, filters, strides = (2, 2), dilation = 1):\n",
    "        super(Conv_Block, self).__init__()\n",
    "        \n",
    "        filters1, filters2, filters3 = filters\n",
    "            \n",
    "        self.conv1 = tf.keras.layers.Conv2D(filters1, kernel_size = (1, 1), strides = strides\n",
    "                                            , padding='same')\n",
    "        self.conv2 = tf.keras.layers.Conv2D(filters2, kernel_size = (3, 3), strides = (1, 1)\n",
    "                                            , dilation_rate = dilation, padding='same')\n",
    "        self.conv3 = tf.keras.layers.Conv2D(filters3, kernel_size = (1, 1), strides = (1, 1)\n",
    "                                            , padding='same')  \n",
    "        self.short_cut = tf.keras.layers.Conv2D(filters3, kernel_size = (1, 1)\n",
    "                                               , strides = strides, padding = 'same')\n",
    "        \n",
    "        self.bn1 = tf.keras.layers.BatchNormalization()\n",
    "        self.bn2 = tf.keras.layers.BatchNormalization()\n",
    "        self.bn3 = tf.keras.layers.BatchNormalization()\n",
    "        self.bn4 = tf.keras.layers.BatchNormalization()\n",
    "        \n",
    "        self.relu = tf.keras.layers.Activation('relu')\n",
    "        self.add = tf.keras.layers.Add()\n",
    "        \n",
    "    def call(self, inputs):\n",
    "        x = self.conv1(inputs)\n",
    "        x = self.bn1(x)\n",
    "        x = self.relu(x)\n",
    "        \n",
    "        x = self.conv2(x)\n",
    "        x = self.bn2(x)\n",
    "        x = self.relu(x)\n",
    "        \n",
    "        x = self.conv3(x)\n",
    "        x = self.bn3(x)\n",
    "        \n",
    "        short_cut = self.short_cut(inputs)\n",
    "        short_cut = self.bn4(short_cut)\n",
    "        \n",
    "        x = self.add([x, short_cut])\n",
    "        x = self.relu(x)\n",
    "        \n",
    "        return x"
   ]
  },
  {
   "cell_type": "markdown",
   "metadata": {},
   "source": [
    "# ResNet Class"
   ]
  },
  {
   "cell_type": "code",
   "execution_count": 5,
   "metadata": {},
   "outputs": [],
   "source": [
    "class ResNet(tf.keras.Model):\n",
    "    def __init__(self, num_classes):\n",
    "        super(ResNet, self).__init__()\n",
    "        \n",
    "        self.conv1 = tf.keras.layers.Conv2D(64, kernel_size = (7, 7), strides = (1, 1), padding='same')\n",
    "        self.bn = tf.keras.layers.BatchNormalization()\n",
    "        self.relu = tf.keras.layers.Activation('relu')\n",
    "        self.max_pool = tf.keras.layers.MaxPool2D((2, 2))\n",
    "        \n",
    "        self.conv2 = Conv_Block([64, 64, 256], strides = (1, 1))\n",
    "        self.conv3 = Conv_Block([128, 128, 512])\n",
    "        self.conv4 = Conv_Block([256, 256, 1024])\n",
    "        self.conv5 = Conv_Block([512, 512, 2048])\n",
    "        \n",
    "        self.identity_1 = Identity_Block([64, 64, 256])\n",
    "        self.identity_2 = Identity_Block([128, 128, 512])\n",
    "        self.identity_3 = Identity_Block([256, 256, 1024])\n",
    "        self.identity_4 = Identity_Block([512, 512, 2048])\n",
    "        \n",
    "        self.global_pool = tf.keras.layers.GlobalMaxPool2D()\n",
    "        self.classifier = tf.keras.layers.Dense(num_classes, activation='softmax')\n",
    "        \n",
    "        \n",
    "        \n",
    "        \n",
    "    def call(self, inputs):\n",
    "        # 1차 Conv\n",
    "        x = self.conv1(inputs)\n",
    "        x = self.bn(x)\n",
    "        x = self.relu(x)\n",
    "        x = self.max_pool(x)\n",
    "        \n",
    "        # Block 1\n",
    "        x = self.conv2(x)\n",
    "        x = self.identity_1(x)\n",
    "        x = self.identity_1(x)\n",
    "        \n",
    "        # Block 2\n",
    "        x = self.conv3(x)\n",
    "        x = self.identity_2(x)\n",
    "        x = self.identity_2(x)\n",
    "        x = self.identity_2(x)\n",
    "        \n",
    "        # Block 3\n",
    "        x = self.conv4(x)\n",
    "        x = self.identity_3(x)\n",
    "        x = self.identity_3(x)\n",
    "        x = self.identity_3(x)\n",
    "        x = self.identity_3(x)\n",
    "        x = self.identity_3(x)\n",
    "        \n",
    "        # Block 4\n",
    "        x = self.conv5(x)\n",
    "        x = self.identity_4(x)\n",
    "        x = self.identity_4(x)\n",
    "        \n",
    "        x = self.global_pool(x)\n",
    "        \n",
    "        return self.classifier(x)"
   ]
  },
  {
   "cell_type": "code",
   "execution_count": 6,
   "metadata": {},
   "outputs": [],
   "source": [
    "model = ResNet(100)"
   ]
  },
  {
   "cell_type": "code",
   "execution_count": 1,
   "metadata": {},
   "outputs": [
    {
     "ename": "NameError",
     "evalue": "name 'model' is not defined",
     "output_type": "error",
     "traceback": [
      "\u001b[1;31m---------------------------------------------------------------------------\u001b[0m",
      "\u001b[1;31mNameError\u001b[0m                                 Traceback (most recent call last)",
      "\u001b[1;32m<ipython-input-1-4593667ff551>\u001b[0m in \u001b[0;36m<module>\u001b[1;34m\u001b[0m\n\u001b[1;32m----> 1\u001b[1;33m model.compile(optimizer='adam', \n\u001b[0m\u001b[0;32m      2\u001b[0m               \u001b[0mloss\u001b[0m\u001b[1;33m=\u001b[0m\u001b[0mtf\u001b[0m\u001b[1;33m.\u001b[0m\u001b[0mkeras\u001b[0m\u001b[1;33m.\u001b[0m\u001b[0mlosses\u001b[0m\u001b[1;33m.\u001b[0m\u001b[0mSparseCategoricalCrossentropy\u001b[0m\u001b[1;33m(\u001b[0m\u001b[0mfrom_logits\u001b[0m\u001b[1;33m=\u001b[0m\u001b[1;32mTrue\u001b[0m\u001b[1;33m)\u001b[0m\u001b[1;33m,\u001b[0m\u001b[1;33m\u001b[0m\u001b[1;33m\u001b[0m\u001b[0m\n\u001b[0;32m      3\u001b[0m               metrics=['accuracy'])\n",
      "\u001b[1;31mNameError\u001b[0m: name 'model' is not defined"
     ]
    }
   ],
   "source": [
    "model.compile(optimizer='adam', \n",
    "              loss=tf.keras.losses.SparseCategoricalCrossentropy(from_logits=True), \n",
    "              metrics=['accuracy'])"
   ]
  },
  {
   "cell_type": "code",
   "execution_count": 2,
   "metadata": {},
   "outputs": [
    {
     "ename": "NameError",
     "evalue": "name 'tf' is not defined",
     "output_type": "error",
     "traceback": [
      "\u001b[1;31m---------------------------------------------------------------------------\u001b[0m",
      "\u001b[1;31mNameError\u001b[0m                                 Traceback (most recent call last)",
      "\u001b[1;32m<ipython-input-2-3cc6f5f7fd52>\u001b[0m in \u001b[0;36m<module>\u001b[1;34m\u001b[0m\n\u001b[1;32m----> 1\u001b[1;33m \u001b[0mearly_stopp\u001b[0m \u001b[1;33m=\u001b[0m \u001b[0mtf\u001b[0m\u001b[1;33m.\u001b[0m\u001b[0mkeras\u001b[0m\u001b[1;33m.\u001b[0m\u001b[0mcallbacks\u001b[0m\u001b[1;33m.\u001b[0m\u001b[0mEarlyStopping\u001b[0m\u001b[1;33m(\u001b[0m\u001b[0mpatience\u001b[0m\u001b[1;33m=\u001b[0m\u001b[1;36m10\u001b[0m\u001b[1;33m)\u001b[0m\u001b[1;33m\u001b[0m\u001b[1;33m\u001b[0m\u001b[0m\n\u001b[0m\u001b[0;32m      2\u001b[0m \u001b[1;33m\u001b[0m\u001b[0m\n\u001b[0;32m      3\u001b[0m \u001b[0mmodel\u001b[0m\u001b[1;33m.\u001b[0m\u001b[0mfit\u001b[0m\u001b[1;33m(\u001b[0m\u001b[0mX_train\u001b[0m\u001b[1;33m,\u001b[0m \u001b[0my_train\u001b[0m\u001b[1;33m,\u001b[0m \u001b[0mepochs\u001b[0m \u001b[1;33m=\u001b[0m \u001b[1;36m200\u001b[0m\u001b[1;33m,\u001b[0m \u001b[0mvalidation_data\u001b[0m\u001b[1;33m=\u001b[0m\u001b[1;33m(\u001b[0m\u001b[0mX_valid\u001b[0m\u001b[1;33m,\u001b[0m \u001b[0my_valid\u001b[0m\u001b[1;33m)\u001b[0m\u001b[1;33m,\u001b[0m \u001b[0mbatch_size\u001b[0m \u001b[1;33m=\u001b[0m \u001b[1;36m64\u001b[0m\u001b[1;33m,\u001b[0m \u001b[0mverbose\u001b[0m \u001b[1;33m=\u001b[0m \u001b[1;36m2\u001b[0m\u001b[1;33m,\u001b[0m \u001b[0mcallbacks\u001b[0m \u001b[1;33m=\u001b[0m \u001b[0mearly_stopp\u001b[0m\u001b[1;33m)\u001b[0m\u001b[1;33m\u001b[0m\u001b[1;33m\u001b[0m\u001b[0m\n",
      "\u001b[1;31mNameError\u001b[0m: name 'tf' is not defined"
     ]
    }
   ],
   "source": [
    "early_stopp = tf.keras.callbacks.EarlyStopping(patience=10)\n",
    "\n",
    "model.fit(X_train, y_train, epochs = 200, validation_data=(X_valid, y_valid), batch_size = 64, verbose = 2, callbacks = early_stopp)"
   ]
  },
  {
   "cell_type": "code",
   "execution_count": 9,
   "metadata": {},
   "outputs": [
    {
     "name": "stdout",
     "output_type": "stream",
     "text": [
      "313/313 - 4s - loss: 6.7217 - accuracy: 0.3041\n"
     ]
    },
    {
     "data": {
      "text/plain": [
       "[6.721670150756836, 0.30410000681877136]"
      ]
     },
     "execution_count": 9,
     "metadata": {},
     "output_type": "execute_result"
    }
   ],
   "source": [
    "model.evaluate(X_test, y_test, verbose = 2)"
   ]
  },
  {
   "cell_type": "code",
   "execution_count": null,
   "metadata": {},
   "outputs": [],
   "source": []
  }
 ],
 "metadata": {
  "kernelspec": {
   "display_name": "Python 3",
   "language": "python",
   "name": "python3"
  },
  "language_info": {
   "codemirror_mode": {
    "name": "ipython",
    "version": 3
   },
   "file_extension": ".py",
   "mimetype": "text/x-python",
   "name": "python",
   "nbconvert_exporter": "python",
   "pygments_lexer": "ipython3",
   "version": "3.6.12"
  }
 },
 "nbformat": 4,
 "nbformat_minor": 4
}
