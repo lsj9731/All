{
 "cells": [
  {
   "cell_type": "code",
   "execution_count": 1,
   "metadata": {},
   "outputs": [],
   "source": [
    "import tensorflow as tf\n",
    "import numpy as np\n",
    "import pandas as pd\n",
    "from tensorflow import keras\n",
    "import matplotlib.pyplot as plt\n",
    "from tensorflow.keras.layers import MaxPooling2D, GlobalAveragePooling2D, Conv2D, Dense\n",
    "from tensorflow.keras import layers\n",
    "import keras.backend as K\n",
    "import sys\n",
    "from tensorflow.keras.datasets import cifar10\n",
    "import glob\n",
    "from PIL import Image\n",
    "\n",
    "np.set_printoptions(threshold=sys.maxsize)\n",
    "gpus = tf.config.experimental.list_physical_devices('XLA_GPU')\n",
    "tf.config.experimental.set_visible_devices(gpus[0], 'XLA_GPU')"
   ]
  },
  {
   "cell_type": "code",
   "execution_count": 2,
   "metadata": {},
   "outputs": [],
   "source": [
    "images1 = glob.glob(\"C:/jupyter/Skin cancer/data/1/*.jpg\")\n",
    "images2 = glob.glob(\"C:/jupyter/Skin cancer/data/2/*.jpg\")\n",
    "images3 = glob.glob(\"C:/jupyter/Skin cancer/data/3/*.jpg\")\n",
    "images4 = glob.glob(\"C:/jupyter/Skin cancer/data/4/*.jpg\")\n",
    "images5 = glob.glob(\"C:/jupyter/Skin cancer/data/5/*.jpg\")\n",
    "images6 = glob.glob(\"C:/jupyter/Skin cancer/data/6/*.jpg\")\n",
    "images7 = glob.glob(\"C:/jupyter/Skin cancer/data/7/*.jpg\")\n",
    "\n",
    "\n",
    "affine1 = glob.glob(\"C:/jupyter/Skin cancer/data/1/affine/*.jpg\")\n",
    "affine2 = glob.glob(\"C:/jupyter/Skin cancer/data/2/affine/*.jpg\")\n",
    "affine3 = glob.glob(\"C:/jupyter/Skin cancer/data/3/affine/*.jpg\")\n",
    "affine4 = glob.glob(\"C:/jupyter/Skin cancer/data/4/affine/*.jpg\")\n",
    "affine5 = glob.glob(\"C:/jupyter/Skin cancer/data/5/affine/*.jpg\")\n",
    "affine6 = glob.glob(\"C:/jupyter/Skin cancer/data/6/affine/*.jpg\")\n",
    "affine7 = glob.glob(\"C:/jupyter/Skin cancer/data/7/affine/*.jpg\")"
   ]
  },
  {
   "cell_type": "code",
   "execution_count": 12,
   "metadata": {},
   "outputs": [
    {
     "data": {
      "text/plain": [
       "1061"
      ]
     },
     "execution_count": 12,
     "metadata": {},
     "output_type": "execute_result"
    }
   ],
   "source": [
    "len(images1)"
   ]
  },
  {
   "cell_type": "code",
   "execution_count": 9,
   "metadata": {},
   "outputs": [],
   "source": [
    "def crop_image(images):\n",
    "    \n",
    "    image1 = Image.open(images)\n",
    "    \n",
    "    image1 = image1.resize((331, 331))\n",
    "    \n",
    "    image1 = np.array(image1)\n",
    "    \n",
    "    return image1"
   ]
  },
  {
   "cell_type": "code",
   "execution_count": 15,
   "metadata": {},
   "outputs": [],
   "source": [
    "import cv2\n",
    "\n",
    "for i in range(len(images3)):\n",
    "    image = crop_image(images3[i])\n",
    "    image = cv2.cvtColor(image, cv2.COLOR_RGB2BGR)\n",
    "    cv2.imwrite('C:/jupyter/Skin cancer/data/3/resize/image{0}.jpg'.format(i), image)\n",
    "    \n",
    "for i in range(len(affine3)):\n",
    "    image = crop_image(affine3[i])\n",
    "    image = cv2.cvtColor(image, cv2.COLOR_RGB2BGR)\n",
    "    cv2.imwrite('C:/jupyter/Skin cancer/data/3/resize/image{0}.jpg'.format(len(images3) + i), image)\n",
    "    \n",
    "    \n",
    "    \n",
    "    \n",
    "for i in range(len(images4)):\n",
    "    image = crop_image(images4[i])\n",
    "    image = cv2.cvtColor(image, cv2.COLOR_RGB2BGR)\n",
    "    cv2.imwrite('C:/jupyter/Skin cancer/data/4/resize/image{0}.jpg'.format(i), image)\n",
    "    \n",
    "for i in range(len(affine4)):\n",
    "    image = crop_image(affine4[i])\n",
    "    image = cv2.cvtColor(image, cv2.COLOR_RGB2BGR)\n",
    "    cv2.imwrite('C:/jupyter/Skin cancer/data/4/resize/image{0}.jpg'.format(len(images4) + i), image)\n",
    "    \n",
    "    \n",
    "    \n",
    "    \n",
    "for i in range(len(images5)):\n",
    "    image = crop_image(images5[i])\n",
    "    image = cv2.cvtColor(image, cv2.COLOR_RGB2BGR)\n",
    "    cv2.imwrite('C:/jupyter/Skin cancer/data/5/resize/image{0}.jpg'.format(i), image)\n",
    "    \n",
    "for i in range(len(affine5)):\n",
    "    image = crop_image(affine5[i])\n",
    "    image = cv2.cvtColor(image, cv2.COLOR_RGB2BGR)\n",
    "    cv2.imwrite('C:/jupyter/Skin cancer/data/5/resize/image{0}.jpg'.format(len(images5) + i), image)\n",
    "    \n",
    "    \n",
    "    \n",
    "    \n",
    "    \n",
    "for i in range(len(images6)):\n",
    "    image = crop_image(images6[i])\n",
    "    image = cv2.cvtColor(image, cv2.COLOR_RGB2BGR)\n",
    "    cv2.imwrite('C:/jupyter/Skin cancer/data/6/resize/image{0}.jpg'.format(i), image)\n",
    "    \n",
    "for i in range(len(affine6)):\n",
    "    image = crop_image(affine6[i])\n",
    "    image = cv2.cvtColor(image, cv2.COLOR_RGB2BGR)\n",
    "    cv2.imwrite('C:/jupyter/Skin cancer/data/6/resize/image{0}.jpg'.format(len(images6) + i), image)\n",
    "    \n",
    "    \n",
    "    \n",
    "    \n",
    "for i in range(len(images7)):\n",
    "    image = crop_image(images7[i])\n",
    "    image = cv2.cvtColor(image, cv2.COLOR_RGB2BGR)\n",
    "    cv2.imwrite('C:/jupyter/Skin cancer/data/7/resize/image{0}.jpg'.format(i), image)\n",
    "    \n",
    "for i in range(len(affine7)):\n",
    "    image = crop_image(affine7[i])\n",
    "    image = cv2.cvtColor(image, cv2.COLOR_RGB2BGR)\n",
    "    cv2.imwrite('C:/jupyter/Skin cancer/data/7/resize/image{0}.jpg'.format(len(images7) + i), image)"
   ]
  },
  {
   "cell_type": "markdown",
   "metadata": {},
   "source": [
    "# image -> np array"
   ]
  },
  {
   "cell_type": "code",
   "execution_count": 10,
   "metadata": {},
   "outputs": [],
   "source": [
    "import cv2\n",
    "\n",
    "images1 = [cv2.imread(file) for file in glob.glob('C:/jupyter/Skin cancer/data/1/resize/*.jpg')]\n",
    "images2 = [cv2.imread(file) for file in glob.glob('C:/jupyter/Skin cancer/data/2/resize/*.jpg')]\n",
    "images3 = [cv2.imread(file) for file in glob.glob('C:/jupyter/Skin cancer/data/3/resize/*.jpg')]\n",
    "images4 = [cv2.imread(file) for file in glob.glob('C:/jupyter/Skin cancer/data/4/resize/*.jpg')]\n",
    "images5 = [cv2.imread(file) for file in glob.glob('C:/jupyter/Skin cancer/data/5/resize/*.jpg')]\n",
    "images6 = [cv2.imread(file) for file in glob.glob('C:/jupyter/Skin cancer/data/6/resize/*.jpg')]\n",
    "images7 = [cv2.imread(file) for file in glob.glob('C:/jupyter/Skin cancer/data/7/resize/*.jpg')]"
   ]
  },
  {
   "cell_type": "code",
   "execution_count": 15,
   "metadata": {},
   "outputs": [],
   "source": [
    "img_np1 = np.array(images1)\n",
    "img_np2 = np.array(images2)\n",
    "img_np3 = np.array(images3)\n",
    "img_np4 = np.array(images4)\n",
    "img_np5 = np.array(images5)\n",
    "img_np6 = np.array(images6)\n",
    "img_np7 = np.array(images7)"
   ]
  },
  {
   "cell_type": "code",
   "execution_count": 16,
   "metadata": {},
   "outputs": [
    {
     "name": "stdout",
     "output_type": "stream",
     "text": [
      "(2122, 331, 331, 3) (9004, 331, 331, 3) (1006, 331, 331, 3) (644, 331, 331, 3) (2088, 331, 331, 3) (224, 331, 331, 3) (282, 331, 331, 3)\n"
     ]
    }
   ],
   "source": [
    "print(img_np1.shape, img_np2.shape, img_np3.shape, img_np4.shape, img_np5.shape, img_np6.shape, img_np7.shape)"
   ]
  },
  {
   "cell_type": "code",
   "execution_count": 17,
   "metadata": {},
   "outputs": [],
   "source": [
    "label1 = [0] * 2122\n",
    "label2 = [1] * 9004\n",
    "label3 = [2] * 1006\n",
    "label4 = [3] * 664\n",
    "label5 = [4] * 2088\n",
    "label6 = [5] * 224\n",
    "label7 = [6] * 282"
   ]
  },
  {
   "cell_type": "code",
   "execution_count": 18,
   "metadata": {},
   "outputs": [],
   "source": [
    "np.save('./data/pre_ok_data/image1', img_np1)\n",
    "np.save('./data/pre_ok_data/image2', img_np2)\n",
    "np.save('./data/pre_ok_data/image3', img_np3)\n",
    "np.save('./data/pre_ok_data/image4', img_np4)\n",
    "np.save('./data/pre_ok_data/image5', img_np5)\n",
    "np.save('./data/pre_ok_data/image6', img_np6)\n",
    "np.save('./data/pre_ok_data/image7', img_np7)\n",
    "\n",
    "np.save('./data/pre_ok_data/label1', label1)\n",
    "np.save('./data/pre_ok_data/label2', label2)\n",
    "np.save('./data/pre_ok_data/label3', label3)\n",
    "np.save('./data/pre_ok_data/label4', label4)\n",
    "np.save('./data/pre_ok_data/label5', label5)\n",
    "np.save('./data/pre_ok_data/label6', label6)\n",
    "np.save('./data/pre_ok_data/label7', label7)"
   ]
  },
  {
   "cell_type": "code",
   "execution_count": 19,
   "metadata": {},
   "outputs": [],
   "source": [
    "task0 = [[image, label] for image, label in zip(img_np1, label1)]\n",
    "task1 = [[image, label] for image, label in zip(img_np2, label2)]\n",
    "task2 = [[image, label] for image, label in zip(img_np3, label3)]\n",
    "task3 = [[image, label] for image, label in zip(img_np4, label4)]\n",
    "task4 = [[image, label] for image, label in zip(img_np5, label5)]\n",
    "task5 = [[image, label] for image, label in zip(img_np6, label6)]\n",
    "task6 = [[image, label] for image, label in zip(img_np7, label7)]"
   ]
  },
  {
   "cell_type": "code",
   "execution_count": 21,
   "metadata": {},
   "outputs": [
    {
     "data": {
      "text/plain": [
       "(2122, 2)"
      ]
     },
     "execution_count": 21,
     "metadata": {},
     "output_type": "execute_result"
    }
   ],
   "source": [
    "task0 = np.array(task0)\n",
    "task1 = np.array(task1)\n",
    "task2 = np.array(task2)\n",
    "task3 = np.array(task3)\n",
    "task4 = np.array(task4)\n",
    "task5 = np.array(task5)\n",
    "task6 = np.array(task6)"
   ]
  },
  {
   "cell_type": "code",
   "execution_count": 23,
   "metadata": {},
   "outputs": [],
   "source": [
    "from tensorflow.keras.preprocessing.image import ImageDataGenerator\n",
    "\n",
    "data_g = ImageDataGenerator(horizontal_flip=True, \n",
    "                           vertical_flip=True,\n",
    "                           rotation_range=270,\n",
    "                           zoom_range=[0.7, 1.0], \n",
    "                           brightness_range=[0.7, 1.0])"
   ]
  },
  {
   "cell_type": "code",
   "execution_count": 54,
   "metadata": {},
   "outputs": [
    {
     "name": "stdout",
     "output_type": "stream",
     "text": [
      "train_shape :  (282, 331, 331, 3) label_shape :  (282,)\n"
     ]
    }
   ],
   "source": [
    "train = []\n",
    "label = []\n",
    "\n",
    "for i in range(len(task6)):\n",
    "    train.append(task6[i][0])\n",
    "    label.append(task6[i][1])\n",
    "    \n",
    "train = np.array(train)\n",
    "label = np.array(label)\n",
    "\n",
    "print('train_shape : ', train.shape, 'label_shape : ', label.shape)"
   ]
  },
  {
   "cell_type": "code",
   "execution_count": 55,
   "metadata": {},
   "outputs": [
    {
     "data": {
      "text/plain": [
       "(2820, 331, 331, 3)"
      ]
     },
     "execution_count": 55,
     "metadata": {},
     "output_type": "execute_result"
    }
   ],
   "source": [
    "array_ = []\n",
    "\n",
    "for i in range(len(train)):\n",
    "    for j in range(10):\n",
    "        data = train[i]\n",
    "        data = data[tf.newaxis, ...]\n",
    "        it = data_g.flow(data, batch_size = 1)\n",
    "        batch = it.next()\n",
    "        image = batch[0].astype('uint8')\n",
    "        \n",
    "        array_.append(image)\n",
    "        \n",
    "        \n",
    "array_ = np.array(array_)\n",
    "\n",
    "array_.shape"
   ]
  },
  {
   "cell_type": "code",
   "execution_count": 56,
   "metadata": {},
   "outputs": [],
   "source": [
    "s = np.arange(len(array_))\n",
    "np.random.shuffle(s)\n",
    "\n",
    "array_ = array_[s]"
   ]
  },
  {
   "cell_type": "code",
   "execution_count": 57,
   "metadata": {},
   "outputs": [
    {
     "data": {
      "text/plain": [
       "(2820,)"
      ]
     },
     "execution_count": 57,
     "metadata": {},
     "output_type": "execute_result"
    }
   ],
   "source": [
    "yhats = [6] * len(array_)\n",
    "\n",
    "yhats = np.array(yhats)\n",
    "\n",
    "yhats.shape"
   ]
  },
  {
   "cell_type": "code",
   "execution_count": 58,
   "metadata": {},
   "outputs": [],
   "source": [
    "task_preprocessing = [[image, label] for image, label in zip(array_, yhats)]\n",
    "\n",
    "task_preprocessing = np.array(task_preprocessing)\n",
    "\n",
    "task6 = task_preprocessing"
   ]
  },
  {
   "cell_type": "code",
   "execution_count": 59,
   "metadata": {},
   "outputs": [
    {
     "name": "stdout",
     "output_type": "stream",
     "text": [
      "(6366, 2) (9004, 2) (5030, 2) (3864, 2) (6264, 2) (2240, 2) (2820, 2)\n"
     ]
    }
   ],
   "source": [
    "print(task0.shape,\n",
    "task1.shape,\n",
    "task2.shape,\n",
    "task3.shape,\n",
    "task4.shape,\n",
    "task5.shape,\n",
    "task6.shape)"
   ]
  },
  {
   "cell_type": "code",
   "execution_count": 60,
   "metadata": {},
   "outputs": [],
   "source": [
    "trains = []\n",
    "valids = []\n",
    "tests = []\n",
    "\n",
    "\n",
    "train_label = []\n",
    "valid_label = []\n",
    "test_label = []"
   ]
  },
  {
   "cell_type": "code",
   "execution_count": 91,
   "metadata": {},
   "outputs": [
    {
     "name": "stdout",
     "output_type": "stream",
     "text": [
      "train_shape :  (2820, 331, 331, 3) label_shape :  (2820,)\n"
     ]
    }
   ],
   "source": [
    "train = []\n",
    "label = []\n",
    "\n",
    "for i in range(len(task6)):\n",
    "    train.append(task6[i][0])\n",
    "    label.append(task6[i][1])\n",
    "    \n",
    "train = np.array(train)\n",
    "label = np.array(label)\n",
    "\n",
    "print('train_shape : ', train.shape, 'label_shape : ', label.shape)"
   ]
  },
  {
   "cell_type": "code",
   "execution_count": 92,
   "metadata": {},
   "outputs": [
    {
     "data": {
      "text/plain": [
       "2256"
      ]
     },
     "execution_count": 92,
     "metadata": {},
     "output_type": "execute_result"
    }
   ],
   "source": [
    "2820 - (282 + 282)"
   ]
  },
  {
   "cell_type": "code",
   "execution_count": 93,
   "metadata": {},
   "outputs": [
    {
     "data": {
      "text/plain": [
       "2538"
      ]
     },
     "execution_count": 93,
     "metadata": {},
     "output_type": "execute_result"
    }
   ],
   "source": [
    "2820 - 282"
   ]
  },
  {
   "cell_type": "code",
   "execution_count": 94,
   "metadata": {},
   "outputs": [
    {
     "name": "stdout",
     "output_type": "stream",
     "text": [
      "(2256, 331, 331, 3) (282, 331, 331, 3) (282, 331, 331, 3)\n",
      "\n",
      "(2256,) (282,) (282,)\n"
     ]
    }
   ],
   "source": [
    "task0_train = train[:2256]\n",
    "task0_valid = train[2256:2538]\n",
    "task0_test = train[2538:]\n",
    "\n",
    "task0_train_label = label[:2256]\n",
    "task0_valid_label = label[2256:2538]\n",
    "task0_test_label = label[2538:]\n",
    "\n",
    "print(task0_train.shape, task0_valid.shape, task0_test.shape)\n",
    "print()\n",
    "print(task0_train_label.shape, task0_valid_label.shape, task0_test_label.shape)"
   ]
  },
  {
   "cell_type": "code",
   "execution_count": 95,
   "metadata": {},
   "outputs": [],
   "source": [
    "for i in range(len(task0_train)):\n",
    "    trains = list(trains)\n",
    "    train_label = list(train_label)\n",
    "    \n",
    "    trains.append(task0_train[i])\n",
    "    train_label.append(task0_train_label[i])\n",
    "    \n",
    "for i in range(len(task0_valid)):\n",
    "    valids = list(valids)\n",
    "    valid_label = list(valid_label)\n",
    "    \n",
    "    valids.append(task0_valid[i])\n",
    "    valid_label.append(task0_valid_label[i])\n",
    "    \n",
    "for i in range(len(task0_test)):\n",
    "    tests = list(tests)\n",
    "    test_label = list(test_label)\n",
    "    \n",
    "    tests.append(task0_test[i])\n",
    "    test_label.append(task0_test_label[i])\n",
    "    \n",
    "    \n",
    "trains = np.array(trains)\n",
    "valids = np.array(valids)\n",
    "tests = np.array(tests)\n",
    "\n",
    "\n",
    "train_label = np.array(train_label)\n",
    "valid_label = np.array(valid_label)\n",
    "test_label = np.array(test_label)"
   ]
  },
  {
   "cell_type": "code",
   "execution_count": 96,
   "metadata": {},
   "outputs": [
    {
     "name": "stdout",
     "output_type": "stream",
     "text": [
      "(28474, 331, 331, 3) (3557, 331, 331, 3) (3557, 331, 331, 3)\n",
      "\n",
      "(28474,) (3557,) (3557,)\n"
     ]
    }
   ],
   "source": [
    "print(trains.shape, valids.shape, tests.shape)\n",
    "print()\n",
    "print(train_label.shape, valid_label.shape, test_label.shape)"
   ]
  },
  {
   "cell_type": "code",
   "execution_count": 97,
   "metadata": {},
   "outputs": [],
   "source": [
    "task_preprocessing = [[image, label] for image, label in zip(trains, train_label)]\n",
    "\n",
    "task_preprocessing = np.array(task_preprocessing)\n",
    "\n",
    "train = task_preprocessing"
   ]
  },
  {
   "cell_type": "code",
   "execution_count": 98,
   "metadata": {},
   "outputs": [],
   "source": [
    "task_preprocessing = [[image, label] for image, label in zip(valids, valid_label)]\n",
    "\n",
    "task_preprocessing = np.array(task_preprocessing)\n",
    "\n",
    "valid = task_preprocessing"
   ]
  },
  {
   "cell_type": "code",
   "execution_count": 99,
   "metadata": {},
   "outputs": [],
   "source": [
    "task_preprocessing = [[image, label] for image, label in zip(tests, test_label)]\n",
    "\n",
    "task_preprocessing = np.array(task_preprocessing)\n",
    "\n",
    "test = task_preprocessing"
   ]
  },
  {
   "cell_type": "code",
   "execution_count": 100,
   "metadata": {},
   "outputs": [
    {
     "name": "stdout",
     "output_type": "stream",
     "text": [
      "(28474, 2) (3557, 2) (3557, 2)\n"
     ]
    }
   ],
   "source": [
    "print(train.shape, valid.shape, test.shape)"
   ]
  },
  {
   "cell_type": "code",
   "execution_count": 101,
   "metadata": {},
   "outputs": [],
   "source": [
    "s = np.arange(len(train))\n",
    "np.random.shuffle(s)\n",
    "\n",
    "nee1 = train[s]"
   ]
  },
  {
   "cell_type": "code",
   "execution_count": 102,
   "metadata": {},
   "outputs": [],
   "source": [
    "s = np.arange(len(valid))\n",
    "np.random.shuffle(s)\n",
    "\n",
    "nee2 = valid[s]"
   ]
  },
  {
   "cell_type": "code",
   "execution_count": 103,
   "metadata": {},
   "outputs": [],
   "source": [
    "s = np.arange(len(test))\n",
    "np.random.shuffle(s)\n",
    "\n",
    "nee3 = test[s]"
   ]
  },
  {
   "cell_type": "code",
   "execution_count": 104,
   "metadata": {},
   "outputs": [],
   "source": [
    "train = []\n",
    "valid = []\n",
    "test = []\n",
    "\n",
    "t_label = []\n",
    "v_label = []\n",
    "s_label = []\n",
    "\n",
    "\n",
    "for i in range(len(nee1)):   \n",
    "    train.append(nee1[i][0])\n",
    "    t_label.append(nee1[i][1])\n",
    "    \n",
    "for i in range(len(nee2)):   \n",
    "    valid.append(nee2[i][0])\n",
    "    v_label.append(nee2[i][1])    \n",
    "    \n",
    "for i in range(len(nee3)):   \n",
    "    test.append(nee3[i][0])\n",
    "    s_label.append(nee3[i][1])\n",
    "    \n",
    "    \n",
    "train = np.array(train)\n",
    "valid = np.array(valid)\n",
    "test = np.array(test)\n",
    "\n",
    "t_label = np.array(t_label)\n",
    "v_label = np.array(v_label)\n",
    "s_label = np.array(s_label)"
   ]
  },
  {
   "cell_type": "code",
   "execution_count": 105,
   "metadata": {},
   "outputs": [
    {
     "name": "stdout",
     "output_type": "stream",
     "text": [
      "train_shape :  (28474, 331, 331, 3) label_shape :  (28474,)\n",
      "valid_shape :  (3557, 331, 331, 3) label_shape :  (3557,)\n",
      "test_shape :  (3557, 331, 331, 3) label_shape :  (3557,)\n"
     ]
    }
   ],
   "source": [
    "print('train_shape : ', train.shape, 'label_shape : ', t_label.shape)\n",
    "print('valid_shape : ', valid.shape, 'label_shape : ', v_label.shape)\n",
    "print('test_shape : ', test.shape, 'label_shape : ', s_label.shape)"
   ]
  },
  {
   "cell_type": "code",
   "execution_count": 106,
   "metadata": {},
   "outputs": [],
   "source": [
    "np.save('./data/pre_ok_data/train', train)\n",
    "np.save('./data/pre_ok_data/valid', valid)\n",
    "np.save('./data/pre_ok_data/test', test)\n",
    "np.save('./data/pre_ok_data/t_label', t_label)\n",
    "np.save('./data/pre_ok_data/v_label', v_label)\n",
    "np.save('./data/pre_ok_data/s_label', s_label)"
   ]
  },
  {
   "cell_type": "code",
   "execution_count": null,
   "metadata": {},
   "outputs": [],
   "source": []
  },
  {
   "cell_type": "code",
   "execution_count": null,
   "metadata": {},
   "outputs": [],
   "source": []
  }
 ],
 "metadata": {
  "kernelspec": {
   "display_name": "Python 3",
   "language": "python",
   "name": "python3"
  },
  "language_info": {
   "codemirror_mode": {
    "name": "ipython",
    "version": 3
   },
   "file_extension": ".py",
   "mimetype": "text/x-python",
   "name": "python",
   "nbconvert_exporter": "python",
   "pygments_lexer": "ipython3",
   "version": "3.6.12"
  }
 },
 "nbformat": 4,
 "nbformat_minor": 4
}
