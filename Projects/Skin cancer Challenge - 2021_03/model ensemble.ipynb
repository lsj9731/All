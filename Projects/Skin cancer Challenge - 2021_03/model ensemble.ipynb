{
 "cells": [
  {
   "cell_type": "code",
   "execution_count": 1,
   "metadata": {},
   "outputs": [],
   "source": [
    "import tensorflow as tf\n",
    "import numpy as np\n",
    "import pandas as pd\n",
    "from tensorflow import keras\n",
    "import matplotlib.pyplot as plt\n",
    "from tensorflow.keras.layers import MaxPooling2D, GlobalAveragePooling2D, Conv2D, Dense\n",
    "from tensorflow.keras import layers\n",
    "import keras.backend as K\n",
    "import sys\n",
    "\n",
    "np.set_printoptions(threshold=sys.maxsize)\n",
    "gpus = tf.config.experimental.list_physical_devices('XLA_GPU')\n",
    "tf.config.experimental.set_visible_devices(gpus[0], 'XLA_GPU')"
   ]
  },
  {
   "cell_type": "code",
   "execution_count": 2,
   "metadata": {},
   "outputs": [],
   "source": [
    "ResNext_model = tf.keras.models.load_model('ResNext_models/')\n",
    "NasNet_model = tf.keras.models.load_model('NasNet_models/')"
   ]
  },
  {
   "cell_type": "code",
   "execution_count": 3,
   "metadata": {},
   "outputs": [
    {
     "name": "stdout",
     "output_type": "stream",
     "text": [
      "Model: \"sequential_3\"\n",
      "_________________________________________________________________\n",
      "Layer (type)                 Output Shape              Param #   \n",
      "=================================================================\n",
      "resnet152v2 (Functional)     (None, 11, 11, 2048)      58331648  \n",
      "_________________________________________________________________\n",
      "global_average_pooling2d_3 ( (None, 2048)              0         \n",
      "_________________________________________________________________\n",
      "dense_6 (Dense)              (None, 7)                 14343     \n",
      "=================================================================\n",
      "Total params: 58,345,991\n",
      "Trainable params: 58,202,247\n",
      "Non-trainable params: 143,744\n",
      "_________________________________________________________________\n"
     ]
    }
   ],
   "source": [
    "ResNext_model.summary()"
   ]
  },
  {
   "cell_type": "code",
   "execution_count": 4,
   "metadata": {},
   "outputs": [
    {
     "name": "stdout",
     "output_type": "stream",
     "text": [
      "Model: \"sequential\"\n",
      "_________________________________________________________________\n",
      "Layer (type)                 Output Shape              Param #   \n",
      "=================================================================\n",
      "NASNet (Functional)          (None, 11, 11, 4032)      84916818  \n",
      "_________________________________________________________________\n",
      "global_average_pooling2d (Gl (None, 4032)              0         \n",
      "_________________________________________________________________\n",
      "dense (Dense)                (None, 7)                 28231     \n",
      "=================================================================\n",
      "Total params: 84,945,049\n",
      "Trainable params: 84,748,381\n",
      "Non-trainable params: 196,668\n",
      "_________________________________________________________________\n"
     ]
    }
   ],
   "source": [
    "NasNet_model.summary()"
   ]
  },
  {
   "cell_type": "code",
   "execution_count": 5,
   "metadata": {},
   "outputs": [],
   "source": [
    "X_test = np.load('./data/pre_ok_data/test.npy')\n",
    "y_test = np.load('./data/pre_ok_data/s_label.npy')"
   ]
  },
  {
   "cell_type": "code",
   "execution_count": 6,
   "metadata": {},
   "outputs": [],
   "source": [
    "from keras.utils import to_categorical\n",
    "\n",
    "X_test = X_test.astype('float32') / 255\n",
    "y_test = to_categorical(y_test)"
   ]
  },
  {
   "cell_type": "code",
   "execution_count": 7,
   "metadata": {},
   "outputs": [
    {
     "name": "stdout",
     "output_type": "stream",
     "text": [
      "X_test :  (3557, 331, 331, 3) y_test :  (3557, 7)\n"
     ]
    }
   ],
   "source": [
    "print('X_test : ', X_test.shape, 'y_test : ', y_test.shape)"
   ]
  },
  {
   "cell_type": "code",
   "execution_count": 8,
   "metadata": {},
   "outputs": [],
   "source": [
    "models = [ResNext_model, NasNet_model]\n",
    "\n",
    "yhats = [model.predict(X_test) for model in models]\n",
    "yhats = np.array(yhats)\n",
    "\n",
    "summed = np.sum(yhats, axis=0)\n",
    "\n",
    "outcomes = np.argmax(summed, axis=1)"
   ]
  },
  {
   "cell_type": "code",
   "execution_count": 9,
   "metadata": {},
   "outputs": [
    {
     "data": {
      "text/plain": [
       "(3557,)"
      ]
     },
     "execution_count": 9,
     "metadata": {},
     "output_type": "execute_result"
    }
   ],
   "source": [
    "outcomes.shape"
   ]
  },
  {
   "cell_type": "code",
   "execution_count": 10,
   "metadata": {},
   "outputs": [],
   "source": [
    "real_label = np.argmax(y_test, axis = 1)"
   ]
  },
  {
   "cell_type": "code",
   "execution_count": 11,
   "metadata": {},
   "outputs": [
    {
     "name": "stdout",
     "output_type": "stream",
     "text": [
      "1  class confusion matrix :  [442  14  43  36  75  18   8]\n",
      "2  class confusion matrix :  [  7 876   7   0   4   3   3]\n",
      "3  class confusion matrix :  [ 21   2 431  17  19  10   3]\n",
      "4  class confusion matrix :  [ 36   4  59 241  34  11   1]\n",
      "5  class confusion matrix :  [ 96  21  69  51 363  17   9]\n",
      "6  class confusion matrix :  [  4   1   6  10  11 190   2]\n",
      "7  class confusion matrix :  [  1   2   9   0   1   2 267]\n"
     ]
    }
   ],
   "source": [
    "from sklearn.model_selection import cross_val_predict\n",
    "from sklearn.metrics import confusion_matrix\n",
    "\n",
    "cf = confusion_matrix(real_label, outcomes)\n",
    "\n",
    "classes = ['1', '2', '3', '4', '5', '6', '7']\n",
    "\n",
    "for i in range(len(cf)):\n",
    "    print(classes[i], ' class confusion matrix : ', cf[i])"
   ]
  },
  {
   "cell_type": "code",
   "execution_count": 14,
   "metadata": {},
   "outputs": [
    {
     "data": {
      "image/png": "[encoded data removed]",
      "text/plain": [
       "<Figure size 432x288 with 1 Axes>"
      ]
     },
     "metadata": {
      "needs_background": "light"
     },
     "output_type": "display_data"
    }
   ],
   "source": [
    "from itertools import cycle\n",
    "\n",
    "from sklearn import svm, datasets\n",
    "from sklearn.metrics import roc_curve, auc, roc_auc_score\n",
    "from sklearn.model_selection import train_test_split\n",
    "from sklearn.preprocessing import label_binarize\n",
    "from sklearn.multiclass import OneVsRestClassifier\n",
    "from scipy import interp\n",
    "\n",
    "fpr = dict()\n",
    "tpr = dict()\n",
    "roc_auc = dict()\n",
    "\n",
    "for i in range(7):\n",
    "    fpr[i], tpr[i], _ = roc_curve(y_test[:, i], summed[:, i])\n",
    "    roc_auc[i] = roc_auc_score(y_test[:, i], summed[:, i])\n",
    "\n",
    "\n",
    "\n",
    "\n",
    "# Plot all ROC curves\n",
    "colors = cycle(['aqua', 'darkorange', 'cornflowerblue', \"purple\", \"lightgreen\", \"lightblue\", \"orange\"])\n",
    "for i, color in zip(range(7), colors):\n",
    "    plt.plot(fpr[i], tpr[i],\n",
    "             color=color, label='ROC curve of class {0} (area = {1:0.2f})'.format(i, roc_auc[i]))\n",
    "plt.plot([0, 1], [0, 1],\n",
    "         color='navy', linestyle='--')\n",
    "\n",
    "\n",
    "plt.xlim([0.0, 1.0])\n",
    "plt.ylim([0.0, 1.05])\n",
    "plt.xlabel('False Positive Rate')\n",
    "plt.ylabel('True Positive Rate')\n",
    "plt.title('Some extension of Receiver operating characteristic to multi-class')\n",
    "plt.legend(loc=\"lower right\")\n",
    "plt.show()"
   ]
  },
  {
   "cell_type": "code",
   "execution_count": 15,
   "metadata": {},
   "outputs": [
    {
     "name": "stdout",
     "output_type": "stream",
     "text": [
      "              precision    recall  f1-score   support\n",
      "\n",
      "           0       0.73      0.69      0.71       636\n",
      "           1       0.95      0.97      0.96       900\n",
      "           2       0.69      0.86      0.76       503\n",
      "           3       0.68      0.62      0.65       386\n",
      "           4       0.72      0.58      0.64       626\n",
      "           5       0.76      0.85      0.80       224\n",
      "           6       0.91      0.95      0.93       282\n",
      "\n",
      "    accuracy                           0.79      3557\n",
      "   macro avg       0.78      0.79      0.78      3557\n",
      "weighted avg       0.79      0.79      0.79      3557\n",
      "\n"
     ]
    }
   ],
   "source": [
    "from sklearn.metrics import classification_report\n",
    "\n",
    "print(classification_report(real_label, outcomes))"
   ]
  }
 ],
 "metadata": {
  "kernelspec": {
   "display_name": "Python 3",
   "language": "python",
   "name": "python3"
  },
  "language_info": {
   "codemirror_mode": {
    "name": "ipython",
    "version": 3
   },
   "file_extension": ".py",
   "mimetype": "text/x-python",
   "name": "python",
   "nbconvert_exporter": "python",
   "pygments_lexer": "ipython3",
   "version": "3.6.12"
  }
 },
 "nbformat": 4,
 "nbformat_minor": 4
}
