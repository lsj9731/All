{
 "cells": [
  {
   "cell_type": "code",
   "execution_count": 263,
   "metadata": {},
   "outputs": [],
   "source": [
    "import numpy as np\n",
    "import matplotlib.pyplot as plt\n",
    "import csv\n",
    "import pandas as pd\n",
    "import os\n",
    "import tensorflow as tf\n",
    "import sys\n",
    "import seaborn as sns\n",
    "import scipy\n",
    "from sklearn.preprocessing import OneHotEncoder\n",
    "from sklearn.preprocessing import minmax_scale\n",
    "from tensorflow import keras\n",
    "import random\n",
    "import itertools\n",
    "\n",
    "pd.set_option('display.max_columns', 500)\n",
    "pd.set_option('display.max_row', 100)\n",
    "\n",
    "from keras import backend as K\n",
    "K.clear_session()\n",
    "tf.compat.v1.reset_default_graph()"
   ]
  },
  {
   "cell_type": "code",
   "execution_count": 83,
   "metadata": {},
   "outputs": [],
   "source": [
    "folder_dir = './Data/Raw_Data'\n",
    "file_list = os.listdir(folder_dir)\n",
    "file_list.sort()"
   ]
  },
  {
   "cell_type": "code",
   "execution_count": 84,
   "metadata": {},
   "outputs": [
    {
     "name": "stdout",
     "output_type": "stream",
     "text": [
      "None_Data_Shape: (26767, 11)\n"
     ]
    }
   ],
   "source": [
    "non_data = []\n",
    "for i,_folder_dir in enumerate (file_list):\n",
    "    path = (folder_dir+'/'+_folder_dir)\n",
    "\n",
    "    temp = []\n",
    "    with open(path, 'r') as file:\n",
    "        reader = csv.reader(file, delimiter='|')\n",
    "        for checker, tmp in enumerate (reader):\n",
    "            if checker == 0:\n",
    "                continue\n",
    "            else:\n",
    "                tmp = np.float64(tmp)\n",
    "                temp.append(tmp)\n",
    "     \n",
    "    temp = np.array(temp)\n",
    "\n",
    "    temp_ = np.concatenate((temp[:,0], temp[:,1], temp[:,2], temp[:,3], temp[:,6],\n",
    "                           temp[:,19], temp[:,31], temp[:,33], temp[:,34], temp[:,35], temp[:,40]), axis=0)\n",
    "    \n",
    "    temp_ = np.reshape(temp_,(temp.shape[0],11), order='F')\n",
    "    \n",
    "    for j,val1 in enumerate (temp_):\n",
    "        count = 0\n",
    "        for k,val2 in enumerate (val1):\n",
    "            val3 = np.isnan(val2)\n",
    "            if val3 == True:\n",
    "                count += 1\n",
    "            else:\n",
    "                continue\n",
    "        if count == 0:\n",
    "            non_data.append(temp_[j])\n",
    "\n",
    "\n",
    "non_data = np.array(non_data)\n",
    "print('None_Data_Shape:',non_data.shape)\n",
    "        \n",
    "#np.save('C:/jupyter/Human_Deep/Data/Numpy_Data/Total_Data', data)"
   ]
  },
  {
   "cell_type": "code",
   "execution_count": 85,
   "metadata": {},
   "outputs": [
    {
     "name": "stdout",
     "output_type": "stream",
     "text": [
      "일반 데이터 수 :  (26246, 11) 패혈증 데이터 수 :  (521, 11)\n"
     ]
    }
   ],
   "source": [
    "select_data_value_0 = []\n",
    "select_data_value_1 = []\n",
    "_temp = []\n",
    "\n",
    "for i, value1 in enumerate(non_data):\n",
    "    _temp = []\n",
    "    _temp = value1\n",
    "    if _temp[-1] == 0:\n",
    "        select_data_value_0.append(_temp)\n",
    "    else :\n",
    "        select_data_value_1.append(_temp)\n",
    "        \n",
    "select_data_value_0 = np.array(select_data_value_0)\n",
    "select_data_value_1 = np.array(select_data_value_1)\n",
    "    \n",
    "    \n",
    "            \n",
    "print(\"일반 데이터 수 : \", select_data_value_0.shape, \"패혈증 데이터 수 : \", select_data_value_1.shape)"
   ]
  },
  {
   "cell_type": "code",
   "execution_count": 86,
   "metadata": {},
   "outputs": [
    {
     "name": "stdout",
     "output_type": "stream",
     "text": [
      "일반 데이터 수 :  (26246, 11) 패혈증 데이터 수 :  (521, 11)\n",
      "일반 데이터 수 :  (521, 11) 패혈증 데이터 수 :  (521, 11)\n",
      "데이터 셔플\n"
     ]
    }
   ],
   "source": [
    "Normal_Data = select_data_value_0\n",
    "Sepsis_Data = select_data_value_1\n",
    "\n",
    "Normal_Data = np.array(Normal_Data)\n",
    "Sepsis_Data = np.array(Sepsis_Data)\n",
    "\n",
    "print(\"일반 데이터 수 : \", Normal_Data.shape, \"패혈증 데이터 수 : \", Sepsis_Data.shape)\n",
    "\n",
    "Normal_Data_Test = list(select_data_value_0)\n",
    "Normal_Data = random.sample(Normal_Data_Test, 521)\n",
    "Normal_Data = np.array(Normal_Data)\n",
    "Sepsis_Data = np.array(Sepsis_Data)\n",
    "\n",
    "print(\"일반 데이터 수 : \", Normal_Data.shape, \"패혈증 데이터 수 : \", Sepsis_Data.shape)\n",
    "\n",
    "np.random.shuffle(Normal_Data)\n",
    "np.random.shuffle(Sepsis_Data)\n",
    "\n",
    "print('데이터 셔플')"
   ]
  },
  {
   "cell_type": "code",
   "execution_count": 87,
   "metadata": {},
   "outputs": [
    {
     "name": "stdout",
     "output_type": "stream",
     "text": [
      "check_3_none_shape : (446276, 11)\n"
     ]
    }
   ],
   "source": [
    "check_3_none = []\n",
    "for i,_folder_dir in enumerate (file_list):\n",
    "    path = (folder_dir+'/'+_folder_dir)\n",
    "\n",
    "    temp = []\n",
    "    with open(path, 'r') as file:\n",
    "        reader = csv.reader(file, delimiter='|')\n",
    "        for checker, tmp in enumerate (reader):\n",
    "            if checker == 0:\n",
    "                continue\n",
    "            else:\n",
    "                tmp = np.float64(tmp)\n",
    "                temp.append(tmp)\n",
    "                \n",
    "    temp = np.array(temp)\n",
    "\n",
    "\n",
    "    temp_ = np.concatenate((temp[:,0], temp[:,1], temp[:,2], temp[:,3], temp[:,6],\n",
    "                           temp[:,19], temp[:,31], temp[:,33], temp[:,34], temp[:,35], temp[:,40]), axis=0)\n",
    "    \n",
    "    temp_ = np.reshape(temp_,(temp.shape[0],11), order='F')\n",
    "    \n",
    "    for j,val1 in enumerate (temp_):\n",
    "        count = 0\n",
    "        for k,val2 in enumerate (val1):\n",
    "            val3 = np.isnan(val2)\n",
    "            if val3 == True:\n",
    "                count += 1\n",
    "            else:\n",
    "                continue\n",
    "                \n",
    "        if count == 3:\n",
    "            check_3_none.append(temp_[j])\n",
    "\n",
    "        \n",
    "check_3_none = np.array(check_3_none)\n",
    "print('check_3_none_shape :',check_3_none.shape)"
   ]
  },
  {
   "cell_type": "code",
   "execution_count": 88,
   "metadata": {},
   "outputs": [
    {
     "name": "stdout",
     "output_type": "stream",
     "text": [
      "check_value_shape :  (428855, 11)\n"
     ]
    }
   ],
   "source": [
    "check_value = []\n",
    "\n",
    "\n",
    "for i, value1 in enumerate(check_3_none):\n",
    "    count = 0\n",
    "    check_temp_ = value1[5:8]\n",
    "    for j, value2 in enumerate(check_temp_):\n",
    "        value3 = np.isnan(value2)\n",
    "        if value3 == True:\n",
    "            count += 1\n",
    "        else :\n",
    "            continue\n",
    "    if count == 3:\n",
    "        check_value.append(value1)\n",
    "        \n",
    "check_value = np.array(check_value)\n",
    "print('check_value_shape : ', check_value.shape)"
   ]
  },
  {
   "cell_type": "code",
   "execution_count": 89,
   "metadata": {},
   "outputs": [
    {
     "name": "stdout",
     "output_type": "stream",
     "text": [
      "일반 데이터 수 :  (421672, 11) 패혈증 데이터 수 :  (7183, 11)\n"
     ]
    }
   ],
   "source": [
    "_select_data_value_0 = []\n",
    "_select_data_value_1 = []\n",
    "\n",
    "for i, value1 in enumerate(check_value):\n",
    "    _temp_ = []\n",
    "    _temp_ = value1\n",
    "    if _temp_[-1] == 0:\n",
    "        _select_data_value_0.append(value1)\n",
    "    else :\n",
    "        _select_data_value_1.append(value1)\n",
    "        \n",
    "_select_data_value_0 = np.array(_select_data_value_0)\n",
    "_select_data_value_1 = np.array(_select_data_value_1)\n",
    "    \n",
    "    \n",
    "            \n",
    "print(\"일반 데이터 수 : \", _select_data_value_0.shape, \"패혈증 데이터 수 : \", _select_data_value_1.shape)"
   ]
  },
  {
   "cell_type": "code",
   "execution_count": 90,
   "metadata": {},
   "outputs": [],
   "source": [
    "_select_data_value_0 = list(_select_data_value_0)\n",
    "_select_data_value_1 = list(_select_data_value_1)\n",
    "\n",
    "\n",
    "Calib_Data_Normal = random.sample(_select_data_value_0, 521)\n",
    "Calib_Data_Sepsis = random.sample(_select_data_value_1, 521)\n",
    "\n",
    "Calib_Data_Normal = np.array(Calib_Data_Normal)\n",
    "Calib_Data_Sepsis = np.array(Calib_Data_Sepsis)\n",
    "\n",
    "np.random.shuffle(Calib_Data_Normal)\n",
    "np.random.shuffle(Calib_Data_Sepsis)"
   ]
  },
  {
   "cell_type": "code",
   "execution_count": 91,
   "metadata": {},
   "outputs": [
    {
     "name": "stdout",
     "output_type": "stream",
     "text": [
      "Normal_Data_shape :  (521, 11) Sepsis_Data_shape :  (521, 11)\n",
      "Calib_Data_Normal_shape :  (521, 11) Calib_Data_Sepsis_shape :  (521, 11)\n"
     ]
    }
   ],
   "source": [
    "print('Normal_Data_shape : ', Normal_Data.shape, 'Sepsis_Data_shape : ', Sepsis_Data.shape)\n",
    "print('Calib_Data_Normal_shape : ', Calib_Data_Normal.shape, 'Calib_Data_Sepsis_shape : ', Calib_Data_Sepsis.shape)"
   ]
  },
  {
   "cell_type": "code",
   "execution_count": 92,
   "metadata": {},
   "outputs": [
    {
     "data": {
      "text/plain": [
       "(1042, 11)"
      ]
     },
     "execution_count": 92,
     "metadata": {},
     "output_type": "execute_result"
    }
   ],
   "source": [
    "Normal_Data_list = list(Normal_Data)\n",
    "Sepsis_Data_list = list(Sepsis_Data)\n",
    "\n",
    "Full_Data = []\n",
    "\n",
    "for i in range(len(Normal_Data)):\n",
    "    Full_Data.append(Normal_Data_list[i])\n",
    "    Full_Data.append(Sepsis_Data_list[i])\n",
    "    \n",
    "Full_Data = np.array(Full_Data)\n",
    "Full_Data.shape"
   ]
  },
  {
   "cell_type": "code",
   "execution_count": 93,
   "metadata": {},
   "outputs": [
    {
     "data": {
      "text/plain": [
       "(1042, 11)"
      ]
     },
     "execution_count": 93,
     "metadata": {},
     "output_type": "execute_result"
    }
   ],
   "source": [
    "Cal_Normal_Data_list = list(Calib_Data_Normal)\n",
    "Cal_Sepsis_Data_list = list(Calib_Data_Sepsis)\n",
    "\n",
    "Cal_Full_Data = []\n",
    "\n",
    "for i in range(len(Calib_Data_Normal)):\n",
    "    Cal_Full_Data.append(Cal_Normal_Data_list[i])\n",
    "    Cal_Full_Data.append(Cal_Sepsis_Data_list[i])\n",
    "    \n",
    "Cal_Full_Data = np.array(Cal_Full_Data)\n",
    "Cal_Full_Data.shape"
   ]
  },
  {
   "cell_type": "code",
   "execution_count": 94,
   "metadata": {},
   "outputs": [
    {
     "name": "stdout",
     "output_type": "stream",
     "text": [
      "end\n"
     ]
    }
   ],
   "source": [
    "# Nan 데이터를 0으로 변환해주는 작업\n",
    "\n",
    "for i, value1 in enumerate(Cal_Full_Data):\n",
    "    for j, value2 in enumerate(value1):\n",
    "        value3 = np.isnan(value2)\n",
    "        if value3 == True:\n",
    "            Cal_Full_Data[i][j] = 0\n",
    "        else :\n",
    "            continue\n",
    "print('end')"
   ]
  },
  {
   "cell_type": "markdown",
   "metadata": {},
   "source": [
    "# 정상 / 패혈증 / 전체 데이터 3분할"
   ]
  },
  {
   "cell_type": "code",
   "execution_count": 95,
   "metadata": {},
   "outputs": [
    {
     "name": "stdout",
     "output_type": "stream",
     "text": [
      "Total_vital :  (1042, 9) Total_Label :  (1042,) Total_Gender :  (1042,)\n"
     ]
    }
   ],
   "source": [
    "Total_Data_vital = []\n",
    "Total_Data_Gender = []\n",
    "Total_Data_Label = []\n",
    "\n",
    "for i, value1 in enumerate(Full_Data):\n",
    "    Total_Data_vital.append(value1[:-2])\n",
    "    Total_Data_Gender.append(value1[-2])\n",
    "    Total_Data_Label.append(value1[-1])\n",
    "\n",
    "Total_Data_vital = np.array(Total_Data_vital)\n",
    "Total_Data_Label = np.array(Total_Data_Label)\n",
    "Total_Data_Gender = np.array(Total_Data_Gender)\n",
    "\n",
    "print('Total_vital : ', Total_Data_vital.shape, 'Total_Label : ', Total_Data_Label.shape, 'Total_Gender : ', Total_Data_Gender.shape)"
   ]
  },
  {
   "cell_type": "code",
   "execution_count": 96,
   "metadata": {},
   "outputs": [
    {
     "name": "stdout",
     "output_type": "stream",
     "text": [
      "Cal_Total_vital :  (1042, 9) Cal_Total_Label :  (1042,) Cal_Total_Gender :  (1042,)\n"
     ]
    }
   ],
   "source": [
    "Cal_Total_Data_vital = []\n",
    "Cal_Total_Data_Gender = []\n",
    "Cal_Total_Data_Label = []\n",
    "\n",
    "for i, value1 in enumerate(Cal_Full_Data):\n",
    "    Cal_Total_Data_vital.append(value1[:-2])\n",
    "    Cal_Total_Data_Gender.append(value1[-2])\n",
    "    Cal_Total_Data_Label.append(value1[-1])\n",
    "\n",
    "Cal_Total_Data_vital = np.array(Cal_Total_Data_vital)\n",
    "Cal_Total_Data_Label = np.array(Cal_Total_Data_Label)\n",
    "Cal_Total_Data_Gender = np.array(Cal_Total_Data_Gender)\n",
    "\n",
    "print('Cal_Total_vital : ', Cal_Total_Data_vital.shape, 'Cal_Total_Label : ', Cal_Total_Data_Label.shape, 'Cal_Total_Gender : ', Cal_Total_Data_Gender.shape)"
   ]
  },
  {
   "cell_type": "code",
   "execution_count": 97,
   "metadata": {},
   "outputs": [
    {
     "name": "stdout",
     "output_type": "stream",
     "text": [
      "Normal_vital :  (521, 9) Normal_Label :  (521,) Normal_Gender :  (521,)\n"
     ]
    }
   ],
   "source": [
    "Normal_Data_vital = []\n",
    "Normal_Data_Gender = []\n",
    "Normal_Data_Label = []\n",
    "\n",
    "for i, value1 in enumerate(Normal_Data):\n",
    "    Normal_Data_vital.append(value1[:-2])\n",
    "    Normal_Data_Gender.append(value1[-2])\n",
    "    Normal_Data_Label.append(value1[-1])\n",
    "\n",
    "Normal_Data_vital = np.array(Normal_Data_vital)\n",
    "Normal_Data_Gender = np.array(Normal_Data_Gender)\n",
    "Normal_Data_Label = np.array(Normal_Data_Label)\n",
    "\n",
    "print('Normal_vital : ', Normal_Data_vital.shape, 'Normal_Label : ', Normal_Data_Label.shape, 'Normal_Gender : ', Normal_Data_Gender.shape)"
   ]
  },
  {
   "cell_type": "code",
   "execution_count": 98,
   "metadata": {},
   "outputs": [
    {
     "name": "stdout",
     "output_type": "stream",
     "text": [
      "Sepsis_vital :  (521, 9) Sepsis_Label :  (521,) Sepsis_Gender :  (521,)\n"
     ]
    }
   ],
   "source": [
    "Sepsis_Data_vital = []\n",
    "Sepsis_Data_Gender = []\n",
    "Sepsis_Data_Label = []\n",
    "\n",
    "for i, value1 in enumerate(Sepsis_Data):\n",
    "    Sepsis_Data_vital.append(value1[:-2])\n",
    "    Sepsis_Data_Gender.append(value1[-2])\n",
    "    Sepsis_Data_Label.append(value1[-1])\n",
    "\n",
    "Sepsis_Data_vital = np.array(Sepsis_Data_vital)\n",
    "Sepsis_Data_Gender = np.array(Sepsis_Data_Gender)\n",
    "Sepsis_Data_Label = np.array(Sepsis_Data_Label)\n",
    "\n",
    "print('Sepsis_vital : ', Sepsis_Data_vital.shape, 'Sepsis_Label : ', Sepsis_Data_Label.shape, 'Sepsis_Gender : ', Sepsis_Data_Gender.shape)"
   ]
  },
  {
   "cell_type": "markdown",
   "metadata": {},
   "source": [
    "# 정상 / 패혈증 데이터 평균, 편차"
   ]
  },
  {
   "cell_type": "code",
   "execution_count": 440,
   "metadata": {},
   "outputs": [
    {
     "name": "stdout",
     "output_type": "stream",
     "text": [
      "Total_Data_mean :  [ 88.57341651  97.18522073  36.98092131 120.1518714   18.57821497\n",
      "   1.59900192  12.61988484 182.51391555  62.39581574]\n",
      "Total_Data_std :  [ 18.03030169   3.24588214   0.97730529  23.09708457   5.47552796\n",
      "   1.75329943   8.84568832 104.75991677  15.85775901]\n",
      "------------------------------------------------------------\n",
      "Total_Data_mean_shape :  (9,)\n",
      "Total_Data_std_shape :  (9,)\n"
     ]
    }
   ],
   "source": [
    "Total_Data_mean = []\n",
    "Total_Data_std = []\n",
    "\n",
    "HR_Data = []\n",
    "HR_Data1 = []\n",
    "HR_Data2 = []\n",
    "\n",
    "O2sat_Data = []\n",
    "O2sat_Data1 = []\n",
    "O2sat_Data2 = []\n",
    "\n",
    "Temp_Data = []\n",
    "Temp_Data1 = []\n",
    "Temp_Data2 = []\n",
    "\n",
    "SBP_Data = []\n",
    "SBP_Data1 = []\n",
    "SBP_Data2 = []\n",
    "\n",
    "Resp_Data = []\n",
    "Resp_Data1 = []\n",
    "Resp_Data2 = []\n",
    "\n",
    "Creatinine_Data = []\n",
    "Creatinine_Data1 = []\n",
    "Creatinine_Data2 = []\n",
    "\n",
    "WBC_Data = []\n",
    "WBC_Data1 = []\n",
    "WBC_Data2 = []\n",
    "\n",
    "Platelets_Data = []\n",
    "Platelets_Data1 = []\n",
    "Platelets_Data2 = []\n",
    "\n",
    "Age_Data = []\n",
    "Age_Data1 = []\n",
    "Age_Data2 = []\n",
    "\n",
    "\n",
    "for i, value1 in enumerate(Total_Data_vital):\n",
    "        HR_Data.append(value1[0])\n",
    "        O2sat_Data.append(value1[1])\n",
    "        Temp_Data.append(value1[2])\n",
    "        SBP_Data.append(value1[3])\n",
    "        Resp_Data.append(value1[4])\n",
    "        Creatinine_Data.append(value1[5])\n",
    "        WBC_Data.append(value1[6])\n",
    "        Platelets_Data.append(value1[7])\n",
    "        Age_Data.append(value1[8])\n",
    "        \n",
    "    \n",
    "HR_Data1 = np.mean(HR_Data)\n",
    "O2sat_Data1 = np.mean(O2sat_Data)\n",
    "Temp_Data1 = np.mean(Temp_Data)\n",
    "SBP_Data1 = np.mean(SBP_Data)\n",
    "Resp_Data1 = np.mean(Resp_Data)\n",
    "Creatinine_Data1 = np.mean(Creatinine_Data)\n",
    "WBC_Data1 = np.mean(WBC_Data)\n",
    "Platelets_Data1 = np.mean(Platelets_Data)\n",
    "Age_Data1 = np.mean(Age_Data)\n",
    "\n",
    "\n",
    "\n",
    "Total_Data_mean.append(HR_Data1)\n",
    "Total_Data_mean.append(O2sat_Data1)\n",
    "Total_Data_mean.append(Temp_Data1)\n",
    "Total_Data_mean.append(SBP_Data1)\n",
    "Total_Data_mean.append(Resp_Data1)\n",
    "Total_Data_mean.append(Creatinine_Data1)\n",
    "Total_Data_mean.append(WBC_Data1)\n",
    "Total_Data_mean.append(Platelets_Data1)\n",
    "Total_Data_mean.append(Age_Data1)\n",
    "\n",
    "Total_Data_mean = np.array(Total_Data_mean)\n",
    "\n",
    "\n",
    "\n",
    "\n",
    "HR_Data2 = np.std(HR_Data)\n",
    "O2sat_Data2 = np.std(O2sat_Data)\n",
    "Temp_Data2 = np.std(Temp_Data)\n",
    "SBP_Data2 = np.std(SBP_Data)\n",
    "Resp_Data2 = np.std(Resp_Data)\n",
    "Creatinine_Data2 = np.std(Creatinine_Data)\n",
    "WBC_Data2 = np.std(WBC_Data)\n",
    "Platelets_Data2 = np.std(Platelets_Data)\n",
    "Age_Data2 = np.std(Age_Data)\n",
    "\n",
    "\n",
    "Total_Data_std.append(HR_Data2)\n",
    "Total_Data_std.append(O2sat_Data2)\n",
    "Total_Data_std.append(Temp_Data2)\n",
    "Total_Data_std.append(SBP_Data2)\n",
    "Total_Data_std.append(Resp_Data2)\n",
    "Total_Data_std.append(Creatinine_Data2)\n",
    "Total_Data_std.append(WBC_Data2)\n",
    "Total_Data_std.append(Platelets_Data2)\n",
    "Total_Data_std.append(Age_Data2)\n",
    "\n",
    "Total_Data_std = np.array(Total_Data_std)\n",
    "\n",
    "\n",
    "print('Total_Data_mean : ', Total_Data_mean)\n",
    "print('Total_Data_std : ', Total_Data_std)\n",
    "print('------------------------------------------------------------')\n",
    "print('Total_Data_mean_shape : ', Total_Data_mean.shape)\n",
    "print('Total_Data_std_shape : ', Total_Data_std.shape)"
   ]
  },
  {
   "cell_type": "code",
   "execution_count": 99,
   "metadata": {},
   "outputs": [
    {
     "name": "stdout",
     "output_type": "stream",
     "text": [
      "Normal_Data_mean :  [ 84.0940499   97.49424184  36.83366603 121.79846449  17.54846449\n",
      "   1.48147793  11.70988484 183.3915547   63.03476008]\n",
      "Normal_Data_std :  [16.37207676  2.73194043  0.81810475 22.48230115  5.08869768  1.79123841\n",
      "  7.55197113 94.66867288 15.7497225 ]\n",
      "------------------------------------------------------------\n",
      "Normal_Data_mean_shape :  (9,)\n",
      "Normal_Data_std_shape :  (9,)\n"
     ]
    }
   ],
   "source": [
    "Normal_Data_mean = []\n",
    "Normal_Data_std = []\n",
    "\n",
    "HR_Data = []\n",
    "HR_Data1 = []\n",
    "HR_Data2 = []\n",
    "\n",
    "O2sat_Data = []\n",
    "O2sat_Data1 = []\n",
    "O2sat_Data2 = []\n",
    "\n",
    "Temp_Data = []\n",
    "Temp_Data1 = []\n",
    "Temp_Data2 = []\n",
    "\n",
    "SBP_Data = []\n",
    "SBP_Data1 = []\n",
    "SBP_Data2 = []\n",
    "\n",
    "Resp_Data = []\n",
    "Resp_Data1 = []\n",
    "Resp_Data2 = []\n",
    "\n",
    "Creatinine_Data = []\n",
    "Creatinine_Data1 = []\n",
    "Creatinine_Data2 = []\n",
    "\n",
    "WBC_Data = []\n",
    "WBC_Data1 = []\n",
    "WBC_Data2 = []\n",
    "\n",
    "Platelets_Data = []\n",
    "Platelets_Data1 = []\n",
    "Platelets_Data2 = []\n",
    "\n",
    "Age_Data = []\n",
    "Age_Data1 = []\n",
    "Age_Data2 = []\n",
    "\n",
    "\n",
    "for i, value1 in enumerate(Normal_Data_vital):\n",
    "        HR_Data.append(value1[0])\n",
    "        O2sat_Data.append(value1[1])\n",
    "        Temp_Data.append(value1[2])\n",
    "        SBP_Data.append(value1[3])\n",
    "        Resp_Data.append(value1[4])\n",
    "        Creatinine_Data.append(value1[5])\n",
    "        WBC_Data.append(value1[6])\n",
    "        Platelets_Data.append(value1[7])\n",
    "        Age_Data.append(value1[8])\n",
    "        \n",
    "    \n",
    "HR_Data1 = np.mean(HR_Data)\n",
    "O2sat_Data1 = np.mean(O2sat_Data)\n",
    "Temp_Data1 = np.mean(Temp_Data)\n",
    "SBP_Data1 = np.mean(SBP_Data)\n",
    "Resp_Data1 = np.mean(Resp_Data)\n",
    "Creatinine_Data1 = np.mean(Creatinine_Data)\n",
    "WBC_Data1 = np.mean(WBC_Data)\n",
    "Platelets_Data1 = np.mean(Platelets_Data)\n",
    "Age_Data1 = np.mean(Age_Data)\n",
    "\n",
    "\n",
    "\n",
    "Normal_Data_mean.append(HR_Data1)\n",
    "Normal_Data_mean.append(O2sat_Data1)\n",
    "Normal_Data_mean.append(Temp_Data1)\n",
    "Normal_Data_mean.append(SBP_Data1)\n",
    "Normal_Data_mean.append(Resp_Data1)\n",
    "Normal_Data_mean.append(Creatinine_Data1)\n",
    "Normal_Data_mean.append(WBC_Data1)\n",
    "Normal_Data_mean.append(Platelets_Data1)\n",
    "Normal_Data_mean.append(Age_Data1)\n",
    "\n",
    "Normal_Data_mean = np.array(Normal_Data_mean)\n",
    "\n",
    "\n",
    "\n",
    "\n",
    "HR_Data2 = np.std(HR_Data)\n",
    "O2sat_Data2 = np.std(O2sat_Data)\n",
    "Temp_Data2 = np.std(Temp_Data)\n",
    "SBP_Data2 = np.std(SBP_Data)\n",
    "Resp_Data2 = np.std(Resp_Data)\n",
    "Creatinine_Data2 = np.std(Creatinine_Data)\n",
    "WBC_Data2 = np.std(WBC_Data)\n",
    "Platelets_Data2 = np.std(Platelets_Data)\n",
    "Age_Data2 = np.std(Age_Data)\n",
    "\n",
    "\n",
    "Normal_Data_std.append(HR_Data2)\n",
    "Normal_Data_std.append(O2sat_Data2)\n",
    "Normal_Data_std.append(Temp_Data2)\n",
    "Normal_Data_std.append(SBP_Data2)\n",
    "Normal_Data_std.append(Resp_Data2)\n",
    "Normal_Data_std.append(Creatinine_Data2)\n",
    "Normal_Data_std.append(WBC_Data2)\n",
    "Normal_Data_std.append(Platelets_Data2)\n",
    "Normal_Data_std.append(Age_Data2)\n",
    "\n",
    "Normal_Data_std = np.array(Normal_Data_std)\n",
    "\n",
    "\n",
    "print('Normal_Data_mean : ', Normal_Data_mean)\n",
    "print('Normal_Data_std : ', Normal_Data_std)\n",
    "print('------------------------------------------------------------')\n",
    "print('Normal_Data_mean_shape : ', Normal_Data_mean.shape)\n",
    "print('Normal_Data_std_shape : ', Normal_Data_std.shape)"
   ]
  },
  {
   "cell_type": "code",
   "execution_count": 100,
   "metadata": {},
   "outputs": [
    {
     "name": "stdout",
     "output_type": "stream",
     "text": [
      "Sepsis_Data_mean :  [ 93.05278311  96.87619962  37.12817658 118.50527831  19.60796545\n",
      "   1.71652591  13.52988484 181.63627639  61.7568714 ]\n",
      "Sepsis_Data_std :  [ 18.49349102   3.66292439   1.09434348  23.58122618   5.65218512\n",
      "   1.70644629   9.88958725 113.95429872  15.93947247]\n",
      "------------------------------------------------------------\n",
      "Sepsis_Data_mean_shape :  (9,)\n",
      "Sepsis_Data_std_shape :  (9,)\n"
     ]
    }
   ],
   "source": [
    "Sepsis_Data_mean = []\n",
    "Sepsis_Data_std = []\n",
    "\n",
    "HR_Data = []\n",
    "HR_Data1 = []\n",
    "HR_Data2 = []\n",
    "\n",
    "O2sat_Data = []\n",
    "O2sat_Data1 = []\n",
    "O2sat_Data2 = []\n",
    "\n",
    "Temp_Data = []\n",
    "Temp_Data1 = []\n",
    "Temp_Data2 = []\n",
    "\n",
    "SBP_Data = []\n",
    "SBP_Data1 = []\n",
    "SBP_Data2 = []\n",
    "\n",
    "Resp_Data = []\n",
    "Resp_Data1 = []\n",
    "Resp_Data2 = []\n",
    "\n",
    "Creatinine_Data = []\n",
    "Creatinine_Data1 = []\n",
    "Creatinine_Data2 = []\n",
    "\n",
    "WBC_Data = []\n",
    "WBC_Data1 = []\n",
    "WBC_Data2 = []\n",
    "\n",
    "Platelets_Data = []\n",
    "Platelets_Data1 = []\n",
    "Platelets_Data2 = []\n",
    "\n",
    "Age_Data = []\n",
    "Age_Data1 = []\n",
    "Age_Data2 = []\n",
    "\n",
    "\n",
    "for i, value1 in enumerate(Sepsis_Data_vital):\n",
    "        HR_Data.append(value1[0])\n",
    "        O2sat_Data.append(value1[1])\n",
    "        Temp_Data.append(value1[2])\n",
    "        SBP_Data.append(value1[3])\n",
    "        Resp_Data.append(value1[4])\n",
    "        Creatinine_Data.append(value1[5])\n",
    "        WBC_Data.append(value1[6])\n",
    "        Platelets_Data.append(value1[7])\n",
    "        Age_Data.append(value1[8])\n",
    "        \n",
    "    \n",
    "HR_Data1 = np.mean(HR_Data)\n",
    "O2sat_Data1 = np.mean(O2sat_Data)\n",
    "Temp_Data1 = np.mean(Temp_Data)\n",
    "SBP_Data1 = np.mean(SBP_Data)\n",
    "Resp_Data1 = np.mean(Resp_Data)\n",
    "Creatinine_Data1 = np.mean(Creatinine_Data)\n",
    "WBC_Data1 = np.mean(WBC_Data)\n",
    "Platelets_Data1 = np.mean(Platelets_Data)\n",
    "Age_Data1 = np.mean(Age_Data)\n",
    "\n",
    "\n",
    "\n",
    "Sepsis_Data_mean.append(HR_Data1)\n",
    "Sepsis_Data_mean.append(O2sat_Data1)\n",
    "Sepsis_Data_mean.append(Temp_Data1)\n",
    "Sepsis_Data_mean.append(SBP_Data1)\n",
    "Sepsis_Data_mean.append(Resp_Data1)\n",
    "Sepsis_Data_mean.append(Creatinine_Data1)\n",
    "Sepsis_Data_mean.append(WBC_Data1)\n",
    "Sepsis_Data_mean.append(Platelets_Data1)\n",
    "Sepsis_Data_mean.append(Age_Data1)\n",
    "\n",
    "Sepsis_Data_mean = np.array(Sepsis_Data_mean)\n",
    "\n",
    "\n",
    "\n",
    "\n",
    "HR_Data2 = np.std(HR_Data)\n",
    "O2sat_Data2 = np.std(O2sat_Data)\n",
    "Temp_Data2 = np.std(Temp_Data)\n",
    "SBP_Data2 = np.std(SBP_Data)\n",
    "Resp_Data2 = np.std(Resp_Data)\n",
    "Creatinine_Data2 = np.std(Creatinine_Data)\n",
    "WBC_Data2 = np.std(WBC_Data)\n",
    "Platelets_Data2 = np.std(Platelets_Data)\n",
    "Age_Data2 = np.std(Age_Data)\n",
    "\n",
    "\n",
    "Sepsis_Data_std.append(HR_Data2)\n",
    "Sepsis_Data_std.append(O2sat_Data2)\n",
    "Sepsis_Data_std.append(Temp_Data2)\n",
    "Sepsis_Data_std.append(SBP_Data2)\n",
    "Sepsis_Data_std.append(Resp_Data2)\n",
    "Sepsis_Data_std.append(Creatinine_Data2)\n",
    "Sepsis_Data_std.append(WBC_Data2)\n",
    "Sepsis_Data_std.append(Platelets_Data2)\n",
    "Sepsis_Data_std.append(Age_Data2)\n",
    "\n",
    "Sepsis_Data_std = np.array(Sepsis_Data_std)\n",
    "\n",
    "\n",
    "print('Sepsis_Data_mean : ', Sepsis_Data_mean)\n",
    "print('Sepsis_Data_std : ', Sepsis_Data_std)\n",
    "print('------------------------------------------------------------')\n",
    "print('Sepsis_Data_mean_shape : ', Sepsis_Data_mean.shape)\n",
    "print('Sepsis_Data_std_shape : ', Sepsis_Data_std.shape)"
   ]
  },
  {
   "cell_type": "markdown",
   "metadata": {},
   "source": [
    "# zscore"
   ]
  },
  {
   "cell_type": "code",
   "execution_count": 101,
   "metadata": {},
   "outputs": [],
   "source": [
    "Total_Data_vital_zscore = scipy.stats.zscore(Total_Data_vital)\n",
    "Cal_Total_Data_vital_zscore = scipy.stats.zscore(Cal_Total_Data_vital)\n",
    "Normal_Data_vital_zscore = scipy.stats.zscore(Normal_Data_vital)\n",
    "Sepsis_Data_vital_zscore = scipy.stats.zscore(Sepsis_Data_vital)"
   ]
  },
  {
   "cell_type": "code",
   "execution_count": 102,
   "metadata": {},
   "outputs": [],
   "source": [
    "Total_Data_add_Gender = []\n",
    "\n",
    "for i, value in enumerate(Total_Data_vital_zscore):\n",
    "    concat = []\n",
    "    for j, value2 in enumerate(value):\n",
    "        concat.append(value2)\n",
    "    concat.append(Total_Data_Gender[i])\n",
    "    Total_Data_add_Gender.append(concat)\n",
    "    \n",
    "Total_Data_add_Gender = np.array(Total_Data_add_Gender)"
   ]
  },
  {
   "cell_type": "code",
   "execution_count": 103,
   "metadata": {},
   "outputs": [],
   "source": [
    "Cal_Total_Data_add_Gender = []\n",
    "\n",
    "for i, value in enumerate(Cal_Total_Data_vital_zscore):\n",
    "    concat = []\n",
    "    for j, value2 in enumerate(value):\n",
    "        concat.append(value2)\n",
    "    concat.append(Cal_Total_Data_Gender[i])\n",
    "    Cal_Total_Data_add_Gender.append(concat)\n",
    "    \n",
    "Cal_Total_Data_add_Gender = np.array(Cal_Total_Data_add_Gender)"
   ]
  },
  {
   "cell_type": "code",
   "execution_count": 104,
   "metadata": {},
   "outputs": [],
   "source": [
    "Normal_Data_add_Gender = []\n",
    "\n",
    "for i, value in enumerate(Normal_Data_vital_zscore):\n",
    "    concat = []\n",
    "    for j, value2 in enumerate(value):\n",
    "        concat.append(value2)\n",
    "    concat.append(Normal_Data_Gender[i])\n",
    "    Normal_Data_add_Gender.append(concat)\n",
    "    \n",
    "Normal_Data_add_Gender = np.array(Normal_Data_add_Gender)"
   ]
  },
  {
   "cell_type": "code",
   "execution_count": 105,
   "metadata": {},
   "outputs": [],
   "source": [
    "Sepsis_Data_add_Gender = []\n",
    "\n",
    "for i, value in enumerate(Sepsis_Data_vital_zscore):\n",
    "    concat = []\n",
    "    for j, value2 in enumerate(value):\n",
    "        concat.append(value2)\n",
    "    concat.append(Sepsis_Data_Gender[i])\n",
    "    Sepsis_Data_add_Gender.append(concat)\n",
    "    \n",
    "Sepsis_Data_add_Gender = np.array(Sepsis_Data_add_Gender)"
   ]
  },
  {
   "cell_type": "code",
   "execution_count": 107,
   "metadata": {},
   "outputs": [
    {
     "name": "stdout",
     "output_type": "stream",
     "text": [
      "end\n"
     ]
    }
   ],
   "source": [
    "# Nan 데이터를 0으로 변환해주는 작업\n",
    "\n",
    "for i, value1 in enumerate(Cal_Total_Data_add_Gender):\n",
    "    value_1 = value1[:-1]\n",
    "    for j, value2 in enumerate(value_1):\n",
    "        value3 = np.isnan(value2)\n",
    "        if value3 == True:\n",
    "            Cal_Total_Data_add_Gender[i][j] = 0\n",
    "        else :\n",
    "            continue\n",
    "print('end')"
   ]
  },
  {
   "cell_type": "code",
   "execution_count": 108,
   "metadata": {
    "scrolled": true
   },
   "outputs": [
    {
     "name": "stdout",
     "output_type": "stream",
     "text": [
      "shape :  (1042, 10) shape :  (1042, 10) shape :  (521, 10) shape :  (521, 10)\n",
      "Total_Data :  [-0.14272731 -0.67322861  0.01952173 -0.00657535 -0.47086144 -0.45571333\n",
      " -0.37531108  0.03327689  0.4158333   1.        ]\n",
      "\n",
      "Cal_Total_Data :  [-0.25347832 -0.38727957 -0.92026841 -0.78691451  0.23992833  0.\n",
      "  0.          0.          0.45925669  1.        ]\n",
      "\n",
      "Normal_Data :  [ 0.11641468 -0.91299276  0.20331623 -0.07999468 -0.30429485 -0.38045071\n",
      " -0.31910673  0.02755342  0.37811713  1.        ]\n",
      "\n",
      "Sepsis_Data :  [ 0.53787664  0.85281596  1.81097019  0.3602324   2.90012344 -0.65429889\n",
      " -0.16480818  1.48624252  1.15832746  1.        ]\n"
     ]
    }
   ],
   "source": [
    "print('shape : ', Total_Data_add_Gender.shape, 'shape : ', Cal_Total_Data_add_Gender.shape , 'shape : ', Normal_Data_add_Gender.shape, 'shape : ', Sepsis_Data_add_Gender.shape)\n",
    "print('Total_Data : ', Total_Data_add_Gender[0])\n",
    "print()\n",
    "print('Cal_Total_Data : ', Cal_Total_Data_add_Gender[0])\n",
    "print()\n",
    "print('Normal_Data : ', Normal_Data_add_Gender[0])\n",
    "print()\n",
    "print('Sepsis_Data : ', Sepsis_Data_add_Gender[0])"
   ]
  },
  {
   "cell_type": "markdown",
   "metadata": {},
   "source": [
    "# G1 / G2 "
   ]
  },
  {
   "cell_type": "code",
   "execution_count": 24,
   "metadata": {},
   "outputs": [],
   "source": [
    "def make_noise():\n",
    "    return np.random.normal(size = (len(Normal_Data_add_Gender), 10))"
   ]
  },
  {
   "cell_type": "code",
   "execution_count": 25,
   "metadata": {},
   "outputs": [],
   "source": [
    "generator1 = keras.models.Sequential([\n",
    "    keras.layers.Dense(60, input_shape=[10]),\n",
    "        keras.layers.LeakyReLU(alpha = 0.2),\n",
    "        keras.layers.Dense(120),\n",
    "        keras.layers.LeakyReLU(alpha = 0.2),\n",
    "        keras.layers.Dense(60),\n",
    "        keras.layers.LeakyReLU(alpha = 0.2),\n",
    "        keras.layers.Dense(10)\n",
    "])\n",
    "\n",
    "discriminator1 = keras.models.Sequential([\n",
    "    keras.layers.Dense(60),\n",
    "        keras.layers.LeakyReLU(alpha = 0.2),\n",
    "        keras.layers.Dense(120),\n",
    "        keras.layers.LeakyReLU(alpha = 0.2),\n",
    "        keras.layers.Dense(60),\n",
    "        keras.layers.LeakyReLU(alpha = 0.2),\n",
    "        keras.layers.Dense(10)\n",
    "])\n",
    "gan1 = keras.models.Sequential([generator1, discriminator1])\n",
    "\n",
    "discriminator1.compile(loss=\"binary_crossentropy\", optimizer=\"adam\")\n",
    "discriminator1.trainable = False\n",
    "gan1.compile(loss=\"binary_crossentropy\", optimizer=\"adam\")\n",
    "\n",
    "\n",
    "generator2 = keras.models.Sequential([\n",
    "    keras.layers.Dense(30, input_shape=[10]),\n",
    "        keras.layers.LeakyReLU(alpha = 0.2),\n",
    "        keras.layers.Dense(60),\n",
    "        keras.layers.LeakyReLU(alpha = 0.2),\n",
    "        keras.layers.Dense(30),\n",
    "        keras.layers.LeakyReLU(alpha = 0.2),\n",
    "        keras.layers.Dense(10)\n",
    "])\n",
    "\n",
    "discriminator2 = keras.models.Sequential([\n",
    "    keras.layers.Dense(30),\n",
    "        keras.layers.LeakyReLU(alpha = 0.2),\n",
    "        keras.layers.Dense(60),\n",
    "        keras.layers.LeakyReLU(alpha = 0.2),\n",
    "        keras.layers.Dense(30),\n",
    "        keras.layers.LeakyReLU(alpha = 0.2),\n",
    "        keras.layers.Dense(10)\n",
    "])\n",
    "gan2 = keras.models.Sequential([generator2, discriminator2])\n",
    "\n",
    "discriminator2.compile(loss=\"binary_crossentropy\", optimizer=\"adam\")\n",
    "discriminator2.trainable = False\n",
    "gan2.compile(loss=\"binary_crossentropy\", optimizer=\"adam\")"
   ]
  },
  {
   "cell_type": "code",
   "execution_count": 26,
   "metadata": {},
   "outputs": [],
   "source": [
    "def train_gan(gan, dataset, n_epochs=1000):\n",
    "    generator, discriminator = gan.layers\n",
    "    for epoch in range(n_epochs):\n",
    "    # phase 1 - training the discriminator\n",
    "        noise_ = make_noise()\n",
    "        generated_data = generator(noise_)\n",
    "        X_fake_and_real = tf.concat([generated_data, dataset], axis=0)\n",
    "        y1 = tf.constant([[0.]] * len(dataset) + [[1.]] * len(dataset))\n",
    "        discriminator.trainable = True\n",
    "        d_loss = discriminator.train_on_batch(X_fake_and_real, y1)\n",
    "            \n",
    "    # phase 2 - training the generator\n",
    "        _noise = make_noise()\n",
    "        y2 = tf.constant([[1.]] * len(dataset))\n",
    "        discriminator.trainable = False\n",
    "        g_loss = gan.train_on_batch(_noise, y2)\n",
    "        if epoch % 50 == 0:\n",
    "            print('epoch : ', epoch, 'd_loss : ', d_loss, 'g_loss ', g_loss)"
   ]
  },
  {
   "cell_type": "code",
   "execution_count": 27,
   "metadata": {},
   "outputs": [
    {
     "name": "stdout",
     "output_type": "stream",
     "text": [
      "epoch :  0 d_loss :  4.399014949798584 g_loss  6.012138843536377\n",
      "epoch :  50 d_loss :  0.3582911193370819 g_loss  3.7010562419891357\n",
      "epoch :  100 d_loss :  0.662164032459259 g_loss  1.4083274602890015\n",
      "epoch :  150 d_loss :  0.8023489117622375 g_loss  7.229737281799316\n",
      "epoch :  200 d_loss :  0.4261544346809387 g_loss  13.135421752929688\n",
      "epoch :  250 d_loss :  0.19537091255187988 g_loss  13.614277839660645\n",
      "epoch :  300 d_loss :  0.8088611364364624 g_loss  11.759977340698242\n",
      "epoch :  350 d_loss :  0.5715766549110413 g_loss  5.4758172035217285\n",
      "epoch :  400 d_loss :  0.6391844153404236 g_loss  2.5225608348846436\n",
      "epoch :  450 d_loss :  0.525180459022522 g_loss  3.081216812133789\n",
      "epoch :  500 d_loss :  0.5497774481773376 g_loss  1.8009700775146484\n",
      "epoch :  550 d_loss :  0.41749727725982666 g_loss  1.5215885639190674\n",
      "epoch :  600 d_loss :  0.39921438694000244 g_loss  1.3653442859649658\n",
      "epoch :  650 d_loss :  0.4585302174091339 g_loss  1.4890755414962769\n",
      "epoch :  700 d_loss :  0.4608152210712433 g_loss  1.0254863500595093\n",
      "epoch :  750 d_loss :  0.47493234276771545 g_loss  0.9627143144607544\n",
      "epoch :  800 d_loss :  0.45635131001472473 g_loss  0.9936832785606384\n",
      "epoch :  850 d_loss :  0.4110642969608307 g_loss  1.1024041175842285\n",
      "epoch :  900 d_loss :  0.3639538288116455 g_loss  1.29395592212677\n",
      "epoch :  950 d_loss :  0.4050804078578949 g_loss  1.1961976289749146\n"
     ]
    }
   ],
   "source": [
    "train_gan(gan1, Normal_Data_add_Gender)"
   ]
  },
  {
   "cell_type": "code",
   "execution_count": 28,
   "metadata": {},
   "outputs": [
    {
     "name": "stdout",
     "output_type": "stream",
     "text": [
      "epoch :  0 d_loss :  4.342366695404053 g_loss  9.428597450256348\n",
      "epoch :  50 d_loss :  0.7656465768814087 g_loss  1.1817364692687988\n",
      "epoch :  100 d_loss :  0.5846163034439087 g_loss  1.0725903511047363\n",
      "epoch :  150 d_loss :  0.6416314244270325 g_loss  1.1293710470199585\n",
      "epoch :  200 d_loss :  0.4746485948562622 g_loss  2.0068740844726562\n",
      "epoch :  250 d_loss :  0.7708760499954224 g_loss  3.681490659713745\n",
      "epoch :  300 d_loss :  0.6959573030471802 g_loss  4.830697536468506\n",
      "epoch :  350 d_loss :  0.6132336854934692 g_loss  9.437934875488281\n",
      "epoch :  400 d_loss :  0.2742147445678711 g_loss  5.927119731903076\n",
      "epoch :  450 d_loss :  0.382431298494339 g_loss  2.518338203430176\n",
      "epoch :  500 d_loss :  0.37074214220046997 g_loss  1.5242836475372314\n",
      "epoch :  550 d_loss :  0.3329333961009979 g_loss  1.4216585159301758\n",
      "epoch :  600 d_loss :  0.3216712772846222 g_loss  1.646919846534729\n",
      "epoch :  650 d_loss :  0.4470110833644867 g_loss  1.2191150188446045\n",
      "epoch :  700 d_loss :  0.4332889914512634 g_loss  1.1130951642990112\n",
      "epoch :  750 d_loss :  0.37971845269203186 g_loss  1.2187795639038086\n",
      "epoch :  800 d_loss :  0.38421735167503357 g_loss  1.2154279947280884\n",
      "epoch :  850 d_loss :  0.42284029722213745 g_loss  1.2179088592529297\n",
      "epoch :  900 d_loss :  0.42492905259132385 g_loss  1.2270194292068481\n",
      "epoch :  950 d_loss :  0.36037400364875793 g_loss  1.3830102682113647\n"
     ]
    }
   ],
   "source": [
    "train_gan(gan2, Sepsis_Data_add_Gender)"
   ]
  },
  {
   "cell_type": "markdown",
   "metadata": {},
   "source": [
    "# 리스케일링은 추후에"
   ]
  },
  {
   "cell_type": "markdown",
   "metadata": {},
   "source": [
    "# 분류"
   ]
  },
  {
   "cell_type": "code",
   "execution_count": 379,
   "metadata": {},
   "outputs": [
    {
     "name": "stdout",
     "output_type": "stream",
     "text": [
      "Total_Data :  (1042, 10)\n",
      "\n",
      "Total_Label :  (1042,)\n"
     ]
    }
   ],
   "source": [
    "print('Total_Data : ', Total_Data_add_Gender.shape)\n",
    "print()\n",
    "print('Total_Label : ', Total_Data_Label.shape)"
   ]
  },
  {
   "cell_type": "code",
   "execution_count": 380,
   "metadata": {},
   "outputs": [
    {
     "name": "stdout",
     "output_type": "stream",
     "text": [
      "Train :  (1042, 10) Label :  (1042,)\n"
     ]
    }
   ],
   "source": [
    "Full_Data_Set_v = []\n",
    "Full_Data_Label_v = []\n",
    "\n",
    "Train_Data_Set = []\n",
    "Train_Data_Label = []\n",
    "valid_Data_Set = []\n",
    "valid_Data_Label = []\n",
    "Test_Data_Set = []\n",
    "Test_Data_Label = []\n",
    "\n",
    "Full_Data_Set_v = Total_Data_add_Gender\n",
    "Full_Data_Label_v = Total_Data_Label\n",
    "\n",
    "    \n",
    "Full_Data_Set_v = np.array(Full_Data_Set_v)\n",
    "Full_Data_Label_v = np.array(Full_Data_Label_v)\n",
    "\n",
    "print('Train : ', Full_Data_Set_v.shape, 'Label : ', Full_Data_Label_v.shape)"
   ]
  },
  {
   "cell_type": "code",
   "execution_count": 381,
   "metadata": {},
   "outputs": [
    {
     "data": {
      "text/plain": [
       "(1042, 2)"
      ]
     },
     "execution_count": 381,
     "metadata": {},
     "output_type": "execute_result"
    }
   ],
   "source": [
    "Full_Data_Label_Test = []\n",
    "\n",
    "for value1 in Full_Data_Label_v:\n",
    "    if value1 == 0:\n",
    "        _temp_ = [0, 1]\n",
    "        Full_Data_Label_Test.append(_temp_)\n",
    "    else :\n",
    "        _temp_ = [1, 0]\n",
    "        Full_Data_Label_Test.append(_temp_)\n",
    "        \n",
    "Full_Data_Label_Test = np.array(Full_Data_Label_Test)\n",
    "Full_Data_Label_Test.shape"
   ]
  },
  {
   "cell_type": "code",
   "execution_count": 382,
   "metadata": {},
   "outputs": [
    {
     "name": "stdout",
     "output_type": "stream",
     "text": [
      "Train_Data_shape :  (600, 10) valid_Data_shape :  (220, 10) Test_Data_shape :  (222, 10)\n",
      "Train_Data_Label_shape :  (600, 2) valid_Data_Label_shape :  (220, 2) Test_Data_Label_shape :  (222, 2)\n"
     ]
    }
   ],
   "source": [
    "Train_Data, valid_Data, Test_Data = Full_Data_Set_v[:600], Full_Data_Set_v[600:820], Full_Data_Set_v[820:]\n",
    "Train_Data_Label, valid_Data_Label, Test_Data_Label = Full_Data_Label_Test[:600], Full_Data_Label_Test[600:820], Full_Data_Label_Test[820:]\n",
    "\n",
    "print('Train_Data_shape : ', Train_Data.shape, 'valid_Data_shape : ', valid_Data.shape, 'Test_Data_shape : ', Test_Data.shape)\n",
    "print('Train_Data_Label_shape : ', Train_Data_Label.shape, 'valid_Data_Label_shape : ', valid_Data_Label.shape, 'Test_Data_Label_shape : ', Test_Data_Label.shape)"
   ]
  },
  {
   "cell_type": "code",
   "execution_count": 401,
   "metadata": {},
   "outputs": [],
   "source": [
    "# del model"
   ]
  },
  {
   "cell_type": "code",
   "execution_count": 402,
   "metadata": {},
   "outputs": [],
   "source": [
    "model = keras.models.Sequential([\n",
    "    keras.layers.Dense(12, input_shape = [10]),\n",
    "    keras.layers.LeakyReLU(alpha = 0.3),\n",
    "    keras.layers.Dropout(0.3),   \n",
    "    \n",
    "#     keras.layers.Dense(16),\n",
    "#     keras.layers.LeakyReLU(alpha = 0.3),\n",
    "#     keras.layers.Dropout(0.3), \n",
    "    \n",
    "    keras.layers.Dense(10),\n",
    "    keras.layers.LeakyReLU(alpha = 0.3),\n",
    "    keras.layers.Dropout(0.3),\n",
    "\n",
    "    keras.layers.Dense(2, activation = 'sigmoid') \n",
    "])"
   ]
  },
  {
   "cell_type": "code",
   "execution_count": 403,
   "metadata": {},
   "outputs": [
    {
     "name": "stdout",
     "output_type": "stream",
     "text": [
      "Model: \"sequential_3\"\n",
      "_________________________________________________________________\n",
      "Layer (type)                 Output Shape              Param #   \n",
      "=================================================================\n",
      "dense_10 (Dense)             (None, 12)                132       \n",
      "_________________________________________________________________\n",
      "leaky_re_lu_7 (LeakyReLU)    (None, 12)                0         \n",
      "_________________________________________________________________\n",
      "dense_11 (Dense)             (None, 10)                130       \n",
      "_________________________________________________________________\n",
      "leaky_re_lu_8 (LeakyReLU)    (None, 10)                0         \n",
      "_________________________________________________________________\n",
      "dense_12 (Dense)             (None, 2)                 22        \n",
      "=================================================================\n",
      "Total params: 284\n",
      "Trainable params: 284\n",
      "Non-trainable params: 0\n",
      "_________________________________________________________________\n"
     ]
    }
   ],
   "source": [
    "model.summary()"
   ]
  },
  {
   "cell_type": "code",
   "execution_count": 404,
   "metadata": {},
   "outputs": [],
   "source": [
    "model.compile(loss = 'binary_crossentropy', optimizer = 'adam', metrics = ['accuracy'])"
   ]
  },
  {
   "cell_type": "code",
   "execution_count": 405,
   "metadata": {},
   "outputs": [
    {
     "name": "stdout",
     "output_type": "stream",
     "text": [
      "Epoch 1/200\n",
      "19/19 [==============================] - 0s 6ms/step - loss: 0.6932 - accuracy: 0.5550 - val_loss: 0.7074 - val_accuracy: 0.5136\n",
      "Epoch 2/200\n",
      "19/19 [==============================] - 0s 3ms/step - loss: 0.6806 - accuracy: 0.6017 - val_loss: 0.6978 - val_accuracy: 0.5318\n",
      "Epoch 3/200\n",
      "19/19 [==============================] - 0s 2ms/step - loss: 0.6717 - accuracy: 0.6050 - val_loss: 0.6906 - val_accuracy: 0.5136\n",
      "Epoch 4/200\n",
      "19/19 [==============================] - 0s 2ms/step - loss: 0.6641 - accuracy: 0.6033 - val_loss: 0.6850 - val_accuracy: 0.5364\n",
      "Epoch 5/200\n",
      "19/19 [==============================] - 0s 2ms/step - loss: 0.6584 - accuracy: 0.6100 - val_loss: 0.6793 - val_accuracy: 0.5545\n",
      "Epoch 6/200\n",
      "19/19 [==============================] - 0s 2ms/step - loss: 0.6536 - accuracy: 0.6150 - val_loss: 0.6752 - val_accuracy: 0.5636\n",
      "Epoch 7/200\n",
      "19/19 [==============================] - 0s 2ms/step - loss: 0.6488 - accuracy: 0.6333 - val_loss: 0.6724 - val_accuracy: 0.5591\n",
      "Epoch 8/200\n",
      "19/19 [==============================] - 0s 2ms/step - loss: 0.6453 - accuracy: 0.6300 - val_loss: 0.6697 - val_accuracy: 0.5636\n",
      "Epoch 9/200\n",
      "19/19 [==============================] - 0s 2ms/step - loss: 0.6419 - accuracy: 0.6317 - val_loss: 0.6676 - val_accuracy: 0.5682\n",
      "Epoch 10/200\n",
      "19/19 [==============================] - 0s 2ms/step - loss: 0.6388 - accuracy: 0.6400 - val_loss: 0.6657 - val_accuracy: 0.5591\n",
      "Epoch 11/200\n",
      "19/19 [==============================] - 0s 2ms/step - loss: 0.6359 - accuracy: 0.6417 - val_loss: 0.6651 - val_accuracy: 0.5591\n",
      "Epoch 12/200\n",
      "19/19 [==============================] - 0s 2ms/step - loss: 0.6336 - accuracy: 0.6483 - val_loss: 0.6639 - val_accuracy: 0.5636\n",
      "Epoch 13/200\n",
      "19/19 [==============================] - 0s 2ms/step - loss: 0.6310 - accuracy: 0.6500 - val_loss: 0.6640 - val_accuracy: 0.5636\n",
      "Epoch 14/200\n",
      "19/19 [==============================] - 0s 2ms/step - loss: 0.6291 - accuracy: 0.6517 - val_loss: 0.6628 - val_accuracy: 0.5682\n",
      "Epoch 15/200\n",
      "19/19 [==============================] - 0s 3ms/step - loss: 0.6274 - accuracy: 0.6500 - val_loss: 0.6627 - val_accuracy: 0.5636\n",
      "Epoch 16/200\n",
      "19/19 [==============================] - 0s 2ms/step - loss: 0.6256 - accuracy: 0.6533 - val_loss: 0.6622 - val_accuracy: 0.5682\n",
      "Epoch 17/200\n",
      "19/19 [==============================] - 0s 2ms/step - loss: 0.6240 - accuracy: 0.6567 - val_loss: 0.6622 - val_accuracy: 0.5682\n",
      "Epoch 18/200\n",
      "19/19 [==============================] - 0s 3ms/step - loss: 0.6233 - accuracy: 0.6583 - val_loss: 0.6628 - val_accuracy: 0.5636\n",
      "Epoch 19/200\n",
      "19/19 [==============================] - 0s 3ms/step - loss: 0.6219 - accuracy: 0.6583 - val_loss: 0.6617 - val_accuracy: 0.5682\n",
      "Epoch 20/200\n",
      "19/19 [==============================] - 0s 3ms/step - loss: 0.6204 - accuracy: 0.6583 - val_loss: 0.6625 - val_accuracy: 0.5682\n",
      "Epoch 21/200\n",
      "19/19 [==============================] - 0s 3ms/step - loss: 0.6190 - accuracy: 0.6550 - val_loss: 0.6623 - val_accuracy: 0.5682\n",
      "Epoch 22/200\n",
      "19/19 [==============================] - 0s 3ms/step - loss: 0.6183 - accuracy: 0.6550 - val_loss: 0.6626 - val_accuracy: 0.5727\n",
      "Epoch 23/200\n",
      "19/19 [==============================] - 0s 2ms/step - loss: 0.6175 - accuracy: 0.6550 - val_loss: 0.6631 - val_accuracy: 0.5682\n",
      "Epoch 24/200\n",
      "19/19 [==============================] - 0s 3ms/step - loss: 0.6169 - accuracy: 0.6617 - val_loss: 0.6624 - val_accuracy: 0.5773\n",
      "Epoch 25/200\n",
      "19/19 [==============================] - 0s 2ms/step - loss: 0.6154 - accuracy: 0.6667 - val_loss: 0.6622 - val_accuracy: 0.5727\n",
      "Epoch 26/200\n",
      "19/19 [==============================] - 0s 2ms/step - loss: 0.6141 - accuracy: 0.6617 - val_loss: 0.6623 - val_accuracy: 0.5818\n",
      "Epoch 27/200\n",
      "19/19 [==============================] - 0s 2ms/step - loss: 0.6135 - accuracy: 0.6667 - val_loss: 0.6630 - val_accuracy: 0.5773\n",
      "Epoch 28/200\n",
      "19/19 [==============================] - 0s 2ms/step - loss: 0.6125 - accuracy: 0.6617 - val_loss: 0.6629 - val_accuracy: 0.5727\n",
      "Epoch 29/200\n",
      "19/19 [==============================] - 0s 2ms/step - loss: 0.6118 - accuracy: 0.6600 - val_loss: 0.6633 - val_accuracy: 0.5818\n",
      "Epoch 30/200\n",
      "19/19 [==============================] - 0s 3ms/step - loss: 0.6109 - accuracy: 0.6617 - val_loss: 0.6631 - val_accuracy: 0.5773\n",
      "Epoch 31/200\n",
      "19/19 [==============================] - 0s 2ms/step - loss: 0.6099 - accuracy: 0.6633 - val_loss: 0.6629 - val_accuracy: 0.5818\n",
      "Epoch 32/200\n",
      "19/19 [==============================] - 0s 3ms/step - loss: 0.6093 - accuracy: 0.6600 - val_loss: 0.6638 - val_accuracy: 0.5773\n",
      "Epoch 33/200\n",
      "19/19 [==============================] - 0s 2ms/step - loss: 0.6084 - accuracy: 0.6617 - val_loss: 0.6635 - val_accuracy: 0.5818\n",
      "Epoch 34/200\n",
      "19/19 [==============================] - 0s 3ms/step - loss: 0.6073 - accuracy: 0.6650 - val_loss: 0.6633 - val_accuracy: 0.5818\n",
      "Epoch 35/200\n",
      "19/19 [==============================] - 0s 3ms/step - loss: 0.6068 - accuracy: 0.6650 - val_loss: 0.6638 - val_accuracy: 0.5864\n",
      "Epoch 36/200\n",
      "19/19 [==============================] - 0s 3ms/step - loss: 0.6061 - accuracy: 0.6650 - val_loss: 0.6633 - val_accuracy: 0.5773\n",
      "Epoch 37/200\n",
      "19/19 [==============================] - 0s 2ms/step - loss: 0.6052 - accuracy: 0.6683 - val_loss: 0.6628 - val_accuracy: 0.5682\n",
      "Epoch 38/200\n",
      "19/19 [==============================] - 0s 3ms/step - loss: 0.6047 - accuracy: 0.6700 - val_loss: 0.6638 - val_accuracy: 0.5636\n",
      "Epoch 39/200\n",
      "19/19 [==============================] - 0s 3ms/step - loss: 0.6038 - accuracy: 0.6717 - val_loss: 0.6635 - val_accuracy: 0.5773\n",
      "Epoch 40/200\n",
      "19/19 [==============================] - 0s 2ms/step - loss: 0.6040 - accuracy: 0.6767 - val_loss: 0.6635 - val_accuracy: 0.5682\n",
      "Epoch 41/200\n",
      "19/19 [==============================] - 0s 2ms/step - loss: 0.6022 - accuracy: 0.6767 - val_loss: 0.6636 - val_accuracy: 0.5818\n",
      "Epoch 42/200\n",
      "19/19 [==============================] - 0s 2ms/step - loss: 0.6019 - accuracy: 0.6733 - val_loss: 0.6631 - val_accuracy: 0.5727\n",
      "Epoch 43/200\n",
      "19/19 [==============================] - 0s 2ms/step - loss: 0.6010 - accuracy: 0.6733 - val_loss: 0.6636 - val_accuracy: 0.5773\n",
      "Epoch 44/200\n",
      "19/19 [==============================] - 0s 2ms/step - loss: 0.6004 - accuracy: 0.6733 - val_loss: 0.6644 - val_accuracy: 0.5773\n",
      "Epoch 45/200\n",
      "19/19 [==============================] - 0s 3ms/step - loss: 0.5999 - accuracy: 0.6800 - val_loss: 0.6642 - val_accuracy: 0.5727\n",
      "Epoch 46/200\n",
      "19/19 [==============================] - 0s 2ms/step - loss: 0.5986 - accuracy: 0.6817 - val_loss: 0.6632 - val_accuracy: 0.5636\n",
      "Epoch 47/200\n",
      "19/19 [==============================] - 0s 2ms/step - loss: 0.5979 - accuracy: 0.6783 - val_loss: 0.6641 - val_accuracy: 0.5773\n",
      "Epoch 48/200\n",
      "19/19 [==============================] - 0s 2ms/step - loss: 0.5971 - accuracy: 0.6817 - val_loss: 0.6640 - val_accuracy: 0.5727\n",
      "Epoch 49/200\n",
      "19/19 [==============================] - 0s 2ms/step - loss: 0.5964 - accuracy: 0.6833 - val_loss: 0.6651 - val_accuracy: 0.5773\n",
      "Epoch 50/200\n",
      "19/19 [==============================] - 0s 3ms/step - loss: 0.5963 - accuracy: 0.6833 - val_loss: 0.6648 - val_accuracy: 0.5773\n",
      "Epoch 51/200\n",
      "19/19 [==============================] - 0s 3ms/step - loss: 0.5954 - accuracy: 0.6883 - val_loss: 0.6646 - val_accuracy: 0.5773\n",
      "Epoch 52/200\n",
      "19/19 [==============================] - 0s 3ms/step - loss: 0.5941 - accuracy: 0.6883 - val_loss: 0.6645 - val_accuracy: 0.5727\n",
      "Epoch 53/200\n",
      "19/19 [==============================] - 0s 3ms/step - loss: 0.5940 - accuracy: 0.6850 - val_loss: 0.6649 - val_accuracy: 0.5773\n",
      "Epoch 54/200\n",
      "19/19 [==============================] - 0s 2ms/step - loss: 0.5927 - accuracy: 0.6867 - val_loss: 0.6653 - val_accuracy: 0.5773\n",
      "Epoch 55/200\n",
      "19/19 [==============================] - 0s 2ms/step - loss: 0.5919 - accuracy: 0.6883 - val_loss: 0.6658 - val_accuracy: 0.5773\n",
      "Epoch 56/200\n",
      "19/19 [==============================] - 0s 2ms/step - loss: 0.5916 - accuracy: 0.6867 - val_loss: 0.6674 - val_accuracy: 0.5864\n",
      "Epoch 57/200\n",
      "19/19 [==============================] - 0s 2ms/step - loss: 0.5900 - accuracy: 0.6917 - val_loss: 0.6662 - val_accuracy: 0.5773\n",
      "Epoch 58/200\n",
      "19/19 [==============================] - 0s 2ms/step - loss: 0.5895 - accuracy: 0.6867 - val_loss: 0.6662 - val_accuracy: 0.5727\n"
     ]
    },
    {
     "name": "stdout",
     "output_type": "stream",
     "text": [
      "Epoch 59/200\n",
      "19/19 [==============================] - 0s 2ms/step - loss: 0.5886 - accuracy: 0.6867 - val_loss: 0.6674 - val_accuracy: 0.5682\n",
      "Epoch 60/200\n",
      "19/19 [==============================] - 0s 2ms/step - loss: 0.5880 - accuracy: 0.6900 - val_loss: 0.6672 - val_accuracy: 0.5727\n",
      "Epoch 61/200\n",
      "19/19 [==============================] - 0s 2ms/step - loss: 0.5866 - accuracy: 0.6883 - val_loss: 0.6683 - val_accuracy: 0.5682\n",
      "Epoch 62/200\n",
      "19/19 [==============================] - 0s 2ms/step - loss: 0.5861 - accuracy: 0.6900 - val_loss: 0.6675 - val_accuracy: 0.5682\n",
      "Epoch 63/200\n",
      "19/19 [==============================] - 0s 2ms/step - loss: 0.5853 - accuracy: 0.6883 - val_loss: 0.6674 - val_accuracy: 0.5682\n",
      "Epoch 64/200\n",
      "19/19 [==============================] - 0s 3ms/step - loss: 0.5848 - accuracy: 0.6850 - val_loss: 0.6692 - val_accuracy: 0.5682\n",
      "Epoch 65/200\n",
      "19/19 [==============================] - 0s 3ms/step - loss: 0.5837 - accuracy: 0.6883 - val_loss: 0.6689 - val_accuracy: 0.5727\n",
      "Epoch 66/200\n",
      "19/19 [==============================] - 0s 2ms/step - loss: 0.5831 - accuracy: 0.6933 - val_loss: 0.6685 - val_accuracy: 0.5727\n",
      "Epoch 67/200\n",
      "19/19 [==============================] - 0s 2ms/step - loss: 0.5821 - accuracy: 0.6900 - val_loss: 0.6697 - val_accuracy: 0.5727\n",
      "Epoch 68/200\n",
      "19/19 [==============================] - 0s 2ms/step - loss: 0.5812 - accuracy: 0.6933 - val_loss: 0.6689 - val_accuracy: 0.5773\n",
      "Epoch 69/200\n",
      "19/19 [==============================] - 0s 3ms/step - loss: 0.5806 - accuracy: 0.6917 - val_loss: 0.6708 - val_accuracy: 0.5727\n",
      "Epoch 70/200\n",
      "19/19 [==============================] - 0s 2ms/step - loss: 0.5802 - accuracy: 0.6900 - val_loss: 0.6692 - val_accuracy: 0.5727\n",
      "Epoch 71/200\n",
      "19/19 [==============================] - 0s 2ms/step - loss: 0.5786 - accuracy: 0.6867 - val_loss: 0.6700 - val_accuracy: 0.5773\n",
      "Epoch 72/200\n",
      "19/19 [==============================] - 0s 2ms/step - loss: 0.5783 - accuracy: 0.6867 - val_loss: 0.6699 - val_accuracy: 0.5727\n",
      "Epoch 73/200\n",
      "19/19 [==============================] - 0s 2ms/step - loss: 0.5778 - accuracy: 0.6867 - val_loss: 0.6711 - val_accuracy: 0.5727\n",
      "Epoch 74/200\n",
      "19/19 [==============================] - 0s 3ms/step - loss: 0.5756 - accuracy: 0.6900 - val_loss: 0.6713 - val_accuracy: 0.5727\n",
      "Epoch 75/200\n",
      "19/19 [==============================] - 0s 3ms/step - loss: 0.5752 - accuracy: 0.6817 - val_loss: 0.6707 - val_accuracy: 0.5727\n",
      "Epoch 76/200\n",
      "19/19 [==============================] - 0s 3ms/step - loss: 0.5743 - accuracy: 0.6867 - val_loss: 0.6715 - val_accuracy: 0.5773\n",
      "Epoch 77/200\n",
      "19/19 [==============================] - 0s 3ms/step - loss: 0.5744 - accuracy: 0.6883 - val_loss: 0.6710 - val_accuracy: 0.5682\n",
      "Epoch 78/200\n",
      "19/19 [==============================] - 0s 2ms/step - loss: 0.5728 - accuracy: 0.6917 - val_loss: 0.6726 - val_accuracy: 0.5727\n",
      "Epoch 79/200\n",
      "19/19 [==============================] - 0s 2ms/step - loss: 0.5720 - accuracy: 0.6900 - val_loss: 0.6746 - val_accuracy: 0.5727\n",
      "Epoch 80/200\n",
      "19/19 [==============================] - 0s 2ms/step - loss: 0.5709 - accuracy: 0.6883 - val_loss: 0.6729 - val_accuracy: 0.5682\n",
      "Epoch 81/200\n",
      "19/19 [==============================] - 0s 2ms/step - loss: 0.5704 - accuracy: 0.6867 - val_loss: 0.6744 - val_accuracy: 0.5636\n",
      "Epoch 82/200\n",
      "19/19 [==============================] - 0s 2ms/step - loss: 0.5695 - accuracy: 0.6933 - val_loss: 0.6741 - val_accuracy: 0.5727\n",
      "Epoch 83/200\n",
      "19/19 [==============================] - 0s 2ms/step - loss: 0.5696 - accuracy: 0.6883 - val_loss: 0.6732 - val_accuracy: 0.5727\n",
      "Epoch 84/200\n",
      "19/19 [==============================] - 0s 2ms/step - loss: 0.5680 - accuracy: 0.6967 - val_loss: 0.6753 - val_accuracy: 0.5591\n",
      "Epoch 85/200\n",
      "19/19 [==============================] - 0s 2ms/step - loss: 0.5680 - accuracy: 0.6967 - val_loss: 0.6762 - val_accuracy: 0.5591\n",
      "Epoch 86/200\n",
      "19/19 [==============================] - 0s 3ms/step - loss: 0.5665 - accuracy: 0.6917 - val_loss: 0.6761 - val_accuracy: 0.5682\n",
      "Epoch 87/200\n",
      "19/19 [==============================] - 0s 2ms/step - loss: 0.5662 - accuracy: 0.7000 - val_loss: 0.6751 - val_accuracy: 0.5727\n",
      "Epoch 88/200\n",
      "19/19 [==============================] - 0s 2ms/step - loss: 0.5656 - accuracy: 0.6983 - val_loss: 0.6769 - val_accuracy: 0.5682\n",
      "Epoch 89/200\n",
      "19/19 [==============================] - 0s 2ms/step - loss: 0.5654 - accuracy: 0.6983 - val_loss: 0.6771 - val_accuracy: 0.5682\n",
      "Epoch 90/200\n",
      "19/19 [==============================] - 0s 2ms/step - loss: 0.5636 - accuracy: 0.6983 - val_loss: 0.6768 - val_accuracy: 0.5682\n",
      "Epoch 91/200\n",
      "19/19 [==============================] - 0s 2ms/step - loss: 0.5634 - accuracy: 0.6950 - val_loss: 0.6767 - val_accuracy: 0.5773\n",
      "Epoch 92/200\n",
      "19/19 [==============================] - 0s 2ms/step - loss: 0.5618 - accuracy: 0.7000 - val_loss: 0.6785 - val_accuracy: 0.5682\n",
      "Epoch 93/200\n",
      "19/19 [==============================] - 0s 2ms/step - loss: 0.5612 - accuracy: 0.7000 - val_loss: 0.6792 - val_accuracy: 0.5773\n",
      "Epoch 94/200\n",
      "19/19 [==============================] - 0s 2ms/step - loss: 0.5611 - accuracy: 0.7033 - val_loss: 0.6770 - val_accuracy: 0.5727\n",
      "Epoch 95/200\n",
      "19/19 [==============================] - 0s 2ms/step - loss: 0.5600 - accuracy: 0.6983 - val_loss: 0.6782 - val_accuracy: 0.5773\n",
      "Epoch 96/200\n",
      "19/19 [==============================] - 0s 2ms/step - loss: 0.5585 - accuracy: 0.7017 - val_loss: 0.6790 - val_accuracy: 0.5682\n",
      "Epoch 97/200\n",
      "19/19 [==============================] - 0s 2ms/step - loss: 0.5580 - accuracy: 0.7000 - val_loss: 0.6782 - val_accuracy: 0.5818\n",
      "Epoch 98/200\n",
      "19/19 [==============================] - 0s 3ms/step - loss: 0.5572 - accuracy: 0.7033 - val_loss: 0.6801 - val_accuracy: 0.5727\n",
      "Epoch 99/200\n",
      "19/19 [==============================] - 0s 2ms/step - loss: 0.5570 - accuracy: 0.6983 - val_loss: 0.6786 - val_accuracy: 0.5818\n",
      "Epoch 100/200\n",
      "19/19 [==============================] - 0s 3ms/step - loss: 0.5564 - accuracy: 0.7033 - val_loss: 0.6806 - val_accuracy: 0.5773\n",
      "Epoch 101/200\n",
      "19/19 [==============================] - 0s 3ms/step - loss: 0.5559 - accuracy: 0.7083 - val_loss: 0.6802 - val_accuracy: 0.5773\n",
      "Epoch 102/200\n",
      "19/19 [==============================] - 0s 3ms/step - loss: 0.5551 - accuracy: 0.7033 - val_loss: 0.6811 - val_accuracy: 0.5727\n",
      "Epoch 103/200\n",
      "19/19 [==============================] - 0s 2ms/step - loss: 0.5541 - accuracy: 0.7083 - val_loss: 0.6833 - val_accuracy: 0.5727\n",
      "Epoch 104/200\n",
      "19/19 [==============================] - 0s 3ms/step - loss: 0.5530 - accuracy: 0.7050 - val_loss: 0.6819 - val_accuracy: 0.5727\n",
      "Epoch 105/200\n",
      "19/19 [==============================] - 0s 3ms/step - loss: 0.5534 - accuracy: 0.7067 - val_loss: 0.6797 - val_accuracy: 0.5818\n",
      "Epoch 106/200\n",
      "19/19 [==============================] - 0s 3ms/step - loss: 0.5524 - accuracy: 0.7083 - val_loss: 0.6832 - val_accuracy: 0.5727\n",
      "Epoch 107/200\n",
      "19/19 [==============================] - 0s 2ms/step - loss: 0.5520 - accuracy: 0.7117 - val_loss: 0.6843 - val_accuracy: 0.5909\n",
      "Epoch 108/200\n",
      "19/19 [==============================] - 0s 2ms/step - loss: 0.5512 - accuracy: 0.7117 - val_loss: 0.6852 - val_accuracy: 0.5864\n",
      "Epoch 109/200\n",
      "19/19 [==============================] - 0s 2ms/step - loss: 0.5516 - accuracy: 0.7067 - val_loss: 0.6829 - val_accuracy: 0.5773\n",
      "Epoch 110/200\n",
      "19/19 [==============================] - 0s 2ms/step - loss: 0.5495 - accuracy: 0.7133 - val_loss: 0.6850 - val_accuracy: 0.5818\n",
      "Epoch 111/200\n",
      "19/19 [==============================] - 0s 2ms/step - loss: 0.5504 - accuracy: 0.7100 - val_loss: 0.6851 - val_accuracy: 0.5773\n",
      "Epoch 112/200\n",
      "19/19 [==============================] - 0s 3ms/step - loss: 0.5488 - accuracy: 0.7067 - val_loss: 0.6858 - val_accuracy: 0.5818\n",
      "Epoch 113/200\n",
      "19/19 [==============================] - 0s 2ms/step - loss: 0.5478 - accuracy: 0.7083 - val_loss: 0.6865 - val_accuracy: 0.5864\n",
      "Epoch 114/200\n",
      "19/19 [==============================] - 0s 3ms/step - loss: 0.5473 - accuracy: 0.7100 - val_loss: 0.6877 - val_accuracy: 0.5864\n",
      "Epoch 115/200\n",
      "19/19 [==============================] - 0s 2ms/step - loss: 0.5477 - accuracy: 0.7067 - val_loss: 0.6866 - val_accuracy: 0.5909\n",
      "Epoch 116/200\n"
     ]
    },
    {
     "name": "stdout",
     "output_type": "stream",
     "text": [
      "19/19 [==============================] - 0s 2ms/step - loss: 0.5472 - accuracy: 0.7100 - val_loss: 0.6874 - val_accuracy: 0.5864\n",
      "Epoch 117/200\n",
      "19/19 [==============================] - 0s 3ms/step - loss: 0.5468 - accuracy: 0.7133 - val_loss: 0.6893 - val_accuracy: 0.5909\n",
      "Epoch 118/200\n",
      "19/19 [==============================] - 0s 2ms/step - loss: 0.5458 - accuracy: 0.7067 - val_loss: 0.6889 - val_accuracy: 0.5727\n",
      "Epoch 119/200\n",
      "19/19 [==============================] - 0s 2ms/step - loss: 0.5454 - accuracy: 0.7083 - val_loss: 0.6882 - val_accuracy: 0.5773\n",
      "Epoch 120/200\n",
      "19/19 [==============================] - 0s 3ms/step - loss: 0.5446 - accuracy: 0.7133 - val_loss: 0.6905 - val_accuracy: 0.5909\n",
      "Epoch 121/200\n",
      "19/19 [==============================] - 0s 2ms/step - loss: 0.5435 - accuracy: 0.7117 - val_loss: 0.6901 - val_accuracy: 0.5727\n",
      "Epoch 122/200\n",
      "19/19 [==============================] - 0s 2ms/step - loss: 0.5431 - accuracy: 0.7150 - val_loss: 0.6932 - val_accuracy: 0.5773\n",
      "Epoch 123/200\n",
      "19/19 [==============================] - 0s 2ms/step - loss: 0.5424 - accuracy: 0.7083 - val_loss: 0.6924 - val_accuracy: 0.5818\n",
      "Epoch 124/200\n",
      "19/19 [==============================] - 0s 3ms/step - loss: 0.5426 - accuracy: 0.7100 - val_loss: 0.6931 - val_accuracy: 0.5864\n",
      "Epoch 125/200\n",
      "19/19 [==============================] - 0s 2ms/step - loss: 0.5419 - accuracy: 0.7100 - val_loss: 0.6961 - val_accuracy: 0.5773\n",
      "Epoch 126/200\n",
      "19/19 [==============================] - 0s 2ms/step - loss: 0.5411 - accuracy: 0.7117 - val_loss: 0.6955 - val_accuracy: 0.5727\n",
      "Epoch 127/200\n",
      "19/19 [==============================] - 0s 2ms/step - loss: 0.5407 - accuracy: 0.7083 - val_loss: 0.6937 - val_accuracy: 0.5909\n",
      "Epoch 128/200\n",
      "19/19 [==============================] - 0s 2ms/step - loss: 0.5420 - accuracy: 0.7083 - val_loss: 0.6984 - val_accuracy: 0.5773\n",
      "Epoch 129/200\n",
      "19/19 [==============================] - 0s 2ms/step - loss: 0.5399 - accuracy: 0.7117 - val_loss: 0.6983 - val_accuracy: 0.5682\n",
      "Epoch 130/200\n",
      "19/19 [==============================] - 0s 2ms/step - loss: 0.5395 - accuracy: 0.7083 - val_loss: 0.6958 - val_accuracy: 0.5818\n",
      "Epoch 131/200\n",
      "19/19 [==============================] - 0s 2ms/step - loss: 0.5388 - accuracy: 0.7100 - val_loss: 0.6997 - val_accuracy: 0.5727\n",
      "Epoch 132/200\n",
      "19/19 [==============================] - 0s 3ms/step - loss: 0.5394 - accuracy: 0.7100 - val_loss: 0.6990 - val_accuracy: 0.5636\n",
      "Epoch 133/200\n",
      "19/19 [==============================] - 0s 2ms/step - loss: 0.5377 - accuracy: 0.7117 - val_loss: 0.6993 - val_accuracy: 0.5864\n",
      "Epoch 134/200\n",
      "19/19 [==============================] - 0s 2ms/step - loss: 0.5374 - accuracy: 0.7150 - val_loss: 0.6989 - val_accuracy: 0.5909\n",
      "Epoch 135/200\n",
      "19/19 [==============================] - 0s 2ms/step - loss: 0.5367 - accuracy: 0.7117 - val_loss: 0.7019 - val_accuracy: 0.5864\n",
      "Epoch 136/200\n",
      "19/19 [==============================] - 0s 2ms/step - loss: 0.5357 - accuracy: 0.7133 - val_loss: 0.7027 - val_accuracy: 0.5682\n",
      "Epoch 137/200\n",
      "19/19 [==============================] - 0s 2ms/step - loss: 0.5366 - accuracy: 0.7150 - val_loss: 0.7030 - val_accuracy: 0.5682\n",
      "Epoch 138/200\n",
      "19/19 [==============================] - 0s 2ms/step - loss: 0.5355 - accuracy: 0.7083 - val_loss: 0.7032 - val_accuracy: 0.5591\n",
      "Epoch 139/200\n",
      "19/19 [==============================] - 0s 2ms/step - loss: 0.5358 - accuracy: 0.7150 - val_loss: 0.7043 - val_accuracy: 0.5773\n",
      "Epoch 140/200\n",
      "19/19 [==============================] - 0s 2ms/step - loss: 0.5344 - accuracy: 0.7117 - val_loss: 0.7062 - val_accuracy: 0.5636\n",
      "Epoch 141/200\n",
      "19/19 [==============================] - 0s 2ms/step - loss: 0.5342 - accuracy: 0.7167 - val_loss: 0.7070 - val_accuracy: 0.5818\n",
      "Epoch 142/200\n",
      "19/19 [==============================] - 0s 3ms/step - loss: 0.5333 - accuracy: 0.7217 - val_loss: 0.7055 - val_accuracy: 0.5773\n",
      "Epoch 143/200\n",
      "19/19 [==============================] - 0s 3ms/step - loss: 0.5325 - accuracy: 0.7133 - val_loss: 0.7053 - val_accuracy: 0.5636\n",
      "Epoch 144/200\n",
      "19/19 [==============================] - 0s 3ms/step - loss: 0.5337 - accuracy: 0.7050 - val_loss: 0.7075 - val_accuracy: 0.5682\n",
      "Epoch 145/200\n",
      "19/19 [==============================] - 0s 3ms/step - loss: 0.5329 - accuracy: 0.7133 - val_loss: 0.7087 - val_accuracy: 0.5773\n",
      "Epoch 146/200\n",
      "19/19 [==============================] - 0s 2ms/step - loss: 0.5315 - accuracy: 0.7117 - val_loss: 0.7072 - val_accuracy: 0.5682\n",
      "Epoch 147/200\n",
      "19/19 [==============================] - 0s 2ms/step - loss: 0.5322 - accuracy: 0.7117 - val_loss: 0.7105 - val_accuracy: 0.5727\n",
      "Epoch 148/200\n",
      "19/19 [==============================] - 0s 2ms/step - loss: 0.5313 - accuracy: 0.7133 - val_loss: 0.7090 - val_accuracy: 0.5773\n",
      "Epoch 149/200\n",
      "19/19 [==============================] - 0s 2ms/step - loss: 0.5310 - accuracy: 0.7117 - val_loss: 0.7076 - val_accuracy: 0.5682\n",
      "Epoch 150/200\n",
      "19/19 [==============================] - 0s 2ms/step - loss: 0.5307 - accuracy: 0.7133 - val_loss: 0.7115 - val_accuracy: 0.5636\n",
      "Epoch 151/200\n",
      "19/19 [==============================] - 0s 2ms/step - loss: 0.5303 - accuracy: 0.7100 - val_loss: 0.7108 - val_accuracy: 0.5636\n",
      "Epoch 152/200\n",
      "19/19 [==============================] - 0s 2ms/step - loss: 0.5297 - accuracy: 0.7167 - val_loss: 0.7144 - val_accuracy: 0.5636\n",
      "Epoch 153/200\n",
      "19/19 [==============================] - 0s 2ms/step - loss: 0.5289 - accuracy: 0.7117 - val_loss: 0.7141 - val_accuracy: 0.5727\n",
      "Epoch 154/200\n",
      "19/19 [==============================] - 0s 2ms/step - loss: 0.5300 - accuracy: 0.7083 - val_loss: 0.7159 - val_accuracy: 0.5773\n",
      "Epoch 155/200\n",
      "19/19 [==============================] - 0s 2ms/step - loss: 0.5292 - accuracy: 0.7200 - val_loss: 0.7144 - val_accuracy: 0.5727\n",
      "Epoch 156/200\n",
      "19/19 [==============================] - 0s 2ms/step - loss: 0.5290 - accuracy: 0.7167 - val_loss: 0.7154 - val_accuracy: 0.5818\n",
      "Epoch 157/200\n",
      "19/19 [==============================] - 0s 3ms/step - loss: 0.5278 - accuracy: 0.7167 - val_loss: 0.7129 - val_accuracy: 0.5727\n",
      "Epoch 158/200\n",
      "19/19 [==============================] - 0s 2ms/step - loss: 0.5277 - accuracy: 0.7150 - val_loss: 0.7164 - val_accuracy: 0.5545\n",
      "Epoch 159/200\n",
      "19/19 [==============================] - 0s 2ms/step - loss: 0.5266 - accuracy: 0.7167 - val_loss: 0.7177 - val_accuracy: 0.5682\n",
      "Epoch 160/200\n",
      "19/19 [==============================] - 0s 2ms/step - loss: 0.5272 - accuracy: 0.7183 - val_loss: 0.7179 - val_accuracy: 0.5682\n",
      "Epoch 161/200\n",
      "19/19 [==============================] - 0s 2ms/step - loss: 0.5268 - accuracy: 0.7150 - val_loss: 0.7200 - val_accuracy: 0.5591\n",
      "Epoch 162/200\n",
      "19/19 [==============================] - 0s 2ms/step - loss: 0.5257 - accuracy: 0.7167 - val_loss: 0.7188 - val_accuracy: 0.5636\n",
      "Epoch 163/200\n",
      "19/19 [==============================] - 0s 2ms/step - loss: 0.5281 - accuracy: 0.7117 - val_loss: 0.7203 - val_accuracy: 0.5591\n",
      "Epoch 164/200\n",
      "19/19 [==============================] - 0s 2ms/step - loss: 0.5264 - accuracy: 0.7167 - val_loss: 0.7209 - val_accuracy: 0.5682\n",
      "Epoch 165/200\n",
      "19/19 [==============================] - 0s 2ms/step - loss: 0.5247 - accuracy: 0.7233 - val_loss: 0.7216 - val_accuracy: 0.5682\n",
      "Epoch 166/200\n",
      "19/19 [==============================] - 0s 2ms/step - loss: 0.5268 - accuracy: 0.7183 - val_loss: 0.7212 - val_accuracy: 0.5591\n",
      "Epoch 167/200\n",
      "19/19 [==============================] - 0s 2ms/step - loss: 0.5237 - accuracy: 0.7167 - val_loss: 0.7232 - val_accuracy: 0.5682\n",
      "Epoch 168/200\n",
      "19/19 [==============================] - 0s 3ms/step - loss: 0.5243 - accuracy: 0.7200 - val_loss: 0.7240 - val_accuracy: 0.5727\n",
      "Epoch 169/200\n",
      "19/19 [==============================] - 0s 2ms/step - loss: 0.5246 - accuracy: 0.7217 - val_loss: 0.7213 - val_accuracy: 0.5636\n",
      "Epoch 170/200\n",
      "19/19 [==============================] - 0s 2ms/step - loss: 0.5237 - accuracy: 0.7217 - val_loss: 0.7252 - val_accuracy: 0.5727\n",
      "Epoch 171/200\n",
      "19/19 [==============================] - 0s 2ms/step - loss: 0.5234 - accuracy: 0.7183 - val_loss: 0.7266 - val_accuracy: 0.5636\n",
      "Epoch 172/200\n",
      "19/19 [==============================] - 0s 2ms/step - loss: 0.5226 - accuracy: 0.7250 - val_loss: 0.7262 - val_accuracy: 0.5727\n",
      "Epoch 173/200\n"
     ]
    },
    {
     "name": "stdout",
     "output_type": "stream",
     "text": [
      "19/19 [==============================] - 0s 2ms/step - loss: 0.5225 - accuracy: 0.7233 - val_loss: 0.7247 - val_accuracy: 0.5636\n",
      "Epoch 174/200\n",
      "19/19 [==============================] - 0s 2ms/step - loss: 0.5224 - accuracy: 0.7233 - val_loss: 0.7254 - val_accuracy: 0.5636\n",
      "Epoch 175/200\n",
      "19/19 [==============================] - 0s 2ms/step - loss: 0.5216 - accuracy: 0.7233 - val_loss: 0.7280 - val_accuracy: 0.5682\n",
      "Epoch 176/200\n",
      "19/19 [==============================] - 0s 2ms/step - loss: 0.5216 - accuracy: 0.7233 - val_loss: 0.7285 - val_accuracy: 0.5545\n",
      "Epoch 177/200\n",
      "19/19 [==============================] - 0s 2ms/step - loss: 0.5218 - accuracy: 0.7183 - val_loss: 0.7292 - val_accuracy: 0.5591\n",
      "Epoch 178/200\n",
      "19/19 [==============================] - 0s 2ms/step - loss: 0.5208 - accuracy: 0.7267 - val_loss: 0.7306 - val_accuracy: 0.5727\n",
      "Epoch 179/200\n",
      "19/19 [==============================] - 0s 2ms/step - loss: 0.5202 - accuracy: 0.7300 - val_loss: 0.7297 - val_accuracy: 0.5682\n",
      "Epoch 180/200\n",
      "19/19 [==============================] - 0s 3ms/step - loss: 0.5207 - accuracy: 0.7233 - val_loss: 0.7292 - val_accuracy: 0.5727\n",
      "Epoch 181/200\n",
      "19/19 [==============================] - 0s 3ms/step - loss: 0.5216 - accuracy: 0.7183 - val_loss: 0.7336 - val_accuracy: 0.5545\n",
      "Epoch 182/200\n",
      "19/19 [==============================] - 0s 2ms/step - loss: 0.5200 - accuracy: 0.7300 - val_loss: 0.7338 - val_accuracy: 0.5773\n",
      "Epoch 183/200\n",
      "19/19 [==============================] - 0s 3ms/step - loss: 0.5191 - accuracy: 0.7250 - val_loss: 0.7308 - val_accuracy: 0.5727\n",
      "Epoch 184/200\n",
      "19/19 [==============================] - 0s 2ms/step - loss: 0.5192 - accuracy: 0.7217 - val_loss: 0.7319 - val_accuracy: 0.5591\n",
      "Epoch 185/200\n",
      "19/19 [==============================] - 0s 3ms/step - loss: 0.5192 - accuracy: 0.7250 - val_loss: 0.7347 - val_accuracy: 0.5636\n",
      "Epoch 186/200\n",
      "19/19 [==============================] - 0s 2ms/step - loss: 0.5187 - accuracy: 0.7267 - val_loss: 0.7333 - val_accuracy: 0.5636\n",
      "Epoch 187/200\n",
      "19/19 [==============================] - 0s 2ms/step - loss: 0.5179 - accuracy: 0.7217 - val_loss: 0.7344 - val_accuracy: 0.5727\n",
      "Epoch 188/200\n",
      "19/19 [==============================] - 0s 2ms/step - loss: 0.5180 - accuracy: 0.7267 - val_loss: 0.7341 - val_accuracy: 0.5682\n",
      "Epoch 189/200\n",
      "19/19 [==============================] - 0s 2ms/step - loss: 0.5178 - accuracy: 0.7300 - val_loss: 0.7366 - val_accuracy: 0.5636\n",
      "Epoch 190/200\n",
      "19/19 [==============================] - 0s 2ms/step - loss: 0.5176 - accuracy: 0.7300 - val_loss: 0.7362 - val_accuracy: 0.5682\n",
      "Epoch 191/200\n",
      "19/19 [==============================] - 0s 2ms/step - loss: 0.5168 - accuracy: 0.7383 - val_loss: 0.7370 - val_accuracy: 0.5727\n",
      "Epoch 192/200\n",
      "19/19 [==============================] - 0s 2ms/step - loss: 0.5183 - accuracy: 0.7300 - val_loss: 0.7355 - val_accuracy: 0.5545\n",
      "Epoch 193/200\n",
      "19/19 [==============================] - 0s 2ms/step - loss: 0.5159 - accuracy: 0.7233 - val_loss: 0.7378 - val_accuracy: 0.5682\n",
      "Epoch 194/200\n",
      "19/19 [==============================] - 0s 3ms/step - loss: 0.5176 - accuracy: 0.7200 - val_loss: 0.7397 - val_accuracy: 0.5682\n",
      "Epoch 195/200\n",
      "19/19 [==============================] - 0s 3ms/step - loss: 0.5166 - accuracy: 0.7350 - val_loss: 0.7356 - val_accuracy: 0.5773\n",
      "Epoch 196/200\n",
      "19/19 [==============================] - 0s 3ms/step - loss: 0.5169 - accuracy: 0.7267 - val_loss: 0.7383 - val_accuracy: 0.5591\n",
      "Epoch 197/200\n",
      "19/19 [==============================] - 0s 2ms/step - loss: 0.5166 - accuracy: 0.7333 - val_loss: 0.7404 - val_accuracy: 0.5727\n",
      "Epoch 198/200\n",
      "19/19 [==============================] - 0s 2ms/step - loss: 0.5153 - accuracy: 0.7300 - val_loss: 0.7388 - val_accuracy: 0.5591\n",
      "Epoch 199/200\n",
      "19/19 [==============================] - 0s 2ms/step - loss: 0.5158 - accuracy: 0.7283 - val_loss: 0.7398 - val_accuracy: 0.5591\n",
      "Epoch 200/200\n",
      "19/19 [==============================] - 0s 2ms/step - loss: 0.5159 - accuracy: 0.7367 - val_loss: 0.7434 - val_accuracy: 0.5682\n"
     ]
    }
   ],
   "source": [
    "history = model.fit(Train_Data, Train_Data_Label, epochs = 200, validation_data = (valid_Data, valid_Data_Label))"
   ]
  },
  {
   "cell_type": "code",
   "execution_count": 406,
   "metadata": {},
   "outputs": [
    {
     "data": {
      "image/png": "[encoded data removed]",
      "text/plain": [
       "<Figure size 720x360 with 1 Axes>"
      ]
     },
     "metadata": {
      "needs_background": "light"
     },
     "output_type": "display_data"
    }
   ],
   "source": [
    "pd.DataFrame(history.history).plot(figsize = (10, 5))\n",
    "plt.grid(True)\n",
    "plt.show()"
   ]
  },
  {
   "cell_type": "code",
   "execution_count": 389,
   "metadata": {},
   "outputs": [
    {
     "name": "stdout",
     "output_type": "stream",
     "text": [
      "7/7 [==============================] - 0s 3ms/step - loss: 0.6219 - accuracy: 0.6622\n",
      "test_loss :  0.6218793988227844 test_acc :  0.662162184715271\n"
     ]
    }
   ],
   "source": [
    "test_loss, test_acc = model.evaluate(Test_Data, Test_Data_Label, verbose=1)\n",
    "print('test_loss : ', test_loss, 'test_acc : ', test_acc)"
   ]
  },
  {
   "cell_type": "markdown",
   "metadata": {},
   "source": [
    "# 사용할 데이터 정하는 과정"
   ]
  },
  {
   "cell_type": "code",
   "execution_count": 413,
   "metadata": {},
   "outputs": [],
   "source": [
    "Cal_Data = Cal_Total_Data_add_Gender[120]\n",
    "Cal_Data = Cal_Data.reshape(-1, 10)\n",
    "Cal_Data_Label_ = Cal_Total_Data_Label[120]"
   ]
  },
  {
   "cell_type": "code",
   "execution_count": null,
   "metadata": {},
   "outputs": [],
   "source": [
    "Normal_generated_Data_Samples = generator1(Cal_Data, training = False)\n",
    "Sepsis_generated_Data_Samples = generator2(Cal_Data, training = False)"
   ]
  },
  {
   "cell_type": "code",
   "execution_count": 392,
   "metadata": {},
   "outputs": [],
   "source": [
    "Normal_generated_Data_Samples = np.array(Normal_generated_Data_Samples)\n",
    "Sepsis_generated_Data_Samples = np.array(Sepsis_generated_Data_Samples)"
   ]
  },
  {
   "cell_type": "code",
   "execution_count": 393,
   "metadata": {},
   "outputs": [],
   "source": [
    "Cal_Data_1 = Cal_Data.reshape(-1, 10)\n",
    "Cal_Data_2 = Cal_Data.reshape(-1, 10)\n",
    "\n",
    "Cal_Data_1 = np.array(Cal_Data_1)\n",
    "Cal_Data_2 = np.array(Cal_Data_2)\n",
    "\n",
    "Cal_Data_1 = list(itertools.chain.from_iterable(Cal_Data_1))\n",
    "Cal_Data_2 = list(itertools.chain.from_iterable(Cal_Data_2))\n",
    "Cal_Data_1 = np.array(Cal_Data_1)\n",
    "Cal_Data_2 = np.array(Cal_Data_2)\n",
    "\n",
    "\n",
    "Normal_generated_Data_Samples = list(itertools.chain.from_iterable(Normal_generated_Data_Samples))\n",
    "Sepsis_generated_Data_Samples = list(itertools.chain.from_iterable(Sepsis_generated_Data_Samples))\n",
    "Normal_generated_Data_Samples = np.array(Normal_generated_Data_Samples)\n",
    "Sepsis_generated_Data_Samples = np.array(Sepsis_generated_Data_Samples)"
   ]
  },
  {
   "cell_type": "code",
   "execution_count": 394,
   "metadata": {},
   "outputs": [],
   "source": [
    "Cal_Data_1[-5:-2] = Normal_generated_Data_Samples[-5:-2]\n",
    "Cal_Data_2[-5:-2] = Sepsis_generated_Data_Samples[-5:-2]"
   ]
  },
  {
   "cell_type": "code",
   "execution_count": 395,
   "metadata": {},
   "outputs": [
    {
     "data": {
      "text/plain": [
       "array([-0.91968808,  0.36336275, -1.06276742,  1.02151067, -1.25785689,\n",
       "       -0.25757724, -0.19817518, -0.28352803,  0.48288184,  0.        ])"
      ]
     },
     "execution_count": 395,
     "metadata": {},
     "output_type": "execute_result"
    }
   ],
   "source": [
    "Cal_Data_1"
   ]
  },
  {
   "cell_type": "code",
   "execution_count": 396,
   "metadata": {},
   "outputs": [
    {
     "data": {
      "text/plain": [
       "array([-0.91968808,  0.36336275, -1.06276742,  1.02151067, -1.25785689,\n",
       "       -0.23330732, -0.21359199,  0.68736023,  0.48288184,  0.        ])"
      ]
     },
     "execution_count": 396,
     "metadata": {},
     "output_type": "execute_result"
    }
   ],
   "source": [
    "Cal_Data_2"
   ]
  },
  {
   "cell_type": "code",
   "execution_count": 397,
   "metadata": {},
   "outputs": [],
   "source": [
    "Cal_Data_1 = Cal_Data_1.reshape(-1, 10)\n",
    "Cal_Data_2 = Cal_Data_2.reshape(-1, 10)"
   ]
  },
  {
   "cell_type": "markdown",
   "metadata": {},
   "source": [
    "# 분류 모델 예측"
   ]
  },
  {
   "cell_type": "code",
   "execution_count": 398,
   "metadata": {},
   "outputs": [],
   "source": [
    "pre_data1 = model.predict(Cal_Data_1)\n",
    "pre_data2 = model.predict(Cal_Data_2)"
   ]
  },
  {
   "cell_type": "code",
   "execution_count": 399,
   "metadata": {},
   "outputs": [
    {
     "name": "stdout",
     "output_type": "stream",
     "text": [
      "정상 예측 :  [[0.3068961 0.7137322]] 패혈증 예측 :  [[0.31090197 0.7111054 ]]\n"
     ]
    }
   ],
   "source": [
    "print('정상 예측 : ', pre_data1, '패혈증 예측 : ', pre_data2)"
   ]
  },
  {
   "cell_type": "code",
   "execution_count": 400,
   "metadata": {},
   "outputs": [
    {
     "data": {
      "text/plain": [
       "0.0"
      ]
     },
     "execution_count": 400,
     "metadata": {},
     "output_type": "execute_result"
    }
   ],
   "source": [
    "Cal_Data_Label_"
   ]
  },
  {
   "cell_type": "code",
   "execution_count": null,
   "metadata": {},
   "outputs": [],
   "source": []
  }
 ],
 "metadata": {
  "kernelspec": {
   "display_name": "Python 3",
   "language": "python",
   "name": "python3"
  },
  "language_info": {
   "codemirror_mode": {
    "name": "ipython",
    "version": 3
   },
   "file_extension": ".py",
   "mimetype": "text/x-python",
   "name": "python",
   "nbconvert_exporter": "python",
   "pygments_lexer": "ipython3",
   "version": "3.6.12"
  }
 },
 "nbformat": 4,
 "nbformat_minor": 4
}
