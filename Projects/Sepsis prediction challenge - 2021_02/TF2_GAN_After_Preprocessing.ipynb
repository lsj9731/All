{
 "cells": [
  {
   "cell_type": "code",
   "execution_count": 1,
   "metadata": {},
   "outputs": [],
   "source": [
    "import numpy as np\n",
    "import matplotlib.pyplot as plt\n",
    "import csv\n",
    "import pandas as pd\n",
    "import os\n",
    "import tensorflow as tf\n",
    "import sys\n",
    "import seaborn as sns\n",
    "import scipy\n",
    "from sklearn.preprocessing import OneHotEncoder\n",
    "from sklearn.preprocessing import minmax_scale\n",
    "from tensorflow import keras\n",
    "import random\n",
    "\n",
    "pd.set_option('display.max_columns', 500)\n",
    "pd.set_option('display.max_row', 100)\n",
    "\n",
    "from keras import backend as K\n",
    "K.clear_session()\n",
    "tf.compat.v1.reset_default_graph()"
   ]
  },
  {
   "cell_type": "code",
   "execution_count": 2,
   "metadata": {},
   "outputs": [
    {
     "name": "stdout",
     "output_type": "stream",
     "text": [
      "Full_Data_shape :  (1042, 11) Cal_Full_Data_Shape :  (1042, 11)\n",
      "Gender_shape :  (1042,) Cal_Gender_shape :  (1042,)\n",
      "Full_Data_shape :  (1042, 11) Cal_Full_Data_Shape :  (1042, 11)\n",
      "Gender_shape :  (1042,) Cal_Gender_shape :  (1042,)\n"
     ]
    }
   ],
   "source": [
    "Total_Data_add_Gender = np.load('./Data/Full_Data_After_Pre.npy')\n",
    "Cal_Total_Data_add_Gender = np.load('./Data/Cal_Full_Data_After_Pre.npy')\n",
    "Total_Data_Gender = np.load('./Data/Total_Data_Gender.npy')\n",
    "Cal_Total_Data_Gender = np.load('./Data/Cal_Total_Data_Gender.npy')\n",
    "Total_Data_std = np.load('./Data/Total_Data_std.npy')\n",
    "Total_Data_mean =np.load('./Data/Total_Data_mean.npy')\n",
    "\n",
    "print('Full_Data_shape : ', Total_Data_add_Gender.shape, 'Cal_Full_Data_Shape : ', Cal_Total_Data_add_Gender.shape)\n",
    "print('Gender_shape : ', Total_Data_Gender.shape, 'Cal_Gender_shape : ', Cal_Total_Data_Gender.shape)\n",
    "\n",
    "\n",
    "# test\n",
    "\n",
    "Total_Data_add_Gender_Test = np.load('./Data/Full_Data_After_Pre_Test.npy')\n",
    "Cal_Total_Data_add_Gender_Test = np.load('./Data/Cal_Full_Data_After_Pre_Test.npy')\n",
    "Total_Data_Gender_Test = np.load('./Data/Total_Data_Gender_Test.npy')\n",
    "Cal_Total_Data_Gender_Test = np.load('./Data/Cal_Total_Data_Gender_Test.npy')\n",
    "Total_Data_std_Test = np.load('./Data/Total_Data_std_Test.npy')\n",
    "Total_Data_mean_Test = np.load('./Data/Total_Data_mean_Test.npy')\n",
    "\n",
    "print('Full_Data_shape : ', Total_Data_add_Gender_Test.shape, 'Cal_Full_Data_Shape : ', Cal_Total_Data_add_Gender_Test.shape)\n",
    "print('Gender_shape : ', Total_Data_Gender_Test.shape, 'Cal_Gender_shape : ', Cal_Total_Data_Gender_Test.shape)"
   ]
  },
  {
   "cell_type": "markdown",
   "metadata": {},
   "source": [
    "# test"
   ]
  },
  {
   "cell_type": "markdown",
   "metadata": {},
   "source": [
    "# d"
   ]
  },
  {
   "cell_type": "code",
   "execution_count": 3,
   "metadata": {},
   "outputs": [],
   "source": [
    "def make_noise():\n",
    "    random0 = np.random.randn(len(Total_Data_add_Gender)).reshape(-1, 1)\n",
    "\n",
    "    random1 = np.random.power(6, len(Total_Data_add_Gender)).reshape(-1, 1)\n",
    "\n",
    "    random2 = np.random.randn(len(Total_Data_add_Gender)).reshape(-1, 1)\n",
    "\n",
    "    random3 = np.random.randn(len(Total_Data_add_Gender)).reshape(-1, 1)\n",
    "\n",
    "    random4 = np.random.randn(len(Total_Data_add_Gender)).reshape(-1, 1)\n",
    "\n",
    "    random5 = np.random.exponential(scale = 1.0, size = len(Total_Data_add_Gender)).reshape(-1, 1)\n",
    "    random5 = minmax_scale(random5, feature_range=(0, 1), axis = 0, copy = True)\n",
    "\n",
    "    random6 = np.random.exponential(scale = 1.0, size = len(Total_Data_add_Gender)).reshape(-1, 1)\n",
    "    random6 = minmax_scale(random6, feature_range=(0, 15), axis = 0, copy = True)\n",
    "\n",
    "    random7 = np.random.randn(len(Total_Data_add_Gender)).reshape(-1, 1)\n",
    "\n",
    "    random8 = np.random.randn(len(Total_Data_add_Gender)).reshape(-1, 1)\n",
    "\n",
    "    temp1 = []\n",
    "    random9 = np.eye(2)[np.random.choice(2, len(Total_Data_add_Gender))]\n",
    "    for i in random9:\n",
    "        temp1.append(i[0])\n",
    "    temp1 = np.array(temp1).reshape(-1, 1)\n",
    "    random9 = temp1\n",
    "\n",
    "    temp2 = []\n",
    "    random10 = np.eye(2)[np.random.choice(2, len(Total_Data_add_Gender))]\n",
    "    for i in random10:\n",
    "        temp2.append(i[0])\n",
    "    temp2 = np.array(temp2).reshape(-1, 1)\n",
    "    random10 = temp2\n",
    "    \n",
    "\n",
    "    concat_noise = np.concatenate((random0, random1, random2, random3, random4, random5, random6, random7, random8, random9, random10), axis = 1)\n",
    "    \n",
    "    return concat_noise"
   ]
  },
  {
   "cell_type": "code",
   "execution_count": 4,
   "metadata": {},
   "outputs": [],
   "source": [
    "generator = keras.models.Sequential([\n",
    "    keras.layers.Dense(30, input_shape=[11]),\n",
    "        keras.layers.BatchNormalization(),\n",
    "        keras.layers.LeakyReLU(alpha = 0.2),\n",
    "        keras.layers.Dense(60),\n",
    "        keras.layers.BatchNormalization(),\n",
    "        keras.layers.LeakyReLU(alpha = 0.2),\n",
    "        keras.layers.Dense(30),\n",
    "        keras.layers.BatchNormalization(),\n",
    "        keras.layers.LeakyReLU(alpha = 0.2),\n",
    "        keras.layers.Dense(11)\n",
    "])\n",
    "\n",
    "discriminator = keras.models.Sequential([\n",
    "    keras.layers.Dense(30),\n",
    "        keras.layers.LeakyReLU(alpha = 0.2),\n",
    "        keras.layers.Dropout(0.3),\n",
    "        keras.layers.Dense(60),\n",
    "        keras.layers.LeakyReLU(alpha = 0.2),\n",
    "        keras.layers.Dropout(0.3),\n",
    "        keras.layers.Dense(30),\n",
    "        keras.layers.LeakyReLU(alpha = 0.2),\n",
    "        keras.layers.Dropout(0.3),\n",
    "        keras.layers.Dense(11)\n",
    "])\n",
    "gan = keras.models.Sequential([generator, discriminator])\n",
    "\n",
    "discriminator.compile(loss=\"binary_crossentropy\", optimizer=\"adam\")\n",
    "discriminator.trainable = False\n",
    "gan.compile(loss=\"binary_crossentropy\", optimizer=\"adam\")"
   ]
  },
  {
   "cell_type": "code",
   "execution_count": 5,
   "metadata": {},
   "outputs": [],
   "source": [
    "def train_gan(gan, dataset, n_epochs=500):\n",
    "    generator, discriminator = gan.layers\n",
    "    for epoch in range(n_epochs):\n",
    "    # phase 1 - training the discriminator\n",
    "        noise_ = make_noise()\n",
    "        generated_data = generator(noise_)\n",
    "        X_fake_and_real = tf.concat([generated_data, dataset], axis=0)\n",
    "        y1 = tf.constant([[0.]] * len(dataset) + [[1.]] * len(dataset))\n",
    "        discriminator.trainable = True\n",
    "        d_loss = discriminator.train_on_batch(X_fake_and_real, y1)\n",
    "            \n",
    "    # phase 2 - training the generator\n",
    "        _noise = make_noise()\n",
    "        y2 = tf.constant([[1.]] * len(dataset))\n",
    "        discriminator.trainable = False\n",
    "        g_loss = gan.train_on_batch(_noise, y2)\n",
    "        if epoch % 50 == 0:\n",
    "            print('epoch : ', epoch, 'd_loss : ', d_loss, 'g_loss ', g_loss)"
   ]
  },
  {
   "cell_type": "code",
   "execution_count": 6,
   "metadata": {},
   "outputs": [
    {
     "name": "stdout",
     "output_type": "stream",
     "text": [
      "epoch :  0 d_loss :  3.8703360557556152 g_loss  7.576006889343262\n",
      "epoch :  50 d_loss :  1.5132267475128174 g_loss  2.30733323097229\n",
      "epoch :  100 d_loss :  1.8155854940414429 g_loss  1.6666375398635864\n",
      "epoch :  150 d_loss :  1.648278832435608 g_loss  2.074953317642212\n",
      "epoch :  200 d_loss :  1.7210766077041626 g_loss  2.3437812328338623\n",
      "epoch :  250 d_loss :  1.7871865034103394 g_loss  2.452660322189331\n",
      "epoch :  300 d_loss :  1.623934268951416 g_loss  2.0529754161834717\n",
      "epoch :  350 d_loss :  1.4680511951446533 g_loss  2.0802109241485596\n",
      "epoch :  400 d_loss :  1.515739917755127 g_loss  1.7153747081756592\n",
      "epoch :  450 d_loss :  1.5745553970336914 g_loss  1.478927493095398\n"
     ]
    }
   ],
   "source": [
    "train_gan(gan, Total_Data_add_Gender_Test)"
   ]
  },
  {
   "cell_type": "code",
   "execution_count": 7,
   "metadata": {},
   "outputs": [],
   "source": [
    "Cal_generated_Data_Samples_Test = generator(Cal_Total_Data_add_Gender_Test, training = False)"
   ]
  },
  {
   "cell_type": "code",
   "execution_count": 8,
   "metadata": {},
   "outputs": [
    {
     "name": "stdout",
     "output_type": "stream",
     "text": [
      "shape :  (1042, 11)\n",
      "\n",
      "Data :  [ 0.765507    0.252955   -0.63193885 -1.2543553   0.70166014 -1.15055728\n",
      "  0.11156088  0.22818987 -0.48356657  1.          0.        ]\n"
     ]
    }
   ],
   "source": [
    "for i, value in enumerate(Cal_Total_Data_add_Gender_Test):\n",
    "    gene_Test = []\n",
    "    gene_Test = value[:-2]\n",
    "    for j, value2 in enumerate(gene_Test):\n",
    "        if value2 == 0:\n",
    "            Cal_Total_Data_add_Gender_Test[i][j] = Cal_generated_Data_Samples_Test[i][j]\n",
    "            \n",
    "print('shape : ', Cal_Total_Data_add_Gender_Test.shape)\n",
    "print()\n",
    "print('Data : ', Cal_Total_Data_add_Gender_Test[0])"
   ]
  },
  {
   "cell_type": "markdown",
   "metadata": {},
   "source": [
    "# Rescaling"
   ]
  },
  {
   "cell_type": "code",
   "execution_count": 9,
   "metadata": {},
   "outputs": [],
   "source": [
    "Total_Data_add_Gender_Test__Test = np.delete(Total_Data_add_Gender_Test, (9, 10), axis = 1)\n",
    "Total_Data_add_Gender_Test_v2_Test = []\n",
    "\n",
    "for i, value in enumerate(Total_Data_add_Gender_Test__Test):\n",
    "    _temp_ = []\n",
    "    for j, value in enumerate(value):\n",
    "        _temp_.append(value)\n",
    "    _temp_.append(Total_Data_Gender_Test[i])\n",
    "    Total_Data_add_Gender_Test_v2_Test.append(_temp_)\n",
    "    \n",
    "Total_Data_add_Gender_Test_v2_Test = np.array(Total_Data_add_Gender_Test_v2_Test)\n",
    "Total_Data_add_Gender_Test = Total_Data_add_Gender_Test_v2_Test"
   ]
  },
  {
   "cell_type": "code",
   "execution_count": 10,
   "metadata": {},
   "outputs": [
    {
     "data": {
      "text/plain": [
       "(1042, 10)"
      ]
     },
     "execution_count": 10,
     "metadata": {},
     "output_type": "execute_result"
    }
   ],
   "source": [
    "rescaling_data1 = []\n",
    "\n",
    "for i, value1 in enumerate(Total_Data_add_Gender_Test):\n",
    "    new_data = []\n",
    "    c_value = value1[:-1]\n",
    "    v_value = value1[-1]\n",
    "    for j, value2 in enumerate(c_value):\n",
    "        _temp_ = value2 * Total_Data_std_Test[j] + Total_Data_mean_Test[j]\n",
    "        new_data.append(_temp_)\n",
    "    \n",
    "    new_data.append(v_value)\n",
    "    rescaling_data1.append(new_data)\n",
    "    \n",
    "rescaling_data1 = np.array(rescaling_data1)\n",
    "rescaling_data1 = abs(rescaling_data1)\n",
    "rescaling_data1.shape"
   ]
  },
  {
   "cell_type": "code",
   "execution_count": 11,
   "metadata": {},
   "outputs": [
    {
     "data": {
      "text/plain": [
       "array([[124.  ,  92.5 ,  38.75,  89.  ,  30.  ,   3.7 ,   8.34,  52.  ,\n",
       "         66.89,   1.  ],\n",
       "       [ 97.  , 100.  ,  36.5 , 115.  ,  12.5 ,   0.5 ,   9.6 , 414.  ,\n",
       "         63.59,   0.  ],\n",
       "       [ 73.  , 100.  ,  37.9 , 116.  ,  23.  ,   0.9 ,  11.3 , 167.  ,\n",
       "         49.38,   1.  ],\n",
       "       [ 84.  ,  86.  ,  38.44, 117.  ,  31.  ,   0.5 ,   9.1 , 211.  ,\n",
       "         77.56,   1.  ],\n",
       "       [ 87.  ,  96.  ,  36.78,  99.  ,  24.  ,   0.7 ,  11.4 , 341.  ,\n",
       "         71.24,   1.  ]])"
      ]
     },
     "execution_count": 11,
     "metadata": {},
     "output_type": "execute_result"
    }
   ],
   "source": [
    "rescaling_data1[:5]"
   ]
  },
  {
   "cell_type": "code",
   "execution_count": 12,
   "metadata": {},
   "outputs": [],
   "source": [
    "Cal_Total_Data_add_Gender_Test__Test = np.delete(Cal_Total_Data_add_Gender_Test, (9, 10), axis = 1)\n",
    "Cal_Total_Data_add_Gender_Test_v2_Test = []\n",
    "\n",
    "for i, value in enumerate(Cal_Total_Data_add_Gender_Test__Test):\n",
    "    _temp_ = []\n",
    "    for j, value in enumerate(value):\n",
    "        _temp_.append(value)\n",
    "    _temp_.append(Cal_Total_Data_Gender_Test[i])\n",
    "    Cal_Total_Data_add_Gender_Test_v2_Test.append(_temp_)\n",
    "    \n",
    "Cal_Total_Data_add_Gender_Test_v2_Test = np.array(Cal_Total_Data_add_Gender_Test_v2_Test)\n",
    "Cal_Total_Data_add_Gender_Test = Cal_Total_Data_add_Gender_Test_v2_Test"
   ]
  },
  {
   "cell_type": "code",
   "execution_count": 13,
   "metadata": {},
   "outputs": [
    {
     "data": {
      "text/plain": [
       "(1042, 10)"
      ]
     },
     "execution_count": 13,
     "metadata": {},
     "output_type": "execute_result"
    }
   ],
   "source": [
    "Cal_Total_Data_add_Gender_Test.shape"
   ]
  },
  {
   "cell_type": "code",
   "execution_count": 14,
   "metadata": {},
   "outputs": [
    {
     "data": {
      "text/plain": [
       "(1042, 10)"
      ]
     },
     "execution_count": 14,
     "metadata": {},
     "output_type": "execute_result"
    }
   ],
   "source": [
    "rescaling_data2 = []\n",
    "\n",
    "for i, value1 in enumerate(Cal_Total_Data_add_Gender_Test):\n",
    "    new_data = []\n",
    "    c_value = value1[:-1]\n",
    "    v_value = value1[-1]\n",
    "    for j, value2 in enumerate(c_value):\n",
    "        _temp_ = value2 * Total_Data_std_Test[j] + Total_Data_mean_Test[j]\n",
    "        new_data.append(_temp_)\n",
    "    \n",
    "    new_data.append(v_value)\n",
    "    rescaling_data2.append(new_data)\n",
    "    \n",
    "rescaling_data2 = np.array(rescaling_data2)\n",
    "rescaling_data2 = abs(rescaling_data2)\n",
    "rescaling_data2 = np.around(rescaling_data2, 2)\n",
    "rescaling_data2.shape"
   ]
  },
  {
   "cell_type": "code",
   "execution_count": 15,
   "metadata": {},
   "outputs": [
    {
     "data": {
      "text/plain": [
       "array([[1.0300e+02, 9.8000e+01, 3.6400e+01, 9.2000e+01, 2.3000e+01,\n",
       "        5.3000e-01, 1.2950e+01, 2.0601e+02, 5.5000e+01, 0.0000e+00],\n",
       "       [9.0000e+01, 9.1500e+01, 3.7850e+01, 1.1950e+02, 1.6000e+01,\n",
       "        2.1700e+00, 1.7390e+01, 3.6399e+02, 6.6000e+01, 1.0000e+00],\n",
       "       [8.9000e+01, 9.8000e+01, 3.7670e+01, 1.0500e+02, 1.8000e+01,\n",
       "        1.0000e-01, 1.1910e+01, 2.6516e+02, 4.5960e+01, 1.0000e+00],\n",
       "       [9.3000e+01, 9.7000e+01, 3.6900e+01, 1.5100e+02, 1.4000e+01,\n",
       "        1.4000e+00, 1.9400e+01, 2.2417e+02, 6.8000e+01, 1.0000e+00],\n",
       "       [7.3000e+01, 1.0000e+02, 3.7100e+01, 1.3700e+02, 1.7000e+01,\n",
       "        7.1000e-01, 1.5420e+01, 1.2226e+02, 5.2390e+01, 0.0000e+00]])"
      ]
     },
     "execution_count": 15,
     "metadata": {},
     "output_type": "execute_result"
    }
   ],
   "source": [
    "rescaling_data2[:5]"
   ]
  },
  {
   "cell_type": "code",
   "execution_count": 16,
   "metadata": {},
   "outputs": [],
   "source": [
    "np.save('C:/jupyter/Human_Deep/Human_Deep/Data/Total_Data_After_Preprocessing', Total_Data_add_Gender_Test)\n",
    "np.save('C:/jupyter/Human_Deep/Human_Deep/Data/Cal_Total_Data_After_Preprocessing', Cal_Total_Data_add_Gender_Test)"
   ]
  },
  {
   "cell_type": "code",
   "execution_count": 16,
   "metadata": {},
   "outputs": [
    {
     "name": "stdout",
     "output_type": "stream",
     "text": [
      "INFO:tensorflow:Assets written to: gan_saved_model/assets\n",
      "INFO:tensorflow:Assets written to: g_saved_model/assets\n",
      "INFO:tensorflow:Assets written to: d_saved_model/assets\n"
     ]
    }
   ],
   "source": [
    "gan.save('gan_saved_model/')\n",
    "generator.save('g_saved_model/')\n",
    "discriminator.save('d_saved_model/')"
   ]
  },
  {
   "cell_type": "code",
   "execution_count": null,
   "metadata": {},
   "outputs": [],
   "source": []
  }
 ],
 "metadata": {
  "kernelspec": {
   "display_name": "Python 3",
   "language": "python",
   "name": "python3"
  },
  "language_info": {
   "codemirror_mode": {
    "name": "ipython",
    "version": 3
   },
   "file_extension": ".py",
   "mimetype": "text/x-python",
   "name": "python",
   "nbconvert_exporter": "python",
   "pygments_lexer": "ipython3",
   "version": "3.6.12"
  }
 },
 "nbformat": 4,
 "nbformat_minor": 4
}
