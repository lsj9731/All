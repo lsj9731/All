{
 "cells": [
  {
   "cell_type": "markdown",
   "metadata": {},
   "source": [
    "# Law_Data_Load"
   ]
  },
  {
   "cell_type": "code",
   "execution_count": 1,
   "metadata": {},
   "outputs": [],
   "source": [
    "import numpy as np\n",
    "import matplotlib.pyplot as plt\n",
    "import csv\n",
    "import pandas as pd\n",
    "import os\n",
    "import tensorflow as tf\n",
    "import sys\n",
    "import seaborn as sns\n",
    "import scipy\n",
    "from sklearn.preprocessing import OneHotEncoder\n",
    "from sklearn.preprocessing import minmax_scale\n",
    "from tensorflow import keras\n",
    "import random\n",
    "\n",
    "\n",
    "from keras import backend as K\n",
    "K.clear_session()\n",
    "tf.compat.v1.reset_default_graph()"
   ]
  },
  {
   "cell_type": "code",
   "execution_count": 2,
   "metadata": {},
   "outputs": [],
   "source": [
    "folder_dir = './Data/Raw_Data'\n",
    "file_list = os.listdir(folder_dir)\n",
    "file_list.sort()"
   ]
  },
  {
   "cell_type": "code",
   "execution_count": 3,
   "metadata": {},
   "outputs": [
    {
     "name": "stdout",
     "output_type": "stream",
     "text": [
      "None_Data_Shape: (26767, 11)\n"
     ]
    }
   ],
   "source": [
    "non_data = []\n",
    "for i,_folder_dir in enumerate (file_list):\n",
    "    path = (folder_dir+'/'+_folder_dir)\n",
    "\n",
    "    temp = []\n",
    "    with open(path, 'r') as file:\n",
    "        reader = csv.reader(file, delimiter='|')\n",
    "        for checker, tmp in enumerate (reader):\n",
    "            if checker == 0:\n",
    "                continue\n",
    "            else:\n",
    "                tmp = np.float64(tmp)\n",
    "                temp.append(tmp)\n",
    "     \n",
    "    temp = np.array(temp)\n",
    "\n",
    "    temp_ = np.concatenate((temp[:,0], temp[:,1], temp[:,2], temp[:,3], temp[:,6],\n",
    "                           temp[:,19], temp[:,31], temp[:,33], temp[:,34], temp[:,35], temp[:,40]), axis=0)\n",
    "    \n",
    "    temp_ = np.reshape(temp_,(temp.shape[0],11), order='F')\n",
    "    \n",
    "    for j,val1 in enumerate (temp_):\n",
    "        count = 0\n",
    "        for k,val2 in enumerate (val1):\n",
    "            val3 = np.isnan(val2)\n",
    "            if val3 == True:\n",
    "                count += 1\n",
    "            else:\n",
    "                continue\n",
    "        if count == 0:\n",
    "            non_data.append(temp_[j])\n",
    "\n",
    "\n",
    "non_data = np.array(non_data)\n",
    "print('None_Data_Shape:',non_data.shape)\n",
    "        \n",
    "#np.save('C:/jupyter/Human_Deep/Data/Numpy_Data/Total_Data', data)"
   ]
  },
  {
   "cell_type": "code",
   "execution_count": 4,
   "metadata": {},
   "outputs": [
    {
     "name": "stdout",
     "output_type": "stream",
     "text": [
      "일반 데이터 수 :  (26246, 11) 패혈증 데이터 수 :  (521, 11)\n"
     ]
    }
   ],
   "source": [
    "select_data_value_0 = []\n",
    "select_data_value_1 = []\n",
    "_temp = []\n",
    "\n",
    "for i, value1 in enumerate(non_data):\n",
    "    _temp = []\n",
    "    _temp = value1\n",
    "    if _temp[-1] == 0:\n",
    "        select_data_value_0.append(_temp)\n",
    "    else :\n",
    "        select_data_value_1.append(_temp)\n",
    "        \n",
    "select_data_value_0 = np.array(select_data_value_0)\n",
    "select_data_value_1 = np.array(select_data_value_1)\n",
    "    \n",
    "    \n",
    "            \n",
    "print(\"일반 데이터 수 : \", select_data_value_0.shape, \"패혈증 데이터 수 : \", select_data_value_1.shape)"
   ]
  },
  {
   "cell_type": "code",
   "execution_count": 5,
   "metadata": {},
   "outputs": [
    {
     "name": "stdout",
     "output_type": "stream",
     "text": [
      "일반 데이터 수 :  (26246, 11) 패혈증 데이터 수 :  (521, 11)\n",
      "일반 데이터 수 :  (521, 11) 패혈증 데이터 수 :  (521, 11)\n"
     ]
    }
   ],
   "source": [
    "Normal_Data = select_data_value_0\n",
    "Sepsis_Data = select_data_value_1\n",
    "\n",
    "Normal_Data = np.array(Normal_Data)\n",
    "Sepsis_Data = np.array(Sepsis_Data)\n",
    "\n",
    "print(\"일반 데이터 수 : \", Normal_Data.shape, \"패혈증 데이터 수 : \", Sepsis_Data.shape)\n",
    "\n",
    "Normal_Data_Test = list(select_data_value_0)\n",
    "Normal_Data = random.sample(Normal_Data_Test, 521)\n",
    "Normal_Data = np.array(Normal_Data)\n",
    "\n",
    "print(\"일반 데이터 수 : \", Normal_Data.shape, \"패혈증 데이터 수 : \", Sepsis_Data.shape)"
   ]
  },
  {
   "cell_type": "code",
   "execution_count": 6,
   "metadata": {},
   "outputs": [
    {
     "name": "stdout",
     "output_type": "stream",
     "text": [
      "check_3_none_shape : (446276, 11)\n"
     ]
    }
   ],
   "source": [
    "check_3_none = []\n",
    "for i,_folder_dir in enumerate (file_list):\n",
    "    path = (folder_dir+'/'+_folder_dir)\n",
    "\n",
    "    temp = []\n",
    "    with open(path, 'r') as file:\n",
    "        reader = csv.reader(file, delimiter='|')\n",
    "        for checker, tmp in enumerate (reader):\n",
    "            if checker == 0:\n",
    "                continue\n",
    "            else:\n",
    "                tmp = np.float64(tmp)\n",
    "                temp.append(tmp)\n",
    "                \n",
    "    temp = np.array(temp)\n",
    "\n",
    "\n",
    "    temp_ = np.concatenate((temp[:,0], temp[:,1], temp[:,2], temp[:,3], temp[:,6],\n",
    "                           temp[:,19], temp[:,31], temp[:,33], temp[:,34], temp[:,35], temp[:,40]), axis=0)\n",
    "    \n",
    "    temp_ = np.reshape(temp_,(temp.shape[0],11), order='F')\n",
    "    \n",
    "    for j,val1 in enumerate (temp_):\n",
    "        count = 0\n",
    "        for k,val2 in enumerate (val1):\n",
    "            val3 = np.isnan(val2)\n",
    "            if val3 == True:\n",
    "                count += 1\n",
    "            else:\n",
    "                continue\n",
    "                \n",
    "        if count == 3:\n",
    "            check_3_none.append(temp_[j])\n",
    "\n",
    "        \n",
    "check_3_none = np.array(check_3_none)\n",
    "print('check_3_none_shape :',check_3_none.shape)"
   ]
  },
  {
   "cell_type": "code",
   "execution_count": 7,
   "metadata": {},
   "outputs": [
    {
     "name": "stdout",
     "output_type": "stream",
     "text": [
      "check_value_shape :  (428855, 11)\n"
     ]
    }
   ],
   "source": [
    "check_value = []\n",
    "\n",
    "\n",
    "for i, value1 in enumerate(check_3_none):\n",
    "    count = 0\n",
    "    check_temp_ = value1[5:8]\n",
    "    for j, value2 in enumerate(check_temp_):\n",
    "        value3 = np.isnan(value2)\n",
    "        if value3 == True:\n",
    "            count += 1\n",
    "        else :\n",
    "            continue\n",
    "    if count == 3:\n",
    "        check_value.append(value1)\n",
    "        \n",
    "check_value = np.array(check_value)\n",
    "print('check_value_shape : ', check_value.shape)"
   ]
  },
  {
   "cell_type": "code",
   "execution_count": 8,
   "metadata": {},
   "outputs": [
    {
     "name": "stdout",
     "output_type": "stream",
     "text": [
      "일반 데이터 수 :  (421672, 11) 패혈증 데이터 수 :  (7183, 11)\n"
     ]
    }
   ],
   "source": [
    "\n",
    "_select_data_value_0 = []\n",
    "_select_data_value_1 = []\n",
    "\n",
    "for i, value1 in enumerate(check_value):\n",
    "    _temp_ = []\n",
    "    _temp_ = value1\n",
    "    if _temp_[-1] == 0:\n",
    "        _select_data_value_0.append(value1)\n",
    "    else :\n",
    "        _select_data_value_1.append(value1)\n",
    "        \n",
    "_select_data_value_0 = np.array(_select_data_value_0)\n",
    "_select_data_value_1 = np.array(_select_data_value_1)\n",
    "    \n",
    "    \n",
    "            \n",
    "print(\"일반 데이터 수 : \", _select_data_value_0.shape, \"패혈증 데이터 수 : \", _select_data_value_1.shape)"
   ]
  },
  {
   "cell_type": "code",
   "execution_count": 9,
   "metadata": {},
   "outputs": [],
   "source": [
    "_select_data_value_0 = list(_select_data_value_0)\n",
    "_select_data_value_1 = list(_select_data_value_1)\n",
    "\n",
    "\n",
    "Calib_Data_Normal = random.sample(_select_data_value_0, 521)\n",
    "Calib_Data_Sepsis = random.sample(_select_data_value_1, 521)\n",
    "\n",
    "Calib_Data_Normal = np.array(Calib_Data_Normal)\n",
    "Calib_Data_Sepsis = np.array(Calib_Data_Sepsis)"
   ]
  },
  {
   "cell_type": "code",
   "execution_count": 10,
   "metadata": {},
   "outputs": [
    {
     "name": "stdout",
     "output_type": "stream",
     "text": [
      "Normal_Data_shape :  (521, 11) Sepsis_Data_shape :  (521, 11)\n",
      "Calib_Data_Normal_shape :  (521, 11) Calib_Data_Sepsis_shape :  (521, 11)\n"
     ]
    }
   ],
   "source": [
    "print('Normal_Data_shape : ', Normal_Data.shape, 'Sepsis_Data_shape : ', Sepsis_Data.shape)\n",
    "print('Calib_Data_Normal_shape : ', Calib_Data_Normal.shape, 'Calib_Data_Sepsis_shape : ', Calib_Data_Sepsis.shape)"
   ]
  },
  {
   "cell_type": "code",
   "execution_count": 11,
   "metadata": {},
   "outputs": [
    {
     "data": {
      "text/plain": [
       "(1042, 11)"
      ]
     },
     "execution_count": 11,
     "metadata": {},
     "output_type": "execute_result"
    }
   ],
   "source": [
    "Normal_Data_list = list(Normal_Data)\n",
    "Sepsis_Data_list = list(Sepsis_Data)\n",
    "\n",
    "Full_Data = []\n",
    "\n",
    "for i in range(len(Normal_Data)):\n",
    "    Full_Data.append(Normal_Data_list[i])\n",
    "    Full_Data.append(Sepsis_Data_list[i])\n",
    "    \n",
    "Full_Data = np.array(Full_Data)\n",
    "Full_Data.shape"
   ]
  },
  {
   "cell_type": "code",
   "execution_count": 12,
   "metadata": {},
   "outputs": [
    {
     "data": {
      "text/plain": [
       "(1042, 11)"
      ]
     },
     "execution_count": 12,
     "metadata": {},
     "output_type": "execute_result"
    }
   ],
   "source": [
    "Cal_Normal_Data_list = list(Calib_Data_Normal)\n",
    "Cal_Sepsis_Data_list = list(Calib_Data_Sepsis)\n",
    "\n",
    "Cal_Full_Data = []\n",
    "\n",
    "for i in range(len(Calib_Data_Normal)):\n",
    "    Cal_Full_Data.append(Cal_Normal_Data_list[i])\n",
    "    Cal_Full_Data.append(Cal_Sepsis_Data_list[i])\n",
    "    \n",
    "Cal_Full_Data = np.array(Cal_Full_Data)\n",
    "Cal_Full_Data.shape"
   ]
  },
  {
   "cell_type": "code",
   "execution_count": 13,
   "metadata": {},
   "outputs": [
    {
     "name": "stdout",
     "output_type": "stream",
     "text": [
      "end\n"
     ]
    }
   ],
   "source": [
    "# Nan 데이터를 0으로 변환해주는 작업\n",
    "\n",
    "for i, value1 in enumerate(Cal_Full_Data):\n",
    "    for j, value2 in enumerate(value1):\n",
    "        value3 = np.isnan(value2)\n",
    "        if value3 == True:\n",
    "            Cal_Full_Data[i][j] = 0\n",
    "        else :\n",
    "            continue\n",
    "print('end')"
   ]
  },
  {
   "cell_type": "code",
   "execution_count": 16,
   "metadata": {},
   "outputs": [],
   "source": [
    "np.save('C:/jupyter/Human_Deep/Human_Deep/Data/Full_Data', Full_Data)\n",
    "np.save('C:/jupyter/Human_Deep/Human_Deep/Data/Cal_Full_Data', Cal_Full_Data)"
   ]
  },
  {
   "cell_type": "code",
   "execution_count": 134,
   "metadata": {},
   "outputs": [],
   "source": [
    "test_data1 = Cal_Full_Data[500]\n",
    "test_data2 = Cal_Full_Data[501]\n",
    "test_data3 = Cal_Full_Data[502]\n",
    "test_data4 = Cal_Full_Data[503]\n",
    "test_data5 = Cal_Full_Data[504]\n",
    "test_data6 = Cal_Full_Data[505]\n",
    "test_data7 = Cal_Full_Data[506]\n",
    "test_data9 = Cal_Full_Data[507]\n",
    "\n",
    "test_data12 = Cal_Full_Data[508]\n",
    "test_data13 = Cal_Full_Data[509]\n",
    "test_data14 = Cal_Full_Data[510]\n",
    "test_data15 = Cal_Full_Data[511]\n",
    "test_data17 = Cal_Full_Data[512]\n",
    "test_data18 = Cal_Full_Data[513]"
   ]
  },
  {
   "cell_type": "code",
   "execution_count": 135,
   "metadata": {},
   "outputs": [],
   "source": [
    "test_data1 = test_data1[:-1]\n",
    "test_data2 = test_data2[:-1]\n",
    "test_data3 = test_data3[:-1]\n",
    "test_data4 = test_data4[:-1]\n",
    "test_data5 = test_data5[:-1]\n",
    "test_data6 = test_data6[:-1]\n",
    "test_data7 = test_data7[:-1]\n",
    "test_data9 = test_data9[:-1]\n",
    "test_data12 = test_data12[:-1]\n",
    "test_data13 = test_data13[:-1]\n",
    "test_data14 = test_data14[:-1]\n",
    "test_data15 = test_data15[:-1]\n",
    "test_data17 = test_data17[:-1]\n",
    "test_data18 = test_data18[:-1]"
   ]
  },
  {
   "cell_type": "code",
   "execution_count": 136,
   "metadata": {},
   "outputs": [],
   "source": [
    "np.save('C:/Users/82107/Desktop/python/test_data1', test_data1)\n",
    "np.save('C:/Users/82107/Desktop/python/test_data2', test_data2)\n",
    "np.save('C:/Users/82107/Desktop/python/test_data3', test_data3)\n",
    "np.save('C:/Users/82107/Desktop/python/test_data4', test_data4)\n",
    "np.save('C:/Users/82107/Desktop/python/test_data5', test_data5)\n",
    "np.save('C:/Users/82107/Desktop/python/test_data6', test_data6)\n",
    "np.save('C:/Users/82107/Desktop/python/test_data7', test_data7)\n",
    "np.save('C:/Users/82107/Desktop/python/test_data9', test_data9)\n",
    "\n",
    "\n",
    "np.save('C:/Users/82107/Desktop/python/test_data12', test_data12)\n",
    "np.save('C:/Users/82107/Desktop/python/test_data13', test_data13)\n",
    "np.save('C:/Users/82107/Desktop/python/test_data14', test_data14)\n",
    "np.save('C:/Users/82107/Desktop/python/test_data15', test_data15)\n",
    "np.save('C:/Users/82107/Desktop/python/test_data17', test_data17)\n",
    "np.save('C:/Users/82107/Desktop/python/test_data18', test_data18)"
   ]
  },
  {
   "cell_type": "code",
   "execution_count": 105,
   "metadata": {},
   "outputs": [
    {
     "name": "stdout",
     "output_type": "stream",
     "text": [
      "end\n"
     ]
    }
   ],
   "source": [
    "# Nan 데이터를 0으로 변환해주는 작업\n",
    "i = 0\n",
    "for value1 in test_data20:\n",
    "    value2 = np.isnan(value1)\n",
    "    if value2 == True:\n",
    "        test_data20[i] = 0\n",
    "    i += 1\n",
    "        \n",
    "print('end')"
   ]
  },
  {
   "cell_type": "code",
   "execution_count": 144,
   "metadata": {},
   "outputs": [],
   "source": [
    "# 위험 / 중간 / 안전\n",
    "# 4, 5, 8, 9, 10, 11, 17, 19\n",
    "# 1, 2, 3, 7, 12, 13, 14, 15, 18, 20\n",
    "# 6, 16\n",
    "\n",
    "n_test1 = np.load('C:/Users/82107/Desktop/python/test_data1.npy')\n",
    "n_test2 = np.load('C:/Users/82107/Desktop/python/test_data2.npy')\n",
    "n_test3 = np.load('C:/Users/82107/Desktop/python/test_data3.npy')\n",
    "n_test4 = np.load('C:/Users/82107/Desktop/python/test_data4.npy')\n",
    "n_test5 = np.load('C:/Users/82107/Desktop/python/test_data5.npy')\n",
    "n_test6 = np.load('C:/Users/82107/Desktop/python/test_data6.npy')\n",
    "n_test7 = np.load('C:/Users/82107/Desktop/python/test_data7.npy')\n",
    "n_test8 = np.load('C:/Users/82107/Desktop/python/test_data8.npy')\n",
    "n_test9 = np.load('C:/Users/82107/Desktop/python/test_data9.npy')\n",
    "n_test10 = np.load('C:/Users/82107/Desktop/python/test_data10.npy')\n",
    "\n",
    "n_test11 = np.load('C:/Users/82107/Desktop/python/test_data11.npy')\n",
    "n_test12 = np.load('C:/Users/82107/Desktop/python/test_data12.npy')\n",
    "n_test13 = np.load('C:/Users/82107/Desktop/python/test_data13.npy')\n",
    "n_test14 = np.load('C:/Users/82107/Desktop/python/test_data14.npy')\n",
    "n_test15 = np.load('C:/Users/82107/Desktop/python/test_data15.npy')\n",
    "n_test16 = np.load('C:/Users/82107/Desktop/python/test_data16.npy')\n",
    "n_test17 = np.load('C:/Users/82107/Desktop/python/test_data17.npy')\n",
    "n_test18 = np.load('C:/Users/82107/Desktop/python/test_data18.npy')\n",
    "n_test19 = np.load('C:/Users/82107/Desktop/python/test_data19.npy')\n",
    "n_test20 = np.load('C:/Users/82107/Desktop/python/test_data20.npy')"
   ]
  },
  {
   "cell_type": "code",
   "execution_count": 146,
   "metadata": {},
   "outputs": [],
   "source": [
    "new_list_ = []"
   ]
  },
  {
   "cell_type": "code",
   "execution_count": 167,
   "metadata": {},
   "outputs": [],
   "source": [
    "new_list_.append(n_test20)"
   ]
  },
  {
   "cell_type": "code",
   "execution_count": 168,
   "metadata": {},
   "outputs": [],
   "source": [
    "new_list_ = list(new_list_)"
   ]
  },
  {
   "cell_type": "code",
   "execution_count": 170,
   "metadata": {},
   "outputs": [
    {
     "name": "stdout",
     "output_type": "stream",
     "text": [
      "87.0, 100.0, 37.0, 105.0, 11.0, 0.0, 0.0, 0.0, 64.0, 1.0\n",
      "91.0, 95.0, 36.67, 97.0, 22.0, 0.0, 0.0, 0.0, 58.56, 1.0\n",
      "90.0, 100.0, 36.44, 158.0, 24.5, 0.0, 0.0, 0.0, 82.84, 1.0\n",
      "82.0, 92.0, 35.61, 131.0, 29.0, 0.0, 0.0, 0.0, 58.52, 1.0\n",
      "72.0, 96.0, 36.8, 118.0, 24.0, 0.0, 0.0, 0.0, 81.0, 0.0\n",
      "106.0, 94.0, 37.8, 159.0, 13.0, 0.0, 0.0, 0.0, 69.0, 0.0\n",
      "66.5, 98.5, 36.4, 88.0, 13.0, 0.0, 0.0, 0.0, 100.0, 1.0\n",
      "63.0, 96.0, 37.17, 90.0, 21.0, 0.0, 0.0, 0.0, 74.78, 1.0\n",
      "71.0, 98.0, 36.06, 83.0, 12.0, 0.0, 0.0, 0.0, 72.23, 1.0\n",
      "100.0, 99.0, 37.0, 229.0, 39.0, 0.0, 0.0, 0.0, 72.0, 0.0\n",
      "100.0, 99.0, 37.0, 229.0, 39.0, 0.0, 0.0, 0.0, 72.0, 0.0\n",
      "96.0, 100.0, 36.8, 101.0, 10.0, 0.0, 0.0, 0.0, 84.01, 0.0\n",
      "69.5, 100.0, 35.3, 72.5, 17.0, 0.0, 0.0, 0.0, 64.0, 1.0\n",
      "64.0, 98.0, 36.61, 188.0, 11.0, 0.0, 0.0, 0.0, 71.91, 1.0\n",
      "72.0, 96.0, 37.06, 92.0, 19.0, 0.0, 0.0, 0.0, 58.65, 1.0\n",
      "85.0, 98.0, 37.9, 127.0, 16.0, 0.0, 0.0, 0.0, 74.0, 0.0\n",
      "83.0, 100.0, 36.2, 134.0, 23.0, 0.0, 0.0, 0.0, 30.0, 1.0\n",
      "108.0, 93.0, 36.72, 120.0, 28.0, 0.0, 0.0, 0.0, 69.85, 1.0\n",
      "52.0, 100.0, 36.0, 118.0, 10.0, 0.0, 0.0, 0.0, 46.0, 0.0\n",
      "66.0, 99.5, 36.67, 116.5, 13.5, 0.0, 0.0, 0.0, 74.65, 0.0\n"
     ]
    }
   ],
   "source": [
    "for value in new_list_:\n",
    "    print('{}, {}, {}, {}, {}, {}, {}, {}, {}, {}'.format(value[0], value[1], value[2], value[3], value[4], value[5], value[6], value[7], value[8], value[9]), sep=', ')"
   ]
  },
  {
   "cell_type": "code",
   "execution_count": null,
   "metadata": {},
   "outputs": [],
   "source": []
  }
 ],
 "metadata": {
  "kernelspec": {
   "display_name": "Python 3",
   "language": "python",
   "name": "python3"
  },
  "language_info": {
   "codemirror_mode": {
    "name": "ipython",
    "version": 3
   },
   "file_extension": ".py",
   "mimetype": "text/x-python",
   "name": "python",
   "nbconvert_exporter": "python",
   "pygments_lexer": "ipython3",
   "version": "3.6.12"
  }
 },
 "nbformat": 4,
 "nbformat_minor": 4
}
