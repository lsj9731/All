{
 "cells": [
  {
   "cell_type": "code",
   "execution_count": 1,
   "metadata": {},
   "outputs": [],
   "source": [
    "import numpy as np\n",
    "import matplotlib.pyplot as plt\n",
    "import csv\n",
    "import pandas as pd\n",
    "import os\n",
    "import tensorflow as tf\n",
    "import sys\n",
    "import seaborn as sns\n",
    "import scipy\n",
    "import h5py\n",
    "from sklearn.preprocessing import OneHotEncoder\n",
    "from sklearn.preprocessing import minmax_scale\n",
    "from tensorflow import keras\n",
    "import random\n",
    "\n",
    "pd.set_option('display.max_columns', 500)\n",
    "pd.set_option('display.max_row', 100)\n",
    "\n",
    "from keras import backend as K\n",
    "K.clear_session()\n",
    "tf.compat.v1.reset_default_graph()\n",
    "os.environ['CUDA_VISIBLE_DEVICES']='0'\n",
    "config = tf.compat.v1.ConfigProto()\n",
    "config.gpu_options.allow_growth = True"
   ]
  },
  {
   "cell_type": "code",
   "execution_count": 2,
   "metadata": {},
   "outputs": [
    {
     "name": "stdout",
     "output_type": "stream",
     "text": [
      "Full_Data_shape :  (1042, 10) Cal_Full_Data_Shape :  (1042, 10)\n",
      "Gender_shape :  (1042,) Cal_Gender_shape :  (1042,)\n"
     ]
    }
   ],
   "source": [
    "Total_Data_add_Gender = np.load('./Data/Total_Data_After_Preprocessing.npy')\n",
    "Cal_Total_Data_add_Gender = np.load('./Data/Cal_Total_Data_After_Preprocessing.npy')\n",
    "\n",
    "Total_Data_Gender = np.load('./Data/Total_Data_Gender.npy')\n",
    "Cal_Total_Data_Gender = np.load('./Data/Cal_Total_Data_Gender.npy')\n",
    "\n",
    "Total_Data_Label = np.load('./Data/Total_Data_Label.npy')\n",
    "Cal_Total_Data_Label = np.load('./Data/Cal_Total_Data_Label.npy')\n",
    "\n",
    "print('Full_Data_shape : ', Total_Data_add_Gender.shape, 'Cal_Full_Data_Shape : ', Cal_Total_Data_add_Gender.shape)\n",
    "print('Gender_shape : ', Total_Data_Gender.shape, 'Cal_Gender_shape : ', Cal_Total_Data_Gender.shape)"
   ]
  },
  {
   "cell_type": "code",
   "execution_count": 3,
   "metadata": {},
   "outputs": [
    {
     "name": "stdout",
     "output_type": "stream",
     "text": [
      "Train :  (2084, 10) Label :  (2084,)\n"
     ]
    }
   ],
   "source": [
    "Full_Data_Set_v = []\n",
    "Full_Data_Label_v = []\n",
    "\n",
    "Train_Data_Set = []\n",
    "Train_Data_Label = []\n",
    "valid_Data_Set = []\n",
    "valid_Data_Label = []\n",
    "Test_Data_Set = []\n",
    "Test_Data_Label = []\n",
    "\n",
    "for i in range(len(Total_Data_add_Gender)):\n",
    "    Full_Data_Set_v.append(Total_Data_add_Gender[i])\n",
    "    Full_Data_Set_v.append(Cal_Total_Data_add_Gender[i])\n",
    "    \n",
    "    Full_Data_Label_v.append(Total_Data_Label[i])\n",
    "    Full_Data_Label_v.append(Cal_Total_Data_Label[i])\n",
    "    \n",
    "Full_Data_Set_v = np.array(Full_Data_Set_v)\n",
    "Full_Data_Label_v = np.array(Full_Data_Label_v)\n",
    "\n",
    "print('Train : ', Full_Data_Set_v.shape, 'Label : ', Full_Data_Label_v.shape)"
   ]
  },
  {
   "cell_type": "code",
   "execution_count": 4,
   "metadata": {},
   "outputs": [
    {
     "data": {
      "text/plain": [
       "(2084, 2)"
      ]
     },
     "execution_count": 4,
     "metadata": {},
     "output_type": "execute_result"
    }
   ],
   "source": [
    "Full_Data_Label_Test = []\n",
    "\n",
    "for value1 in Full_Data_Label_v:\n",
    "    if value1 == 0:\n",
    "        _temp_ = [0, 1]\n",
    "        Full_Data_Label_Test.append(_temp_)\n",
    "    else :\n",
    "        _temp_ = [1, 0]\n",
    "        Full_Data_Label_Test.append(_temp_)\n",
    "        \n",
    "Full_Data_Label_Test = np.array(Full_Data_Label_Test)\n",
    "Full_Data_Label_Test.shape\n",
    "\n",
    "Full_Data_Label_v = Full_Data_Label_Test\n",
    "\n",
    "Full_Data_Label_Test.shape"
   ]
  },
  {
   "cell_type": "code",
   "execution_count": 5,
   "metadata": {},
   "outputs": [
    {
     "name": "stdout",
     "output_type": "stream",
     "text": [
      "Train_Data_shape :  (1600, 10) valid_Data_shape :  (280, 10) Test_Data_shape :  (204, 10)\n",
      "Train_Data_Label_shape :  (1600, 2) valid_Data_Label_shape :  (280, 2) Test_Data_Label_shape :  (204, 2)\n"
     ]
    }
   ],
   "source": [
    "Train_Data, valid_Data, Test_Data = Full_Data_Set_v[:1600], Full_Data_Set_v[1600:1880], Full_Data_Set_v[1880:]\n",
    "Train_Data_Label, valid_Data_Label, Test_Data_Label = Full_Data_Label_Test[:1600], Full_Data_Label_Test[1600:1880], Full_Data_Label_Test[1880:]\n",
    "\n",
    "print('Train_Data_shape : ', Train_Data.shape, 'valid_Data_shape : ', valid_Data.shape, 'Test_Data_shape : ', Test_Data.shape)\n",
    "print('Train_Data_Label_shape : ', Train_Data_Label.shape, 'valid_Data_Label_shape : ', valid_Data_Label.shape, 'Test_Data_Label_shape : ', Test_Data_Label.shape)"
   ]
  },
  {
   "cell_type": "code",
   "execution_count": 6,
   "metadata": {},
   "outputs": [],
   "source": [
    "model = keras.models.Sequential([\n",
    "    keras.layers.Dense(30, input_shape = [10]),\n",
    "    keras.layers.BatchNormalization(),\n",
    "    keras.layers.LeakyReLU(alpha = 0.3),\n",
    "    keras.layers.Dropout(0.3),   \n",
    "    \n",
    "    keras.layers.Dense(60),\n",
    "    keras.layers.BatchNormalization(),\n",
    "    keras.layers.LeakyReLU(alpha = 0.3),\n",
    "    keras.layers.Dropout(0.3), \n",
    "    \n",
    "    keras.layers.Dense(30),\n",
    "    keras.layers.BatchNormalization(),\n",
    "    keras.layers.LeakyReLU(alpha = 0.3),\n",
    "    keras.layers.Dropout(0.3),\n",
    "\n",
    "    keras.layers.Dense(2, activation = 'sigmoid') \n",
    "])"
   ]
  },
  {
   "cell_type": "code",
   "execution_count": 7,
   "metadata": {},
   "outputs": [],
   "source": [
    "model.compile(loss = 'binary_crossentropy', optimizer = 'adam', metrics = ['accuracy'])"
   ]
  },
  {
   "cell_type": "code",
   "execution_count": 8,
   "metadata": {},
   "outputs": [
    {
     "name": "stdout",
     "output_type": "stream",
     "text": [
      "Epoch 1/200\n",
      "50/50 [==============================] - 0s 5ms/step - loss: 0.8009 - accuracy: 0.5125 - val_loss: 0.6884 - val_accuracy: 0.5429\n",
      "Epoch 2/200\n",
      "50/50 [==============================] - 0s 2ms/step - loss: 0.7340 - accuracy: 0.5600 - val_loss: 0.6723 - val_accuracy: 0.5857\n",
      "Epoch 3/200\n",
      "50/50 [==============================] - 0s 2ms/step - loss: 0.7117 - accuracy: 0.5638 - val_loss: 0.6658 - val_accuracy: 0.5893\n",
      "Epoch 4/200\n",
      "50/50 [==============================] - 0s 2ms/step - loss: 0.7020 - accuracy: 0.5925 - val_loss: 0.6586 - val_accuracy: 0.6250\n",
      "Epoch 5/200\n",
      "50/50 [==============================] - 0s 3ms/step - loss: 0.6915 - accuracy: 0.5981 - val_loss: 0.6542 - val_accuracy: 0.6357\n",
      "Epoch 6/200\n",
      "50/50 [==============================] - 0s 2ms/step - loss: 0.6843 - accuracy: 0.5800 - val_loss: 0.6482 - val_accuracy: 0.6250\n",
      "Epoch 7/200\n",
      "50/50 [==============================] - 0s 2ms/step - loss: 0.6941 - accuracy: 0.5725 - val_loss: 0.6507 - val_accuracy: 0.6286\n",
      "Epoch 8/200\n",
      "50/50 [==============================] - 0s 2ms/step - loss: 0.6843 - accuracy: 0.5863 - val_loss: 0.6503 - val_accuracy: 0.6143\n",
      "Epoch 9/200\n",
      "50/50 [==============================] - 0s 2ms/step - loss: 0.6741 - accuracy: 0.6025 - val_loss: 0.6491 - val_accuracy: 0.6214\n",
      "Epoch 10/200\n",
      "50/50 [==============================] - 0s 2ms/step - loss: 0.6741 - accuracy: 0.5956 - val_loss: 0.6492 - val_accuracy: 0.6143\n",
      "Epoch 11/200\n",
      "50/50 [==============================] - 0s 2ms/step - loss: 0.6717 - accuracy: 0.6087 - val_loss: 0.6478 - val_accuracy: 0.6357\n",
      "Epoch 12/200\n",
      "50/50 [==============================] - 0s 2ms/step - loss: 0.6887 - accuracy: 0.5919 - val_loss: 0.6473 - val_accuracy: 0.6143\n",
      "Epoch 13/200\n",
      "50/50 [==============================] - 0s 2ms/step - loss: 0.6705 - accuracy: 0.6144 - val_loss: 0.6452 - val_accuracy: 0.6214\n",
      "Epoch 14/200\n",
      "50/50 [==============================] - 0s 2ms/step - loss: 0.6764 - accuracy: 0.5881 - val_loss: 0.6457 - val_accuracy: 0.6071\n",
      "Epoch 15/200\n",
      "50/50 [==============================] - 0s 3ms/step - loss: 0.6675 - accuracy: 0.6150 - val_loss: 0.6445 - val_accuracy: 0.6179\n",
      "Epoch 16/200\n",
      "50/50 [==============================] - 0s 2ms/step - loss: 0.6694 - accuracy: 0.6137 - val_loss: 0.6455 - val_accuracy: 0.6214\n",
      "Epoch 17/200\n",
      "50/50 [==============================] - 0s 2ms/step - loss: 0.6758 - accuracy: 0.6019 - val_loss: 0.6469 - val_accuracy: 0.6214\n",
      "Epoch 18/200\n",
      "50/50 [==============================] - 0s 2ms/step - loss: 0.6647 - accuracy: 0.6137 - val_loss: 0.6457 - val_accuracy: 0.6250\n",
      "Epoch 19/200\n",
      "50/50 [==============================] - 0s 2ms/step - loss: 0.6637 - accuracy: 0.6156 - val_loss: 0.6446 - val_accuracy: 0.6250\n",
      "Epoch 20/200\n",
      "50/50 [==============================] - 0s 2ms/step - loss: 0.6584 - accuracy: 0.6194 - val_loss: 0.6437 - val_accuracy: 0.6357\n",
      "Epoch 21/200\n",
      "50/50 [==============================] - 0s 2ms/step - loss: 0.6553 - accuracy: 0.6225 - val_loss: 0.6415 - val_accuracy: 0.6464\n",
      "Epoch 22/200\n",
      "50/50 [==============================] - 0s 2ms/step - loss: 0.6500 - accuracy: 0.6313 - val_loss: 0.6401 - val_accuracy: 0.6286\n",
      "Epoch 23/200\n",
      "50/50 [==============================] - 0s 2ms/step - loss: 0.6543 - accuracy: 0.6150 - val_loss: 0.6405 - val_accuracy: 0.6286\n",
      "Epoch 24/200\n",
      "50/50 [==============================] - 0s 2ms/step - loss: 0.6655 - accuracy: 0.6175 - val_loss: 0.6401 - val_accuracy: 0.6393\n",
      "Epoch 25/200\n",
      "50/50 [==============================] - 0s 6ms/step - loss: 0.6601 - accuracy: 0.6219 - val_loss: 0.6415 - val_accuracy: 0.6357\n",
      "Epoch 26/200\n",
      "50/50 [==============================] - 0s 3ms/step - loss: 0.6614 - accuracy: 0.6125 - val_loss: 0.6415 - val_accuracy: 0.6357\n",
      "Epoch 27/200\n",
      "50/50 [==============================] - 0s 2ms/step - loss: 0.6630 - accuracy: 0.6162 - val_loss: 0.6414 - val_accuracy: 0.6250\n",
      "Epoch 28/200\n",
      "50/50 [==============================] - 0s 2ms/step - loss: 0.6540 - accuracy: 0.6350 - val_loss: 0.6405 - val_accuracy: 0.6214\n",
      "Epoch 29/200\n",
      "50/50 [==============================] - 0s 2ms/step - loss: 0.6577 - accuracy: 0.6181 - val_loss: 0.6396 - val_accuracy: 0.6321\n",
      "Epoch 30/200\n",
      "50/50 [==============================] - 0s 3ms/step - loss: 0.6570 - accuracy: 0.6106 - val_loss: 0.6412 - val_accuracy: 0.6286\n",
      "Epoch 31/200\n",
      "50/50 [==============================] - 0s 3ms/step - loss: 0.6540 - accuracy: 0.6319 - val_loss: 0.6396 - val_accuracy: 0.6357\n",
      "Epoch 32/200\n",
      "50/50 [==============================] - 0s 3ms/step - loss: 0.6497 - accuracy: 0.6381 - val_loss: 0.6399 - val_accuracy: 0.6393\n",
      "Epoch 33/200\n",
      "50/50 [==============================] - 0s 2ms/step - loss: 0.6595 - accuracy: 0.6162 - val_loss: 0.6396 - val_accuracy: 0.6429\n",
      "Epoch 34/200\n",
      "50/50 [==============================] - 0s 2ms/step - loss: 0.6568 - accuracy: 0.6181 - val_loss: 0.6405 - val_accuracy: 0.6500\n",
      "Epoch 35/200\n",
      "50/50 [==============================] - 0s 2ms/step - loss: 0.6507 - accuracy: 0.6263 - val_loss: 0.6406 - val_accuracy: 0.6321\n",
      "Epoch 36/200\n",
      "50/50 [==============================] - 0s 2ms/step - loss: 0.6445 - accuracy: 0.6356 - val_loss: 0.6383 - val_accuracy: 0.6429\n",
      "Epoch 37/200\n",
      "50/50 [==============================] - 0s 2ms/step - loss: 0.6612 - accuracy: 0.6187 - val_loss: 0.6386 - val_accuracy: 0.6393\n",
      "Epoch 38/200\n",
      "50/50 [==============================] - 0s 2ms/step - loss: 0.6587 - accuracy: 0.6169 - val_loss: 0.6396 - val_accuracy: 0.6357\n",
      "Epoch 39/200\n",
      "50/50 [==============================] - 0s 2ms/step - loss: 0.6570 - accuracy: 0.6175 - val_loss: 0.6401 - val_accuracy: 0.6321\n",
      "Epoch 40/200\n",
      "50/50 [==============================] - 0s 2ms/step - loss: 0.6556 - accuracy: 0.6162 - val_loss: 0.6420 - val_accuracy: 0.6250\n",
      "Epoch 41/200\n",
      "50/50 [==============================] - 0s 2ms/step - loss: 0.6538 - accuracy: 0.6162 - val_loss: 0.6417 - val_accuracy: 0.6321\n",
      "Epoch 42/200\n",
      "50/50 [==============================] - 0s 2ms/step - loss: 0.6551 - accuracy: 0.6231 - val_loss: 0.6405 - val_accuracy: 0.6286\n",
      "Epoch 43/200\n",
      "50/50 [==============================] - 0s 2ms/step - loss: 0.6526 - accuracy: 0.6231 - val_loss: 0.6395 - val_accuracy: 0.6357\n",
      "Epoch 44/200\n",
      "50/50 [==============================] - 0s 2ms/step - loss: 0.6564 - accuracy: 0.6206 - val_loss: 0.6396 - val_accuracy: 0.6500\n",
      "Epoch 45/200\n",
      "50/50 [==============================] - 0s 2ms/step - loss: 0.6487 - accuracy: 0.6219 - val_loss: 0.6395 - val_accuracy: 0.6500\n",
      "Epoch 46/200\n",
      "50/50 [==============================] - 0s 2ms/step - loss: 0.6493 - accuracy: 0.6306 - val_loss: 0.6405 - val_accuracy: 0.6393\n",
      "Epoch 47/200\n",
      "50/50 [==============================] - 0s 2ms/step - loss: 0.6551 - accuracy: 0.6206 - val_loss: 0.6398 - val_accuracy: 0.6286\n",
      "Epoch 48/200\n",
      "50/50 [==============================] - 0s 2ms/step - loss: 0.6500 - accuracy: 0.6394 - val_loss: 0.6403 - val_accuracy: 0.6321\n",
      "Epoch 49/200\n",
      "50/50 [==============================] - 0s 2ms/step - loss: 0.6482 - accuracy: 0.6413 - val_loss: 0.6396 - val_accuracy: 0.6250\n",
      "Epoch 50/200\n",
      "50/50 [==============================] - 0s 2ms/step - loss: 0.6480 - accuracy: 0.6400 - val_loss: 0.6392 - val_accuracy: 0.6357\n",
      "Epoch 51/200\n",
      "50/50 [==============================] - 0s 2ms/step - loss: 0.6482 - accuracy: 0.6338 - val_loss: 0.6380 - val_accuracy: 0.6250\n",
      "Epoch 52/200\n",
      "50/50 [==============================] - 0s 2ms/step - loss: 0.6446 - accuracy: 0.6419 - val_loss: 0.6380 - val_accuracy: 0.6321\n",
      "Epoch 53/200\n",
      "50/50 [==============================] - 0s 2ms/step - loss: 0.6453 - accuracy: 0.6363 - val_loss: 0.6395 - val_accuracy: 0.6286\n",
      "Epoch 54/200\n",
      "50/50 [==============================] - 0s 2ms/step - loss: 0.6508 - accuracy: 0.6263 - val_loss: 0.6396 - val_accuracy: 0.6286\n",
      "Epoch 55/200\n",
      "50/50 [==============================] - 0s 2ms/step - loss: 0.6491 - accuracy: 0.6281 - val_loss: 0.6365 - val_accuracy: 0.6357\n",
      "Epoch 56/200\n",
      "50/50 [==============================] - 0s 2ms/step - loss: 0.6469 - accuracy: 0.6319 - val_loss: 0.6357 - val_accuracy: 0.6393\n",
      "Epoch 57/200\n",
      "50/50 [==============================] - 0s 2ms/step - loss: 0.6456 - accuracy: 0.6263 - val_loss: 0.6373 - val_accuracy: 0.6429\n",
      "Epoch 58/200\n",
      "50/50 [==============================] - 0s 2ms/step - loss: 0.6516 - accuracy: 0.6169 - val_loss: 0.6366 - val_accuracy: 0.6393\n"
     ]
    },
    {
     "name": "stdout",
     "output_type": "stream",
     "text": [
      "Epoch 59/200\n",
      "50/50 [==============================] - 0s 2ms/step - loss: 0.6466 - accuracy: 0.6338 - val_loss: 0.6378 - val_accuracy: 0.6321\n",
      "Epoch 60/200\n",
      "50/50 [==============================] - 0s 2ms/step - loss: 0.6496 - accuracy: 0.6313 - val_loss: 0.6398 - val_accuracy: 0.6286\n",
      "Epoch 61/200\n",
      "50/50 [==============================] - 0s 2ms/step - loss: 0.6446 - accuracy: 0.6388 - val_loss: 0.6407 - val_accuracy: 0.6214\n",
      "Epoch 62/200\n",
      "50/50 [==============================] - 0s 2ms/step - loss: 0.6497 - accuracy: 0.6306 - val_loss: 0.6403 - val_accuracy: 0.6250\n",
      "Epoch 63/200\n",
      "50/50 [==============================] - 0s 2ms/step - loss: 0.6536 - accuracy: 0.6231 - val_loss: 0.6407 - val_accuracy: 0.6357\n",
      "Epoch 64/200\n",
      "50/50 [==============================] - 0s 2ms/step - loss: 0.6441 - accuracy: 0.6388 - val_loss: 0.6386 - val_accuracy: 0.6321\n",
      "Epoch 65/200\n",
      "50/50 [==============================] - 0s 2ms/step - loss: 0.6445 - accuracy: 0.6344 - val_loss: 0.6355 - val_accuracy: 0.6393\n",
      "Epoch 66/200\n",
      "50/50 [==============================] - 0s 2ms/step - loss: 0.6532 - accuracy: 0.6325 - val_loss: 0.6366 - val_accuracy: 0.6429\n",
      "Epoch 67/200\n",
      "50/50 [==============================] - 0s 2ms/step - loss: 0.6467 - accuracy: 0.6400 - val_loss: 0.6385 - val_accuracy: 0.6321\n",
      "Epoch 68/200\n",
      "50/50 [==============================] - 0s 2ms/step - loss: 0.6464 - accuracy: 0.6400 - val_loss: 0.6386 - val_accuracy: 0.6250\n",
      "Epoch 69/200\n",
      "50/50 [==============================] - 0s 2ms/step - loss: 0.6462 - accuracy: 0.6388 - val_loss: 0.6384 - val_accuracy: 0.6321\n",
      "Epoch 70/200\n",
      "50/50 [==============================] - 0s 2ms/step - loss: 0.6505 - accuracy: 0.6306 - val_loss: 0.6385 - val_accuracy: 0.6321\n",
      "Epoch 71/200\n",
      "50/50 [==============================] - 0s 2ms/step - loss: 0.6472 - accuracy: 0.6231 - val_loss: 0.6409 - val_accuracy: 0.6321\n",
      "Epoch 72/200\n",
      "50/50 [==============================] - 0s 2ms/step - loss: 0.6469 - accuracy: 0.6237 - val_loss: 0.6387 - val_accuracy: 0.6286\n",
      "Epoch 73/200\n",
      "50/50 [==============================] - 0s 2ms/step - loss: 0.6466 - accuracy: 0.6294 - val_loss: 0.6398 - val_accuracy: 0.6286\n",
      "Epoch 74/200\n",
      "50/50 [==============================] - 0s 2ms/step - loss: 0.6408 - accuracy: 0.6456 - val_loss: 0.6374 - val_accuracy: 0.6357\n",
      "Epoch 75/200\n",
      "50/50 [==============================] - 0s 2ms/step - loss: 0.6523 - accuracy: 0.6275 - val_loss: 0.6397 - val_accuracy: 0.6357\n",
      "Epoch 76/200\n",
      "50/50 [==============================] - 0s 2ms/step - loss: 0.6388 - accuracy: 0.6506 - val_loss: 0.6359 - val_accuracy: 0.6357\n",
      "Epoch 77/200\n",
      "50/50 [==============================] - 0s 2ms/step - loss: 0.6432 - accuracy: 0.6494 - val_loss: 0.6376 - val_accuracy: 0.6464\n",
      "Epoch 78/200\n",
      "50/50 [==============================] - 0s 2ms/step - loss: 0.6451 - accuracy: 0.6313 - val_loss: 0.6363 - val_accuracy: 0.6429\n",
      "Epoch 79/200\n",
      "50/50 [==============================] - 0s 2ms/step - loss: 0.6427 - accuracy: 0.6444 - val_loss: 0.6375 - val_accuracy: 0.6357\n",
      "Epoch 80/200\n",
      "50/50 [==============================] - 0s 2ms/step - loss: 0.6356 - accuracy: 0.6562 - val_loss: 0.6358 - val_accuracy: 0.6464\n",
      "Epoch 81/200\n",
      "50/50 [==============================] - 0s 2ms/step - loss: 0.6487 - accuracy: 0.6244 - val_loss: 0.6388 - val_accuracy: 0.6321\n",
      "Epoch 82/200\n",
      "50/50 [==============================] - 0s 2ms/step - loss: 0.6440 - accuracy: 0.6344 - val_loss: 0.6361 - val_accuracy: 0.6393\n",
      "Epoch 83/200\n",
      "50/50 [==============================] - 0s 2ms/step - loss: 0.6457 - accuracy: 0.6406 - val_loss: 0.6350 - val_accuracy: 0.6500\n",
      "Epoch 84/200\n",
      "50/50 [==============================] - 0s 2ms/step - loss: 0.6471 - accuracy: 0.6319 - val_loss: 0.6361 - val_accuracy: 0.6286\n",
      "Epoch 85/200\n",
      "50/50 [==============================] - 0s 2ms/step - loss: 0.6450 - accuracy: 0.6338 - val_loss: 0.6366 - val_accuracy: 0.6321\n",
      "Epoch 86/200\n",
      "50/50 [==============================] - 0s 2ms/step - loss: 0.6438 - accuracy: 0.6381 - val_loss: 0.6369 - val_accuracy: 0.6429\n",
      "Epoch 87/200\n",
      "50/50 [==============================] - 0s 2ms/step - loss: 0.6495 - accuracy: 0.6281 - val_loss: 0.6375 - val_accuracy: 0.6500\n",
      "Epoch 88/200\n",
      "50/50 [==============================] - 0s 2ms/step - loss: 0.6363 - accuracy: 0.6494 - val_loss: 0.6370 - val_accuracy: 0.6464\n",
      "Epoch 89/200\n",
      "50/50 [==============================] - 0s 2ms/step - loss: 0.6451 - accuracy: 0.6400 - val_loss: 0.6384 - val_accuracy: 0.6536\n",
      "Epoch 90/200\n",
      "50/50 [==============================] - 0s 2ms/step - loss: 0.6473 - accuracy: 0.6319 - val_loss: 0.6366 - val_accuracy: 0.6429\n",
      "Epoch 91/200\n",
      "50/50 [==============================] - 0s 2ms/step - loss: 0.6488 - accuracy: 0.6369 - val_loss: 0.6382 - val_accuracy: 0.6500\n",
      "Epoch 92/200\n",
      "50/50 [==============================] - 0s 2ms/step - loss: 0.6410 - accuracy: 0.6338 - val_loss: 0.6384 - val_accuracy: 0.6393\n",
      "Epoch 93/200\n",
      "50/50 [==============================] - 0s 2ms/step - loss: 0.6349 - accuracy: 0.6506 - val_loss: 0.6376 - val_accuracy: 0.6393\n",
      "Epoch 94/200\n",
      "50/50 [==============================] - 0s 2ms/step - loss: 0.6414 - accuracy: 0.6306 - val_loss: 0.6351 - val_accuracy: 0.6429\n",
      "Epoch 95/200\n",
      "50/50 [==============================] - 0s 2ms/step - loss: 0.6367 - accuracy: 0.6269 - val_loss: 0.6369 - val_accuracy: 0.6357\n",
      "Epoch 96/200\n",
      "50/50 [==============================] - 0s 2ms/step - loss: 0.6463 - accuracy: 0.6281 - val_loss: 0.6399 - val_accuracy: 0.6286\n",
      "Epoch 97/200\n",
      "50/50 [==============================] - 0s 2ms/step - loss: 0.6430 - accuracy: 0.6419 - val_loss: 0.6369 - val_accuracy: 0.6357\n",
      "Epoch 98/200\n",
      "50/50 [==============================] - 0s 2ms/step - loss: 0.6409 - accuracy: 0.6306 - val_loss: 0.6373 - val_accuracy: 0.6321\n",
      "Epoch 99/200\n",
      "50/50 [==============================] - 0s 2ms/step - loss: 0.6392 - accuracy: 0.6438 - val_loss: 0.6370 - val_accuracy: 0.6286\n",
      "Epoch 100/200\n",
      "50/50 [==============================] - 0s 2ms/step - loss: 0.6394 - accuracy: 0.6319 - val_loss: 0.6371 - val_accuracy: 0.6286\n",
      "Epoch 101/200\n",
      "50/50 [==============================] - 0s 2ms/step - loss: 0.6396 - accuracy: 0.6438 - val_loss: 0.6377 - val_accuracy: 0.6321\n",
      "Epoch 102/200\n",
      "50/50 [==============================] - 0s 2ms/step - loss: 0.6406 - accuracy: 0.6400 - val_loss: 0.6382 - val_accuracy: 0.6286\n",
      "Epoch 103/200\n",
      "50/50 [==============================] - 0s 2ms/step - loss: 0.6355 - accuracy: 0.6525 - val_loss: 0.6339 - val_accuracy: 0.6321\n",
      "Epoch 104/200\n",
      "50/50 [==============================] - 0s 2ms/step - loss: 0.6503 - accuracy: 0.6350 - val_loss: 0.6355 - val_accuracy: 0.6393\n",
      "Epoch 105/200\n",
      "50/50 [==============================] - 0s 2ms/step - loss: 0.6425 - accuracy: 0.6381 - val_loss: 0.6372 - val_accuracy: 0.6250\n",
      "Epoch 106/200\n",
      "50/50 [==============================] - 0s 2ms/step - loss: 0.6341 - accuracy: 0.6425 - val_loss: 0.6378 - val_accuracy: 0.6286\n",
      "Epoch 107/200\n",
      "50/50 [==============================] - 0s 2ms/step - loss: 0.6313 - accuracy: 0.6513 - val_loss: 0.6327 - val_accuracy: 0.6464\n",
      "Epoch 108/200\n",
      "50/50 [==============================] - 0s 2ms/step - loss: 0.6375 - accuracy: 0.6419 - val_loss: 0.6368 - val_accuracy: 0.6214\n",
      "Epoch 109/200\n",
      "50/50 [==============================] - 0s 2ms/step - loss: 0.6352 - accuracy: 0.6375 - val_loss: 0.6368 - val_accuracy: 0.6429\n",
      "Epoch 110/200\n",
      "50/50 [==============================] - 0s 2ms/step - loss: 0.6393 - accuracy: 0.6338 - val_loss: 0.6350 - val_accuracy: 0.6464\n",
      "Epoch 111/200\n",
      "50/50 [==============================] - 0s 2ms/step - loss: 0.6484 - accuracy: 0.6394 - val_loss: 0.6376 - val_accuracy: 0.6429\n",
      "Epoch 112/200\n",
      "50/50 [==============================] - 0s 2ms/step - loss: 0.6442 - accuracy: 0.6300 - val_loss: 0.6377 - val_accuracy: 0.6321\n",
      "Epoch 113/200\n",
      "50/50 [==============================] - 0s 2ms/step - loss: 0.6479 - accuracy: 0.6306 - val_loss: 0.6382 - val_accuracy: 0.6357\n",
      "Epoch 114/200\n",
      "50/50 [==============================] - 0s 2ms/step - loss: 0.6431 - accuracy: 0.6381 - val_loss: 0.6388 - val_accuracy: 0.6357\n",
      "Epoch 115/200\n",
      "50/50 [==============================] - 0s 2ms/step - loss: 0.6405 - accuracy: 0.6363 - val_loss: 0.6374 - val_accuracy: 0.6286\n",
      "Epoch 116/200\n",
      "50/50 [==============================] - 0s 2ms/step - loss: 0.6411 - accuracy: 0.6288 - val_loss: 0.6341 - val_accuracy: 0.6357\n",
      "Epoch 117/200\n",
      "50/50 [==============================] - 0s 2ms/step - loss: 0.6397 - accuracy: 0.6331 - val_loss: 0.6344 - val_accuracy: 0.6429\n",
      "Epoch 118/200\n",
      "50/50 [==============================] - 0s 2ms/step - loss: 0.6390 - accuracy: 0.6344 - val_loss: 0.6340 - val_accuracy: 0.6429\n",
      "Epoch 119/200\n",
      "50/50 [==============================] - 0s 2ms/step - loss: 0.6434 - accuracy: 0.6338 - val_loss: 0.6356 - val_accuracy: 0.6357\n",
      "Epoch 120/200\n",
      "50/50 [==============================] - 0s 2ms/step - loss: 0.6361 - accuracy: 0.6419 - val_loss: 0.6348 - val_accuracy: 0.6429\n",
      "Epoch 121/200\n",
      "50/50 [==============================] - 0s 2ms/step - loss: 0.6394 - accuracy: 0.6463 - val_loss: 0.6343 - val_accuracy: 0.6464\n",
      "Epoch 122/200\n",
      "50/50 [==============================] - 0s 2ms/step - loss: 0.6419 - accuracy: 0.6444 - val_loss: 0.6370 - val_accuracy: 0.6393\n",
      "Epoch 123/200\n",
      "50/50 [==============================] - 0s 2ms/step - loss: 0.6411 - accuracy: 0.6381 - val_loss: 0.6379 - val_accuracy: 0.6286\n",
      "Epoch 124/200\n",
      "50/50 [==============================] - 0s 2ms/step - loss: 0.6364 - accuracy: 0.6494 - val_loss: 0.6395 - val_accuracy: 0.6250\n",
      "Epoch 125/200\n",
      "50/50 [==============================] - 0s 2ms/step - loss: 0.6373 - accuracy: 0.6406 - val_loss: 0.6378 - val_accuracy: 0.6179\n",
      "Epoch 126/200\n",
      "50/50 [==============================] - 0s 2ms/step - loss: 0.6399 - accuracy: 0.6306 - val_loss: 0.6364 - val_accuracy: 0.6393\n",
      "Epoch 127/200\n",
      "50/50 [==============================] - 0s 2ms/step - loss: 0.6390 - accuracy: 0.6425 - val_loss: 0.6350 - val_accuracy: 0.6429\n",
      "Epoch 128/200\n",
      "50/50 [==============================] - 0s 2ms/step - loss: 0.6384 - accuracy: 0.6444 - val_loss: 0.6388 - val_accuracy: 0.6250\n",
      "Epoch 129/200\n",
      "50/50 [==============================] - 0s 2ms/step - loss: 0.6372 - accuracy: 0.6375 - val_loss: 0.6375 - val_accuracy: 0.6464\n",
      "Epoch 130/200\n",
      "50/50 [==============================] - 0s 2ms/step - loss: 0.6336 - accuracy: 0.6488 - val_loss: 0.6337 - val_accuracy: 0.6500\n",
      "Epoch 131/200\n",
      "50/50 [==============================] - 0s 2ms/step - loss: 0.6428 - accuracy: 0.6356 - val_loss: 0.6339 - val_accuracy: 0.6536\n",
      "Epoch 132/200\n",
      "50/50 [==============================] - 0s 2ms/step - loss: 0.6323 - accuracy: 0.6612 - val_loss: 0.6337 - val_accuracy: 0.6464\n",
      "Epoch 133/200\n",
      "50/50 [==============================] - 0s 2ms/step - loss: 0.6436 - accuracy: 0.6406 - val_loss: 0.6370 - val_accuracy: 0.6321\n",
      "Epoch 134/200\n",
      "50/50 [==============================] - 0s 2ms/step - loss: 0.6413 - accuracy: 0.6394 - val_loss: 0.6382 - val_accuracy: 0.6250\n",
      "Epoch 135/200\n",
      "50/50 [==============================] - 0s 2ms/step - loss: 0.6338 - accuracy: 0.6506 - val_loss: 0.6378 - val_accuracy: 0.6321\n",
      "Epoch 136/200\n",
      "50/50 [==============================] - 0s 2ms/step - loss: 0.6360 - accuracy: 0.6319 - val_loss: 0.6372 - val_accuracy: 0.6357\n",
      "Epoch 137/200\n",
      "50/50 [==============================] - 0s 2ms/step - loss: 0.6357 - accuracy: 0.6431 - val_loss: 0.6380 - val_accuracy: 0.6179\n",
      "Epoch 138/200\n",
      "50/50 [==============================] - 0s 2ms/step - loss: 0.6378 - accuracy: 0.6350 - val_loss: 0.6377 - val_accuracy: 0.6250\n",
      "Epoch 139/200\n",
      "50/50 [==============================] - 0s 2ms/step - loss: 0.6325 - accuracy: 0.6500 - val_loss: 0.6365 - val_accuracy: 0.6357\n",
      "Epoch 140/200\n",
      "50/50 [==============================] - 0s 2ms/step - loss: 0.6370 - accuracy: 0.6431 - val_loss: 0.6375 - val_accuracy: 0.6250\n",
      "Epoch 141/200\n",
      "50/50 [==============================] - 0s 2ms/step - loss: 0.6375 - accuracy: 0.6388 - val_loss: 0.6404 - val_accuracy: 0.6143\n",
      "Epoch 142/200\n",
      "50/50 [==============================] - 0s 2ms/step - loss: 0.6323 - accuracy: 0.6331 - val_loss: 0.6370 - val_accuracy: 0.6321\n",
      "Epoch 143/200\n",
      "50/50 [==============================] - 0s 2ms/step - loss: 0.6348 - accuracy: 0.6488 - val_loss: 0.6358 - val_accuracy: 0.6321\n",
      "Epoch 144/200\n",
      "50/50 [==============================] - 0s 2ms/step - loss: 0.6335 - accuracy: 0.6388 - val_loss: 0.6356 - val_accuracy: 0.6214\n",
      "Epoch 145/200\n",
      "50/50 [==============================] - 0s 2ms/step - loss: 0.6323 - accuracy: 0.6444 - val_loss: 0.6340 - val_accuracy: 0.6393\n",
      "Epoch 146/200\n",
      "50/50 [==============================] - 0s 2ms/step - loss: 0.6355 - accuracy: 0.6363 - val_loss: 0.6374 - val_accuracy: 0.6321\n",
      "Epoch 147/200\n",
      "50/50 [==============================] - 0s 2ms/step - loss: 0.6347 - accuracy: 0.6413 - val_loss: 0.6366 - val_accuracy: 0.6143\n",
      "Epoch 148/200\n",
      "50/50 [==============================] - 0s 2ms/step - loss: 0.6396 - accuracy: 0.6425 - val_loss: 0.6350 - val_accuracy: 0.6393\n",
      "Epoch 149/200\n",
      "50/50 [==============================] - 0s 2ms/step - loss: 0.6281 - accuracy: 0.6581 - val_loss: 0.6340 - val_accuracy: 0.6500\n",
      "Epoch 150/200\n",
      "50/50 [==============================] - 0s 2ms/step - loss: 0.6440 - accuracy: 0.6394 - val_loss: 0.6348 - val_accuracy: 0.6321\n",
      "Epoch 151/200\n",
      "50/50 [==============================] - 0s 2ms/step - loss: 0.6309 - accuracy: 0.6556 - val_loss: 0.6340 - val_accuracy: 0.6357\n",
      "Epoch 152/200\n",
      "50/50 [==============================] - 0s 2ms/step - loss: 0.6413 - accuracy: 0.6425 - val_loss: 0.6369 - val_accuracy: 0.6286\n",
      "Epoch 153/200\n",
      "50/50 [==============================] - 0s 2ms/step - loss: 0.6377 - accuracy: 0.6338 - val_loss: 0.6365 - val_accuracy: 0.6179\n",
      "Epoch 154/200\n",
      "50/50 [==============================] - 0s 2ms/step - loss: 0.6403 - accuracy: 0.6331 - val_loss: 0.6366 - val_accuracy: 0.6250\n",
      "Epoch 155/200\n",
      "50/50 [==============================] - 0s 2ms/step - loss: 0.6366 - accuracy: 0.6369 - val_loss: 0.6364 - val_accuracy: 0.6321\n",
      "Epoch 156/200\n",
      "50/50 [==============================] - 0s 2ms/step - loss: 0.6401 - accuracy: 0.6356 - val_loss: 0.6362 - val_accuracy: 0.6250\n",
      "Epoch 157/200\n",
      "50/50 [==============================] - 0s 2ms/step - loss: 0.6399 - accuracy: 0.6419 - val_loss: 0.6344 - val_accuracy: 0.6536\n",
      "Epoch 158/200\n",
      "50/50 [==============================] - 0s 2ms/step - loss: 0.6377 - accuracy: 0.6450 - val_loss: 0.6365 - val_accuracy: 0.6393\n",
      "Epoch 159/200\n",
      "50/50 [==============================] - 0s 2ms/step - loss: 0.6338 - accuracy: 0.6494 - val_loss: 0.6363 - val_accuracy: 0.6286\n",
      "Epoch 160/200\n",
      "50/50 [==============================] - 0s 2ms/step - loss: 0.6283 - accuracy: 0.6481 - val_loss: 0.6376 - val_accuracy: 0.6250\n",
      "Epoch 161/200\n",
      "50/50 [==============================] - 0s 2ms/step - loss: 0.6367 - accuracy: 0.6381 - val_loss: 0.6412 - val_accuracy: 0.6214\n",
      "Epoch 162/200\n",
      "50/50 [==============================] - ETA: 0s - loss: 0.6339 - accuracy: 0.65 - 0s 2ms/step - loss: 0.6349 - accuracy: 0.6494 - val_loss: 0.6392 - val_accuracy: 0.6214\n",
      "Epoch 163/200\n",
      "50/50 [==============================] - 0s 2ms/step - loss: 0.6412 - accuracy: 0.6381 - val_loss: 0.6367 - val_accuracy: 0.6286\n",
      "Epoch 164/200\n",
      "50/50 [==============================] - 0s 2ms/step - loss: 0.6325 - accuracy: 0.6550 - val_loss: 0.6350 - val_accuracy: 0.6464\n",
      "Epoch 165/200\n",
      "50/50 [==============================] - 0s 2ms/step - loss: 0.6318 - accuracy: 0.6525 - val_loss: 0.6359 - val_accuracy: 0.6321\n",
      "Epoch 166/200\n",
      "50/50 [==============================] - 0s 2ms/step - loss: 0.6235 - accuracy: 0.6569 - val_loss: 0.6332 - val_accuracy: 0.6357\n",
      "Epoch 167/200\n",
      "50/50 [==============================] - 0s 2ms/step - loss: 0.6439 - accuracy: 0.6281 - val_loss: 0.6334 - val_accuracy: 0.6393\n",
      "Epoch 168/200\n",
      "50/50 [==============================] - 0s 2ms/step - loss: 0.6333 - accuracy: 0.6463 - val_loss: 0.6377 - val_accuracy: 0.6179\n",
      "Epoch 169/200\n",
      "50/50 [==============================] - 0s 2ms/step - loss: 0.6347 - accuracy: 0.6488 - val_loss: 0.6394 - val_accuracy: 0.6107\n",
      "Epoch 170/200\n",
      "50/50 [==============================] - 0s 2ms/step - loss: 0.6329 - accuracy: 0.6475 - val_loss: 0.6366 - val_accuracy: 0.6286\n",
      "Epoch 171/200\n",
      "50/50 [==============================] - 0s 2ms/step - loss: 0.6416 - accuracy: 0.6388 - val_loss: 0.6366 - val_accuracy: 0.6214\n",
      "Epoch 172/200\n",
      "50/50 [==============================] - 0s 2ms/step - loss: 0.6289 - accuracy: 0.6644 - val_loss: 0.6338 - val_accuracy: 0.6250\n",
      "Epoch 173/200\n"
     ]
    },
    {
     "name": "stdout",
     "output_type": "stream",
     "text": [
      "50/50 [==============================] - 0s 2ms/step - loss: 0.6411 - accuracy: 0.6413 - val_loss: 0.6334 - val_accuracy: 0.6429\n",
      "Epoch 174/200\n",
      "50/50 [==============================] - 0s 2ms/step - loss: 0.6361 - accuracy: 0.6400 - val_loss: 0.6350 - val_accuracy: 0.6321\n",
      "Epoch 175/200\n",
      "50/50 [==============================] - 0s 2ms/step - loss: 0.6276 - accuracy: 0.6525 - val_loss: 0.6350 - val_accuracy: 0.6250\n",
      "Epoch 176/200\n",
      "50/50 [==============================] - 0s 2ms/step - loss: 0.6394 - accuracy: 0.6419 - val_loss: 0.6361 - val_accuracy: 0.6286\n",
      "Epoch 177/200\n",
      "50/50 [==============================] - 0s 2ms/step - loss: 0.6387 - accuracy: 0.6463 - val_loss: 0.6381 - val_accuracy: 0.6250\n",
      "Epoch 178/200\n",
      "50/50 [==============================] - 0s 2ms/step - loss: 0.6400 - accuracy: 0.6444 - val_loss: 0.6355 - val_accuracy: 0.6357\n",
      "Epoch 179/200\n",
      "50/50 [==============================] - 0s 2ms/step - loss: 0.6362 - accuracy: 0.6363 - val_loss: 0.6375 - val_accuracy: 0.6214\n",
      "Epoch 180/200\n",
      "50/50 [==============================] - 0s 2ms/step - loss: 0.6350 - accuracy: 0.6388 - val_loss: 0.6342 - val_accuracy: 0.6429\n",
      "Epoch 181/200\n",
      "50/50 [==============================] - 0s 2ms/step - loss: 0.6429 - accuracy: 0.6413 - val_loss: 0.6357 - val_accuracy: 0.6250\n",
      "Epoch 182/200\n",
      "50/50 [==============================] - 0s 2ms/step - loss: 0.6294 - accuracy: 0.6519 - val_loss: 0.6356 - val_accuracy: 0.6250\n",
      "Epoch 183/200\n",
      "50/50 [==============================] - 0s 2ms/step - loss: 0.6332 - accuracy: 0.6600 - val_loss: 0.6329 - val_accuracy: 0.6286\n",
      "Epoch 184/200\n",
      "50/50 [==============================] - 0s 2ms/step - loss: 0.6361 - accuracy: 0.6431 - val_loss: 0.6332 - val_accuracy: 0.6214\n",
      "Epoch 185/200\n",
      "50/50 [==============================] - 0s 3ms/step - loss: 0.6352 - accuracy: 0.6400 - val_loss: 0.6350 - val_accuracy: 0.6250\n",
      "Epoch 186/200\n",
      "50/50 [==============================] - 0s 2ms/step - loss: 0.6327 - accuracy: 0.6469 - val_loss: 0.6366 - val_accuracy: 0.6286\n",
      "Epoch 187/200\n",
      "50/50 [==============================] - 0s 2ms/step - loss: 0.6337 - accuracy: 0.6513 - val_loss: 0.6344 - val_accuracy: 0.6179\n",
      "Epoch 188/200\n",
      "50/50 [==============================] - 0s 2ms/step - loss: 0.6349 - accuracy: 0.6481 - val_loss: 0.6351 - val_accuracy: 0.6250\n",
      "Epoch 189/200\n",
      "50/50 [==============================] - 0s 2ms/step - loss: 0.6411 - accuracy: 0.6306 - val_loss: 0.6369 - val_accuracy: 0.6250\n",
      "Epoch 190/200\n",
      "50/50 [==============================] - 0s 2ms/step - loss: 0.6437 - accuracy: 0.6406 - val_loss: 0.6360 - val_accuracy: 0.6214\n",
      "Epoch 191/200\n",
      "50/50 [==============================] - 0s 2ms/step - loss: 0.6351 - accuracy: 0.6456 - val_loss: 0.6350 - val_accuracy: 0.6393\n",
      "Epoch 192/200\n",
      "50/50 [==============================] - 0s 2ms/step - loss: 0.6391 - accuracy: 0.6500 - val_loss: 0.6353 - val_accuracy: 0.6250\n",
      "Epoch 193/200\n",
      "50/50 [==============================] - 0s 2ms/step - loss: 0.6377 - accuracy: 0.6388 - val_loss: 0.6332 - val_accuracy: 0.6357\n",
      "Epoch 194/200\n",
      "50/50 [==============================] - 0s 2ms/step - loss: 0.6283 - accuracy: 0.6456 - val_loss: 0.6340 - val_accuracy: 0.6214\n",
      "Epoch 195/200\n",
      "50/50 [==============================] - 0s 2ms/step - loss: 0.6314 - accuracy: 0.6544 - val_loss: 0.6328 - val_accuracy: 0.6179\n",
      "Epoch 196/200\n",
      "50/50 [==============================] - 0s 2ms/step - loss: 0.6349 - accuracy: 0.6506 - val_loss: 0.6320 - val_accuracy: 0.6357\n",
      "Epoch 197/200\n",
      "50/50 [==============================] - 0s 2ms/step - loss: 0.6381 - accuracy: 0.6400 - val_loss: 0.6314 - val_accuracy: 0.6250\n",
      "Epoch 198/200\n",
      "50/50 [==============================] - 0s 2ms/step - loss: 0.6327 - accuracy: 0.6562 - val_loss: 0.6314 - val_accuracy: 0.6429\n",
      "Epoch 199/200\n",
      "50/50 [==============================] - 0s 2ms/step - loss: 0.6383 - accuracy: 0.6413 - val_loss: 0.6329 - val_accuracy: 0.6250\n",
      "Epoch 200/200\n",
      "50/50 [==============================] - 0s 2ms/step - loss: 0.6379 - accuracy: 0.6431 - val_loss: 0.6311 - val_accuracy: 0.6357\n"
     ]
    }
   ],
   "source": [
    "history = model.fit(Train_Data, Train_Data_Label, epochs = 200, validation_data = (valid_Data, valid_Data_Label))"
   ]
  },
  {
   "cell_type": "code",
   "execution_count": 9,
   "metadata": {},
   "outputs": [
    {
     "data": {
      "image/png": "[encoded data removed]",
      "text/plain": [
       "<Figure size 720x360 with 1 Axes>"
      ]
     },
     "metadata": {
      "needs_background": "light"
     },
     "output_type": "display_data"
    }
   ],
   "source": [
    "pd.DataFrame(history.history).plot(figsize = (10, 5))\n",
    "plt.grid(True)\n",
    "plt.show()"
   ]
  },
  {
   "cell_type": "code",
   "execution_count": 10,
   "metadata": {},
   "outputs": [
    {
     "name": "stdout",
     "output_type": "stream",
     "text": [
      "7/7 [==============================] - 0s 1ms/step - loss: 0.6048 - accuracy: 0.6569\n",
      "test_loss :  0.6047713756561279 test_acc :  0.656862735748291\n"
     ]
    }
   ],
   "source": [
    "test_loss, test_acc = model.evaluate(Test_Data, Test_Data_Label, verbose=1)\n",
    "print('test_loss : ', test_loss, 'test_acc : ', test_acc)"
   ]
  },
  {
   "cell_type": "code",
   "execution_count": 30,
   "metadata": {},
   "outputs": [],
   "source": [
    "pre_data = model.predict(Test_Data)"
   ]
  },
  {
   "cell_type": "code",
   "execution_count": 39,
   "metadata": {},
   "outputs": [
    {
     "name": "stdout",
     "output_type": "stream",
     "text": [
      "Test_Data_Label :  [1 1 0]\n",
      "pre_data :  [[0.6452007  0.3552949 ]\n",
      " [0.5599198  0.44068947]\n",
      " [0.26152927 0.73894167]\n",
      " [0.2651062  0.73485875]\n",
      " [0.4451041  0.55394673]\n",
      " [0.67574    0.32545143]\n",
      " [0.5954612  0.40430278]\n",
      " [0.47431195 0.5267357 ]\n",
      " [0.38656363 0.61423063]\n",
      " [0.35911876 0.64175445]\n",
      " [0.54091775 0.45931804]\n",
      " [0.5709475  0.42868966]\n",
      " [0.1994105  0.8021781 ]\n",
      " [0.34051374 0.6599614 ]\n",
      " [0.21346906 0.7870005 ]\n",
      " [0.3092596  0.69086206]\n",
      " [0.31071505 0.6887791 ]\n",
      " [0.30384827 0.6964382 ]\n",
      " [0.6734045  0.32516354]\n",
      " [0.59436953 0.40589467]]\n"
     ]
    }
   ],
   "source": [
    "print('Test_Data_Label : ', Test_Data_Label[:3])\n",
    "print('pre_data : ', pre_data[:20])"
   ]
  },
  {
   "cell_type": "code",
   "execution_count": 32,
   "metadata": {},
   "outputs": [],
   "source": [
    "test_result = []\n",
    "\n",
    "for i, val in enumerate (pre_data):\n",
    "    if val[0] > val[1]:\n",
    "        test_result.append(0)\n",
    "    else:\n",
    "        test_result.append(1)\n",
    "        \n",
    "Test_Data_Label = Test_Data_Label[:, -1]"
   ]
  },
  {
   "cell_type": "code",
   "execution_count": 33,
   "metadata": {},
   "outputs": [
    {
     "name": "stdout",
     "output_type": "stream",
     "text": [
      "Test_Data_Label :  [1 1 0 0 1 1 0 0 1 1]\n",
      "test_result :  [0, 0, 1, 1, 1, 0, 0, 1, 1, 1]\n"
     ]
    }
   ],
   "source": [
    "print('Test_Data_Label : ', Test_Data_Label[:10])\n",
    "print('test_result : ', test_result[:10])"
   ]
  },
  {
   "cell_type": "code",
   "execution_count": 34,
   "metadata": {},
   "outputs": [
    {
     "name": "stdout",
     "output_type": "stream",
     "text": [
      "\n",
      " TP : tf.Tensor(72, shape=(), dtype=int32) \n",
      " FN : tf.Tensor(30, shape=(), dtype=int32) \n",
      " FP : tf.Tensor(34, shape=(), dtype=int32) \n",
      " TN : tf.Tensor(68, shape=(), dtype=int32) \n",
      "\n",
      "Accuracy :  0.6863\n",
      "Error_rate :  0.3137\n",
      "Precirion :  0.6792\n",
      "Recall :  0.7059\n"
     ]
    }
   ],
   "source": [
    "con_matrix_ = tf.math.confusion_matrix(\n",
    "    Test_Data_Label, test_result, num_classes=None, weights=None, dtype=tf.dtypes.int32, name=None)\n",
    "\n",
    "TP = con_matrix_[0][0]\n",
    "FN = con_matrix_[0][1]\n",
    "FP = con_matrix_[1][0]\n",
    "TN = con_matrix_[1][1]\n",
    "\n",
    "print('\\n',\n",
    "      'TP :', TP, '\\n', \n",
    "      'FN :', FN, '\\n', \n",
    "      'FP :', FP, '\\n', \n",
    "      'TN :', TN, '\\n')\n",
    "\n",
    "Accuracy = (TP+TN)/(TP+FN+FP+TN)\n",
    "print('Accuracy : ', '{:.4f}'.format(Accuracy))\n",
    "\n",
    "Error_rate = (FP+FN)/(TP+FN+FP+TN)\n",
    "print('Error_rate : ', '{:.4f}'.format(Error_rate))\n",
    "\n",
    "Precirion = TP/(TP+FP)\n",
    "print('Precirion : ', '{:.4f}'.format(Precirion))\n",
    "\n",
    "Recall = TP/(TP+FN) \n",
    "print('Recall : ', '{:.4f}'.format(Recall))"
   ]
  },
  {
   "cell_type": "code",
   "execution_count": 1,
   "metadata": {},
   "outputs": [],
   "source": [
    "Acc = 0.6863\n",
    "pree = 0.6792\n",
    "rec = 0.7059"
   ]
  },
  {
   "cell_type": "code",
   "execution_count": 2,
   "metadata": {},
   "outputs": [],
   "source": [
    "mul = pree * rec\n",
    "addd = pree + rec"
   ]
  },
  {
   "cell_type": "code",
   "execution_count": 3,
   "metadata": {},
   "outputs": [],
   "source": [
    "dataa = mul / addd * 2\n",
    "dataa = dataa"
   ]
  },
  {
   "cell_type": "code",
   "execution_count": 6,
   "metadata": {},
   "outputs": [
    {
     "name": "stdout",
     "output_type": "stream",
     "text": [
      "Accuracy :  0.6863\n",
      "Precirion :  0.6792\n",
      "Recall :  0.7059\n",
      "F1 - Score :  0.6922926575698505\n"
     ]
    }
   ],
   "source": [
    "\n",
    "print('Accuracy : ', Acc)\n",
    "print('Precirion : ', pree)\n",
    "print('Recall : ', rec)\n",
    "print('F1 - Score : ', dataa)"
   ]
  },
  {
   "cell_type": "code",
   "execution_count": null,
   "metadata": {},
   "outputs": [],
   "source": []
  },
  {
   "cell_type": "code",
   "execution_count": 42,
   "metadata": {},
   "outputs": [],
   "source": [
    "np.save('C:/Users/82107/Desktop/python/Classification_model_accuracy', Accuracy)"
   ]
  },
  {
   "cell_type": "code",
   "execution_count": 35,
   "metadata": {},
   "outputs": [
    {
     "name": "stdout",
     "output_type": "stream",
     "text": [
      "tpr :  tf.Tensor(0.7058823529411765, shape=(), dtype=float64) fpr :  tf.Tensor(0.3333333333333333, shape=(), dtype=float64)\n"
     ]
    }
   ],
   "source": [
    "tpr_score = TP/(TP+FN)\n",
    "fpr_score = FP/(FP+TN)\n",
    "\n",
    "tpr = tpr_score\n",
    "fpr = fpr_score\n",
    "\n",
    "print('tpr : ', tpr, 'fpr : ', fpr)"
   ]
  },
  {
   "cell_type": "code",
   "execution_count": 36,
   "metadata": {},
   "outputs": [
    {
     "data": {
      "image/png": "[encoded data removed]",
      "text/plain": [
       "<Figure size 720x576 with 1 Axes>"
      ]
     },
     "metadata": {
      "needs_background": "light"
     },
     "output_type": "display_data"
    }
   ],
   "source": [
    "import sklearn.metrics as metrics\n",
    "probs = model.predict(Test_Data)\n",
    "preds = probs[:,1]\n",
    "fpr, tpr, threshold = metrics.roc_curve(Test_Data_Label, preds)\n",
    "roc_auc = metrics.auc(fpr, tpr)\n",
    "\n",
    "\n",
    "\n",
    "import matplotlib.pyplot as plt\n",
    "plt.figure(figsize = (10, 8))\n",
    "plt.title('ROC curve')\n",
    "plt.plot(fpr, tpr, 'b', label = 'AUC = %0.2f' % roc_auc)\n",
    "plt.legend(loc = 'lower right')\n",
    "plt.plot([0, 1], [0, 1],'r--')\n",
    "plt.xlim([0, 1])\n",
    "plt.ylim([0, 1])\n",
    "plt.ylabel('True Positive Rate')\n",
    "plt.xlabel('False Positive Rate')\n",
    "plt.show()"
   ]
  },
  {
   "cell_type": "code",
   "execution_count": 41,
   "metadata": {},
   "outputs": [
    {
     "data": {
      "text/html": [
       "<div>\n",
       "<style scoped>\n",
       "    .dataframe tbody tr th:only-of-type {\n",
       "        vertical-align: middle;\n",
       "    }\n",
       "\n",
       "    .dataframe tbody tr th {\n",
       "        vertical-align: top;\n",
       "    }\n",
       "\n",
       "    .dataframe thead th {\n",
       "        text-align: right;\n",
       "    }\n",
       "</style>\n",
       "<table border=\"1\" class=\"dataframe\">\n",
       "  <thead>\n",
       "    <tr style=\"text-align: right;\">\n",
       "      <th></th>\n",
       "      <th>0</th>\n",
       "    </tr>\n",
       "  </thead>\n",
       "  <tbody>\n",
       "    <tr>\n",
       "      <th>0</th>\n",
       "      <td>0.355295</td>\n",
       "    </tr>\n",
       "    <tr>\n",
       "      <th>1</th>\n",
       "      <td>0.440689</td>\n",
       "    </tr>\n",
       "    <tr>\n",
       "      <th>2</th>\n",
       "      <td>0.738942</td>\n",
       "    </tr>\n",
       "    <tr>\n",
       "      <th>3</th>\n",
       "      <td>0.734859</td>\n",
       "    </tr>\n",
       "    <tr>\n",
       "      <th>4</th>\n",
       "      <td>0.553947</td>\n",
       "    </tr>\n",
       "    <tr>\n",
       "      <th>5</th>\n",
       "      <td>0.325451</td>\n",
       "    </tr>\n",
       "    <tr>\n",
       "      <th>6</th>\n",
       "      <td>0.404303</td>\n",
       "    </tr>\n",
       "    <tr>\n",
       "      <th>7</th>\n",
       "      <td>0.526736</td>\n",
       "    </tr>\n",
       "    <tr>\n",
       "      <th>8</th>\n",
       "      <td>0.614231</td>\n",
       "    </tr>\n",
       "    <tr>\n",
       "      <th>9</th>\n",
       "      <td>0.641754</td>\n",
       "    </tr>\n",
       "    <tr>\n",
       "      <th>10</th>\n",
       "      <td>0.459318</td>\n",
       "    </tr>\n",
       "    <tr>\n",
       "      <th>11</th>\n",
       "      <td>0.428690</td>\n",
       "    </tr>\n",
       "    <tr>\n",
       "      <th>12</th>\n",
       "      <td>0.802178</td>\n",
       "    </tr>\n",
       "    <tr>\n",
       "      <th>13</th>\n",
       "      <td>0.659961</td>\n",
       "    </tr>\n",
       "    <tr>\n",
       "      <th>14</th>\n",
       "      <td>0.787000</td>\n",
       "    </tr>\n",
       "    <tr>\n",
       "      <th>15</th>\n",
       "      <td>0.690862</td>\n",
       "    </tr>\n",
       "    <tr>\n",
       "      <th>16</th>\n",
       "      <td>0.688779</td>\n",
       "    </tr>\n",
       "    <tr>\n",
       "      <th>17</th>\n",
       "      <td>0.696438</td>\n",
       "    </tr>\n",
       "    <tr>\n",
       "      <th>18</th>\n",
       "      <td>0.325164</td>\n",
       "    </tr>\n",
       "    <tr>\n",
       "      <th>19</th>\n",
       "      <td>0.405895</td>\n",
       "    </tr>\n",
       "  </tbody>\n",
       "</table>\n",
       "</div>"
      ],
      "text/plain": [
       "           0\n",
       "0   0.355295\n",
       "1   0.440689\n",
       "2   0.738942\n",
       "3   0.734859\n",
       "4   0.553947\n",
       "5   0.325451\n",
       "6   0.404303\n",
       "7   0.526736\n",
       "8   0.614231\n",
       "9   0.641754\n",
       "10  0.459318\n",
       "11  0.428690\n",
       "12  0.802178\n",
       "13  0.659961\n",
       "14  0.787000\n",
       "15  0.690862\n",
       "16  0.688779\n",
       "17  0.696438\n",
       "18  0.325164\n",
       "19  0.405895"
      ]
     },
     "execution_count": 41,
     "metadata": {},
     "output_type": "execute_result"
    }
   ],
   "source": [
    "Sepsis_persent = []\n",
    "\n",
    "for i, value in enumerate(pre_data):\n",
    "    Sepsis_persent.append(value[1])\n",
    "    \n",
    "Sepsis_persent = np.array(Sepsis_persent)\n",
    "Sepsis_persent_pd = pd.DataFrame(Sepsis_persent)\n",
    "Sepsis_persent_pd.head(20)"
   ]
  },
  {
   "cell_type": "code",
   "execution_count": 21,
   "metadata": {},
   "outputs": [],
   "source": [
    "del model"
   ]
  },
  {
   "cell_type": "code",
   "execution_count": 38,
   "metadata": {},
   "outputs": [
    {
     "name": "stdout",
     "output_type": "stream",
     "text": [
      "WARNING:tensorflow:From c:\\programdata\\anaconda3\\envs\\testpy36\\lib\\site-packages\\tensorflow\\python\\training\\tracking\\tracking.py:111: Model.state_updates (from tensorflow.python.keras.engine.training) is deprecated and will be removed in a future version.\n",
      "Instructions for updating:\n",
      "This property should not be used in TensorFlow 2.0, as updates are applied automatically.\n",
      "WARNING:tensorflow:From c:\\programdata\\anaconda3\\envs\\testpy36\\lib\\site-packages\\tensorflow\\python\\training\\tracking\\tracking.py:111: Layer.updates (from tensorflow.python.keras.engine.base_layer) is deprecated and will be removed in a future version.\n",
      "Instructions for updating:\n",
      "This property should not be used in TensorFlow 2.0, as updates are applied automatically.\n",
      "INFO:tensorflow:Assets written to: C:/Users/82107/Desktop/python/Classification_model/assets\n",
      "Saved model to disk\n"
     ]
    }
   ],
   "source": [
    "model.save(\"C:/Users/82107/Desktop/python/Classification_model/\")\n",
    "print(\"Saved model to disk\")"
   ]
  },
  {
   "cell_type": "code",
   "execution_count": null,
   "metadata": {},
   "outputs": [],
   "source": []
  }
 ],
 "metadata": {
  "kernelspec": {
   "display_name": "Python 3",
   "language": "python",
   "name": "python3"
  },
  "language_info": {
   "codemirror_mode": {
    "name": "ipython",
    "version": 3
   },
   "file_extension": ".py",
   "mimetype": "text/x-python",
   "name": "python",
   "nbconvert_exporter": "python",
   "pygments_lexer": "ipython3",
   "version": "3.6.12"
  }
 },
 "nbformat": 4,
 "nbformat_minor": 4
}
